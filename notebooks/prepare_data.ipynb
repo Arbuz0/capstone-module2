{
 "cells": [
  {
   "cell_type": "markdown",
   "source": [
    "## Import libraries"
   ],
   "metadata": {
    "collapsed": false
   },
   "id": "a74ae9b6071d6e95"
  },
  {
   "cell_type": "code",
   "execution_count": 112,
   "id": "initial_id",
   "metadata": {
    "collapsed": true,
    "ExecuteTime": {
     "end_time": "2024-02-07T12:03:50.030118Z",
     "start_time": "2024-02-07T12:03:49.516276Z"
    }
   },
   "outputs": [],
   "source": [
    "import numpy as np\n",
    "import pandas as pd"
   ]
  },
  {
   "cell_type": "markdown",
   "source": [
    "## Load data"
   ],
   "metadata": {
    "collapsed": false
   },
   "id": "ccc5fcac9e9dc3a8"
  },
  {
   "cell_type": "code",
   "outputs": [
    {
     "data": {
      "text/plain": "                 Maker             Genmodel  Genmodel_ID  Adv_year  Adv_month  \\\nAdv_ID                                                                          \n36_8$$281      Hyundai                  i10         36_8      2018          4   \n94_1$$343     Vauxhall                 ADAM         94_1      2018          5   \n29_24$$422        Ford                  Ka+        29_24      2018          5   \n34_8$$126        Honda                 HR-V         34_8      2018          4   \n8_41$$546          BMW                   X6         8_41      2018          5   \n7_46$$615         Audi                   TT         7_46      2018          5   \n8_36$$84           BMW                   X2         8_36      2021          4   \n95_28$$217  Volkswagen              Touareg        95_28      2018          7   \n8_8$$280           BMW  4 Series Gran Coupe          8_8      2018          6   \n47_9$$1642  Land Rover          Discovery 4         47_9      2018          8   \n\n             Color  Reg_year     Bodytype Runned_Miles Engin_size  ...  \\\nAdv_ID                                                             ...   \n36_8$$281      Red    2017.0    Hatchback         6250       1.0L  ...   \n94_1$$343    White    2017.0    Hatchback        14899       1.4L  ...   \n29_24$$422   White    2018.0    Hatchback         2496       1.2L  ...   \n34_8$$126     Grey    2017.0          SUV        13431       1.6L  ...   \n8_41$$546      NaN    2013.0          SUV        58442       3.0L  ...   \n7_46$$615     Blue    2004.0  Convertible        80000       1.8L  ...   \n8_36$$84     Black    2019.0          SUV         4604       2.0L  ...   \n95_28$$217  Silver    2013.0          SUV        56000       3.0L  ...   \n8_8$$280      Grey    2016.0        Coupe        24559       2.0L  ...   \n47_9$$1642   Black    2011.0          SUV        74832       3.0L  ...   \n\n           Engine_power Annual_Tax  Wheelbase  Height   Width  Length  \\\nAdv_ID                                                                  \n36_8$$281         65.00       140*     2385.0  1500.0  1660.0  3665.0   \n94_1$$343         85.81       140*     2311.0  1484.0  1966.0  3698.0   \n29_24$$422        69.00       140*     2489.0  1521.0  1911.0  3929.0   \n34_8$$126        118.00       140*     2610.0  1605.0  2019.0  4294.0   \n8_41$$546           NaN        NaN     2933.0  1690.0  1983.0  4877.0   \n7_46$$615        150.00        290     2429.0  1348.0  1856.0  4041.0   \n8_36$$84            NaN        NaN        NaN     NaN     NaN     NaN   \n95_28$$217       201.00        250     2893.0  1732.0  1940.0  4795.0   \n8_8$$280         190.00         30     2810.0  1389.0  2017.0  4638.0   \n47_9$$1642       242.00        540     2885.0  1837.0  2176.0  4829.0   \n\n            Average_mpg  Top_speed  Seat_num Door_num  \nAdv_ID                                                 \n36_8$$281      60.1 mpg     97 mph       5.0      5.0  \n94_1$$343      52.3 mpg    109 mph       4.0      3.0  \n29_24$$422     56.5 mpg     99 mph       5.0      5.0  \n34_8$$126      68.9 mpg    119 mph       5.0      5.0  \n8_41$$546           NaN        NaN       4.0      5.0  \n7_46$$615      34.0 mpg    134 mph       2.0      2.0  \n8_36$$84            NaN        NaN       5.0      5.0  \n95_28$$217     40.4 mpg    128 mph       5.0      5.0  \n8_8$$280       67.3 mpg    150 mph       5.0      5.0  \n47_9$$1642          NaN    112 mph       7.0      5.0  \n\n[10 rows x 23 columns]",
      "text/html": "<div>\n<style scoped>\n    .dataframe tbody tr th:only-of-type {\n        vertical-align: middle;\n    }\n\n    .dataframe tbody tr th {\n        vertical-align: top;\n    }\n\n    .dataframe thead th {\n        text-align: right;\n    }\n</style>\n<table border=\"1\" class=\"dataframe\">\n  <thead>\n    <tr style=\"text-align: right;\">\n      <th></th>\n      <th>Maker</th>\n      <th>Genmodel</th>\n      <th>Genmodel_ID</th>\n      <th>Adv_year</th>\n      <th>Adv_month</th>\n      <th>Color</th>\n      <th>Reg_year</th>\n      <th>Bodytype</th>\n      <th>Runned_Miles</th>\n      <th>Engin_size</th>\n      <th>...</th>\n      <th>Engine_power</th>\n      <th>Annual_Tax</th>\n      <th>Wheelbase</th>\n      <th>Height</th>\n      <th>Width</th>\n      <th>Length</th>\n      <th>Average_mpg</th>\n      <th>Top_speed</th>\n      <th>Seat_num</th>\n      <th>Door_num</th>\n    </tr>\n    <tr>\n      <th>Adv_ID</th>\n      <th></th>\n      <th></th>\n      <th></th>\n      <th></th>\n      <th></th>\n      <th></th>\n      <th></th>\n      <th></th>\n      <th></th>\n      <th></th>\n      <th></th>\n      <th></th>\n      <th></th>\n      <th></th>\n      <th></th>\n      <th></th>\n      <th></th>\n      <th></th>\n      <th></th>\n      <th></th>\n      <th></th>\n    </tr>\n  </thead>\n  <tbody>\n    <tr>\n      <th>36_8$$281</th>\n      <td>Hyundai</td>\n      <td>i10</td>\n      <td>36_8</td>\n      <td>2018</td>\n      <td>4</td>\n      <td>Red</td>\n      <td>2017.0</td>\n      <td>Hatchback</td>\n      <td>6250</td>\n      <td>1.0L</td>\n      <td>...</td>\n      <td>65.00</td>\n      <td>140*</td>\n      <td>2385.0</td>\n      <td>1500.0</td>\n      <td>1660.0</td>\n      <td>3665.0</td>\n      <td>60.1 mpg</td>\n      <td>97 mph</td>\n      <td>5.0</td>\n      <td>5.0</td>\n    </tr>\n    <tr>\n      <th>94_1$$343</th>\n      <td>Vauxhall</td>\n      <td>ADAM</td>\n      <td>94_1</td>\n      <td>2018</td>\n      <td>5</td>\n      <td>White</td>\n      <td>2017.0</td>\n      <td>Hatchback</td>\n      <td>14899</td>\n      <td>1.4L</td>\n      <td>...</td>\n      <td>85.81</td>\n      <td>140*</td>\n      <td>2311.0</td>\n      <td>1484.0</td>\n      <td>1966.0</td>\n      <td>3698.0</td>\n      <td>52.3 mpg</td>\n      <td>109 mph</td>\n      <td>4.0</td>\n      <td>3.0</td>\n    </tr>\n    <tr>\n      <th>29_24$$422</th>\n      <td>Ford</td>\n      <td>Ka+</td>\n      <td>29_24</td>\n      <td>2018</td>\n      <td>5</td>\n      <td>White</td>\n      <td>2018.0</td>\n      <td>Hatchback</td>\n      <td>2496</td>\n      <td>1.2L</td>\n      <td>...</td>\n      <td>69.00</td>\n      <td>140*</td>\n      <td>2489.0</td>\n      <td>1521.0</td>\n      <td>1911.0</td>\n      <td>3929.0</td>\n      <td>56.5 mpg</td>\n      <td>99 mph</td>\n      <td>5.0</td>\n      <td>5.0</td>\n    </tr>\n    <tr>\n      <th>34_8$$126</th>\n      <td>Honda</td>\n      <td>HR-V</td>\n      <td>34_8</td>\n      <td>2018</td>\n      <td>4</td>\n      <td>Grey</td>\n      <td>2017.0</td>\n      <td>SUV</td>\n      <td>13431</td>\n      <td>1.6L</td>\n      <td>...</td>\n      <td>118.00</td>\n      <td>140*</td>\n      <td>2610.0</td>\n      <td>1605.0</td>\n      <td>2019.0</td>\n      <td>4294.0</td>\n      <td>68.9 mpg</td>\n      <td>119 mph</td>\n      <td>5.0</td>\n      <td>5.0</td>\n    </tr>\n    <tr>\n      <th>8_41$$546</th>\n      <td>BMW</td>\n      <td>X6</td>\n      <td>8_41</td>\n      <td>2018</td>\n      <td>5</td>\n      <td>NaN</td>\n      <td>2013.0</td>\n      <td>SUV</td>\n      <td>58442</td>\n      <td>3.0L</td>\n      <td>...</td>\n      <td>NaN</td>\n      <td>NaN</td>\n      <td>2933.0</td>\n      <td>1690.0</td>\n      <td>1983.0</td>\n      <td>4877.0</td>\n      <td>NaN</td>\n      <td>NaN</td>\n      <td>4.0</td>\n      <td>5.0</td>\n    </tr>\n    <tr>\n      <th>7_46$$615</th>\n      <td>Audi</td>\n      <td>TT</td>\n      <td>7_46</td>\n      <td>2018</td>\n      <td>5</td>\n      <td>Blue</td>\n      <td>2004.0</td>\n      <td>Convertible</td>\n      <td>80000</td>\n      <td>1.8L</td>\n      <td>...</td>\n      <td>150.00</td>\n      <td>290</td>\n      <td>2429.0</td>\n      <td>1348.0</td>\n      <td>1856.0</td>\n      <td>4041.0</td>\n      <td>34.0 mpg</td>\n      <td>134 mph</td>\n      <td>2.0</td>\n      <td>2.0</td>\n    </tr>\n    <tr>\n      <th>8_36$$84</th>\n      <td>BMW</td>\n      <td>X2</td>\n      <td>8_36</td>\n      <td>2021</td>\n      <td>4</td>\n      <td>Black</td>\n      <td>2019.0</td>\n      <td>SUV</td>\n      <td>4604</td>\n      <td>2.0L</td>\n      <td>...</td>\n      <td>NaN</td>\n      <td>NaN</td>\n      <td>NaN</td>\n      <td>NaN</td>\n      <td>NaN</td>\n      <td>NaN</td>\n      <td>NaN</td>\n      <td>NaN</td>\n      <td>5.0</td>\n      <td>5.0</td>\n    </tr>\n    <tr>\n      <th>95_28$$217</th>\n      <td>Volkswagen</td>\n      <td>Touareg</td>\n      <td>95_28</td>\n      <td>2018</td>\n      <td>7</td>\n      <td>Silver</td>\n      <td>2013.0</td>\n      <td>SUV</td>\n      <td>56000</td>\n      <td>3.0L</td>\n      <td>...</td>\n      <td>201.00</td>\n      <td>250</td>\n      <td>2893.0</td>\n      <td>1732.0</td>\n      <td>1940.0</td>\n      <td>4795.0</td>\n      <td>40.4 mpg</td>\n      <td>128 mph</td>\n      <td>5.0</td>\n      <td>5.0</td>\n    </tr>\n    <tr>\n      <th>8_8$$280</th>\n      <td>BMW</td>\n      <td>4 Series Gran Coupe</td>\n      <td>8_8</td>\n      <td>2018</td>\n      <td>6</td>\n      <td>Grey</td>\n      <td>2016.0</td>\n      <td>Coupe</td>\n      <td>24559</td>\n      <td>2.0L</td>\n      <td>...</td>\n      <td>190.00</td>\n      <td>30</td>\n      <td>2810.0</td>\n      <td>1389.0</td>\n      <td>2017.0</td>\n      <td>4638.0</td>\n      <td>67.3 mpg</td>\n      <td>150 mph</td>\n      <td>5.0</td>\n      <td>5.0</td>\n    </tr>\n    <tr>\n      <th>47_9$$1642</th>\n      <td>Land Rover</td>\n      <td>Discovery 4</td>\n      <td>47_9</td>\n      <td>2018</td>\n      <td>8</td>\n      <td>Black</td>\n      <td>2011.0</td>\n      <td>SUV</td>\n      <td>74832</td>\n      <td>3.0L</td>\n      <td>...</td>\n      <td>242.00</td>\n      <td>540</td>\n      <td>2885.0</td>\n      <td>1837.0</td>\n      <td>2176.0</td>\n      <td>4829.0</td>\n      <td>NaN</td>\n      <td>112 mph</td>\n      <td>7.0</td>\n      <td>5.0</td>\n    </tr>\n  </tbody>\n</table>\n<p>10 rows × 23 columns</p>\n</div>"
     },
     "execution_count": 113,
     "metadata": {},
     "output_type": "execute_result"
    }
   ],
   "source": [
    "cars = pd.read_csv('../data/capstone_data.csv', index_col='Adv_ID').sort_index()\n",
    "# removed index col\n",
    "cars.sample(10)"
   ],
   "metadata": {
    "collapsed": false,
    "ExecuteTime": {
     "end_time": "2024-02-07T12:03:50.554337Z",
     "start_time": "2024-02-07T12:03:50.030604Z"
    }
   },
   "id": "200f05527b012671",
   "execution_count": 113
  },
  {
   "cell_type": "markdown",
   "source": [
    "## Clean data"
   ],
   "metadata": {
    "collapsed": false
   },
   "id": "8735a03a26b8710a"
  },
  {
   "cell_type": "markdown",
   "source": [
    "### Column names"
   ],
   "metadata": {
    "collapsed": false
   },
   "id": "a20c0344f8bbc761"
  },
  {
   "cell_type": "code",
   "outputs": [
    {
     "data": {
      "text/plain": "Index(['Maker', ' Genmodel', ' Genmodel_ID', 'Adv_year', 'Adv_month', 'Color',\n       'Reg_year', 'Bodytype', 'Runned_Miles', 'Engin_size', 'Gearbox',\n       'Fuel_type', 'Price', 'Engine_power', 'Annual_Tax', 'Wheelbase',\n       'Height', 'Width', 'Length', 'Average_mpg', 'Top_speed', 'Seat_num',\n       'Door_num'],\n      dtype='object')"
     },
     "execution_count": 114,
     "metadata": {},
     "output_type": "execute_result"
    }
   ],
   "source": [
    "cars.columns"
   ],
   "metadata": {
    "collapsed": false,
    "ExecuteTime": {
     "end_time": "2024-02-07T12:03:50.557447Z",
     "start_time": "2024-02-07T12:03:50.537764Z"
    }
   },
   "id": "f9e63cb9da662cee",
   "execution_count": 114
  },
  {
   "cell_type": "code",
   "outputs": [],
   "source": [
    "cars = cars.rename(columns=lambda x: x.strip().lower())\n",
    "cars = cars.rename(columns={'engin_size': 'engine_size', 'bodytype': 'body_type', 'runned_miles': 'run_miles'})"
   ],
   "metadata": {
    "collapsed": false,
    "ExecuteTime": {
     "end_time": "2024-02-07T12:03:50.640488Z",
     "start_time": "2024-02-07T12:03:50.540434Z"
    }
   },
   "id": "e2ddc7720921b9dd",
   "execution_count": 115
  },
  {
   "cell_type": "code",
   "outputs": [
    {
     "data": {
      "text/plain": "Index(['maker', 'genmodel', 'genmodel_id', 'adv_year', 'adv_month', 'color',\n       'reg_year', 'body_type', 'run_miles', 'engine_size', 'gearbox',\n       'fuel_type', 'price', 'engine_power', 'annual_tax', 'wheelbase',\n       'height', 'width', 'length', 'average_mpg', 'top_speed', 'seat_num',\n       'door_num'],\n      dtype='object')"
     },
     "execution_count": 116,
     "metadata": {},
     "output_type": "execute_result"
    }
   ],
   "source": [
    "cars.columns"
   ],
   "metadata": {
    "collapsed": false,
    "ExecuteTime": {
     "end_time": "2024-02-07T12:03:50.643392Z",
     "start_time": "2024-02-07T12:03:50.581791Z"
    }
   },
   "id": "6120f15c2f43a06e",
   "execution_count": 116
  },
  {
   "cell_type": "markdown",
   "source": [
    "### Duplicates"
   ],
   "metadata": {
    "collapsed": false
   },
   "id": "24b426e5b422e1dd"
  },
  {
   "cell_type": "code",
   "outputs": [
    {
     "data": {
      "text/plain": "                maker           genmodel genmodel_id  adv_year  adv_month  \\\nAdv_ID                                                                      \n10_5$$450     Bentley        Continental        10_5      2018          4   \n10_5$$599     Bentley        Continental        10_5      2018          4   \n16_5$$36    Chevrolet            Captiva        16_5      2018          8   \n16_5$$91    Chevrolet            Captiva        16_5      2018          8   \n18_10$$275    Citroen         C3 Picasso       18_10      2017         12   \n...               ...                ...         ...       ...        ...   \n96_6$$82        Volvo                S90        96_6      2018          5   \n96_7$$169       Volvo                V40        96_7      2018          4   \n96_7$$266       Volvo                V40        96_7      2018          4   \n96_8$$543       Volvo  V40 Cross Country        96_8      2018          5   \n96_8$$618       Volvo  V40 Cross Country        96_8      2018          5   \n\n             color  reg_year    body_type run_miles engine_size  ...  \\\nAdv_ID                                                           ...   \n10_5$$450   Purple    2014.0  Convertible      4800        6.0L  ...   \n10_5$$599   Purple    2014.0  Convertible      4800        6.0L  ...   \n16_5$$36     Black    2012.0          SUV    115000        2.2L  ...   \n16_5$$91     Black    2012.0          SUV    115000        2.2L  ...   \n18_10$$275  Silver    2017.0          MPV        10        1.6L  ...   \n...            ...       ...          ...       ...         ...  ...   \n96_6$$82     Black    2018.0       Saloon       100        2.0L  ...   \n96_7$$169    White    2016.0    Hatchback     15094        2.0L  ...   \n96_7$$266    White    2016.0    Hatchback     15094        2.0L  ...   \n96_8$$543      NaN    2018.0    Hatchback      3000        2.0L  ...   \n96_8$$618      NaN    2018.0    Hatchback      3000        2.0L  ...   \n\n           engine_power annual_tax  wheelbase  height   width  length  \\\nAdv_ID                                                                  \n10_5$$450           NaN        NaN     2746.0  1394.0  2227.0  4806.0   \n10_5$$599           NaN        NaN     2746.0  1394.0  2227.0  4806.0   \n16_5$$36         181.00        315     2705.0  1720.0  1850.0  4635.0   \n16_5$$91         181.00        315     2705.0  1720.0  1850.0  4635.0   \n18_10$$275        98.63       140*     2540.0  1624.0  1766.0  4078.0   \n...                 ...        ...        ...     ...     ...     ...   \n96_6$$82         190.00       140*     2941.0  1443.0  2019.0  4963.0   \n96_7$$169        120.00          0     2647.0  1439.0  2041.0  4369.0   \n96_7$$266        120.00          0     2647.0  1439.0  2041.0  4369.0   \n96_8$$543        152.00       140*     2646.0  1470.0  2041.0  4370.0   \n96_8$$618        152.00       140*     2646.0  1470.0  2041.0  4370.0   \n\n            average_mpg  top_speed  seat_num door_num  \nAdv_ID                                                 \n10_5$$450           NaN        NaN       4.0      2.0  \n10_5$$599           NaN        NaN       4.0      2.0  \n16_5$$36       36.6 mpg        NaN       7.0      5.0  \n16_5$$91       36.6 mpg        NaN       7.0      5.0  \n18_10$$275     72.4 mpg    111 mph       5.0      5.0  \n...                 ...        ...       ...      ...  \n96_6$$82       64.2 mpg    140 mph       5.0      4.0  \n96_7$$169      78.5 mpg    118 mph       5.0      5.0  \n96_7$$266      78.5 mpg    118 mph       5.0      5.0  \n96_8$$543      50.4 mpg    130 mph       5.0      5.0  \n96_8$$618      50.4 mpg    130 mph       5.0      5.0  \n\n[1467 rows x 23 columns]",
      "text/html": "<div>\n<style scoped>\n    .dataframe tbody tr th:only-of-type {\n        vertical-align: middle;\n    }\n\n    .dataframe tbody tr th {\n        vertical-align: top;\n    }\n\n    .dataframe thead th {\n        text-align: right;\n    }\n</style>\n<table border=\"1\" class=\"dataframe\">\n  <thead>\n    <tr style=\"text-align: right;\">\n      <th></th>\n      <th>maker</th>\n      <th>genmodel</th>\n      <th>genmodel_id</th>\n      <th>adv_year</th>\n      <th>adv_month</th>\n      <th>color</th>\n      <th>reg_year</th>\n      <th>body_type</th>\n      <th>run_miles</th>\n      <th>engine_size</th>\n      <th>...</th>\n      <th>engine_power</th>\n      <th>annual_tax</th>\n      <th>wheelbase</th>\n      <th>height</th>\n      <th>width</th>\n      <th>length</th>\n      <th>average_mpg</th>\n      <th>top_speed</th>\n      <th>seat_num</th>\n      <th>door_num</th>\n    </tr>\n    <tr>\n      <th>Adv_ID</th>\n      <th></th>\n      <th></th>\n      <th></th>\n      <th></th>\n      <th></th>\n      <th></th>\n      <th></th>\n      <th></th>\n      <th></th>\n      <th></th>\n      <th></th>\n      <th></th>\n      <th></th>\n      <th></th>\n      <th></th>\n      <th></th>\n      <th></th>\n      <th></th>\n      <th></th>\n      <th></th>\n      <th></th>\n    </tr>\n  </thead>\n  <tbody>\n    <tr>\n      <th>10_5$$450</th>\n      <td>Bentley</td>\n      <td>Continental</td>\n      <td>10_5</td>\n      <td>2018</td>\n      <td>4</td>\n      <td>Purple</td>\n      <td>2014.0</td>\n      <td>Convertible</td>\n      <td>4800</td>\n      <td>6.0L</td>\n      <td>...</td>\n      <td>NaN</td>\n      <td>NaN</td>\n      <td>2746.0</td>\n      <td>1394.0</td>\n      <td>2227.0</td>\n      <td>4806.0</td>\n      <td>NaN</td>\n      <td>NaN</td>\n      <td>4.0</td>\n      <td>2.0</td>\n    </tr>\n    <tr>\n      <th>10_5$$599</th>\n      <td>Bentley</td>\n      <td>Continental</td>\n      <td>10_5</td>\n      <td>2018</td>\n      <td>4</td>\n      <td>Purple</td>\n      <td>2014.0</td>\n      <td>Convertible</td>\n      <td>4800</td>\n      <td>6.0L</td>\n      <td>...</td>\n      <td>NaN</td>\n      <td>NaN</td>\n      <td>2746.0</td>\n      <td>1394.0</td>\n      <td>2227.0</td>\n      <td>4806.0</td>\n      <td>NaN</td>\n      <td>NaN</td>\n      <td>4.0</td>\n      <td>2.0</td>\n    </tr>\n    <tr>\n      <th>16_5$$36</th>\n      <td>Chevrolet</td>\n      <td>Captiva</td>\n      <td>16_5</td>\n      <td>2018</td>\n      <td>8</td>\n      <td>Black</td>\n      <td>2012.0</td>\n      <td>SUV</td>\n      <td>115000</td>\n      <td>2.2L</td>\n      <td>...</td>\n      <td>181.00</td>\n      <td>315</td>\n      <td>2705.0</td>\n      <td>1720.0</td>\n      <td>1850.0</td>\n      <td>4635.0</td>\n      <td>36.6 mpg</td>\n      <td>NaN</td>\n      <td>7.0</td>\n      <td>5.0</td>\n    </tr>\n    <tr>\n      <th>16_5$$91</th>\n      <td>Chevrolet</td>\n      <td>Captiva</td>\n      <td>16_5</td>\n      <td>2018</td>\n      <td>8</td>\n      <td>Black</td>\n      <td>2012.0</td>\n      <td>SUV</td>\n      <td>115000</td>\n      <td>2.2L</td>\n      <td>...</td>\n      <td>181.00</td>\n      <td>315</td>\n      <td>2705.0</td>\n      <td>1720.0</td>\n      <td>1850.0</td>\n      <td>4635.0</td>\n      <td>36.6 mpg</td>\n      <td>NaN</td>\n      <td>7.0</td>\n      <td>5.0</td>\n    </tr>\n    <tr>\n      <th>18_10$$275</th>\n      <td>Citroen</td>\n      <td>C3 Picasso</td>\n      <td>18_10</td>\n      <td>2017</td>\n      <td>12</td>\n      <td>Silver</td>\n      <td>2017.0</td>\n      <td>MPV</td>\n      <td>10</td>\n      <td>1.6L</td>\n      <td>...</td>\n      <td>98.63</td>\n      <td>140*</td>\n      <td>2540.0</td>\n      <td>1624.0</td>\n      <td>1766.0</td>\n      <td>4078.0</td>\n      <td>72.4 mpg</td>\n      <td>111 mph</td>\n      <td>5.0</td>\n      <td>5.0</td>\n    </tr>\n    <tr>\n      <th>...</th>\n      <td>...</td>\n      <td>...</td>\n      <td>...</td>\n      <td>...</td>\n      <td>...</td>\n      <td>...</td>\n      <td>...</td>\n      <td>...</td>\n      <td>...</td>\n      <td>...</td>\n      <td>...</td>\n      <td>...</td>\n      <td>...</td>\n      <td>...</td>\n      <td>...</td>\n      <td>...</td>\n      <td>...</td>\n      <td>...</td>\n      <td>...</td>\n      <td>...</td>\n      <td>...</td>\n    </tr>\n    <tr>\n      <th>96_6$$82</th>\n      <td>Volvo</td>\n      <td>S90</td>\n      <td>96_6</td>\n      <td>2018</td>\n      <td>5</td>\n      <td>Black</td>\n      <td>2018.0</td>\n      <td>Saloon</td>\n      <td>100</td>\n      <td>2.0L</td>\n      <td>...</td>\n      <td>190.00</td>\n      <td>140*</td>\n      <td>2941.0</td>\n      <td>1443.0</td>\n      <td>2019.0</td>\n      <td>4963.0</td>\n      <td>64.2 mpg</td>\n      <td>140 mph</td>\n      <td>5.0</td>\n      <td>4.0</td>\n    </tr>\n    <tr>\n      <th>96_7$$169</th>\n      <td>Volvo</td>\n      <td>V40</td>\n      <td>96_7</td>\n      <td>2018</td>\n      <td>4</td>\n      <td>White</td>\n      <td>2016.0</td>\n      <td>Hatchback</td>\n      <td>15094</td>\n      <td>2.0L</td>\n      <td>...</td>\n      <td>120.00</td>\n      <td>0</td>\n      <td>2647.0</td>\n      <td>1439.0</td>\n      <td>2041.0</td>\n      <td>4369.0</td>\n      <td>78.5 mpg</td>\n      <td>118 mph</td>\n      <td>5.0</td>\n      <td>5.0</td>\n    </tr>\n    <tr>\n      <th>96_7$$266</th>\n      <td>Volvo</td>\n      <td>V40</td>\n      <td>96_7</td>\n      <td>2018</td>\n      <td>4</td>\n      <td>White</td>\n      <td>2016.0</td>\n      <td>Hatchback</td>\n      <td>15094</td>\n      <td>2.0L</td>\n      <td>...</td>\n      <td>120.00</td>\n      <td>0</td>\n      <td>2647.0</td>\n      <td>1439.0</td>\n      <td>2041.0</td>\n      <td>4369.0</td>\n      <td>78.5 mpg</td>\n      <td>118 mph</td>\n      <td>5.0</td>\n      <td>5.0</td>\n    </tr>\n    <tr>\n      <th>96_8$$543</th>\n      <td>Volvo</td>\n      <td>V40 Cross Country</td>\n      <td>96_8</td>\n      <td>2018</td>\n      <td>5</td>\n      <td>NaN</td>\n      <td>2018.0</td>\n      <td>Hatchback</td>\n      <td>3000</td>\n      <td>2.0L</td>\n      <td>...</td>\n      <td>152.00</td>\n      <td>140*</td>\n      <td>2646.0</td>\n      <td>1470.0</td>\n      <td>2041.0</td>\n      <td>4370.0</td>\n      <td>50.4 mpg</td>\n      <td>130 mph</td>\n      <td>5.0</td>\n      <td>5.0</td>\n    </tr>\n    <tr>\n      <th>96_8$$618</th>\n      <td>Volvo</td>\n      <td>V40 Cross Country</td>\n      <td>96_8</td>\n      <td>2018</td>\n      <td>5</td>\n      <td>NaN</td>\n      <td>2018.0</td>\n      <td>Hatchback</td>\n      <td>3000</td>\n      <td>2.0L</td>\n      <td>...</td>\n      <td>152.00</td>\n      <td>140*</td>\n      <td>2646.0</td>\n      <td>1470.0</td>\n      <td>2041.0</td>\n      <td>4370.0</td>\n      <td>50.4 mpg</td>\n      <td>130 mph</td>\n      <td>5.0</td>\n      <td>5.0</td>\n    </tr>\n  </tbody>\n</table>\n<p>1467 rows × 23 columns</p>\n</div>"
     },
     "execution_count": 117,
     "metadata": {},
     "output_type": "execute_result"
    }
   ],
   "source": [
    "cars[cars.duplicated(keep=False)]"
   ],
   "metadata": {
    "collapsed": false,
    "ExecuteTime": {
     "end_time": "2024-02-07T12:03:50.839477Z",
     "start_time": "2024-02-07T12:03:50.590103Z"
    }
   },
   "id": "25e194bf5552abc5",
   "execution_count": 117
  },
  {
   "cell_type": "code",
   "outputs": [],
   "source": [
    "cars = cars.drop_duplicates()"
   ],
   "metadata": {
    "collapsed": false,
    "ExecuteTime": {
     "end_time": "2024-02-07T12:03:51.041295Z",
     "start_time": "2024-02-07T12:03:50.785788Z"
    }
   },
   "id": "81e31007c4d1f46c",
   "execution_count": 118
  },
  {
   "cell_type": "markdown",
   "source": [
    "### General"
   ],
   "metadata": {
    "collapsed": false
   },
   "id": "d869e4df55874731"
  },
  {
   "cell_type": "code",
   "outputs": [
    {
     "name": "stdout",
     "output_type": "stream",
     "text": [
      "<class 'pandas.core.frame.DataFrame'>\n",
      "Index: 267366 entries, 10_1$$1 to 99_1$$3\n",
      "Data columns (total 23 columns):\n",
      " #   Column        Non-Null Count   Dtype  \n",
      "---  ------        --------------   -----  \n",
      " 0   maker         267366 non-null  object \n",
      " 1   genmodel      267366 non-null  object \n",
      " 2   genmodel_id   267366 non-null  object \n",
      " 3   adv_year      267366 non-null  int64  \n",
      " 4   adv_month     267366 non-null  int64  \n",
      " 5   color         245621 non-null  object \n",
      " 6   reg_year      267360 non-null  float64\n",
      " 7   body_type     266429 non-null  object \n",
      " 8   run_miles     266323 non-null  object \n",
      " 9   engine_size   265313 non-null  object \n",
      " 10  gearbox       267200 non-null  object \n",
      " 11  fuel_type     266958 non-null  object \n",
      " 12  price         266240 non-null  float64\n",
      " 13  engine_power  235668 non-null  float64\n",
      " 14  annual_tax    220794 non-null  object \n",
      " 15  wheelbase     239452 non-null  float64\n",
      " 16  height        239649 non-null  float64\n",
      " 17  width         239370 non-null  float64\n",
      " 18  length        239649 non-null  float64\n",
      " 19  average_mpg   225554 non-null  object \n",
      " 20  top_speed     223885 non-null  object \n",
      " 21  seat_num      260927 non-null  float64\n",
      " 22  door_num      262839 non-null  float64\n",
      "dtypes: float64(9), int64(2), object(12)\n",
      "memory usage: 49.0+ MB\n"
     ]
    }
   ],
   "source": [
    "cars.info()"
   ],
   "metadata": {
    "collapsed": false,
    "ExecuteTime": {
     "end_time": "2024-02-07T12:03:51.105871Z",
     "start_time": "2024-02-07T12:03:51.002822Z"
    }
   },
   "id": "c03bb4ef28c05471",
   "execution_count": 119
  },
  {
   "cell_type": "code",
   "outputs": [
    {
     "data": {
      "text/plain": "maker              88\ngenmodel          896\ngenmodel_id       881\nadv_year           10\nadv_month          15\ncolor              22\nreg_year           26\nbody_type          18\nrun_miles       72420\nengine_size        74\ngearbox             3\nfuel_type          13\nprice           20456\nengine_power      466\nannual_tax         28\nwheelbase         427\nheight            579\nwidth             475\nlength            984\naverage_mpg       358\ntop_speed         138\nseat_num           10\ndoor_num            7\ndtype: int64"
     },
     "execution_count": 120,
     "metadata": {},
     "output_type": "execute_result"
    }
   ],
   "source": [
    "cars.nunique()"
   ],
   "metadata": {
    "collapsed": false,
    "ExecuteTime": {
     "end_time": "2024-02-07T12:03:51.189167Z",
     "start_time": "2024-02-07T12:03:51.075105Z"
    }
   },
   "id": "381df322cbf7ab9",
   "execution_count": 120
  },
  {
   "cell_type": "code",
   "outputs": [
    {
     "data": {
      "text/plain": "maker               0\ngenmodel            0\ngenmodel_id         0\nadv_year            0\nadv_month           0\ncolor           21745\nreg_year            6\nbody_type         937\nrun_miles        1043\nengine_size      2053\ngearbox           166\nfuel_type         408\nprice            1126\nengine_power    31698\nannual_tax      46572\nwheelbase       27914\nheight          27717\nwidth           27996\nlength          27717\naverage_mpg     41812\ntop_speed       43481\nseat_num         6439\ndoor_num         4527\ndtype: int64"
     },
     "execution_count": 121,
     "metadata": {},
     "output_type": "execute_result"
    }
   ],
   "source": [
    "cars.isna().sum()"
   ],
   "metadata": {
    "collapsed": false,
    "ExecuteTime": {
     "end_time": "2024-02-07T12:03:51.255588Z",
     "start_time": "2024-02-07T12:03:51.181346Z"
    }
   },
   "id": "b8698eefcc39c433",
   "execution_count": 121
  },
  {
   "cell_type": "markdown",
   "source": [
    "### maker column"
   ],
   "metadata": {
    "collapsed": false
   },
   "id": "eea3d1c40580e3df"
  },
  {
   "cell_type": "markdown",
   "source": [
    "### genmodel column"
   ],
   "metadata": {
    "collapsed": false
   },
   "id": "960b5467ca0f5a96"
  },
  {
   "cell_type": "code",
   "outputs": [
    {
     "data": {
      "text/plain": "genmodel\nRoadster    3\nCoupe       3\nGT          3\nInsignia    2\nZafira      2\n           ..\nDoblo       1\nDouble R    1\nDuster      1\nE Class     1\nup!         1\nName: genmodel_id, Length: 896, dtype: int64"
     },
     "execution_count": 122,
     "metadata": {},
     "output_type": "execute_result"
    }
   ],
   "source": [
    "genmodel_counts = cars.groupby('genmodel')['genmodel_id'].aggregate(func='nunique').sort_values(ascending=False)\n",
    "genmodel_counts"
   ],
   "metadata": {
    "collapsed": false,
    "ExecuteTime": {
     "end_time": "2024-02-07T12:03:51.333209Z",
     "start_time": "2024-02-07T12:03:51.246866Z"
    }
   },
   "id": "3ebb213062fdb8bf",
   "execution_count": 122
  },
  {
   "cell_type": "code",
   "outputs": [
    {
     "data": {
      "text/plain": "Index(['Roadster', 'Coupe', 'GT', 'Insignia', 'Zafira', '4', 'Astra', 'C6',\n       'Tacuma', 'Lacetti', '308', '124 Spider', '500', 'Matiz', 'Kalos',\n       'California', 'Spider'],\n      dtype='object', name='genmodel')"
     },
     "execution_count": 123,
     "metadata": {},
     "output_type": "execute_result"
    }
   ],
   "source": [
    "genmodel_names = genmodel_counts[genmodel_counts > 1].index\n",
    "genmodel_names"
   ],
   "metadata": {
    "collapsed": false,
    "ExecuteTime": {
     "end_time": "2024-02-07T12:03:51.336007Z",
     "start_time": "2024-02-07T12:03:51.277026Z"
    }
   },
   "id": "f18abe868f5a917d",
   "execution_count": 123
  },
  {
   "cell_type": "code",
   "outputs": [
    {
     "data": {
      "text/plain": "genmodel    genmodel_id\n124 Spider  28_1            108\n            2_1              29\n308         27_1              3\n            69_18           795\n4           21_3            125\n            63_1              5\n500         28_2           2769\n            59_7              2\nAstra       66_1              1\n            94_5           3169\nC6          18_16            12\n            19_1              1\nCalifornia  27_13            88\n            95_9             56\nCoupe       36_3             20\n            54_5            234\n            55_4              8\nGT          29_22             4\n            41_1              1\n            4_12             17\nInsignia    66_2              2\n            94_13          2070\nKalos       16_10            50\n            23_1              9\nLacetti     16_11            49\n            23_2              1\nMatiz       16_12            90\n            23_3              6\nRoadster    54_8            273\n            63_5              2\n            84_3             18\nSpider      28_25             1\n            4_15             41\nTacuma      16_16            18\n            23_5              2\nZafira      66_3              1\n            94_27          1340\ndtype: int64"
     },
     "execution_count": 124,
     "metadata": {},
     "output_type": "execute_result"
    }
   ],
   "source": [
    "cars[cars['genmodel'].isin(genmodel_names)].groupby(by=['genmodel', 'genmodel_id']).size()"
   ],
   "metadata": {
    "collapsed": false,
    "ExecuteTime": {
     "end_time": "2024-02-07T12:03:51.349023Z",
     "start_time": "2024-02-07T12:03:51.285691Z"
    }
   },
   "id": "4ea0e73b9b76d6f8",
   "execution_count": 124
  },
  {
   "cell_type": "markdown",
   "source": [
    "### genmodel_id column"
   ],
   "metadata": {
    "collapsed": false
   },
   "id": "ac915a132d095443"
  },
  {
   "cell_type": "code",
   "outputs": [
    {
     "data": {
      "text/plain": "genmodel_id\n48_24    7\n48_8     7\n48_2     6\n7_11     5\n48_18    4\n        ..\n47_16    1\n47_17    1\n47_2     1\n47_3     1\n99_1     1\nName: genmodel, Length: 881, dtype: int64"
     },
     "execution_count": 125,
     "metadata": {},
     "output_type": "execute_result"
    }
   ],
   "source": [
    "genmodel_id_counts = cars.groupby('genmodel_id')['genmodel'].aggregate(func='nunique').sort_values(ascending=False)\n",
    "genmodel_id_counts"
   ],
   "metadata": {
    "collapsed": false,
    "ExecuteTime": {
     "end_time": "2024-02-07T12:03:51.413087Z",
     "start_time": "2024-02-07T12:03:51.295353Z"
    }
   },
   "id": "d839f38a44c73da9",
   "execution_count": 125
  },
  {
   "cell_type": "code",
   "outputs": [
    {
     "data": {
      "text/plain": "Index(['48_24', '48_8', '48_2', '7_11', '48_18', '48_21', '48_15', '21_1',\n       '48_1', '48_14', '21_5', '21_3'],\n      dtype='object', name='genmodel_id')"
     },
     "execution_count": 126,
     "metadata": {},
     "output_type": "execute_result"
    }
   ],
   "source": [
    "genmodel_ids = genmodel_id_counts[genmodel_id_counts > 1].index\n",
    "genmodel_ids"
   ],
   "metadata": {
    "collapsed": false,
    "ExecuteTime": {
     "end_time": "2024-02-07T12:03:51.415727Z",
     "start_time": "2024-02-07T12:03:51.322198Z"
    }
   },
   "id": "5681a5e046a6c3b7",
   "execution_count": 126
  },
  {
   "cell_type": "code",
   "outputs": [
    {
     "data": {
      "text/plain": "genmodel_id  genmodel      \n21_1         3                  343\n             DS3               1036\n             DS3 Cabrio         230\n21_3         4                  125\n             DS4                460\n21_5         5                   78\n             DS5                157\n48_1         CT                  41\n             CT 200h             55\n48_14        LC                   1\n             LC 500              23\n48_15        LS 430              17\n             LS 460              16\n             LS 600h             14\n48_18        NX                  70\n             NX 200t              7\n             NX 300h            450\n             NX Unspecified       6\n48_2         GS 250              17\n             GS 300             121\n             GS 430               1\n             GS 450h             51\n             GS F                 6\n             GS Unspecified       1\n48_21        RC                  16\n             RC 200t              3\n             RC 300h             69\n             RC F                 5\n48_24        RX                  45\n             RX 200t              4\n             RX 300              81\n             RX 350              21\n             RX 400h            189\n             RX 450h            633\n             Rx Unspecified       4\n48_8         IS                  44\n             IS 200              70\n             IS 220d            236\n             IS 250             289\n             IS 300             506\n             IS F                 5\n             IS Unspecified       2\n7_11         A6                 278\n             A6 Allroad         205\n             A6 Avant          1022\n             A6 Saloon         1379\n             A6 Unspecified      73\ndtype: int64"
     },
     "execution_count": 127,
     "metadata": {},
     "output_type": "execute_result"
    }
   ],
   "source": [
    "cars[cars['genmodel_id'].isin(genmodel_ids)].groupby(by=['genmodel_id', 'genmodel']).size()"
   ],
   "metadata": {
    "collapsed": false,
    "ExecuteTime": {
     "end_time": "2024-02-07T12:03:51.449038Z",
     "start_time": "2024-02-07T12:03:51.324127Z"
    }
   },
   "id": "f2b8aace84be8d7c",
   "execution_count": 127
  },
  {
   "cell_type": "markdown",
   "source": [
    "### adv_year column"
   ],
   "metadata": {
    "collapsed": false
   },
   "id": "82c105e295ce2480"
  },
  {
   "cell_type": "code",
   "outputs": [
    {
     "name": "stdout",
     "output_type": "stream",
     "text": [
      "<class 'pandas.core.series.Series'>\n",
      "Index: 267366 entries, 10_1$$1 to 99_1$$3\n",
      "Series name: adv_year\n",
      "Non-Null Count   Dtype\n",
      "--------------   -----\n",
      "267366 non-null  int64\n",
      "dtypes: int64(1)\n",
      "memory usage: 4.1+ MB\n"
     ]
    }
   ],
   "source": [
    "cars['adv_year'].info()"
   ],
   "metadata": {
    "collapsed": false,
    "ExecuteTime": {
     "end_time": "2024-02-07T12:03:51.459943Z",
     "start_time": "2024-02-07T12:03:51.338059Z"
    }
   },
   "id": "e18d9de8a5602d3c",
   "execution_count": 128
  },
  {
   "cell_type": "code",
   "outputs": [
    {
     "data": {
      "text/plain": "count    267366.000000\nmean       2018.128090\nstd           0.748296\nmin        2012.000000\n25%        2018.000000\n50%        2018.000000\n75%        2018.000000\nmax        2021.000000\nName: adv_year, dtype: float64"
     },
     "execution_count": 129,
     "metadata": {},
     "output_type": "execute_result"
    }
   ],
   "source": [
    "cars['adv_year'].describe()"
   ],
   "metadata": {
    "collapsed": false,
    "ExecuteTime": {
     "end_time": "2024-02-07T12:03:51.470374Z",
     "start_time": "2024-02-07T12:03:51.343253Z"
    }
   },
   "id": "ede4fb3ca0fe08",
   "execution_count": 129
  },
  {
   "cell_type": "code",
   "outputs": [
    {
     "data": {
      "text/plain": "adv_year\n2012         3\n2013         7\n2014        27\n2015       105\n2016       581\n2017     11302\n2018    239118\n2019       107\n2020      1268\n2021     14848\nName: count, dtype: int64"
     },
     "execution_count": 130,
     "metadata": {},
     "output_type": "execute_result"
    }
   ],
   "source": [
    "cars['adv_year'].value_counts().sort_index()"
   ],
   "metadata": {
    "collapsed": false,
    "ExecuteTime": {
     "end_time": "2024-02-07T12:03:51.475659Z",
     "start_time": "2024-02-07T12:03:51.351956Z"
    }
   },
   "id": "a6aa2ee6301347d6",
   "execution_count": 130
  },
  {
   "cell_type": "markdown",
   "source": [
    "### adv_month column"
   ],
   "metadata": {
    "collapsed": false
   },
   "id": "166cba919e6f8541"
  },
  {
   "cell_type": "code",
   "outputs": [
    {
     "name": "stdout",
     "output_type": "stream",
     "text": [
      "<class 'pandas.core.series.Series'>\n",
      "Index: 267366 entries, 10_1$$1 to 99_1$$3\n",
      "Series name: adv_month\n",
      "Non-Null Count   Dtype\n",
      "--------------   -----\n",
      "267366 non-null  int64\n",
      "dtypes: int64(1)\n",
      "memory usage: 4.1+ MB\n"
     ]
    }
   ],
   "source": [
    "cars['adv_month'].info()"
   ],
   "metadata": {
    "collapsed": false,
    "ExecuteTime": {
     "end_time": "2024-02-07T12:03:51.478733Z",
     "start_time": "2024-02-07T12:03:51.353767Z"
    }
   },
   "id": "7a47705733165ed7",
   "execution_count": 131
  },
  {
   "cell_type": "code",
   "outputs": [
    {
     "data": {
      "text/plain": "count    267366.000000\nmean          5.627391\nstd           2.092337\nmin           1.000000\n25%           4.000000\n50%           5.000000\n75%           7.000000\nmax          33.000000\nName: adv_month, dtype: float64"
     },
     "execution_count": 132,
     "metadata": {},
     "output_type": "execute_result"
    }
   ],
   "source": [
    "cars['adv_month'].describe()"
   ],
   "metadata": {
    "collapsed": false,
    "ExecuteTime": {
     "end_time": "2024-02-07T12:03:51.491796Z",
     "start_time": "2024-02-07T12:03:51.358755Z"
    }
   },
   "id": "8f0baae0e3525399",
   "execution_count": 132
  },
  {
   "cell_type": "code",
   "outputs": [
    {
     "data": {
      "text/plain": "adv_month\n5     66773\n8     50958\n4     41093\n7     35144\n6     25841\n3     21704\n2      9827\n1      6058\n12     2975\n11     2858\n10     2405\n9      1727\n13        1\n17        1\n33        1\nName: count, dtype: int64"
     },
     "execution_count": 133,
     "metadata": {},
     "output_type": "execute_result"
    }
   ],
   "source": [
    "cars['adv_month'].value_counts()"
   ],
   "metadata": {
    "collapsed": false,
    "ExecuteTime": {
     "end_time": "2024-02-07T12:03:51.496050Z",
     "start_time": "2024-02-07T12:03:51.369854Z"
    }
   },
   "id": "ed6ffbf8d22e622c",
   "execution_count": 133
  },
  {
   "cell_type": "code",
   "outputs": [
    {
     "data": {
      "text/plain": "                 maker  genmodel genmodel_id  adv_year  adv_month  color  \\\nAdv_ID                                                                     \n29_32$$75         Ford  Streetka       29_32      2012         13   Blue   \n69_23$$2       Peugeot       407       69_23      2012         17   Blue   \n77_4$$10   Rolls-Royce   Phantom        77_4      2012         33  Black   \n\n           reg_year    body_type run_miles engine_size  ... engine_power  \\\nAdv_ID                                                  ...                \n29_32$$75    2005.0  Convertible     22000        1.6L  ...         94.0   \n69_23$$2     2006.0        Coupe     77000        2.7L  ...        205.0   \n77_4$$10     2007.0       Saloon     20000        6.7L  ...          NaN   \n\n          annual_tax  wheelbase  height   width  length  average_mpg  \\\nAdv_ID                                                                 \n29_32$$75        NaN     2450.0  1332.0  1852.0  3650.0     35.8 mpg   \n69_23$$2         NaN     2725.0  1399.0  1868.0  4815.0     33.2 mpg   \n77_4$$10         555        NaN     NaN     NaN     NaN          NaN   \n\n           top_speed  seat_num door_num  \nAdv_ID                                   \n29_32$$75    108 mph       2.0      2.0  \n69_23$$2     143 mph       4.0      2.0  \n77_4$$10         NaN       5.0      NaN  \n\n[3 rows x 23 columns]",
      "text/html": "<div>\n<style scoped>\n    .dataframe tbody tr th:only-of-type {\n        vertical-align: middle;\n    }\n\n    .dataframe tbody tr th {\n        vertical-align: top;\n    }\n\n    .dataframe thead th {\n        text-align: right;\n    }\n</style>\n<table border=\"1\" class=\"dataframe\">\n  <thead>\n    <tr style=\"text-align: right;\">\n      <th></th>\n      <th>maker</th>\n      <th>genmodel</th>\n      <th>genmodel_id</th>\n      <th>adv_year</th>\n      <th>adv_month</th>\n      <th>color</th>\n      <th>reg_year</th>\n      <th>body_type</th>\n      <th>run_miles</th>\n      <th>engine_size</th>\n      <th>...</th>\n      <th>engine_power</th>\n      <th>annual_tax</th>\n      <th>wheelbase</th>\n      <th>height</th>\n      <th>width</th>\n      <th>length</th>\n      <th>average_mpg</th>\n      <th>top_speed</th>\n      <th>seat_num</th>\n      <th>door_num</th>\n    </tr>\n    <tr>\n      <th>Adv_ID</th>\n      <th></th>\n      <th></th>\n      <th></th>\n      <th></th>\n      <th></th>\n      <th></th>\n      <th></th>\n      <th></th>\n      <th></th>\n      <th></th>\n      <th></th>\n      <th></th>\n      <th></th>\n      <th></th>\n      <th></th>\n      <th></th>\n      <th></th>\n      <th></th>\n      <th></th>\n      <th></th>\n      <th></th>\n    </tr>\n  </thead>\n  <tbody>\n    <tr>\n      <th>29_32$$75</th>\n      <td>Ford</td>\n      <td>Streetka</td>\n      <td>29_32</td>\n      <td>2012</td>\n      <td>13</td>\n      <td>Blue</td>\n      <td>2005.0</td>\n      <td>Convertible</td>\n      <td>22000</td>\n      <td>1.6L</td>\n      <td>...</td>\n      <td>94.0</td>\n      <td>NaN</td>\n      <td>2450.0</td>\n      <td>1332.0</td>\n      <td>1852.0</td>\n      <td>3650.0</td>\n      <td>35.8 mpg</td>\n      <td>108 mph</td>\n      <td>2.0</td>\n      <td>2.0</td>\n    </tr>\n    <tr>\n      <th>69_23$$2</th>\n      <td>Peugeot</td>\n      <td>407</td>\n      <td>69_23</td>\n      <td>2012</td>\n      <td>17</td>\n      <td>Blue</td>\n      <td>2006.0</td>\n      <td>Coupe</td>\n      <td>77000</td>\n      <td>2.7L</td>\n      <td>...</td>\n      <td>205.0</td>\n      <td>NaN</td>\n      <td>2725.0</td>\n      <td>1399.0</td>\n      <td>1868.0</td>\n      <td>4815.0</td>\n      <td>33.2 mpg</td>\n      <td>143 mph</td>\n      <td>4.0</td>\n      <td>2.0</td>\n    </tr>\n    <tr>\n      <th>77_4$$10</th>\n      <td>Rolls-Royce</td>\n      <td>Phantom</td>\n      <td>77_4</td>\n      <td>2012</td>\n      <td>33</td>\n      <td>Black</td>\n      <td>2007.0</td>\n      <td>Saloon</td>\n      <td>20000</td>\n      <td>6.7L</td>\n      <td>...</td>\n      <td>NaN</td>\n      <td>555</td>\n      <td>NaN</td>\n      <td>NaN</td>\n      <td>NaN</td>\n      <td>NaN</td>\n      <td>NaN</td>\n      <td>NaN</td>\n      <td>5.0</td>\n      <td>NaN</td>\n    </tr>\n  </tbody>\n</table>\n<p>3 rows × 23 columns</p>\n</div>"
     },
     "execution_count": 134,
     "metadata": {},
     "output_type": "execute_result"
    }
   ],
   "source": [
    "cars[cars['adv_month'] > 12]"
   ],
   "metadata": {
    "collapsed": false,
    "ExecuteTime": {
     "end_time": "2024-02-07T12:03:51.499654Z",
     "start_time": "2024-02-07T12:03:51.378628Z"
    }
   },
   "id": "fb532ef1bec1578a",
   "execution_count": 134
  },
  {
   "cell_type": "code",
   "outputs": [],
   "source": [
    "cars = cars[cars['adv_month'] <= 12]"
   ],
   "metadata": {
    "collapsed": false,
    "ExecuteTime": {
     "end_time": "2024-02-07T12:03:51.594023Z",
     "start_time": "2024-02-07T12:03:51.382275Z"
    }
   },
   "id": "57a7d2c380e5335a",
   "execution_count": 135
  },
  {
   "cell_type": "markdown",
   "source": [
    "### color column"
   ],
   "metadata": {
    "collapsed": false
   },
   "id": "e40177e645e0b1e8"
  },
  {
   "cell_type": "code",
   "outputs": [
    {
     "name": "stdout",
     "output_type": "stream",
     "text": [
      "<class 'pandas.core.series.Series'>\n",
      "Index: 267363 entries, 10_1$$1 to 99_1$$3\n",
      "Series name: color\n",
      "Non-Null Count   Dtype \n",
      "--------------   ----- \n",
      "245618 non-null  object\n",
      "dtypes: object(1)\n",
      "memory usage: 4.1+ MB\n"
     ]
    }
   ],
   "source": [
    "cars['color'].info()"
   ],
   "metadata": {
    "collapsed": false,
    "ExecuteTime": {
     "end_time": "2024-02-07T12:03:51.631965Z",
     "start_time": "2024-02-07T12:03:51.418956Z"
    }
   },
   "id": "427729b6146dbce5",
   "execution_count": 136
  },
  {
   "cell_type": "code",
   "outputs": [
    {
     "data": {
      "text/plain": "color\nBlack          48613\nSilver         40147\nBlue           38267\nGrey           37591\nWhite          34099\nRed            25835\nNaN            21745\nGreen           5020\nYellow          3063\nBrown           2876\nOrange          2821\nBeige           1980\nPurple          1360\nGold            1221\nBronze          1200\nMulticolour      794\nPink             298\nMaroon           179\nTurquoise        176\nBurgundy          48\nMagenta           18\nNavy               8\nIndigo             4\nName: count, dtype: int64"
     },
     "execution_count": 137,
     "metadata": {},
     "output_type": "execute_result"
    }
   ],
   "source": [
    "cars['color'].value_counts(dropna=False)"
   ],
   "metadata": {
    "collapsed": false,
    "ExecuteTime": {
     "end_time": "2024-02-07T12:03:51.634950Z",
     "start_time": "2024-02-07T12:03:51.431080Z"
    }
   },
   "id": "356980a82d8749a5",
   "execution_count": 137
  },
  {
   "cell_type": "code",
   "outputs": [],
   "source": [
    "cars['color'] = cars['color'].astype('category')"
   ],
   "metadata": {
    "collapsed": false,
    "ExecuteTime": {
     "end_time": "2024-02-07T12:03:51.643277Z",
     "start_time": "2024-02-07T12:03:51.444099Z"
    }
   },
   "id": "e7365ad079eda454",
   "execution_count": 138
  },
  {
   "cell_type": "markdown",
   "source": [
    "### reg_year column"
   ],
   "metadata": {
    "collapsed": false
   },
   "id": "cd9858a4f4c62c6d"
  },
  {
   "cell_type": "code",
   "outputs": [
    {
     "name": "stdout",
     "output_type": "stream",
     "text": [
      "<class 'pandas.core.series.Series'>\n",
      "Index: 267363 entries, 10_1$$1 to 99_1$$3\n",
      "Series name: reg_year\n",
      "Non-Null Count   Dtype  \n",
      "--------------   -----  \n",
      "267357 non-null  float64\n",
      "dtypes: float64(1)\n",
      "memory usage: 4.1+ MB\n"
     ]
    }
   ],
   "source": [
    "cars['reg_year'].info()"
   ],
   "metadata": {
    "collapsed": false,
    "ExecuteTime": {
     "end_time": "2024-02-07T12:03:51.650832Z",
     "start_time": "2024-02-07T12:03:51.447934Z"
    }
   },
   "id": "2bee9308366deae5",
   "execution_count": 139
  },
  {
   "cell_type": "code",
   "outputs": [
    {
     "data": {
      "text/plain": "          maker             genmodel genmodel_id  adv_year  adv_month   color  \\\nAdv_ID                                                                          \n8_11$$225   BMW             6 Series        8_11      2018          3   Black   \n8_11$$227   BMW             6 Series        8_11      2018          1  Silver   \n8_12$$103   BMW  6 Series Gran Coupe        8_12      2018          2   Black   \n8_14$$369   BMW             7 Series        8_14      2018          4    Grey   \n8_14$$405   BMW             7 Series        8_14      2018          2   Black   \n8_29$$160   BMW                   M2        8_29      2018          4   Black   \n\n           reg_year body_type run_miles engine_size  ... engine_power  \\\nAdv_ID                                               ...                \n8_11$$225       NaN       NaN       NaN         NaN  ...          NaN   \n8_11$$227       NaN       NaN       NaN         NaN  ...          NaN   \n8_12$$103       NaN       NaN       NaN         NaN  ...          NaN   \n8_14$$369       NaN       NaN       NaN         NaN  ...          NaN   \n8_14$$405       NaN       NaN       NaN         NaN  ...          NaN   \n8_29$$160       NaN       NaN       NaN         NaN  ...          NaN   \n\n          annual_tax  wheelbase  height width  length  average_mpg  top_speed  \\\nAdv_ID                                                                          \n8_11$$225        NaN        NaN     NaN   NaN     NaN          NaN        NaN   \n8_11$$227        NaN        NaN     NaN   NaN     NaN          NaN        NaN   \n8_12$$103        NaN        NaN     NaN   NaN     NaN          NaN        NaN   \n8_14$$369        NaN        NaN     NaN   NaN     NaN          NaN        NaN   \n8_14$$405        NaN        NaN     NaN   NaN     NaN          NaN        NaN   \n8_29$$160        NaN        NaN     NaN   NaN     NaN          NaN        NaN   \n\n           seat_num door_num  \nAdv_ID                        \n8_11$$225       NaN      NaN  \n8_11$$227       NaN      NaN  \n8_12$$103       NaN      NaN  \n8_14$$369       NaN      NaN  \n8_14$$405       NaN      NaN  \n8_29$$160       NaN      NaN  \n\n[6 rows x 23 columns]",
      "text/html": "<div>\n<style scoped>\n    .dataframe tbody tr th:only-of-type {\n        vertical-align: middle;\n    }\n\n    .dataframe tbody tr th {\n        vertical-align: top;\n    }\n\n    .dataframe thead th {\n        text-align: right;\n    }\n</style>\n<table border=\"1\" class=\"dataframe\">\n  <thead>\n    <tr style=\"text-align: right;\">\n      <th></th>\n      <th>maker</th>\n      <th>genmodel</th>\n      <th>genmodel_id</th>\n      <th>adv_year</th>\n      <th>adv_month</th>\n      <th>color</th>\n      <th>reg_year</th>\n      <th>body_type</th>\n      <th>run_miles</th>\n      <th>engine_size</th>\n      <th>...</th>\n      <th>engine_power</th>\n      <th>annual_tax</th>\n      <th>wheelbase</th>\n      <th>height</th>\n      <th>width</th>\n      <th>length</th>\n      <th>average_mpg</th>\n      <th>top_speed</th>\n      <th>seat_num</th>\n      <th>door_num</th>\n    </tr>\n    <tr>\n      <th>Adv_ID</th>\n      <th></th>\n      <th></th>\n      <th></th>\n      <th></th>\n      <th></th>\n      <th></th>\n      <th></th>\n      <th></th>\n      <th></th>\n      <th></th>\n      <th></th>\n      <th></th>\n      <th></th>\n      <th></th>\n      <th></th>\n      <th></th>\n      <th></th>\n      <th></th>\n      <th></th>\n      <th></th>\n      <th></th>\n    </tr>\n  </thead>\n  <tbody>\n    <tr>\n      <th>8_11$$225</th>\n      <td>BMW</td>\n      <td>6 Series</td>\n      <td>8_11</td>\n      <td>2018</td>\n      <td>3</td>\n      <td>Black</td>\n      <td>NaN</td>\n      <td>NaN</td>\n      <td>NaN</td>\n      <td>NaN</td>\n      <td>...</td>\n      <td>NaN</td>\n      <td>NaN</td>\n      <td>NaN</td>\n      <td>NaN</td>\n      <td>NaN</td>\n      <td>NaN</td>\n      <td>NaN</td>\n      <td>NaN</td>\n      <td>NaN</td>\n      <td>NaN</td>\n    </tr>\n    <tr>\n      <th>8_11$$227</th>\n      <td>BMW</td>\n      <td>6 Series</td>\n      <td>8_11</td>\n      <td>2018</td>\n      <td>1</td>\n      <td>Silver</td>\n      <td>NaN</td>\n      <td>NaN</td>\n      <td>NaN</td>\n      <td>NaN</td>\n      <td>...</td>\n      <td>NaN</td>\n      <td>NaN</td>\n      <td>NaN</td>\n      <td>NaN</td>\n      <td>NaN</td>\n      <td>NaN</td>\n      <td>NaN</td>\n      <td>NaN</td>\n      <td>NaN</td>\n      <td>NaN</td>\n    </tr>\n    <tr>\n      <th>8_12$$103</th>\n      <td>BMW</td>\n      <td>6 Series Gran Coupe</td>\n      <td>8_12</td>\n      <td>2018</td>\n      <td>2</td>\n      <td>Black</td>\n      <td>NaN</td>\n      <td>NaN</td>\n      <td>NaN</td>\n      <td>NaN</td>\n      <td>...</td>\n      <td>NaN</td>\n      <td>NaN</td>\n      <td>NaN</td>\n      <td>NaN</td>\n      <td>NaN</td>\n      <td>NaN</td>\n      <td>NaN</td>\n      <td>NaN</td>\n      <td>NaN</td>\n      <td>NaN</td>\n    </tr>\n    <tr>\n      <th>8_14$$369</th>\n      <td>BMW</td>\n      <td>7 Series</td>\n      <td>8_14</td>\n      <td>2018</td>\n      <td>4</td>\n      <td>Grey</td>\n      <td>NaN</td>\n      <td>NaN</td>\n      <td>NaN</td>\n      <td>NaN</td>\n      <td>...</td>\n      <td>NaN</td>\n      <td>NaN</td>\n      <td>NaN</td>\n      <td>NaN</td>\n      <td>NaN</td>\n      <td>NaN</td>\n      <td>NaN</td>\n      <td>NaN</td>\n      <td>NaN</td>\n      <td>NaN</td>\n    </tr>\n    <tr>\n      <th>8_14$$405</th>\n      <td>BMW</td>\n      <td>7 Series</td>\n      <td>8_14</td>\n      <td>2018</td>\n      <td>2</td>\n      <td>Black</td>\n      <td>NaN</td>\n      <td>NaN</td>\n      <td>NaN</td>\n      <td>NaN</td>\n      <td>...</td>\n      <td>NaN</td>\n      <td>NaN</td>\n      <td>NaN</td>\n      <td>NaN</td>\n      <td>NaN</td>\n      <td>NaN</td>\n      <td>NaN</td>\n      <td>NaN</td>\n      <td>NaN</td>\n      <td>NaN</td>\n    </tr>\n    <tr>\n      <th>8_29$$160</th>\n      <td>BMW</td>\n      <td>M2</td>\n      <td>8_29</td>\n      <td>2018</td>\n      <td>4</td>\n      <td>Black</td>\n      <td>NaN</td>\n      <td>NaN</td>\n      <td>NaN</td>\n      <td>NaN</td>\n      <td>...</td>\n      <td>NaN</td>\n      <td>NaN</td>\n      <td>NaN</td>\n      <td>NaN</td>\n      <td>NaN</td>\n      <td>NaN</td>\n      <td>NaN</td>\n      <td>NaN</td>\n      <td>NaN</td>\n      <td>NaN</td>\n    </tr>\n  </tbody>\n</table>\n<p>6 rows × 23 columns</p>\n</div>"
     },
     "execution_count": 140,
     "metadata": {},
     "output_type": "execute_result"
    }
   ],
   "source": [
    "cars[cars['reg_year'].isna()]"
   ],
   "metadata": {
    "collapsed": false,
    "ExecuteTime": {
     "end_time": "2024-02-07T12:03:51.664958Z",
     "start_time": "2024-02-07T12:03:51.455016Z"
    }
   },
   "id": "b328e979937f8715",
   "execution_count": 140
  },
  {
   "cell_type": "code",
   "outputs": [],
   "source": [
    "cars = cars.dropna(subset=['reg_year'])\n",
    "cars['reg_year'] = cars['reg_year'].astype('int')"
   ],
   "metadata": {
    "collapsed": false,
    "ExecuteTime": {
     "end_time": "2024-02-07T12:03:51.715604Z",
     "start_time": "2024-02-07T12:03:51.462536Z"
    }
   },
   "id": "c3f72b0469cc5afc",
   "execution_count": 141
  },
  {
   "cell_type": "markdown",
   "source": [
    "### body_type column"
   ],
   "metadata": {
    "collapsed": false
   },
   "id": "de3b6ca57a35fa3c"
  },
  {
   "cell_type": "code",
   "outputs": [
    {
     "name": "stdout",
     "output_type": "stream",
     "text": [
      "<class 'pandas.core.series.Series'>\n",
      "Index: 267357 entries, 10_1$$1 to 99_1$$3\n",
      "Series name: body_type\n",
      "Non-Null Count   Dtype \n",
      "--------------   ----- \n",
      "266426 non-null  object\n",
      "dtypes: object(1)\n",
      "memory usage: 4.1+ MB\n"
     ]
    }
   ],
   "source": [
    "cars['body_type'].info()"
   ],
   "metadata": {
    "collapsed": false,
    "ExecuteTime": {
     "end_time": "2024-02-07T12:03:51.733862Z",
     "start_time": "2024-02-07T12:03:51.499794Z"
    }
   },
   "id": "20c783eeeb4a9f23",
   "execution_count": 142
  },
  {
   "cell_type": "code",
   "outputs": [
    {
     "data": {
      "text/plain": "body_type\nHatchback          103244\nSUV                 64174\nSaloon              22561\nMPV                 22481\nCoupe               17051\nEstate              16784\nConvertible         13195\nPickup               5247\nNaN                   931\nCombi Van             655\nPanel Van             476\nMinibus               228\nCar Derived Van       118\nLimousine              93\nWindow Van             88\nCamper                 24\nManual                  5\nTipper                  1\nChassis Cab             1\nName: count, dtype: int64"
     },
     "execution_count": 143,
     "metadata": {},
     "output_type": "execute_result"
    }
   ],
   "source": [
    "cars['body_type'].value_counts(dropna=False)"
   ],
   "metadata": {
    "collapsed": false,
    "ExecuteTime": {
     "end_time": "2024-02-07T12:03:51.737154Z",
     "start_time": "2024-02-07T12:03:51.511839Z"
    }
   },
   "id": "7a960610508ff00e",
   "execution_count": 143
  },
  {
   "cell_type": "code",
   "outputs": [],
   "source": [
    "cars['body_type'] = cars['body_type'].astype('category')"
   ],
   "metadata": {
    "collapsed": false,
    "ExecuteTime": {
     "end_time": "2024-02-07T12:03:51.739758Z",
     "start_time": "2024-02-07T12:03:51.526252Z"
    }
   },
   "id": "8aac70e98c7be833",
   "execution_count": 144
  },
  {
   "cell_type": "code",
   "outputs": [
    {
     "data": {
      "text/plain": "               maker     genmodel genmodel_id  adv_year  adv_month   color  \\\nAdv_ID                                                                       \n28_27$$2        Fiat      Talento       28_27      2018          3    Grey   \n94_10$$203  Vauxhall  Crossland X       94_10      2018          8   White   \n94_24$$118  Vauxhall       Vivaro       94_24      2017          5   Green   \n94_24$$182  Vauxhall       Vivaro       94_24      2016          9  Silver   \n94_24$$88   Vauxhall       Vivaro       94_24      2016          7     NaN   \n\n            reg_year body_type run_miles engine_size  ... engine_power  \\\nAdv_ID                                                ...                \n28_27$$2        2018    Manual       NaN         NaN  ...          NaN   \n94_10$$203      2018    Manual       NaN         NaN  ...          NaN   \n94_24$$118      2018    Manual       NaN         NaN  ...          NaN   \n94_24$$182      2018    Manual       NaN         NaN  ...          NaN   \n94_24$$88       2018    Manual       NaN         NaN  ...          NaN   \n\n           annual_tax  wheelbase  height width  length  average_mpg  \\\nAdv_ID                                                                \n28_27$$2          NaN        NaN     NaN   NaN     NaN          NaN   \n94_10$$203        NaN        NaN     NaN   NaN     NaN          NaN   \n94_24$$118        NaN        NaN     NaN   NaN     NaN          NaN   \n94_24$$182        NaN        NaN     NaN   NaN     NaN          NaN   \n94_24$$88         NaN        NaN     NaN   NaN     NaN          NaN   \n\n            top_speed  seat_num door_num  \nAdv_ID                                    \n28_27$$2          NaN       NaN      NaN  \n94_10$$203        NaN       NaN      5.0  \n94_24$$118        NaN       NaN      NaN  \n94_24$$182        NaN       NaN      NaN  \n94_24$$88         NaN       NaN      NaN  \n\n[5 rows x 23 columns]",
      "text/html": "<div>\n<style scoped>\n    .dataframe tbody tr th:only-of-type {\n        vertical-align: middle;\n    }\n\n    .dataframe tbody tr th {\n        vertical-align: top;\n    }\n\n    .dataframe thead th {\n        text-align: right;\n    }\n</style>\n<table border=\"1\" class=\"dataframe\">\n  <thead>\n    <tr style=\"text-align: right;\">\n      <th></th>\n      <th>maker</th>\n      <th>genmodel</th>\n      <th>genmodel_id</th>\n      <th>adv_year</th>\n      <th>adv_month</th>\n      <th>color</th>\n      <th>reg_year</th>\n      <th>body_type</th>\n      <th>run_miles</th>\n      <th>engine_size</th>\n      <th>...</th>\n      <th>engine_power</th>\n      <th>annual_tax</th>\n      <th>wheelbase</th>\n      <th>height</th>\n      <th>width</th>\n      <th>length</th>\n      <th>average_mpg</th>\n      <th>top_speed</th>\n      <th>seat_num</th>\n      <th>door_num</th>\n    </tr>\n    <tr>\n      <th>Adv_ID</th>\n      <th></th>\n      <th></th>\n      <th></th>\n      <th></th>\n      <th></th>\n      <th></th>\n      <th></th>\n      <th></th>\n      <th></th>\n      <th></th>\n      <th></th>\n      <th></th>\n      <th></th>\n      <th></th>\n      <th></th>\n      <th></th>\n      <th></th>\n      <th></th>\n      <th></th>\n      <th></th>\n      <th></th>\n    </tr>\n  </thead>\n  <tbody>\n    <tr>\n      <th>28_27$$2</th>\n      <td>Fiat</td>\n      <td>Talento</td>\n      <td>28_27</td>\n      <td>2018</td>\n      <td>3</td>\n      <td>Grey</td>\n      <td>2018</td>\n      <td>Manual</td>\n      <td>NaN</td>\n      <td>NaN</td>\n      <td>...</td>\n      <td>NaN</td>\n      <td>NaN</td>\n      <td>NaN</td>\n      <td>NaN</td>\n      <td>NaN</td>\n      <td>NaN</td>\n      <td>NaN</td>\n      <td>NaN</td>\n      <td>NaN</td>\n      <td>NaN</td>\n    </tr>\n    <tr>\n      <th>94_10$$203</th>\n      <td>Vauxhall</td>\n      <td>Crossland X</td>\n      <td>94_10</td>\n      <td>2018</td>\n      <td>8</td>\n      <td>White</td>\n      <td>2018</td>\n      <td>Manual</td>\n      <td>NaN</td>\n      <td>NaN</td>\n      <td>...</td>\n      <td>NaN</td>\n      <td>NaN</td>\n      <td>NaN</td>\n      <td>NaN</td>\n      <td>NaN</td>\n      <td>NaN</td>\n      <td>NaN</td>\n      <td>NaN</td>\n      <td>NaN</td>\n      <td>5.0</td>\n    </tr>\n    <tr>\n      <th>94_24$$118</th>\n      <td>Vauxhall</td>\n      <td>Vivaro</td>\n      <td>94_24</td>\n      <td>2017</td>\n      <td>5</td>\n      <td>Green</td>\n      <td>2018</td>\n      <td>Manual</td>\n      <td>NaN</td>\n      <td>NaN</td>\n      <td>...</td>\n      <td>NaN</td>\n      <td>NaN</td>\n      <td>NaN</td>\n      <td>NaN</td>\n      <td>NaN</td>\n      <td>NaN</td>\n      <td>NaN</td>\n      <td>NaN</td>\n      <td>NaN</td>\n      <td>NaN</td>\n    </tr>\n    <tr>\n      <th>94_24$$182</th>\n      <td>Vauxhall</td>\n      <td>Vivaro</td>\n      <td>94_24</td>\n      <td>2016</td>\n      <td>9</td>\n      <td>Silver</td>\n      <td>2018</td>\n      <td>Manual</td>\n      <td>NaN</td>\n      <td>NaN</td>\n      <td>...</td>\n      <td>NaN</td>\n      <td>NaN</td>\n      <td>NaN</td>\n      <td>NaN</td>\n      <td>NaN</td>\n      <td>NaN</td>\n      <td>NaN</td>\n      <td>NaN</td>\n      <td>NaN</td>\n      <td>NaN</td>\n    </tr>\n    <tr>\n      <th>94_24$$88</th>\n      <td>Vauxhall</td>\n      <td>Vivaro</td>\n      <td>94_24</td>\n      <td>2016</td>\n      <td>7</td>\n      <td>NaN</td>\n      <td>2018</td>\n      <td>Manual</td>\n      <td>NaN</td>\n      <td>NaN</td>\n      <td>...</td>\n      <td>NaN</td>\n      <td>NaN</td>\n      <td>NaN</td>\n      <td>NaN</td>\n      <td>NaN</td>\n      <td>NaN</td>\n      <td>NaN</td>\n      <td>NaN</td>\n      <td>NaN</td>\n      <td>NaN</td>\n    </tr>\n  </tbody>\n</table>\n<p>5 rows × 23 columns</p>\n</div>"
     },
     "execution_count": 145,
     "metadata": {},
     "output_type": "execute_result"
    }
   ],
   "source": [
    "cars[cars['body_type'] == 'Manual']"
   ],
   "metadata": {
    "collapsed": false,
    "ExecuteTime": {
     "end_time": "2024-02-07T12:03:51.830216Z",
     "start_time": "2024-02-07T12:03:51.529926Z"
    }
   },
   "id": "36cd4709b70e00b8",
   "execution_count": 145
  },
  {
   "cell_type": "code",
   "outputs": [],
   "source": [
    "filter_condition = cars['body_type'] == 'Manual'\n",
    "\n",
    "cars.loc[filter_condition, ['body_type', 'gearbox']] = cars.loc[filter_condition, ['gearbox', 'body_type']].values"
   ],
   "metadata": {
    "collapsed": false,
    "ExecuteTime": {
     "end_time": "2024-02-07T12:03:51.833409Z",
     "start_time": "2024-02-07T12:03:51.537942Z"
    }
   },
   "id": "f1480f34e35722e2",
   "execution_count": 146
  },
  {
   "cell_type": "markdown",
   "source": [
    "### run_miles column"
   ],
   "metadata": {
    "collapsed": false
   },
   "id": "3275332721ca18f0"
  },
  {
   "cell_type": "code",
   "outputs": [
    {
     "name": "stdout",
     "output_type": "stream",
     "text": [
      "<class 'pandas.core.series.Series'>\n",
      "Index: 267357 entries, 10_1$$1 to 99_1$$3\n",
      "Series name: run_miles\n",
      "Non-Null Count   Dtype \n",
      "--------------   ----- \n",
      "266320 non-null  object\n",
      "dtypes: object(1)\n",
      "memory usage: 4.1+ MB\n"
     ]
    }
   ],
   "source": [
    "cars['run_miles'].info()"
   ],
   "metadata": {
    "collapsed": false,
    "ExecuteTime": {
     "end_time": "2024-02-07T12:03:51.863016Z",
     "start_time": "2024-02-07T12:03:51.549993Z"
    }
   },
   "id": "583f8c0973c79dd5",
   "execution_count": 147
  },
  {
   "cell_type": "code",
   "outputs": [
    {
     "data": {
      "text/plain": "run_miles\nNaN       1037\n1 mile     220\nName: count, dtype: int64"
     },
     "execution_count": 148,
     "metadata": {},
     "output_type": "execute_result"
    }
   ],
   "source": [
    "miles_mask = pd.to_numeric(cars['run_miles'], errors='coerce').notna()\n",
    "cars[~miles_mask]['run_miles'].value_counts(dropna=False)"
   ],
   "metadata": {
    "collapsed": false,
    "ExecuteTime": {
     "end_time": "2024-02-07T12:03:51.883287Z",
     "start_time": "2024-02-07T12:03:51.556006Z"
    }
   },
   "id": "bae6abfb53d4b071",
   "execution_count": 148
  },
  {
   "cell_type": "code",
   "outputs": [],
   "source": [
    "cars['run_miles'] = cars['run_miles'].replace('1 mile', '1')\n",
    "cars['run_miles'] = cars['run_miles'].astype('float')"
   ],
   "metadata": {
    "collapsed": false,
    "ExecuteTime": {
     "end_time": "2024-02-07T12:03:51.916538Z",
     "start_time": "2024-02-07T12:03:51.624857Z"
    }
   },
   "id": "d72786e373fa1b86",
   "execution_count": 149
  },
  {
   "cell_type": "code",
   "outputs": [
    {
     "data": {
      "text/plain": "count    2.663200e+05\nmean     4.825502e+04\nstd      4.183808e+04\nmin      0.000000e+00\n25%      1.426000e+04\n50%      3.945750e+04\n75%      7.500000e+04\nmax      6.363342e+06\nName: run_miles, dtype: float64"
     },
     "execution_count": 150,
     "metadata": {},
     "output_type": "execute_result"
    }
   ],
   "source": [
    "cars['run_miles'].describe()"
   ],
   "metadata": {
    "collapsed": false,
    "ExecuteTime": {
     "end_time": "2024-02-07T12:03:51.933324Z",
     "start_time": "2024-02-07T12:03:51.648834Z"
    }
   },
   "id": "4ae6c7181d883798",
   "execution_count": 150
  },
  {
   "cell_type": "code",
   "outputs": [
    {
     "data": {
      "text/plain": "Adv_ID\n95_15$$993     6363342.0\n36_6$$73       1080000.0\n54_3$$164       967515.0\n29_14$$1013     900000.0\n39_7$$823       900000.0\n                 ...    \n96_7$$53             NaN\n96_7$$55             NaN\n96_7$$59             NaN\n96_8$$36             NaN\n96_9$$443            NaN\nName: run_miles, Length: 267357, dtype: float64"
     },
     "execution_count": 151,
     "metadata": {},
     "output_type": "execute_result"
    }
   ],
   "source": [
    "cars['run_miles'].sort_values(ascending=False)"
   ],
   "metadata": {
    "collapsed": false,
    "ExecuteTime": {
     "end_time": "2024-02-07T12:03:51.938823Z",
     "start_time": "2024-02-07T12:03:51.663126Z"
    }
   },
   "id": "b5c82f121e74d86c",
   "execution_count": 151
  },
  {
   "cell_type": "code",
   "outputs": [
    {
     "data": {
      "text/plain": "Adv_ID\n95_15$$993     1025.518453\n29_14$$1013     176.125245\n39_7$$823       176.125245\n36_6$$73        155.731795\n21_1$$1000      149.259361\n                  ...     \n96_7$$53               NaN\n96_7$$55               NaN\n96_7$$59               NaN\n96_8$$36               NaN\n96_9$$443              NaN\nLength: 267357, dtype: float64"
     },
     "execution_count": 152,
     "metadata": {},
     "output_type": "execute_result"
    }
   ],
   "source": [
    "(cars['run_miles'] / (2024 - cars['reg_year']) / 365).sort_values(ascending=False)"
   ],
   "metadata": {
    "collapsed": false,
    "ExecuteTime": {
     "end_time": "2024-02-07T12:03:51.972668Z",
     "start_time": "2024-02-07T12:03:51.709114Z"
    }
   },
   "id": "c6f539e7a93064b6",
   "execution_count": 152
  },
  {
   "cell_type": "code",
   "outputs": [],
   "source": [
    "cars = cars.drop('95_15$$993')"
   ],
   "metadata": {
    "collapsed": false,
    "ExecuteTime": {
     "end_time": "2024-02-07T12:03:52.051356Z",
     "start_time": "2024-02-07T12:03:51.773195Z"
    }
   },
   "id": "c7dabca58131b8a",
   "execution_count": 153
  },
  {
   "cell_type": "markdown",
   "source": [
    "### engine_size column"
   ],
   "metadata": {
    "collapsed": false
   },
   "id": "ee5baeeb5ff58c6e"
  },
  {
   "cell_type": "code",
   "outputs": [
    {
     "name": "stdout",
     "output_type": "stream",
     "text": [
      "<class 'pandas.core.series.Series'>\n",
      "Index: 267356 entries, 10_1$$1 to 99_1$$3\n",
      "Series name: engine_size\n",
      "Non-Null Count   Dtype \n",
      "--------------   ----- \n",
      "265309 non-null  object\n",
      "dtypes: object(1)\n",
      "memory usage: 4.1+ MB\n"
     ]
    }
   ],
   "source": [
    "cars['engine_size'].info()"
   ],
   "metadata": {
    "collapsed": false,
    "ExecuteTime": {
     "end_time": "2024-02-07T12:03:52.073792Z",
     "start_time": "2024-02-07T12:03:51.830036Z"
    }
   },
   "id": "6934eafe0e55263c",
   "execution_count": 154
  },
  {
   "cell_type": "code",
   "outputs": [
    {
     "data": {
      "text/plain": "engine_size\n2.0L       59200\n1.6L       44208\n3.0L       23445\n1.2L       21942\n1.4L       19219\n           ...  \n8.2L           1\n5.3L           1\n6.9L           1\n10.0L          1\n2998.0L        1\nName: count, Length: 74, dtype: int64"
     },
     "execution_count": 155,
     "metadata": {},
     "output_type": "execute_result"
    }
   ],
   "source": [
    "cars['engine_size'].value_counts()"
   ],
   "metadata": {
    "collapsed": false,
    "ExecuteTime": {
     "end_time": "2024-02-07T12:03:52.077047Z",
     "start_time": "2024-02-07T12:03:51.844818Z"
    }
   },
   "id": "60b6dcef604019a1",
   "execution_count": 155
  },
  {
   "cell_type": "code",
   "outputs": [],
   "source": [
    "cars['engine_size'] = cars['engine_size'].str.slice(stop=-1)\n",
    "cars['engine_size'] = cars['engine_size'].astype('float')"
   ],
   "metadata": {
    "collapsed": false,
    "ExecuteTime": {
     "end_time": "2024-02-07T12:03:52.157958Z",
     "start_time": "2024-02-07T12:03:51.867617Z"
    }
   },
   "id": "6d4867649e914c5b",
   "execution_count": 156
  },
  {
   "cell_type": "code",
   "outputs": [
    {
     "data": {
      "text/plain": "Adv_ID\n64_8$$77     3500.0\n62_11$$3     2998.0\n64_6$$2      1400.0\n87_3$$349      10.0\n71_8$$487       8.2\n              ...  \n96_3$$66        NaN\n96_4$$146       NaN\n96_5$$10        NaN\n96_7$$357       NaN\n97_1$$2         NaN\nName: engine_size, Length: 267356, dtype: float64"
     },
     "execution_count": 157,
     "metadata": {},
     "output_type": "execute_result"
    }
   ],
   "source": [
    "cars['engine_size'].sort_values(ascending=False)"
   ],
   "metadata": {
    "collapsed": false,
    "ExecuteTime": {
     "end_time": "2024-02-07T12:03:52.180138Z",
     "start_time": "2024-02-07T12:03:51.900897Z"
    }
   },
   "id": "78491da086aab6a8",
   "execution_count": 157
  },
  {
   "cell_type": "code",
   "outputs": [
    {
     "data": {
      "text/plain": "               maker genmodel genmodel_id  adv_year  adv_month  color  \\\nAdv_ID                                                                  \n64_8$$77      Nissan  Elgrand        64_8      2018          7  Black   \n62_11$$3  Mitsubishi      Gto       62_11      2018          5    Red   \n64_6$$2       Nissan    Cubic        64_6      2018          5    NaN   \n\n          reg_year body_type  run_miles  engine_size  ... engine_power  \\\nAdv_ID                                                ...                \n64_8$$77      2004       MPV    52000.0          3.5  ...          NaN   \n62_11$$3      2002     Coupe    61000.0          3.0  ...          NaN   \n64_6$$2       2003    Estate    71000.0          1.4  ...          NaN   \n\n         annual_tax  wheelbase  height width  length  average_mpg  top_speed  \\\nAdv_ID                                                                         \n64_8$$77        NaN        NaN     NaN   NaN     NaN          NaN        NaN   \n62_11$$3        NaN        NaN     NaN   NaN     NaN          NaN        NaN   \n64_6$$2         NaN        NaN     NaN   NaN     NaN          NaN        NaN   \n\n          seat_num door_num  \nAdv_ID                       \n64_8$$77       8.0      NaN  \n62_11$$3       4.0      NaN  \n64_6$$2        5.0      NaN  \n\n[3 rows x 23 columns]",
      "text/html": "<div>\n<style scoped>\n    .dataframe tbody tr th:only-of-type {\n        vertical-align: middle;\n    }\n\n    .dataframe tbody tr th {\n        vertical-align: top;\n    }\n\n    .dataframe thead th {\n        text-align: right;\n    }\n</style>\n<table border=\"1\" class=\"dataframe\">\n  <thead>\n    <tr style=\"text-align: right;\">\n      <th></th>\n      <th>maker</th>\n      <th>genmodel</th>\n      <th>genmodel_id</th>\n      <th>adv_year</th>\n      <th>adv_month</th>\n      <th>color</th>\n      <th>reg_year</th>\n      <th>body_type</th>\n      <th>run_miles</th>\n      <th>engine_size</th>\n      <th>...</th>\n      <th>engine_power</th>\n      <th>annual_tax</th>\n      <th>wheelbase</th>\n      <th>height</th>\n      <th>width</th>\n      <th>length</th>\n      <th>average_mpg</th>\n      <th>top_speed</th>\n      <th>seat_num</th>\n      <th>door_num</th>\n    </tr>\n    <tr>\n      <th>Adv_ID</th>\n      <th></th>\n      <th></th>\n      <th></th>\n      <th></th>\n      <th></th>\n      <th></th>\n      <th></th>\n      <th></th>\n      <th></th>\n      <th></th>\n      <th></th>\n      <th></th>\n      <th></th>\n      <th></th>\n      <th></th>\n      <th></th>\n      <th></th>\n      <th></th>\n      <th></th>\n      <th></th>\n      <th></th>\n    </tr>\n  </thead>\n  <tbody>\n    <tr>\n      <th>64_8$$77</th>\n      <td>Nissan</td>\n      <td>Elgrand</td>\n      <td>64_8</td>\n      <td>2018</td>\n      <td>7</td>\n      <td>Black</td>\n      <td>2004</td>\n      <td>MPV</td>\n      <td>52000.0</td>\n      <td>3.5</td>\n      <td>...</td>\n      <td>NaN</td>\n      <td>NaN</td>\n      <td>NaN</td>\n      <td>NaN</td>\n      <td>NaN</td>\n      <td>NaN</td>\n      <td>NaN</td>\n      <td>NaN</td>\n      <td>8.0</td>\n      <td>NaN</td>\n    </tr>\n    <tr>\n      <th>62_11$$3</th>\n      <td>Mitsubishi</td>\n      <td>Gto</td>\n      <td>62_11</td>\n      <td>2018</td>\n      <td>5</td>\n      <td>Red</td>\n      <td>2002</td>\n      <td>Coupe</td>\n      <td>61000.0</td>\n      <td>3.0</td>\n      <td>...</td>\n      <td>NaN</td>\n      <td>NaN</td>\n      <td>NaN</td>\n      <td>NaN</td>\n      <td>NaN</td>\n      <td>NaN</td>\n      <td>NaN</td>\n      <td>NaN</td>\n      <td>4.0</td>\n      <td>NaN</td>\n    </tr>\n    <tr>\n      <th>64_6$$2</th>\n      <td>Nissan</td>\n      <td>Cubic</td>\n      <td>64_6</td>\n      <td>2018</td>\n      <td>5</td>\n      <td>NaN</td>\n      <td>2003</td>\n      <td>Estate</td>\n      <td>71000.0</td>\n      <td>1.4</td>\n      <td>...</td>\n      <td>NaN</td>\n      <td>NaN</td>\n      <td>NaN</td>\n      <td>NaN</td>\n      <td>NaN</td>\n      <td>NaN</td>\n      <td>NaN</td>\n      <td>NaN</td>\n      <td>5.0</td>\n      <td>NaN</td>\n    </tr>\n  </tbody>\n</table>\n<p>3 rows × 23 columns</p>\n</div>"
     },
     "execution_count": 158,
     "metadata": {},
     "output_type": "execute_result"
    }
   ],
   "source": [
    "problematic_indexes = ['64_8$$77', '62_11$$3', '64_6$$2']\n",
    "cars.loc[problematic_indexes, 'engine_size'] = (cars.loc[problematic_indexes, 'engine_size'] / 1000).round(1)\n",
    "cars.loc[problematic_indexes]"
   ],
   "metadata": {
    "collapsed": false,
    "ExecuteTime": {
     "end_time": "2024-02-07T12:03:52.205408Z",
     "start_time": "2024-02-07T12:03:51.951593Z"
    }
   },
   "id": "8624ea1df838fbc8",
   "execution_count": 158
  },
  {
   "cell_type": "markdown",
   "source": [
    "### gearbox column"
   ],
   "metadata": {
    "collapsed": false
   },
   "id": "dd338b3f03659721"
  },
  {
   "cell_type": "code",
   "outputs": [
    {
     "name": "stdout",
     "output_type": "stream",
     "text": [
      "<class 'pandas.core.series.Series'>\n",
      "Index: 267356 entries, 10_1$$1 to 99_1$$3\n",
      "Series name: gearbox\n",
      "Non-Null Count   Dtype \n",
      "--------------   ----- \n",
      "267201 non-null  object\n",
      "dtypes: object(1)\n",
      "memory usage: 12.1+ MB\n"
     ]
    }
   ],
   "source": [
    "cars['gearbox'].info()"
   ],
   "metadata": {
    "collapsed": false,
    "ExecuteTime": {
     "end_time": "2024-02-07T12:03:52.208085Z",
     "start_time": "2024-02-07T12:03:51.958546Z"
    }
   },
   "id": "8b583365d527fb48",
   "execution_count": 159
  },
  {
   "cell_type": "code",
   "outputs": [
    {
     "data": {
      "text/plain": "gearbox\nManual            170128\nAutomatic          96936\nNaN                  155\nSemi-Automatic       137\nName: count, dtype: int64"
     },
     "execution_count": 160,
     "metadata": {},
     "output_type": "execute_result"
    }
   ],
   "source": [
    "cars['gearbox'].value_counts(dropna=False)"
   ],
   "metadata": {
    "collapsed": false,
    "ExecuteTime": {
     "end_time": "2024-02-07T12:03:52.210467Z",
     "start_time": "2024-02-07T12:03:51.970214Z"
    }
   },
   "id": "7313dbbf7a8e4890",
   "execution_count": 160
  },
  {
   "cell_type": "code",
   "outputs": [],
   "source": [
    "cars['gearbox'] = cars['gearbox'].astype('category')"
   ],
   "metadata": {
    "collapsed": false,
    "ExecuteTime": {
     "end_time": "2024-02-07T12:03:52.242933Z",
     "start_time": "2024-02-07T12:03:51.982939Z"
    }
   },
   "id": "66acdeb1a2c36e56",
   "execution_count": 161
  },
  {
   "cell_type": "markdown",
   "source": [
    "### fuel_type column"
   ],
   "metadata": {
    "collapsed": false
   },
   "id": "7bf166f6147109e9"
  },
  {
   "cell_type": "code",
   "outputs": [
    {
     "name": "stdout",
     "output_type": "stream",
     "text": [
      "<class 'pandas.core.series.Series'>\n",
      "Index: 267356 entries, 10_1$$1 to 99_1$$3\n",
      "Series name: fuel_type\n",
      "Non-Null Count   Dtype \n",
      "--------------   ----- \n",
      "266954 non-null  object\n",
      "dtypes: object(1)\n",
      "memory usage: 12.1+ MB\n"
     ]
    }
   ],
   "source": [
    "cars['fuel_type'].info()"
   ],
   "metadata": {
    "collapsed": false,
    "ExecuteTime": {
     "end_time": "2024-02-07T12:03:52.268610Z",
     "start_time": "2024-02-07T12:03:51.992099Z"
    }
   },
   "id": "21565d01a3358e4",
   "execution_count": 162
  },
  {
   "cell_type": "code",
   "outputs": [
    {
     "data": {
      "text/plain": "fuel_type\nDiesel                             132522\nPetrol                             126761\nHybrid  Petrol/Electric              4491\nElectric                             1301\nHybrid  Petrol/Electric Plug-in      1007\nNaN                                   402\nPetrol Hybrid                         385\nPetrol Plug-in Hybrid                 258\nHybrid  Diesel/Electric               108\nDiesel Hybrid                          47\nHybrid  Diesel/Electric Plug-in        37\nBi Fuel                                27\nPetrol Ethanol                          8\nDiesel Plug-in Hybrid                   2\nName: count, dtype: int64"
     },
     "execution_count": 163,
     "metadata": {},
     "output_type": "execute_result"
    }
   ],
   "source": [
    "cars['fuel_type'].value_counts(dropna=False)"
   ],
   "metadata": {
    "collapsed": false,
    "ExecuteTime": {
     "end_time": "2024-02-07T12:03:52.291091Z",
     "start_time": "2024-02-07T12:03:52.003254Z"
    }
   },
   "id": "4d6d9a03d6f8b922",
   "execution_count": 163
  },
  {
   "cell_type": "code",
   "outputs": [],
   "source": [
    "fuel_dict = {\n",
    "    'Hybrid  Petrol/Electric': 'Petrol Hybrid',\n",
    "    'Hybrid  Petrol/Electric Plug-in': 'Petrol Plug-in Hybrid',\n",
    "    'Hybrid  Diesel/Electric': 'Diesel Hybrid',\n",
    "    'Hybrid  Diesel/Electric Plug-in': 'Diesel Plug-in Hybrid',\n",
    "    'Petrol Ethanol': 'Petrol'\n",
    "}\n",
    "\n",
    "cars['fuel_type'] = cars['fuel_type'].replace(fuel_dict)"
   ],
   "metadata": {
    "collapsed": false,
    "ExecuteTime": {
     "end_time": "2024-02-07T12:03:52.373804Z",
     "start_time": "2024-02-07T12:03:52.016658Z"
    }
   },
   "id": "4765e276f7b8559b",
   "execution_count": 164
  },
  {
   "cell_type": "code",
   "outputs": [
    {
     "data": {
      "text/plain": "fuel_type\nDiesel                   132522\nPetrol                   126769\nPetrol Hybrid              4876\nElectric                   1301\nPetrol Plug-in Hybrid      1265\nNaN                         402\nDiesel Hybrid               155\nDiesel Plug-in Hybrid        39\nBi Fuel                      27\nName: count, dtype: int64"
     },
     "execution_count": 165,
     "metadata": {},
     "output_type": "execute_result"
    }
   ],
   "source": [
    "cars['fuel_type'].value_counts(dropna=False)"
   ],
   "metadata": {
    "collapsed": false,
    "ExecuteTime": {
     "end_time": "2024-02-07T12:03:52.391858Z",
     "start_time": "2024-02-07T12:03:52.056134Z"
    }
   },
   "id": "19444a25533bcd07",
   "execution_count": 165
  },
  {
   "cell_type": "markdown",
   "source": [
    "### price column"
   ],
   "metadata": {
    "collapsed": false
   },
   "id": "2034da8372987a73"
  },
  {
   "cell_type": "code",
   "outputs": [
    {
     "name": "stdout",
     "output_type": "stream",
     "text": [
      "<class 'pandas.core.series.Series'>\n",
      "Index: 267356 entries, 10_1$$1 to 99_1$$3\n",
      "Series name: price\n",
      "Non-Null Count   Dtype  \n",
      "--------------   -----  \n",
      "266236 non-null  float64\n",
      "dtypes: float64(1)\n",
      "memory usage: 12.1+ MB\n"
     ]
    }
   ],
   "source": [
    "cars['price'].info()"
   ],
   "metadata": {
    "collapsed": false,
    "ExecuteTime": {
     "end_time": "2024-02-07T12:03:52.394952Z",
     "start_time": "2024-02-07T12:03:52.058191Z"
    }
   },
   "id": "f2beea631b802b4",
   "execution_count": 166
  },
  {
   "cell_type": "code",
   "outputs": [
    {
     "data": {
      "text/plain": "count    2.662360e+05\nmean     1.475423e+04\nstd      3.236736e+04\nmin      1.000000e+02\n25%      4.990000e+03\n50%      9.295000e+03\n75%      1.711100e+04\nmax      9.999999e+06\nName: price, dtype: float64"
     },
     "execution_count": 167,
     "metadata": {},
     "output_type": "execute_result"
    }
   ],
   "source": [
    "cars['price'].describe()"
   ],
   "metadata": {
    "collapsed": false,
    "ExecuteTime": {
     "end_time": "2024-02-07T12:03:52.472348Z",
     "start_time": "2024-02-07T12:03:52.202512Z"
    }
   },
   "id": "147186f9368f849d",
   "execution_count": 167
  },
  {
   "cell_type": "code",
   "outputs": [
    {
     "data": {
      "text/plain": "            maker   genmodel genmodel_id  adv_year  adv_month   color  \\\nAdv_ID                                                                  \n58_6$$13  McLaren      675LT        58_6      2017          6  Silver   \n27_21$$1  Ferrari  Laferrari       27_21      2018          3     Red   \n27_21$$3  Ferrari  Laferrari       27_21      2018          4     Red   \n58_8$$5   McLaren         P1        58_8      2021          4  Yellow   \n27_15$$2  Ferrari       Enzo       27_15      2018          3     Red   \n...           ...        ...         ...       ...        ...     ...   \n8_29$$9       BMW         M2        8_29      2018          4   Black   \n8_29$$91      BMW         M2        8_29      2018          4     NaN   \n8_29$$93      BMW         M2        8_29      2017          6     NaN   \n8_29$$95      BMW         M2        8_29      2018          4   Black   \n8_29$$96      BMW         M2        8_29      2018          2    Blue   \n\n          reg_year body_type  run_miles  engine_size  ... engine_power  \\\nAdv_ID                                                ...                \n58_6$$13      2016     Coupe      200.0          3.8  ...        666.0   \n27_21$$1      2014     Coupe     1824.0          6.3  ...          NaN   \n27_21$$3      2014     Coupe     1502.0          NaN  ...          NaN   \n58_8$$5       2019     Coupe      600.0          3.8  ...          NaN   \n27_15$$2      2004     Coupe     7620.0          6.0  ...          NaN   \n...            ...       ...        ...          ...  ...          ...   \n8_29$$9       2017     Coupe     2800.0          3.0  ...          NaN   \n8_29$$91      2016     Coupe     4650.0          3.0  ...          NaN   \n8_29$$93      2017     Coupe      500.0          3.0  ...          NaN   \n8_29$$95      2018     Coupe      100.0          3.0  ...          NaN   \n8_29$$96      2016     Coupe     9321.0          3.0  ...          NaN   \n\n         annual_tax  wheelbase  height   width  length  average_mpg  \\\nAdv_ID                                                                \n58_6$$13        555     2670.0  1188.0  2095.0  4546.0          NaN   \n27_21$$1        NaN        NaN     NaN     NaN     NaN          NaN   \n27_21$$3        555        NaN     NaN     NaN     NaN          NaN   \n58_8$$5         NaN        NaN     NaN     NaN     NaN          NaN   \n27_15$$2        NaN        NaN     NaN     NaN     NaN          NaN   \n...             ...        ...     ...     ...     ...          ...   \n8_29$$9         NaN     2693.0  1410.0  1854.0  4468.0          NaN   \n8_29$$91        NaN     2693.0  1410.0  1854.0  4468.0          NaN   \n8_29$$93        NaN     2693.0  1410.0  1854.0  4468.0          NaN   \n8_29$$95        NaN     2693.0  1410.0  1854.0  4468.0          NaN   \n8_29$$96        NaN     2693.0  1410.0  1854.0  4468.0          NaN   \n\n          top_speed  seat_num door_num  \nAdv_ID                                  \n58_6$$13    205 mph       2.0      2.0  \n27_21$$1        NaN       2.0      NaN  \n27_21$$3        NaN       2.0      NaN  \n58_8$$5         NaN       2.0      2.0  \n27_15$$2        NaN       2.0      NaN  \n...             ...       ...      ...  \n8_29$$9         NaN       4.0      2.0  \n8_29$$91        NaN       4.0      2.0  \n8_29$$93        NaN       4.0      2.0  \n8_29$$95        NaN       4.0      2.0  \n8_29$$96        NaN       4.0      2.0  \n\n[267356 rows x 23 columns]",
      "text/html": "<div>\n<style scoped>\n    .dataframe tbody tr th:only-of-type {\n        vertical-align: middle;\n    }\n\n    .dataframe tbody tr th {\n        vertical-align: top;\n    }\n\n    .dataframe thead th {\n        text-align: right;\n    }\n</style>\n<table border=\"1\" class=\"dataframe\">\n  <thead>\n    <tr style=\"text-align: right;\">\n      <th></th>\n      <th>maker</th>\n      <th>genmodel</th>\n      <th>genmodel_id</th>\n      <th>adv_year</th>\n      <th>adv_month</th>\n      <th>color</th>\n      <th>reg_year</th>\n      <th>body_type</th>\n      <th>run_miles</th>\n      <th>engine_size</th>\n      <th>...</th>\n      <th>engine_power</th>\n      <th>annual_tax</th>\n      <th>wheelbase</th>\n      <th>height</th>\n      <th>width</th>\n      <th>length</th>\n      <th>average_mpg</th>\n      <th>top_speed</th>\n      <th>seat_num</th>\n      <th>door_num</th>\n    </tr>\n    <tr>\n      <th>Adv_ID</th>\n      <th></th>\n      <th></th>\n      <th></th>\n      <th></th>\n      <th></th>\n      <th></th>\n      <th></th>\n      <th></th>\n      <th></th>\n      <th></th>\n      <th></th>\n      <th></th>\n      <th></th>\n      <th></th>\n      <th></th>\n      <th></th>\n      <th></th>\n      <th></th>\n      <th></th>\n      <th></th>\n      <th></th>\n    </tr>\n  </thead>\n  <tbody>\n    <tr>\n      <th>58_6$$13</th>\n      <td>McLaren</td>\n      <td>675LT</td>\n      <td>58_6</td>\n      <td>2017</td>\n      <td>6</td>\n      <td>Silver</td>\n      <td>2016</td>\n      <td>Coupe</td>\n      <td>200.0</td>\n      <td>3.8</td>\n      <td>...</td>\n      <td>666.0</td>\n      <td>555</td>\n      <td>2670.0</td>\n      <td>1188.0</td>\n      <td>2095.0</td>\n      <td>4546.0</td>\n      <td>NaN</td>\n      <td>205 mph</td>\n      <td>2.0</td>\n      <td>2.0</td>\n    </tr>\n    <tr>\n      <th>27_21$$1</th>\n      <td>Ferrari</td>\n      <td>Laferrari</td>\n      <td>27_21</td>\n      <td>2018</td>\n      <td>3</td>\n      <td>Red</td>\n      <td>2014</td>\n      <td>Coupe</td>\n      <td>1824.0</td>\n      <td>6.3</td>\n      <td>...</td>\n      <td>NaN</td>\n      <td>NaN</td>\n      <td>NaN</td>\n      <td>NaN</td>\n      <td>NaN</td>\n      <td>NaN</td>\n      <td>NaN</td>\n      <td>NaN</td>\n      <td>2.0</td>\n      <td>NaN</td>\n    </tr>\n    <tr>\n      <th>27_21$$3</th>\n      <td>Ferrari</td>\n      <td>Laferrari</td>\n      <td>27_21</td>\n      <td>2018</td>\n      <td>4</td>\n      <td>Red</td>\n      <td>2014</td>\n      <td>Coupe</td>\n      <td>1502.0</td>\n      <td>NaN</td>\n      <td>...</td>\n      <td>NaN</td>\n      <td>555</td>\n      <td>NaN</td>\n      <td>NaN</td>\n      <td>NaN</td>\n      <td>NaN</td>\n      <td>NaN</td>\n      <td>NaN</td>\n      <td>2.0</td>\n      <td>NaN</td>\n    </tr>\n    <tr>\n      <th>58_8$$5</th>\n      <td>McLaren</td>\n      <td>P1</td>\n      <td>58_8</td>\n      <td>2021</td>\n      <td>4</td>\n      <td>Yellow</td>\n      <td>2019</td>\n      <td>Coupe</td>\n      <td>600.0</td>\n      <td>3.8</td>\n      <td>...</td>\n      <td>NaN</td>\n      <td>NaN</td>\n      <td>NaN</td>\n      <td>NaN</td>\n      <td>NaN</td>\n      <td>NaN</td>\n      <td>NaN</td>\n      <td>NaN</td>\n      <td>2.0</td>\n      <td>2.0</td>\n    </tr>\n    <tr>\n      <th>27_15$$2</th>\n      <td>Ferrari</td>\n      <td>Enzo</td>\n      <td>27_15</td>\n      <td>2018</td>\n      <td>3</td>\n      <td>Red</td>\n      <td>2004</td>\n      <td>Coupe</td>\n      <td>7620.0</td>\n      <td>6.0</td>\n      <td>...</td>\n      <td>NaN</td>\n      <td>NaN</td>\n      <td>NaN</td>\n      <td>NaN</td>\n      <td>NaN</td>\n      <td>NaN</td>\n      <td>NaN</td>\n      <td>NaN</td>\n      <td>2.0</td>\n      <td>NaN</td>\n    </tr>\n    <tr>\n      <th>...</th>\n      <td>...</td>\n      <td>...</td>\n      <td>...</td>\n      <td>...</td>\n      <td>...</td>\n      <td>...</td>\n      <td>...</td>\n      <td>...</td>\n      <td>...</td>\n      <td>...</td>\n      <td>...</td>\n      <td>...</td>\n      <td>...</td>\n      <td>...</td>\n      <td>...</td>\n      <td>...</td>\n      <td>...</td>\n      <td>...</td>\n      <td>...</td>\n      <td>...</td>\n      <td>...</td>\n    </tr>\n    <tr>\n      <th>8_29$$9</th>\n      <td>BMW</td>\n      <td>M2</td>\n      <td>8_29</td>\n      <td>2018</td>\n      <td>4</td>\n      <td>Black</td>\n      <td>2017</td>\n      <td>Coupe</td>\n      <td>2800.0</td>\n      <td>3.0</td>\n      <td>...</td>\n      <td>NaN</td>\n      <td>NaN</td>\n      <td>2693.0</td>\n      <td>1410.0</td>\n      <td>1854.0</td>\n      <td>4468.0</td>\n      <td>NaN</td>\n      <td>NaN</td>\n      <td>4.0</td>\n      <td>2.0</td>\n    </tr>\n    <tr>\n      <th>8_29$$91</th>\n      <td>BMW</td>\n      <td>M2</td>\n      <td>8_29</td>\n      <td>2018</td>\n      <td>4</td>\n      <td>NaN</td>\n      <td>2016</td>\n      <td>Coupe</td>\n      <td>4650.0</td>\n      <td>3.0</td>\n      <td>...</td>\n      <td>NaN</td>\n      <td>NaN</td>\n      <td>2693.0</td>\n      <td>1410.0</td>\n      <td>1854.0</td>\n      <td>4468.0</td>\n      <td>NaN</td>\n      <td>NaN</td>\n      <td>4.0</td>\n      <td>2.0</td>\n    </tr>\n    <tr>\n      <th>8_29$$93</th>\n      <td>BMW</td>\n      <td>M2</td>\n      <td>8_29</td>\n      <td>2017</td>\n      <td>6</td>\n      <td>NaN</td>\n      <td>2017</td>\n      <td>Coupe</td>\n      <td>500.0</td>\n      <td>3.0</td>\n      <td>...</td>\n      <td>NaN</td>\n      <td>NaN</td>\n      <td>2693.0</td>\n      <td>1410.0</td>\n      <td>1854.0</td>\n      <td>4468.0</td>\n      <td>NaN</td>\n      <td>NaN</td>\n      <td>4.0</td>\n      <td>2.0</td>\n    </tr>\n    <tr>\n      <th>8_29$$95</th>\n      <td>BMW</td>\n      <td>M2</td>\n      <td>8_29</td>\n      <td>2018</td>\n      <td>4</td>\n      <td>Black</td>\n      <td>2018</td>\n      <td>Coupe</td>\n      <td>100.0</td>\n      <td>3.0</td>\n      <td>...</td>\n      <td>NaN</td>\n      <td>NaN</td>\n      <td>2693.0</td>\n      <td>1410.0</td>\n      <td>1854.0</td>\n      <td>4468.0</td>\n      <td>NaN</td>\n      <td>NaN</td>\n      <td>4.0</td>\n      <td>2.0</td>\n    </tr>\n    <tr>\n      <th>8_29$$96</th>\n      <td>BMW</td>\n      <td>M2</td>\n      <td>8_29</td>\n      <td>2018</td>\n      <td>2</td>\n      <td>Blue</td>\n      <td>2016</td>\n      <td>Coupe</td>\n      <td>9321.0</td>\n      <td>3.0</td>\n      <td>...</td>\n      <td>NaN</td>\n      <td>NaN</td>\n      <td>2693.0</td>\n      <td>1410.0</td>\n      <td>1854.0</td>\n      <td>4468.0</td>\n      <td>NaN</td>\n      <td>NaN</td>\n      <td>4.0</td>\n      <td>2.0</td>\n    </tr>\n  </tbody>\n</table>\n<p>267356 rows × 23 columns</p>\n</div>"
     },
     "execution_count": 168,
     "metadata": {},
     "output_type": "execute_result"
    }
   ],
   "source": [
    "cars.sort_values(by='price', ascending=False)"
   ],
   "metadata": {
    "collapsed": false,
    "ExecuteTime": {
     "end_time": "2024-02-07T12:03:52.712248Z",
     "start_time": "2024-02-07T12:03:52.454534Z"
    }
   },
   "id": "ec658ec2df685a3a",
   "execution_count": 168
  },
  {
   "cell_type": "code",
   "outputs": [
    {
     "data": {
      "text/plain": "          maker  genmodel genmodel_id  adv_year  adv_month   color  reg_year  \\\nAdv_ID                                                                         \n8_11$$1     BMW  6 Series        8_11      2018          2   Black      2009   \n8_11$$10    BMW  6 Series        8_11      2017         11    Blue      2012   \n8_11$$100   BMW  6 Series        8_11      2018          4    Grey      2005   \n8_11$$101   BMW  6 Series        8_11      2018          2   Black      2013   \n8_11$$102   BMW  6 Series        8_11      2018          3  Silver      2013   \n...         ...       ...         ...       ...        ...     ...       ...   \n8_29$$9     BMW        M2        8_29      2018          4   Black      2017   \n8_29$$91    BMW        M2        8_29      2018          4     NaN      2016   \n8_29$$93    BMW        M2        8_29      2017          6     NaN      2017   \n8_29$$95    BMW        M2        8_29      2018          4   Black      2018   \n8_29$$96    BMW        M2        8_29      2018          2    Blue      2016   \n\n             body_type  run_miles  engine_size  ... engine_power annual_tax  \\\nAdv_ID                                          ...                           \n8_11$$1    Convertible    39000.0          4.8  ...          NaN        NaN   \n8_11$$10         Coupe    86000.0          3.0  ...          NaN        NaN   \n8_11$$100        Coupe    56000.0          4.4  ...          NaN        NaN   \n8_11$$101        Coupe    49000.0          3.0  ...          NaN        NaN   \n8_11$$102        Coupe    76581.0          3.0  ...          NaN        NaN   \n...                ...        ...          ...  ...          ...        ...   \n8_29$$9          Coupe     2800.0          3.0  ...          NaN        NaN   \n8_29$$91         Coupe     4650.0          3.0  ...          NaN        NaN   \n8_29$$93         Coupe      500.0          3.0  ...          NaN        NaN   \n8_29$$95         Coupe      100.0          3.0  ...          NaN        NaN   \n8_29$$96         Coupe     9321.0          3.0  ...          NaN        NaN   \n\n           wheelbase  height   width  length  average_mpg  top_speed  \\\nAdv_ID                                                                 \n8_11$$1       2780.0  1373.0  1855.0  4820.0          NaN        NaN   \n8_11$$10      2855.0  1369.0  2090.0  4894.0          NaN        NaN   \n8_11$$100     2780.0  1373.0  1855.0  4820.0          NaN        NaN   \n8_11$$101     2855.0  1369.0  2090.0  4894.0          NaN        NaN   \n8_11$$102     2855.0  1369.0  2090.0  4894.0          NaN        NaN   \n...              ...     ...     ...     ...          ...        ...   \n8_29$$9       2693.0  1410.0  1854.0  4468.0          NaN        NaN   \n8_29$$91      2693.0  1410.0  1854.0  4468.0          NaN        NaN   \n8_29$$93      2693.0  1410.0  1854.0  4468.0          NaN        NaN   \n8_29$$95      2693.0  1410.0  1854.0  4468.0          NaN        NaN   \n8_29$$96      2693.0  1410.0  1854.0  4468.0          NaN        NaN   \n\n           seat_num door_num  \nAdv_ID                        \n8_11$$1         4.0      2.0  \n8_11$$10        4.0      2.0  \n8_11$$100       5.0      2.0  \n8_11$$101       5.0      2.0  \n8_11$$102       4.0      2.0  \n...             ...      ...  \n8_29$$9         4.0      2.0  \n8_29$$91        4.0      2.0  \n8_29$$93        4.0      2.0  \n8_29$$95        4.0      2.0  \n8_29$$96        4.0      2.0  \n\n[1120 rows x 23 columns]",
      "text/html": "<div>\n<style scoped>\n    .dataframe tbody tr th:only-of-type {\n        vertical-align: middle;\n    }\n\n    .dataframe tbody tr th {\n        vertical-align: top;\n    }\n\n    .dataframe thead th {\n        text-align: right;\n    }\n</style>\n<table border=\"1\" class=\"dataframe\">\n  <thead>\n    <tr style=\"text-align: right;\">\n      <th></th>\n      <th>maker</th>\n      <th>genmodel</th>\n      <th>genmodel_id</th>\n      <th>adv_year</th>\n      <th>adv_month</th>\n      <th>color</th>\n      <th>reg_year</th>\n      <th>body_type</th>\n      <th>run_miles</th>\n      <th>engine_size</th>\n      <th>...</th>\n      <th>engine_power</th>\n      <th>annual_tax</th>\n      <th>wheelbase</th>\n      <th>height</th>\n      <th>width</th>\n      <th>length</th>\n      <th>average_mpg</th>\n      <th>top_speed</th>\n      <th>seat_num</th>\n      <th>door_num</th>\n    </tr>\n    <tr>\n      <th>Adv_ID</th>\n      <th></th>\n      <th></th>\n      <th></th>\n      <th></th>\n      <th></th>\n      <th></th>\n      <th></th>\n      <th></th>\n      <th></th>\n      <th></th>\n      <th></th>\n      <th></th>\n      <th></th>\n      <th></th>\n      <th></th>\n      <th></th>\n      <th></th>\n      <th></th>\n      <th></th>\n      <th></th>\n      <th></th>\n    </tr>\n  </thead>\n  <tbody>\n    <tr>\n      <th>8_11$$1</th>\n      <td>BMW</td>\n      <td>6 Series</td>\n      <td>8_11</td>\n      <td>2018</td>\n      <td>2</td>\n      <td>Black</td>\n      <td>2009</td>\n      <td>Convertible</td>\n      <td>39000.0</td>\n      <td>4.8</td>\n      <td>...</td>\n      <td>NaN</td>\n      <td>NaN</td>\n      <td>2780.0</td>\n      <td>1373.0</td>\n      <td>1855.0</td>\n      <td>4820.0</td>\n      <td>NaN</td>\n      <td>NaN</td>\n      <td>4.0</td>\n      <td>2.0</td>\n    </tr>\n    <tr>\n      <th>8_11$$10</th>\n      <td>BMW</td>\n      <td>6 Series</td>\n      <td>8_11</td>\n      <td>2017</td>\n      <td>11</td>\n      <td>Blue</td>\n      <td>2012</td>\n      <td>Coupe</td>\n      <td>86000.0</td>\n      <td>3.0</td>\n      <td>...</td>\n      <td>NaN</td>\n      <td>NaN</td>\n      <td>2855.0</td>\n      <td>1369.0</td>\n      <td>2090.0</td>\n      <td>4894.0</td>\n      <td>NaN</td>\n      <td>NaN</td>\n      <td>4.0</td>\n      <td>2.0</td>\n    </tr>\n    <tr>\n      <th>8_11$$100</th>\n      <td>BMW</td>\n      <td>6 Series</td>\n      <td>8_11</td>\n      <td>2018</td>\n      <td>4</td>\n      <td>Grey</td>\n      <td>2005</td>\n      <td>Coupe</td>\n      <td>56000.0</td>\n      <td>4.4</td>\n      <td>...</td>\n      <td>NaN</td>\n      <td>NaN</td>\n      <td>2780.0</td>\n      <td>1373.0</td>\n      <td>1855.0</td>\n      <td>4820.0</td>\n      <td>NaN</td>\n      <td>NaN</td>\n      <td>5.0</td>\n      <td>2.0</td>\n    </tr>\n    <tr>\n      <th>8_11$$101</th>\n      <td>BMW</td>\n      <td>6 Series</td>\n      <td>8_11</td>\n      <td>2018</td>\n      <td>2</td>\n      <td>Black</td>\n      <td>2013</td>\n      <td>Coupe</td>\n      <td>49000.0</td>\n      <td>3.0</td>\n      <td>...</td>\n      <td>NaN</td>\n      <td>NaN</td>\n      <td>2855.0</td>\n      <td>1369.0</td>\n      <td>2090.0</td>\n      <td>4894.0</td>\n      <td>NaN</td>\n      <td>NaN</td>\n      <td>5.0</td>\n      <td>2.0</td>\n    </tr>\n    <tr>\n      <th>8_11$$102</th>\n      <td>BMW</td>\n      <td>6 Series</td>\n      <td>8_11</td>\n      <td>2018</td>\n      <td>3</td>\n      <td>Silver</td>\n      <td>2013</td>\n      <td>Coupe</td>\n      <td>76581.0</td>\n      <td>3.0</td>\n      <td>...</td>\n      <td>NaN</td>\n      <td>NaN</td>\n      <td>2855.0</td>\n      <td>1369.0</td>\n      <td>2090.0</td>\n      <td>4894.0</td>\n      <td>NaN</td>\n      <td>NaN</td>\n      <td>4.0</td>\n      <td>2.0</td>\n    </tr>\n    <tr>\n      <th>...</th>\n      <td>...</td>\n      <td>...</td>\n      <td>...</td>\n      <td>...</td>\n      <td>...</td>\n      <td>...</td>\n      <td>...</td>\n      <td>...</td>\n      <td>...</td>\n      <td>...</td>\n      <td>...</td>\n      <td>...</td>\n      <td>...</td>\n      <td>...</td>\n      <td>...</td>\n      <td>...</td>\n      <td>...</td>\n      <td>...</td>\n      <td>...</td>\n      <td>...</td>\n      <td>...</td>\n    </tr>\n    <tr>\n      <th>8_29$$9</th>\n      <td>BMW</td>\n      <td>M2</td>\n      <td>8_29</td>\n      <td>2018</td>\n      <td>4</td>\n      <td>Black</td>\n      <td>2017</td>\n      <td>Coupe</td>\n      <td>2800.0</td>\n      <td>3.0</td>\n      <td>...</td>\n      <td>NaN</td>\n      <td>NaN</td>\n      <td>2693.0</td>\n      <td>1410.0</td>\n      <td>1854.0</td>\n      <td>4468.0</td>\n      <td>NaN</td>\n      <td>NaN</td>\n      <td>4.0</td>\n      <td>2.0</td>\n    </tr>\n    <tr>\n      <th>8_29$$91</th>\n      <td>BMW</td>\n      <td>M2</td>\n      <td>8_29</td>\n      <td>2018</td>\n      <td>4</td>\n      <td>NaN</td>\n      <td>2016</td>\n      <td>Coupe</td>\n      <td>4650.0</td>\n      <td>3.0</td>\n      <td>...</td>\n      <td>NaN</td>\n      <td>NaN</td>\n      <td>2693.0</td>\n      <td>1410.0</td>\n      <td>1854.0</td>\n      <td>4468.0</td>\n      <td>NaN</td>\n      <td>NaN</td>\n      <td>4.0</td>\n      <td>2.0</td>\n    </tr>\n    <tr>\n      <th>8_29$$93</th>\n      <td>BMW</td>\n      <td>M2</td>\n      <td>8_29</td>\n      <td>2017</td>\n      <td>6</td>\n      <td>NaN</td>\n      <td>2017</td>\n      <td>Coupe</td>\n      <td>500.0</td>\n      <td>3.0</td>\n      <td>...</td>\n      <td>NaN</td>\n      <td>NaN</td>\n      <td>2693.0</td>\n      <td>1410.0</td>\n      <td>1854.0</td>\n      <td>4468.0</td>\n      <td>NaN</td>\n      <td>NaN</td>\n      <td>4.0</td>\n      <td>2.0</td>\n    </tr>\n    <tr>\n      <th>8_29$$95</th>\n      <td>BMW</td>\n      <td>M2</td>\n      <td>8_29</td>\n      <td>2018</td>\n      <td>4</td>\n      <td>Black</td>\n      <td>2018</td>\n      <td>Coupe</td>\n      <td>100.0</td>\n      <td>3.0</td>\n      <td>...</td>\n      <td>NaN</td>\n      <td>NaN</td>\n      <td>2693.0</td>\n      <td>1410.0</td>\n      <td>1854.0</td>\n      <td>4468.0</td>\n      <td>NaN</td>\n      <td>NaN</td>\n      <td>4.0</td>\n      <td>2.0</td>\n    </tr>\n    <tr>\n      <th>8_29$$96</th>\n      <td>BMW</td>\n      <td>M2</td>\n      <td>8_29</td>\n      <td>2018</td>\n      <td>2</td>\n      <td>Blue</td>\n      <td>2016</td>\n      <td>Coupe</td>\n      <td>9321.0</td>\n      <td>3.0</td>\n      <td>...</td>\n      <td>NaN</td>\n      <td>NaN</td>\n      <td>2693.0</td>\n      <td>1410.0</td>\n      <td>1854.0</td>\n      <td>4468.0</td>\n      <td>NaN</td>\n      <td>NaN</td>\n      <td>4.0</td>\n      <td>2.0</td>\n    </tr>\n  </tbody>\n</table>\n<p>1120 rows × 23 columns</p>\n</div>"
     },
     "execution_count": 169,
     "metadata": {},
     "output_type": "execute_result"
    }
   ],
   "source": [
    "cars[cars['price'].isna()]"
   ],
   "metadata": {
    "collapsed": false,
    "ExecuteTime": {
     "end_time": "2024-02-07T12:03:52.740863Z",
     "start_time": "2024-02-07T12:03:52.645112Z"
    }
   },
   "id": "e07d4ea1fc329d59",
   "execution_count": 169
  },
  {
   "cell_type": "code",
   "outputs": [],
   "source": [
    "cars = cars.dropna(subset=['price'])"
   ],
   "metadata": {
    "collapsed": false,
    "ExecuteTime": {
     "end_time": "2024-02-07T12:03:52.862294Z",
     "start_time": "2024-02-07T12:03:52.740058Z"
    }
   },
   "id": "41a4e5ae640c091d",
   "execution_count": 170
  },
  {
   "cell_type": "markdown",
   "source": [
    "### engine_power column"
   ],
   "metadata": {
    "collapsed": false
   },
   "id": "74b044d22c215745"
  },
  {
   "cell_type": "code",
   "outputs": [
    {
     "name": "stdout",
     "output_type": "stream",
     "text": [
      "<class 'pandas.core.series.Series'>\n",
      "Index: 266236 entries, 10_1$$1 to 99_1$$3\n",
      "Series name: engine_power\n",
      "Non-Null Count   Dtype  \n",
      "--------------   -----  \n",
      "235665 non-null  float64\n",
      "dtypes: float64(1)\n",
      "memory usage: 4.1+ MB\n"
     ]
    }
   ],
   "source": [
    "cars['engine_power'].info()"
   ],
   "metadata": {
    "collapsed": false,
    "ExecuteTime": {
     "end_time": "2024-02-07T12:03:52.889826Z",
     "start_time": "2024-02-07T12:03:52.810533Z"
    }
   },
   "id": "70c7efe2c0e178eb",
   "execution_count": 171
  },
  {
   "cell_type": "code",
   "outputs": [
    {
     "data": {
      "text/plain": "count    235665.000000\nmean        150.684257\nstd          84.534296\nmin          17.000000\n25%          99.000000\n50%         128.000000\n75%         175.000000\nmax         740.000000\nName: engine_power, dtype: float64"
     },
     "execution_count": 172,
     "metadata": {},
     "output_type": "execute_result"
    }
   ],
   "source": [
    "cars['engine_power'].describe()"
   ],
   "metadata": {
    "collapsed": false,
    "ExecuteTime": {
     "end_time": "2024-02-07T12:03:53.080632Z",
     "start_time": "2024-02-07T12:03:52.889526Z"
    }
   },
   "id": "7b6ad88e871a5253",
   "execution_count": 172
  },
  {
   "cell_type": "code",
   "outputs": [
    {
     "data": {
      "text/plain": "              maker genmodel genmodel_id  adv_year  adv_month   color  \\\nAdv_ID                                                                  \n10_1$$1     Bentley   Arnage        10_1      2018          4  Silver   \n10_1$$10    Bentley   Arnage        10_1      2017         11  Silver   \n10_1$$11    Bentley   Arnage        10_1      2018          3   Green   \n10_1$$13    Bentley   Arnage        10_1      2018          4  Silver   \n10_1$$15    Bentley   Arnage        10_1      2018          4   Black   \n...             ...      ...         ...       ...        ...     ...   \n97_1$$1   Westfield    Sport        97_1      2018          5  Yellow   \n97_1$$2   Westfield    Sport        97_1      2018          5  Yellow   \n99_1$$1       Zenos      E10        99_1      2018          3     Red   \n99_1$$2       Zenos      E10        99_1      2018          3   Green   \n99_1$$3       Zenos      E10        99_1      2018          5    Grey   \n\n          reg_year    body_type  run_miles  engine_size  ... engine_power  \\\nAdv_ID                                                   ...                \n10_1$$1       2000       Saloon    60000.0          6.8  ...          NaN   \n10_1$$10      2003       Saloon    38000.0          6.8  ...          NaN   \n10_1$$11      2003       Saloon    69491.0          6.8  ...          NaN   \n10_1$$13      2000       Saloon    53444.0          6.8  ...          NaN   \n10_1$$15      2000       Saloon    61500.0          6.7  ...          NaN   \n...            ...          ...        ...          ...  ...          ...   \n97_1$$1       2006  Convertible     1800.0          2.2  ...          NaN   \n97_1$$2       2006  Convertible     2009.0          NaN  ...          NaN   \n99_1$$1       2016  Convertible        6.0          2.0  ...          NaN   \n99_1$$2       2016  Convertible     1538.0          2.0  ...          NaN   \n99_1$$3       2016  Convertible      500.0          2.3  ...          NaN   \n\n         annual_tax  wheelbase  height   width  length  average_mpg  \\\nAdv_ID                                                                \n10_1$$1         NaN     3116.0  1515.0  2125.0  5390.0          NaN   \n10_1$$10        NaN     3116.0  1515.0  2125.0  5390.0          NaN   \n10_1$$11        NaN     3116.0  1515.0  2125.0  5390.0          NaN   \n10_1$$13        NaN     3116.0  1515.0  2125.0  5390.0          NaN   \n10_1$$15        NaN        NaN     NaN     NaN     NaN          NaN   \n...             ...        ...     ...     ...     ...          ...   \n97_1$$1         NaN        NaN     NaN     NaN     NaN          NaN   \n97_1$$2         NaN        NaN     NaN     NaN     NaN          NaN   \n99_1$$1         NaN        NaN     NaN     NaN     NaN          NaN   \n99_1$$2         NaN        NaN     NaN     NaN     NaN          NaN   \n99_1$$3         NaN        NaN     NaN     NaN     NaN          NaN   \n\n          top_speed  seat_num door_num  \nAdv_ID                                  \n10_1$$1         NaN       5.0      4.0  \n10_1$$10        NaN       5.0      4.0  \n10_1$$11        NaN       5.0      4.0  \n10_1$$13        NaN       5.0      4.0  \n10_1$$15        NaN       NaN      NaN  \n...             ...       ...      ...  \n97_1$$1         NaN       2.0      NaN  \n97_1$$2         NaN       NaN      NaN  \n99_1$$1         NaN       2.0      NaN  \n99_1$$2         NaN       2.0      NaN  \n99_1$$3         NaN       2.0      NaN  \n\n[30571 rows x 23 columns]",
      "text/html": "<div>\n<style scoped>\n    .dataframe tbody tr th:only-of-type {\n        vertical-align: middle;\n    }\n\n    .dataframe tbody tr th {\n        vertical-align: top;\n    }\n\n    .dataframe thead th {\n        text-align: right;\n    }\n</style>\n<table border=\"1\" class=\"dataframe\">\n  <thead>\n    <tr style=\"text-align: right;\">\n      <th></th>\n      <th>maker</th>\n      <th>genmodel</th>\n      <th>genmodel_id</th>\n      <th>adv_year</th>\n      <th>adv_month</th>\n      <th>color</th>\n      <th>reg_year</th>\n      <th>body_type</th>\n      <th>run_miles</th>\n      <th>engine_size</th>\n      <th>...</th>\n      <th>engine_power</th>\n      <th>annual_tax</th>\n      <th>wheelbase</th>\n      <th>height</th>\n      <th>width</th>\n      <th>length</th>\n      <th>average_mpg</th>\n      <th>top_speed</th>\n      <th>seat_num</th>\n      <th>door_num</th>\n    </tr>\n    <tr>\n      <th>Adv_ID</th>\n      <th></th>\n      <th></th>\n      <th></th>\n      <th></th>\n      <th></th>\n      <th></th>\n      <th></th>\n      <th></th>\n      <th></th>\n      <th></th>\n      <th></th>\n      <th></th>\n      <th></th>\n      <th></th>\n      <th></th>\n      <th></th>\n      <th></th>\n      <th></th>\n      <th></th>\n      <th></th>\n      <th></th>\n    </tr>\n  </thead>\n  <tbody>\n    <tr>\n      <th>10_1$$1</th>\n      <td>Bentley</td>\n      <td>Arnage</td>\n      <td>10_1</td>\n      <td>2018</td>\n      <td>4</td>\n      <td>Silver</td>\n      <td>2000</td>\n      <td>Saloon</td>\n      <td>60000.0</td>\n      <td>6.8</td>\n      <td>...</td>\n      <td>NaN</td>\n      <td>NaN</td>\n      <td>3116.0</td>\n      <td>1515.0</td>\n      <td>2125.0</td>\n      <td>5390.0</td>\n      <td>NaN</td>\n      <td>NaN</td>\n      <td>5.0</td>\n      <td>4.0</td>\n    </tr>\n    <tr>\n      <th>10_1$$10</th>\n      <td>Bentley</td>\n      <td>Arnage</td>\n      <td>10_1</td>\n      <td>2017</td>\n      <td>11</td>\n      <td>Silver</td>\n      <td>2003</td>\n      <td>Saloon</td>\n      <td>38000.0</td>\n      <td>6.8</td>\n      <td>...</td>\n      <td>NaN</td>\n      <td>NaN</td>\n      <td>3116.0</td>\n      <td>1515.0</td>\n      <td>2125.0</td>\n      <td>5390.0</td>\n      <td>NaN</td>\n      <td>NaN</td>\n      <td>5.0</td>\n      <td>4.0</td>\n    </tr>\n    <tr>\n      <th>10_1$$11</th>\n      <td>Bentley</td>\n      <td>Arnage</td>\n      <td>10_1</td>\n      <td>2018</td>\n      <td>3</td>\n      <td>Green</td>\n      <td>2003</td>\n      <td>Saloon</td>\n      <td>69491.0</td>\n      <td>6.8</td>\n      <td>...</td>\n      <td>NaN</td>\n      <td>NaN</td>\n      <td>3116.0</td>\n      <td>1515.0</td>\n      <td>2125.0</td>\n      <td>5390.0</td>\n      <td>NaN</td>\n      <td>NaN</td>\n      <td>5.0</td>\n      <td>4.0</td>\n    </tr>\n    <tr>\n      <th>10_1$$13</th>\n      <td>Bentley</td>\n      <td>Arnage</td>\n      <td>10_1</td>\n      <td>2018</td>\n      <td>4</td>\n      <td>Silver</td>\n      <td>2000</td>\n      <td>Saloon</td>\n      <td>53444.0</td>\n      <td>6.8</td>\n      <td>...</td>\n      <td>NaN</td>\n      <td>NaN</td>\n      <td>3116.0</td>\n      <td>1515.0</td>\n      <td>2125.0</td>\n      <td>5390.0</td>\n      <td>NaN</td>\n      <td>NaN</td>\n      <td>5.0</td>\n      <td>4.0</td>\n    </tr>\n    <tr>\n      <th>10_1$$15</th>\n      <td>Bentley</td>\n      <td>Arnage</td>\n      <td>10_1</td>\n      <td>2018</td>\n      <td>4</td>\n      <td>Black</td>\n      <td>2000</td>\n      <td>Saloon</td>\n      <td>61500.0</td>\n      <td>6.7</td>\n      <td>...</td>\n      <td>NaN</td>\n      <td>NaN</td>\n      <td>NaN</td>\n      <td>NaN</td>\n      <td>NaN</td>\n      <td>NaN</td>\n      <td>NaN</td>\n      <td>NaN</td>\n      <td>NaN</td>\n      <td>NaN</td>\n    </tr>\n    <tr>\n      <th>...</th>\n      <td>...</td>\n      <td>...</td>\n      <td>...</td>\n      <td>...</td>\n      <td>...</td>\n      <td>...</td>\n      <td>...</td>\n      <td>...</td>\n      <td>...</td>\n      <td>...</td>\n      <td>...</td>\n      <td>...</td>\n      <td>...</td>\n      <td>...</td>\n      <td>...</td>\n      <td>...</td>\n      <td>...</td>\n      <td>...</td>\n      <td>...</td>\n      <td>...</td>\n      <td>...</td>\n    </tr>\n    <tr>\n      <th>97_1$$1</th>\n      <td>Westfield</td>\n      <td>Sport</td>\n      <td>97_1</td>\n      <td>2018</td>\n      <td>5</td>\n      <td>Yellow</td>\n      <td>2006</td>\n      <td>Convertible</td>\n      <td>1800.0</td>\n      <td>2.2</td>\n      <td>...</td>\n      <td>NaN</td>\n      <td>NaN</td>\n      <td>NaN</td>\n      <td>NaN</td>\n      <td>NaN</td>\n      <td>NaN</td>\n      <td>NaN</td>\n      <td>NaN</td>\n      <td>2.0</td>\n      <td>NaN</td>\n    </tr>\n    <tr>\n      <th>97_1$$2</th>\n      <td>Westfield</td>\n      <td>Sport</td>\n      <td>97_1</td>\n      <td>2018</td>\n      <td>5</td>\n      <td>Yellow</td>\n      <td>2006</td>\n      <td>Convertible</td>\n      <td>2009.0</td>\n      <td>NaN</td>\n      <td>...</td>\n      <td>NaN</td>\n      <td>NaN</td>\n      <td>NaN</td>\n      <td>NaN</td>\n      <td>NaN</td>\n      <td>NaN</td>\n      <td>NaN</td>\n      <td>NaN</td>\n      <td>NaN</td>\n      <td>NaN</td>\n    </tr>\n    <tr>\n      <th>99_1$$1</th>\n      <td>Zenos</td>\n      <td>E10</td>\n      <td>99_1</td>\n      <td>2018</td>\n      <td>3</td>\n      <td>Red</td>\n      <td>2016</td>\n      <td>Convertible</td>\n      <td>6.0</td>\n      <td>2.0</td>\n      <td>...</td>\n      <td>NaN</td>\n      <td>NaN</td>\n      <td>NaN</td>\n      <td>NaN</td>\n      <td>NaN</td>\n      <td>NaN</td>\n      <td>NaN</td>\n      <td>NaN</td>\n      <td>2.0</td>\n      <td>NaN</td>\n    </tr>\n    <tr>\n      <th>99_1$$2</th>\n      <td>Zenos</td>\n      <td>E10</td>\n      <td>99_1</td>\n      <td>2018</td>\n      <td>3</td>\n      <td>Green</td>\n      <td>2016</td>\n      <td>Convertible</td>\n      <td>1538.0</td>\n      <td>2.0</td>\n      <td>...</td>\n      <td>NaN</td>\n      <td>NaN</td>\n      <td>NaN</td>\n      <td>NaN</td>\n      <td>NaN</td>\n      <td>NaN</td>\n      <td>NaN</td>\n      <td>NaN</td>\n      <td>2.0</td>\n      <td>NaN</td>\n    </tr>\n    <tr>\n      <th>99_1$$3</th>\n      <td>Zenos</td>\n      <td>E10</td>\n      <td>99_1</td>\n      <td>2018</td>\n      <td>5</td>\n      <td>Grey</td>\n      <td>2016</td>\n      <td>Convertible</td>\n      <td>500.0</td>\n      <td>2.3</td>\n      <td>...</td>\n      <td>NaN</td>\n      <td>NaN</td>\n      <td>NaN</td>\n      <td>NaN</td>\n      <td>NaN</td>\n      <td>NaN</td>\n      <td>NaN</td>\n      <td>NaN</td>\n      <td>2.0</td>\n      <td>NaN</td>\n    </tr>\n  </tbody>\n</table>\n<p>30571 rows × 23 columns</p>\n</div>"
     },
     "execution_count": 173,
     "metadata": {},
     "output_type": "execute_result"
    }
   ],
   "source": [
    "cars[cars['engine_power'].isna()]"
   ],
   "metadata": {
    "collapsed": false,
    "ExecuteTime": {
     "end_time": "2024-02-07T12:03:53.129619Z",
     "start_time": "2024-02-07T12:03:53.043782Z"
    }
   },
   "id": "5ee084969ab210d8",
   "execution_count": 173
  },
  {
   "cell_type": "markdown",
   "source": [
    "### annual_tax column"
   ],
   "metadata": {
    "collapsed": false
   },
   "id": "481e3901b67e7e3"
  },
  {
   "cell_type": "code",
   "outputs": [
    {
     "name": "stdout",
     "output_type": "stream",
     "text": [
      "<class 'pandas.core.series.Series'>\n",
      "Index: 266236 entries, 10_1$$1 to 99_1$$3\n",
      "Series name: annual_tax\n",
      "Non-Null Count   Dtype \n",
      "--------------   ----- \n",
      "220792 non-null  object\n",
      "dtypes: object(1)\n",
      "memory usage: 4.1+ MB\n"
     ]
    }
   ],
   "source": [
    "cars['annual_tax'].info()"
   ],
   "metadata": {
    "collapsed": false,
    "ExecuteTime": {
     "end_time": "2024-02-07T12:03:53.161085Z",
     "start_time": "2024-02-07T12:03:53.106306Z"
    }
   },
   "id": "71e5802d77e31f6f",
   "execution_count": 174
  },
  {
   "cell_type": "code",
   "outputs": [
    {
     "data": {
      "text/plain": "annual_tax\nNaN      45444\n 140*    31697\n 30      23856\n 140     23705\n 195     23148\n 120     18347\n 20      17738\n 155     16101\n 0       13902\n 315     12732\n 230      9171\n 290      8849\n 250      7805\n 555      5023\n 540      4534\n 130*     1446\n*          851\n 10        704\n 145       431\n 110       297\n 280       196\n 0*        167\n 240        30\n 185        28\n 305        13\n 530        11\n 220         7\n 130         2\n 545         1\nName: count, dtype: int64"
     },
     "execution_count": 175,
     "metadata": {},
     "output_type": "execute_result"
    }
   ],
   "source": [
    "cars['annual_tax'].value_counts(dropna=False)"
   ],
   "metadata": {
    "collapsed": false,
    "ExecuteTime": {
     "end_time": "2024-02-07T12:03:53.253773Z",
     "start_time": "2024-02-07T12:03:53.166476Z"
    }
   },
   "id": "4971058a179a71f3",
   "execution_count": 175
  },
  {
   "cell_type": "code",
   "outputs": [],
   "source": [
    "cars['annual_tax'] = cars['annual_tax'].replace('*', np.NaN)\n",
    "cars['annual_tax'] = cars['annual_tax'].str.replace('*', '')\n",
    "\n",
    "cars['annual_tax'] = cars['annual_tax'].astype('float')"
   ],
   "metadata": {
    "collapsed": false,
    "ExecuteTime": {
     "end_time": "2024-02-07T12:03:53.375856Z",
     "start_time": "2024-02-07T12:03:53.235170Z"
    }
   },
   "id": "96529a13768ae4e3",
   "execution_count": 176
  },
  {
   "cell_type": "code",
   "outputs": [
    {
     "data": {
      "text/plain": "annual_tax\n140.0    55402\nNaN      46295\n30.0     23856\n195.0    23148\n120.0    18347\n20.0     17738\n155.0    16101\n0.0      14069\n315.0    12732\n230.0     9171\n290.0     8849\n250.0     7805\n555.0     5023\n540.0     4534\n130.0     1448\n10.0       704\n145.0      431\n110.0      297\n280.0      196\n240.0       30\n185.0       28\n305.0       13\n530.0       11\n220.0        7\n545.0        1\nName: count, dtype: int64"
     },
     "execution_count": 177,
     "metadata": {},
     "output_type": "execute_result"
    }
   ],
   "source": [
    "cars['annual_tax'].value_counts(dropna=False)"
   ],
   "metadata": {
    "collapsed": false,
    "ExecuteTime": {
     "end_time": "2024-02-07T12:03:53.423596Z",
     "start_time": "2024-02-07T12:03:53.298552Z"
    }
   },
   "id": "bd46286f49169f31",
   "execution_count": 177
  },
  {
   "cell_type": "markdown",
   "source": [
    "### wheelbase column"
   ],
   "metadata": {
    "collapsed": false
   },
   "id": "da9615ebaad1bd04"
  },
  {
   "cell_type": "code",
   "outputs": [
    {
     "name": "stdout",
     "output_type": "stream",
     "text": [
      "<class 'pandas.core.series.Series'>\n",
      "Index: 266236 entries, 10_1$$1 to 99_1$$3\n",
      "Series name: wheelbase\n",
      "Non-Null Count   Dtype  \n",
      "--------------   -----  \n",
      "238387 non-null  float64\n",
      "dtypes: float64(1)\n",
      "memory usage: 4.1+ MB\n"
     ]
    }
   ],
   "source": [
    "cars['wheelbase'].info()"
   ],
   "metadata": {
    "collapsed": false,
    "ExecuteTime": {
     "end_time": "2024-02-07T12:03:53.478499Z",
     "start_time": "2024-02-07T12:03:53.415872Z"
    }
   },
   "id": "e87de0efcea192ac",
   "execution_count": 178
  },
  {
   "cell_type": "code",
   "outputs": [
    {
     "data": {
      "text/plain": "count    238387.000000\nmean       2563.037364\nstd         490.547524\nmin           0.000000\n25%        2511.000000\n50%        2638.000000\n75%        2751.000000\nmax        5246.000000\nName: wheelbase, dtype: float64"
     },
     "execution_count": 179,
     "metadata": {},
     "output_type": "execute_result"
    }
   ],
   "source": [
    "cars['wheelbase'].describe()"
   ],
   "metadata": {
    "collapsed": false,
    "ExecuteTime": {
     "end_time": "2024-02-07T12:03:53.514809Z",
     "start_time": "2024-02-07T12:03:53.478509Z"
    }
   },
   "id": "636174e240d5699",
   "execution_count": 179
  },
  {
   "cell_type": "code",
   "outputs": [
    {
     "data": {
      "text/plain": "wheelbase\n0.0       7406\n1420.0      28\n1445.0       1\n1505.0       6\n1541.0       1\n          ... \n3570.0      24\n3820.0       3\n3827.0       3\n4065.0      33\n5246.0       8\nName: count, Length: 427, dtype: int64"
     },
     "execution_count": 180,
     "metadata": {},
     "output_type": "execute_result"
    }
   ],
   "source": [
    "cars['wheelbase'].value_counts().sort_index()"
   ],
   "metadata": {
    "collapsed": false,
    "ExecuteTime": {
     "end_time": "2024-02-07T12:03:53.546049Z",
     "start_time": "2024-02-07T12:03:53.504374Z"
    }
   },
   "id": "3549e7ddf3dc2fef",
   "execution_count": 180
  },
  {
   "cell_type": "code",
   "outputs": [],
   "source": [
    "cars['wheelbase'] = cars['wheelbase'].replace(0, np.NaN)"
   ],
   "metadata": {
    "collapsed": false,
    "ExecuteTime": {
     "end_time": "2024-02-07T12:03:53.584613Z",
     "start_time": "2024-02-07T12:03:53.530556Z"
    }
   },
   "id": "981ad1dc875e0b62",
   "execution_count": 181
  },
  {
   "cell_type": "markdown",
   "source": [
    "### height column"
   ],
   "metadata": {
    "collapsed": false
   },
   "id": "31d4833d409869de"
  },
  {
   "cell_type": "code",
   "outputs": [
    {
     "name": "stdout",
     "output_type": "stream",
     "text": [
      "<class 'pandas.core.series.Series'>\n",
      "Index: 266236 entries, 10_1$$1 to 99_1$$3\n",
      "Series name: height\n",
      "Non-Null Count   Dtype  \n",
      "--------------   -----  \n",
      "238584 non-null  float64\n",
      "dtypes: float64(1)\n",
      "memory usage: 4.1+ MB\n"
     ]
    }
   ],
   "source": [
    "cars['height'].info()"
   ],
   "metadata": {
    "collapsed": false,
    "ExecuteTime": {
     "end_time": "2024-02-07T12:03:53.640305Z",
     "start_time": "2024-02-07T12:03:53.577422Z"
    }
   },
   "id": "222979c6ba8d890b",
   "execution_count": 182
  },
  {
   "cell_type": "code",
   "outputs": [
    {
     "data": {
      "text/plain": "count    238584.000000\nmean       1531.166009\nstd         164.202391\nmin           0.000000\n25%        1456.000000\n50%        1494.000000\n75%        1624.000000\nmax        2660.000000\nName: height, dtype: float64"
     },
     "execution_count": 183,
     "metadata": {},
     "output_type": "execute_result"
    }
   ],
   "source": [
    "cars['height'].describe()"
   ],
   "metadata": {
    "collapsed": false,
    "ExecuteTime": {
     "end_time": "2024-02-07T12:03:53.664402Z",
     "start_time": "2024-02-07T12:03:53.632993Z"
    }
   },
   "id": "4cb364e74401a471",
   "execution_count": 183
  },
  {
   "cell_type": "code",
   "outputs": [
    {
     "data": {
      "text/plain": "height\n0.0       941\n200.0      82\n669.0       2\n797.0       4\n803.0      10\n         ... \n2168.0     44\n2176.0      1\n2381.0      1\n2389.0      1\n2660.0     28\nName: count, Length: 579, dtype: int64"
     },
     "execution_count": 184,
     "metadata": {},
     "output_type": "execute_result"
    }
   ],
   "source": [
    "cars['height'].value_counts().sort_index()"
   ],
   "metadata": {
    "collapsed": false,
    "ExecuteTime": {
     "end_time": "2024-02-07T12:03:53.714400Z",
     "start_time": "2024-02-07T12:03:53.660779Z"
    }
   },
   "id": "a14479953140236f",
   "execution_count": 184
  },
  {
   "cell_type": "code",
   "outputs": [
    {
     "data": {
      "text/plain": "                 maker genmodel  height\nAdv_ID                                 \n29_30$$11         Ford   Ranger   803.0\n29_30$$129        Ford   Ranger   803.0\n29_30$$147        Ford   Ranger   805.0\n29_30$$15         Ford   Ranger   805.0\n29_30$$159        Ford   Ranger   805.0\n...                ...      ...     ...\n62_13$$921  Mitsubishi     L200   200.0\n62_13$$926  Mitsubishi     L200   200.0\n62_13$$934  Mitsubishi     L200   200.0\n62_13$$943  Mitsubishi     L200   200.0\n62_13$$954  Mitsubishi     L200   200.0\n\n[123 rows x 3 columns]",
      "text/html": "<div>\n<style scoped>\n    .dataframe tbody tr th:only-of-type {\n        vertical-align: middle;\n    }\n\n    .dataframe tbody tr th {\n        vertical-align: top;\n    }\n\n    .dataframe thead th {\n        text-align: right;\n    }\n</style>\n<table border=\"1\" class=\"dataframe\">\n  <thead>\n    <tr style=\"text-align: right;\">\n      <th></th>\n      <th>maker</th>\n      <th>genmodel</th>\n      <th>height</th>\n    </tr>\n    <tr>\n      <th>Adv_ID</th>\n      <th></th>\n      <th></th>\n      <th></th>\n    </tr>\n  </thead>\n  <tbody>\n    <tr>\n      <th>29_30$$11</th>\n      <td>Ford</td>\n      <td>Ranger</td>\n      <td>803.0</td>\n    </tr>\n    <tr>\n      <th>29_30$$129</th>\n      <td>Ford</td>\n      <td>Ranger</td>\n      <td>803.0</td>\n    </tr>\n    <tr>\n      <th>29_30$$147</th>\n      <td>Ford</td>\n      <td>Ranger</td>\n      <td>805.0</td>\n    </tr>\n    <tr>\n      <th>29_30$$15</th>\n      <td>Ford</td>\n      <td>Ranger</td>\n      <td>805.0</td>\n    </tr>\n    <tr>\n      <th>29_30$$159</th>\n      <td>Ford</td>\n      <td>Ranger</td>\n      <td>805.0</td>\n    </tr>\n    <tr>\n      <th>...</th>\n      <td>...</td>\n      <td>...</td>\n      <td>...</td>\n    </tr>\n    <tr>\n      <th>62_13$$921</th>\n      <td>Mitsubishi</td>\n      <td>L200</td>\n      <td>200.0</td>\n    </tr>\n    <tr>\n      <th>62_13$$926</th>\n      <td>Mitsubishi</td>\n      <td>L200</td>\n      <td>200.0</td>\n    </tr>\n    <tr>\n      <th>62_13$$934</th>\n      <td>Mitsubishi</td>\n      <td>L200</td>\n      <td>200.0</td>\n    </tr>\n    <tr>\n      <th>62_13$$943</th>\n      <td>Mitsubishi</td>\n      <td>L200</td>\n      <td>200.0</td>\n    </tr>\n    <tr>\n      <th>62_13$$954</th>\n      <td>Mitsubishi</td>\n      <td>L200</td>\n      <td>200.0</td>\n    </tr>\n  </tbody>\n</table>\n<p>123 rows × 3 columns</p>\n</div>"
     },
     "execution_count": 185,
     "metadata": {},
     "output_type": "execute_result"
    }
   ],
   "source": [
    "cars.loc[cars['height'].between(0, 1000, inclusive='neither'), ['maker', 'genmodel', 'height']]"
   ],
   "metadata": {
    "collapsed": false,
    "ExecuteTime": {
     "end_time": "2024-02-07T12:03:53.752758Z",
     "start_time": "2024-02-07T12:03:53.706649Z"
    }
   },
   "id": "fec450f69a91ac59",
   "execution_count": 185
  },
  {
   "cell_type": "code",
   "outputs": [],
   "source": [
    "cars.loc[cars['height'] < 1000, 'height'] = np.NaN"
   ],
   "metadata": {
    "collapsed": false,
    "ExecuteTime": {
     "end_time": "2024-02-07T12:03:53.798592Z",
     "start_time": "2024-02-07T12:03:53.743749Z"
    }
   },
   "id": "bd84b8423e16c80f",
   "execution_count": 186
  },
  {
   "cell_type": "markdown",
   "source": [
    "### width column"
   ],
   "metadata": {
    "collapsed": false
   },
   "id": "dbce8a255d8d2b50"
  },
  {
   "cell_type": "code",
   "outputs": [
    {
     "name": "stdout",
     "output_type": "stream",
     "text": [
      "<class 'pandas.core.series.Series'>\n",
      "Index: 266236 entries, 10_1$$1 to 99_1$$3\n",
      "Series name: width\n",
      "Non-Null Count   Dtype  \n",
      "--------------   -----  \n",
      "238305 non-null  float64\n",
      "dtypes: float64(1)\n",
      "memory usage: 4.1+ MB\n"
     ]
    }
   ],
   "source": [
    "cars['width'].info()"
   ],
   "metadata": {
    "collapsed": false,
    "ExecuteTime": {
     "end_time": "2024-02-07T12:03:53.857336Z",
     "start_time": "2024-02-07T12:03:53.799193Z"
    }
   },
   "id": "7bec824ff1f29c2d",
   "execution_count": 187
  },
  {
   "cell_type": "code",
   "outputs": [
    {
     "data": {
      "text/plain": "count    238305.000000\nmean       1895.478953\nstd         151.046559\nmin        1191.000000\n25%        1780.000000\n50%        1884.000000\n75%        2020.000000\nmax        2690.000000\nName: width, dtype: float64"
     },
     "execution_count": 188,
     "metadata": {},
     "output_type": "execute_result"
    }
   ],
   "source": [
    "cars['width'].describe()"
   ],
   "metadata": {
    "collapsed": false,
    "ExecuteTime": {
     "end_time": "2024-02-07T12:03:53.927878Z",
     "start_time": "2024-02-07T12:03:53.846523Z"
    }
   },
   "id": "dc2696b6a1f1e706",
   "execution_count": 188
  },
  {
   "cell_type": "markdown",
   "source": [
    "### length column"
   ],
   "metadata": {
    "collapsed": false
   },
   "id": "f6f2984120ab1262"
  },
  {
   "cell_type": "code",
   "outputs": [
    {
     "name": "stdout",
     "output_type": "stream",
     "text": [
      "<class 'pandas.core.series.Series'>\n",
      "Index: 266236 entries, 10_1$$1 to 99_1$$3\n",
      "Series name: length\n",
      "Non-Null Count   Dtype  \n",
      "--------------   -----  \n",
      "238584 non-null  float64\n",
      "dtypes: float64(1)\n",
      "memory usage: 4.1+ MB\n"
     ]
    }
   ],
   "source": [
    "cars['length'].info()"
   ],
   "metadata": {
    "collapsed": false,
    "ExecuteTime": {
     "end_time": "2024-02-07T12:03:53.978356Z",
     "start_time": "2024-02-07T12:03:53.927885Z"
    }
   },
   "id": "d5db0cfa3a982365",
   "execution_count": 189
  },
  {
   "cell_type": "code",
   "outputs": [
    {
     "data": {
      "text/plain": "count    238584.000000\nmean       4369.195365\nstd         422.218465\nmin           0.000000\n25%        4081.000000\n50%        4384.000000\n75%        4672.000000\nmax        6165.000000\nName: length, dtype: float64"
     },
     "execution_count": 190,
     "metadata": {},
     "output_type": "execute_result"
    }
   ],
   "source": [
    "cars['length'].describe()"
   ],
   "metadata": {
    "collapsed": false,
    "ExecuteTime": {
     "end_time": "2024-02-07T12:03:54.028031Z",
     "start_time": "2024-02-07T12:03:53.967511Z"
    }
   },
   "id": "23a6d92f42b6fecf",
   "execution_count": 190
  },
  {
   "cell_type": "code",
   "outputs": [
    {
     "data": {
      "text/plain": "length\n0.0        88\n1971.0      1\n2337.0      1\n2500.0     77\n2622.0      3\n         ... \n5842.0      1\n5970.0    228\n6084.0      1\n6092.0      2\n6165.0      3\nName: count, Length: 984, dtype: int64"
     },
     "execution_count": 191,
     "metadata": {},
     "output_type": "execute_result"
    }
   ],
   "source": [
    "cars['length'].value_counts().sort_index()"
   ],
   "metadata": {
    "collapsed": false,
    "ExecuteTime": {
     "end_time": "2024-02-07T12:03:54.061495Z",
     "start_time": "2024-02-07T12:03:54.030453Z"
    }
   },
   "id": "92ca2f047062c613",
   "execution_count": 191
  },
  {
   "cell_type": "code",
   "outputs": [],
   "source": [
    "cars['length'] = cars['length'].replace(0, np.NaN)"
   ],
   "metadata": {
    "collapsed": false,
    "ExecuteTime": {
     "end_time": "2024-02-07T12:03:54.099517Z",
     "start_time": "2024-02-07T12:03:54.051193Z"
    }
   },
   "id": "b0b777b5a7eb5462",
   "execution_count": 192
  },
  {
   "cell_type": "markdown",
   "source": [
    "### average_mpg column"
   ],
   "metadata": {
    "collapsed": false
   },
   "id": "69162da7286e029a"
  },
  {
   "cell_type": "code",
   "outputs": [
    {
     "name": "stdout",
     "output_type": "stream",
     "text": [
      "<class 'pandas.core.series.Series'>\n",
      "Index: 266236 entries, 10_1$$1 to 99_1$$3\n",
      "Series name: average_mpg\n",
      "Non-Null Count   Dtype \n",
      "--------------   ----- \n",
      "225551 non-null  object\n",
      "dtypes: object(1)\n",
      "memory usage: 4.1+ MB\n"
     ]
    }
   ],
   "source": [
    "cars['average_mpg'].info()"
   ],
   "metadata": {
    "collapsed": false,
    "ExecuteTime": {
     "end_time": "2024-02-07T12:03:54.132290Z",
     "start_time": "2024-02-07T12:03:54.095466Z"
    }
   },
   "id": "a29e59c416be3f90",
   "execution_count": 193
  },
  {
   "cell_type": "code",
   "outputs": [
    {
     "data": {
      "text/plain": "average_mpg\n62.8 mpg    8734\n55.4 mpg    8065\n47.9 mpg    7961\n47.1 mpg    7941\n54.3 mpg    6907\n            ... \n42.4 mpg       1\n44.0 mpg       1\n61.0 mpg       1\n18.7 mpg       1\n46.2 mpg       1\nName: count, Length: 358, dtype: int64"
     },
     "execution_count": 194,
     "metadata": {},
     "output_type": "execute_result"
    }
   ],
   "source": [
    "cars['average_mpg'].value_counts()"
   ],
   "metadata": {
    "collapsed": false,
    "ExecuteTime": {
     "end_time": "2024-02-07T12:03:54.181657Z",
     "start_time": "2024-02-07T12:03:54.127876Z"
    }
   },
   "id": "7507d0d6a9873c39",
   "execution_count": 194
  },
  {
   "cell_type": "code",
   "outputs": [],
   "source": [
    "cars['average_mpg'] = cars['average_mpg'].str.replace('mpg', '').str.strip()\n",
    "\n",
    "cars['average_mpg'] = cars['average_mpg'].astype('float')"
   ],
   "metadata": {
    "collapsed": false,
    "ExecuteTime": {
     "end_time": "2024-02-07T12:03:54.277892Z",
     "start_time": "2024-02-07T12:03:54.217415Z"
    }
   },
   "id": "77bb04f883382554",
   "execution_count": 195
  },
  {
   "cell_type": "code",
   "outputs": [
    {
     "data": {
      "text/plain": "count    225551.000000\nmean         50.902906\nstd          15.807081\nmin           9.400000\n25%          41.500000\n50%          50.400000\n75%          60.100000\nmax         471.000000\nName: average_mpg, dtype: float64"
     },
     "execution_count": 196,
     "metadata": {},
     "output_type": "execute_result"
    }
   ],
   "source": [
    "cars['average_mpg'].describe()"
   ],
   "metadata": {
    "collapsed": false,
    "ExecuteTime": {
     "end_time": "2024-02-07T12:03:54.282922Z",
     "start_time": "2024-02-07T12:03:54.240673Z"
    }
   },
   "id": "79f04c8d5dc32001",
   "execution_count": 196
  },
  {
   "cell_type": "code",
   "outputs": [
    {
     "data": {
      "text/plain": "average_mpg\n471.0    80\n200.0     6\n176.6    22\n166.1    26\n156.9    88\n         ..\n11.4     13\n11.3      1\n11.2      2\n9.8       2\n9.4       2\nName: count, Length: 358, dtype: int64"
     },
     "execution_count": 197,
     "metadata": {},
     "output_type": "execute_result"
    }
   ],
   "source": [
    "cars['average_mpg'].value_counts().sort_index(ascending=False)"
   ],
   "metadata": {
    "collapsed": false,
    "ExecuteTime": {
     "end_time": "2024-02-07T12:03:54.287139Z",
     "start_time": "2024-02-07T12:03:54.257361Z"
    }
   },
   "id": "7a45c39d3680b464",
   "execution_count": 197
  },
  {
   "cell_type": "code",
   "outputs": [
    {
     "data": {
      "text/plain": "          maker genmodel genmodel_id  adv_year  adv_month   color  reg_year  \\\nAdv_ID                                                                        \n43_6$$180   Kia   Optima        43_6      2018          2  Silver      2018   \n43_6$$190   Kia   Optima        43_6      2018          4     Red      2018   \n43_6$$203   Kia   Optima        43_6      2018          7     Red      2018   \n43_6$$218   Kia   Optima        43_6      2018          5  Silver      2017   \n43_6$$401   Kia   Optima        43_6      2018          4    Blue      2018   \n43_6$$416   Kia   Optima        43_6      2018          8  Silver      2018   \n\n          body_type  run_miles  engine_size  ... engine_power annual_tax  \\\nAdv_ID                                       ...                           \n43_6$$180    Estate     3545.0          2.0  ...        154.0      130.0   \n43_6$$190    Estate     7000.0          2.0  ...        154.0      130.0   \n43_6$$203    Estate     9664.0          2.0  ...        154.0      130.0   \n43_6$$218    Estate     7000.0          2.0  ...        154.0      130.0   \n43_6$$401    Estate     4500.0          2.0  ...        154.0      130.0   \n43_6$$416    Estate     6000.0          2.0  ...        154.0      130.0   \n\n           wheelbase  height   width  length  average_mpg  top_speed  \\\nAdv_ID                                                                 \n43_6$$180     2805.0  1470.0  1860.0  4855.0        200.0    119 mph   \n43_6$$190     2805.0  1470.0  1860.0  4855.0        200.0    119 mph   \n43_6$$203     2805.0  1470.0  1860.0  4855.0        200.0    119 mph   \n43_6$$218     2805.0  1470.0  1860.0  4855.0        200.0    119 mph   \n43_6$$401     2805.0  1470.0  1860.0  4855.0        200.0    119 mph   \n43_6$$416     2805.0  1470.0  1860.0  4855.0        200.0    119 mph   \n\n           seat_num  door_num  \nAdv_ID                         \n43_6$$180       5.0       5.0  \n43_6$$190       5.0       5.0  \n43_6$$203       5.0       5.0  \n43_6$$218       5.0       5.0  \n43_6$$401       5.0       5.0  \n43_6$$416       5.0       5.0  \n\n[6 rows x 23 columns]",
      "text/html": "<div>\n<style scoped>\n    .dataframe tbody tr th:only-of-type {\n        vertical-align: middle;\n    }\n\n    .dataframe tbody tr th {\n        vertical-align: top;\n    }\n\n    .dataframe thead th {\n        text-align: right;\n    }\n</style>\n<table border=\"1\" class=\"dataframe\">\n  <thead>\n    <tr style=\"text-align: right;\">\n      <th></th>\n      <th>maker</th>\n      <th>genmodel</th>\n      <th>genmodel_id</th>\n      <th>adv_year</th>\n      <th>adv_month</th>\n      <th>color</th>\n      <th>reg_year</th>\n      <th>body_type</th>\n      <th>run_miles</th>\n      <th>engine_size</th>\n      <th>...</th>\n      <th>engine_power</th>\n      <th>annual_tax</th>\n      <th>wheelbase</th>\n      <th>height</th>\n      <th>width</th>\n      <th>length</th>\n      <th>average_mpg</th>\n      <th>top_speed</th>\n      <th>seat_num</th>\n      <th>door_num</th>\n    </tr>\n    <tr>\n      <th>Adv_ID</th>\n      <th></th>\n      <th></th>\n      <th></th>\n      <th></th>\n      <th></th>\n      <th></th>\n      <th></th>\n      <th></th>\n      <th></th>\n      <th></th>\n      <th></th>\n      <th></th>\n      <th></th>\n      <th></th>\n      <th></th>\n      <th></th>\n      <th></th>\n      <th></th>\n      <th></th>\n      <th></th>\n      <th></th>\n    </tr>\n  </thead>\n  <tbody>\n    <tr>\n      <th>43_6$$180</th>\n      <td>Kia</td>\n      <td>Optima</td>\n      <td>43_6</td>\n      <td>2018</td>\n      <td>2</td>\n      <td>Silver</td>\n      <td>2018</td>\n      <td>Estate</td>\n      <td>3545.0</td>\n      <td>2.0</td>\n      <td>...</td>\n      <td>154.0</td>\n      <td>130.0</td>\n      <td>2805.0</td>\n      <td>1470.0</td>\n      <td>1860.0</td>\n      <td>4855.0</td>\n      <td>200.0</td>\n      <td>119 mph</td>\n      <td>5.0</td>\n      <td>5.0</td>\n    </tr>\n    <tr>\n      <th>43_6$$190</th>\n      <td>Kia</td>\n      <td>Optima</td>\n      <td>43_6</td>\n      <td>2018</td>\n      <td>4</td>\n      <td>Red</td>\n      <td>2018</td>\n      <td>Estate</td>\n      <td>7000.0</td>\n      <td>2.0</td>\n      <td>...</td>\n      <td>154.0</td>\n      <td>130.0</td>\n      <td>2805.0</td>\n      <td>1470.0</td>\n      <td>1860.0</td>\n      <td>4855.0</td>\n      <td>200.0</td>\n      <td>119 mph</td>\n      <td>5.0</td>\n      <td>5.0</td>\n    </tr>\n    <tr>\n      <th>43_6$$203</th>\n      <td>Kia</td>\n      <td>Optima</td>\n      <td>43_6</td>\n      <td>2018</td>\n      <td>7</td>\n      <td>Red</td>\n      <td>2018</td>\n      <td>Estate</td>\n      <td>9664.0</td>\n      <td>2.0</td>\n      <td>...</td>\n      <td>154.0</td>\n      <td>130.0</td>\n      <td>2805.0</td>\n      <td>1470.0</td>\n      <td>1860.0</td>\n      <td>4855.0</td>\n      <td>200.0</td>\n      <td>119 mph</td>\n      <td>5.0</td>\n      <td>5.0</td>\n    </tr>\n    <tr>\n      <th>43_6$$218</th>\n      <td>Kia</td>\n      <td>Optima</td>\n      <td>43_6</td>\n      <td>2018</td>\n      <td>5</td>\n      <td>Silver</td>\n      <td>2017</td>\n      <td>Estate</td>\n      <td>7000.0</td>\n      <td>2.0</td>\n      <td>...</td>\n      <td>154.0</td>\n      <td>130.0</td>\n      <td>2805.0</td>\n      <td>1470.0</td>\n      <td>1860.0</td>\n      <td>4855.0</td>\n      <td>200.0</td>\n      <td>119 mph</td>\n      <td>5.0</td>\n      <td>5.0</td>\n    </tr>\n    <tr>\n      <th>43_6$$401</th>\n      <td>Kia</td>\n      <td>Optima</td>\n      <td>43_6</td>\n      <td>2018</td>\n      <td>4</td>\n      <td>Blue</td>\n      <td>2018</td>\n      <td>Estate</td>\n      <td>4500.0</td>\n      <td>2.0</td>\n      <td>...</td>\n      <td>154.0</td>\n      <td>130.0</td>\n      <td>2805.0</td>\n      <td>1470.0</td>\n      <td>1860.0</td>\n      <td>4855.0</td>\n      <td>200.0</td>\n      <td>119 mph</td>\n      <td>5.0</td>\n      <td>5.0</td>\n    </tr>\n    <tr>\n      <th>43_6$$416</th>\n      <td>Kia</td>\n      <td>Optima</td>\n      <td>43_6</td>\n      <td>2018</td>\n      <td>8</td>\n      <td>Silver</td>\n      <td>2018</td>\n      <td>Estate</td>\n      <td>6000.0</td>\n      <td>2.0</td>\n      <td>...</td>\n      <td>154.0</td>\n      <td>130.0</td>\n      <td>2805.0</td>\n      <td>1470.0</td>\n      <td>1860.0</td>\n      <td>4855.0</td>\n      <td>200.0</td>\n      <td>119 mph</td>\n      <td>5.0</td>\n      <td>5.0</td>\n    </tr>\n  </tbody>\n</table>\n<p>6 rows × 23 columns</p>\n</div>"
     },
     "execution_count": 198,
     "metadata": {},
     "output_type": "execute_result"
    }
   ],
   "source": [
    "cars[cars['average_mpg'] == 200]"
   ],
   "metadata": {
    "collapsed": false,
    "ExecuteTime": {
     "end_time": "2024-02-07T12:03:54.310633Z",
     "start_time": "2024-02-07T12:03:54.271160Z"
    }
   },
   "id": "6393c4ccb92eba78",
   "execution_count": 198
  },
  {
   "cell_type": "markdown",
   "source": [
    "### top_speed column"
   ],
   "metadata": {
    "collapsed": false
   },
   "id": "4f76d766627060c"
  },
  {
   "cell_type": "code",
   "outputs": [
    {
     "name": "stdout",
     "output_type": "stream",
     "text": [
      "<class 'pandas.core.series.Series'>\n",
      "Index: 266236 entries, 10_1$$1 to 99_1$$3\n",
      "Series name: top_speed\n",
      "Non-Null Count   Dtype \n",
      "--------------   ----- \n",
      "223882 non-null  object\n",
      "dtypes: object(1)\n",
      "memory usage: 4.1+ MB\n"
     ]
    }
   ],
   "source": [
    "cars['top_speed'].info()"
   ],
   "metadata": {
    "collapsed": false,
    "ExecuteTime": {
     "end_time": "2024-02-07T12:03:54.390675Z",
     "start_time": "2024-02-07T12:03:54.306208Z"
    }
   },
   "id": "3692c9155e09d36f",
   "execution_count": 199
  },
  {
   "cell_type": "code",
   "outputs": [
    {
     "data": {
      "text/plain": "top_speed\n112 mph    15667\n155 mph    10831\n118 mph    10067\n130 mph     8996\n99 mph      7621\n           ...  \n209 mph        3\n50 mph         1\n218 mph        1\n76 mph         1\n78 mph         1\nName: count, Length: 138, dtype: int64"
     },
     "execution_count": 200,
     "metadata": {},
     "output_type": "execute_result"
    }
   ],
   "source": [
    "cars['top_speed'].value_counts()"
   ],
   "metadata": {
    "collapsed": false,
    "ExecuteTime": {
     "end_time": "2024-02-07T12:03:54.410663Z",
     "start_time": "2024-02-07T12:03:54.386079Z"
    }
   },
   "id": "2afeede8fd02e0b7",
   "execution_count": 200
  },
  {
   "cell_type": "code",
   "outputs": [],
   "source": [
    "cars['top_speed'] = cars['top_speed'].str.replace('mph', '').str.strip()\n",
    "cars['top_speed'] = cars['top_speed'].astype('float')"
   ],
   "metadata": {
    "collapsed": false,
    "ExecuteTime": {
     "end_time": "2024-02-07T12:03:54.563667Z",
     "start_time": "2024-02-07T12:03:54.416033Z"
    }
   },
   "id": "9abcda4088bda9a4",
   "execution_count": 201
  },
  {
   "cell_type": "code",
   "outputs": [
    {
     "data": {
      "text/plain": "count    223882.000000\nmean        122.052769\nstd          18.545611\nmin          11.000000\n25%         109.000000\n50%         118.000000\n75%         131.000000\nmax         226.000000\nName: top_speed, dtype: float64"
     },
     "execution_count": 202,
     "metadata": {},
     "output_type": "execute_result"
    }
   ],
   "source": [
    "cars['top_speed'].describe()"
   ],
   "metadata": {
    "collapsed": false,
    "ExecuteTime": {
     "end_time": "2024-02-07T12:03:54.580665Z",
     "start_time": "2024-02-07T12:03:54.528351Z"
    }
   },
   "id": "bcf78155c209d0f3",
   "execution_count": 202
  },
  {
   "cell_type": "code",
   "outputs": [
    {
     "data": {
      "text/plain": "top_speed\n11.0      4\n50.0      1\n76.0      1\n78.0      1\n80.0      3\n         ..\n211.0    38\n212.0    19\n217.0    75\n218.0     1\n226.0    13\nName: count, Length: 138, dtype: int64"
     },
     "execution_count": 203,
     "metadata": {},
     "output_type": "execute_result"
    }
   ],
   "source": [
    "cars['top_speed'].value_counts().sort_index()"
   ],
   "metadata": {
    "collapsed": false,
    "ExecuteTime": {
     "end_time": "2024-02-07T12:03:54.632408Z",
     "start_time": "2024-02-07T12:03:54.581833Z"
    }
   },
   "id": "2638013a2d25e541",
   "execution_count": 203
  },
  {
   "cell_type": "code",
   "outputs": [
    {
     "data": {
      "text/plain": "            maker genmodel genmodel_id  adv_year  adv_month   color  reg_year  \\\nAdv_ID                                                                          \n29_13$$1250  Ford   Fiesta       29_13      2018          8  Silver      2016   \n29_13$$1489  Ford   Fiesta       29_13      2018          8     Red      2016   \n29_13$$2994  Ford   Fiesta       29_13      2018          8   Brown      2016   \n29_13$$771   Ford   Fiesta       29_13      2018          3    Blue      2016   \n\n             body_type  run_miles  engine_size  ... engine_power annual_tax  \\\nAdv_ID                                          ...                           \n29_13$$1250  Hatchback    26267.0          1.0  ...         99.0        0.0   \n29_13$$1489  Hatchback    41491.0          1.0  ...         99.0        0.0   \n29_13$$2994  Hatchback    17335.0          1.0  ...         99.0        0.0   \n29_13$$771   Hatchback    43402.0          1.0  ...         99.0        0.0   \n\n             wheelbase  height   width  length  average_mpg  top_speed  \\\nAdv_ID                                                                   \n29_13$$1250     2489.0  1495.0  1978.0  3969.0         65.7       11.0   \n29_13$$1489     2489.0  1495.0  1978.0  3969.0         65.7       11.0   \n29_13$$2994     2489.0  1495.0  1978.0  3969.0         65.7       11.0   \n29_13$$771      2489.0  1495.0  1978.0  3969.0         65.7       11.0   \n\n             seat_num  door_num  \nAdv_ID                           \n29_13$$1250       5.0       5.0  \n29_13$$1489       5.0       5.0  \n29_13$$2994       5.0       5.0  \n29_13$$771        5.0       5.0  \n\n[4 rows x 23 columns]",
      "text/html": "<div>\n<style scoped>\n    .dataframe tbody tr th:only-of-type {\n        vertical-align: middle;\n    }\n\n    .dataframe tbody tr th {\n        vertical-align: top;\n    }\n\n    .dataframe thead th {\n        text-align: right;\n    }\n</style>\n<table border=\"1\" class=\"dataframe\">\n  <thead>\n    <tr style=\"text-align: right;\">\n      <th></th>\n      <th>maker</th>\n      <th>genmodel</th>\n      <th>genmodel_id</th>\n      <th>adv_year</th>\n      <th>adv_month</th>\n      <th>color</th>\n      <th>reg_year</th>\n      <th>body_type</th>\n      <th>run_miles</th>\n      <th>engine_size</th>\n      <th>...</th>\n      <th>engine_power</th>\n      <th>annual_tax</th>\n      <th>wheelbase</th>\n      <th>height</th>\n      <th>width</th>\n      <th>length</th>\n      <th>average_mpg</th>\n      <th>top_speed</th>\n      <th>seat_num</th>\n      <th>door_num</th>\n    </tr>\n    <tr>\n      <th>Adv_ID</th>\n      <th></th>\n      <th></th>\n      <th></th>\n      <th></th>\n      <th></th>\n      <th></th>\n      <th></th>\n      <th></th>\n      <th></th>\n      <th></th>\n      <th></th>\n      <th></th>\n      <th></th>\n      <th></th>\n      <th></th>\n      <th></th>\n      <th></th>\n      <th></th>\n      <th></th>\n      <th></th>\n      <th></th>\n    </tr>\n  </thead>\n  <tbody>\n    <tr>\n      <th>29_13$$1250</th>\n      <td>Ford</td>\n      <td>Fiesta</td>\n      <td>29_13</td>\n      <td>2018</td>\n      <td>8</td>\n      <td>Silver</td>\n      <td>2016</td>\n      <td>Hatchback</td>\n      <td>26267.0</td>\n      <td>1.0</td>\n      <td>...</td>\n      <td>99.0</td>\n      <td>0.0</td>\n      <td>2489.0</td>\n      <td>1495.0</td>\n      <td>1978.0</td>\n      <td>3969.0</td>\n      <td>65.7</td>\n      <td>11.0</td>\n      <td>5.0</td>\n      <td>5.0</td>\n    </tr>\n    <tr>\n      <th>29_13$$1489</th>\n      <td>Ford</td>\n      <td>Fiesta</td>\n      <td>29_13</td>\n      <td>2018</td>\n      <td>8</td>\n      <td>Red</td>\n      <td>2016</td>\n      <td>Hatchback</td>\n      <td>41491.0</td>\n      <td>1.0</td>\n      <td>...</td>\n      <td>99.0</td>\n      <td>0.0</td>\n      <td>2489.0</td>\n      <td>1495.0</td>\n      <td>1978.0</td>\n      <td>3969.0</td>\n      <td>65.7</td>\n      <td>11.0</td>\n      <td>5.0</td>\n      <td>5.0</td>\n    </tr>\n    <tr>\n      <th>29_13$$2994</th>\n      <td>Ford</td>\n      <td>Fiesta</td>\n      <td>29_13</td>\n      <td>2018</td>\n      <td>8</td>\n      <td>Brown</td>\n      <td>2016</td>\n      <td>Hatchback</td>\n      <td>17335.0</td>\n      <td>1.0</td>\n      <td>...</td>\n      <td>99.0</td>\n      <td>0.0</td>\n      <td>2489.0</td>\n      <td>1495.0</td>\n      <td>1978.0</td>\n      <td>3969.0</td>\n      <td>65.7</td>\n      <td>11.0</td>\n      <td>5.0</td>\n      <td>5.0</td>\n    </tr>\n    <tr>\n      <th>29_13$$771</th>\n      <td>Ford</td>\n      <td>Fiesta</td>\n      <td>29_13</td>\n      <td>2018</td>\n      <td>3</td>\n      <td>Blue</td>\n      <td>2016</td>\n      <td>Hatchback</td>\n      <td>43402.0</td>\n      <td>1.0</td>\n      <td>...</td>\n      <td>99.0</td>\n      <td>0.0</td>\n      <td>2489.0</td>\n      <td>1495.0</td>\n      <td>1978.0</td>\n      <td>3969.0</td>\n      <td>65.7</td>\n      <td>11.0</td>\n      <td>5.0</td>\n      <td>5.0</td>\n    </tr>\n  </tbody>\n</table>\n<p>4 rows × 23 columns</p>\n</div>"
     },
     "execution_count": 204,
     "metadata": {},
     "output_type": "execute_result"
    }
   ],
   "source": [
    "cars[cars['top_speed'] == 11]"
   ],
   "metadata": {
    "collapsed": false,
    "ExecuteTime": {
     "end_time": "2024-02-07T12:03:54.667151Z",
     "start_time": "2024-02-07T12:03:54.619127Z"
    }
   },
   "id": "3f5c371dd83fec1",
   "execution_count": 204
  },
  {
   "cell_type": "code",
   "outputs": [],
   "source": [
    "cars[cars['top_speed'] == 11] = np.NaN"
   ],
   "metadata": {
    "collapsed": false,
    "ExecuteTime": {
     "end_time": "2024-02-07T12:03:54.708557Z",
     "start_time": "2024-02-07T12:03:54.662269Z"
    }
   },
   "id": "da25a35de54a066a",
   "execution_count": 205
  },
  {
   "cell_type": "markdown",
   "source": [
    "### seat_num column"
   ],
   "metadata": {
    "collapsed": false
   },
   "id": "ef0e6a31f6d9382c"
  },
  {
   "cell_type": "code",
   "outputs": [
    {
     "name": "stdout",
     "output_type": "stream",
     "text": [
      "<class 'pandas.core.series.Series'>\n",
      "Index: 266236 entries, 10_1$$1 to 99_1$$3\n",
      "Series name: seat_num\n",
      "Non-Null Count   Dtype  \n",
      "--------------   -----  \n",
      "259823 non-null  float64\n",
      "dtypes: float64(1)\n",
      "memory usage: 4.1+ MB\n"
     ]
    }
   ],
   "source": [
    "cars['seat_num'].info()"
   ],
   "metadata": {
    "collapsed": false,
    "ExecuteTime": {
     "end_time": "2024-02-07T12:03:54.742117Z",
     "start_time": "2024-02-07T12:03:54.693855Z"
    }
   },
   "id": "ded6e288dc234fa0",
   "execution_count": 206
  },
  {
   "cell_type": "code",
   "outputs": [
    {
     "data": {
      "text/plain": "count    259823.000000\nmean          4.905089\nstd           0.879955\nmin           1.000000\n25%           5.000000\n50%           5.000000\n75%           5.000000\nmax          17.000000\nName: seat_num, dtype: float64"
     },
     "execution_count": 207,
     "metadata": {},
     "output_type": "execute_result"
    }
   ],
   "source": [
    "cars['seat_num'].describe()"
   ],
   "metadata": {
    "collapsed": false,
    "ExecuteTime": {
     "end_time": "2024-02-07T12:03:54.817214Z",
     "start_time": "2024-02-07T12:03:54.741921Z"
    }
   },
   "id": "152d3fd4d13e3231",
   "execution_count": 207
  },
  {
   "cell_type": "code",
   "outputs": [
    {
     "data": {
      "text/plain": "seat_num\n1.0          1\n2.0       8522\n3.0        125\n4.0      40145\n5.0     190690\n6.0        469\n7.0      19041\n8.0        590\n9.0        237\n17.0         3\nName: count, dtype: int64"
     },
     "execution_count": 208,
     "metadata": {},
     "output_type": "execute_result"
    }
   ],
   "source": [
    "cars['seat_num'].value_counts().sort_index()"
   ],
   "metadata": {
    "collapsed": false,
    "ExecuteTime": {
     "end_time": "2024-02-07T12:03:54.938111Z",
     "start_time": "2024-02-07T12:03:54.806246Z"
    }
   },
   "id": "e779ed8e94353f09",
   "execution_count": 208
  },
  {
   "cell_type": "code",
   "outputs": [
    {
     "data": {
      "text/plain": "             maker genmodel genmodel_id  adv_year  adv_month color  reg_year  \\\nAdv_ID                                                                         \n75_2$$986  Renault     Clio        75_2    2018.0        2.0   Red    2011.0   \n\n           body_type  run_miles  engine_size  ... engine_power annual_tax  \\\nAdv_ID                                        ...                           \n75_2$$986  Hatchback     1000.0          2.0  ...        197.0        NaN   \n\n           wheelbase  height   width  length  average_mpg  top_speed  \\\nAdv_ID                                                                 \n75_2$$986     2585.0  1484.0  2025.0  4017.0         34.4      140.0   \n\n           seat_num  door_num  \nAdv_ID                         \n75_2$$986       1.0       3.0  \n\n[1 rows x 23 columns]",
      "text/html": "<div>\n<style scoped>\n    .dataframe tbody tr th:only-of-type {\n        vertical-align: middle;\n    }\n\n    .dataframe tbody tr th {\n        vertical-align: top;\n    }\n\n    .dataframe thead th {\n        text-align: right;\n    }\n</style>\n<table border=\"1\" class=\"dataframe\">\n  <thead>\n    <tr style=\"text-align: right;\">\n      <th></th>\n      <th>maker</th>\n      <th>genmodel</th>\n      <th>genmodel_id</th>\n      <th>adv_year</th>\n      <th>adv_month</th>\n      <th>color</th>\n      <th>reg_year</th>\n      <th>body_type</th>\n      <th>run_miles</th>\n      <th>engine_size</th>\n      <th>...</th>\n      <th>engine_power</th>\n      <th>annual_tax</th>\n      <th>wheelbase</th>\n      <th>height</th>\n      <th>width</th>\n      <th>length</th>\n      <th>average_mpg</th>\n      <th>top_speed</th>\n      <th>seat_num</th>\n      <th>door_num</th>\n    </tr>\n    <tr>\n      <th>Adv_ID</th>\n      <th></th>\n      <th></th>\n      <th></th>\n      <th></th>\n      <th></th>\n      <th></th>\n      <th></th>\n      <th></th>\n      <th></th>\n      <th></th>\n      <th></th>\n      <th></th>\n      <th></th>\n      <th></th>\n      <th></th>\n      <th></th>\n      <th></th>\n      <th></th>\n      <th></th>\n      <th></th>\n      <th></th>\n    </tr>\n  </thead>\n  <tbody>\n    <tr>\n      <th>75_2$$986</th>\n      <td>Renault</td>\n      <td>Clio</td>\n      <td>75_2</td>\n      <td>2018.0</td>\n      <td>2.0</td>\n      <td>Red</td>\n      <td>2011.0</td>\n      <td>Hatchback</td>\n      <td>1000.0</td>\n      <td>2.0</td>\n      <td>...</td>\n      <td>197.0</td>\n      <td>NaN</td>\n      <td>2585.0</td>\n      <td>1484.0</td>\n      <td>2025.0</td>\n      <td>4017.0</td>\n      <td>34.4</td>\n      <td>140.0</td>\n      <td>1.0</td>\n      <td>3.0</td>\n    </tr>\n  </tbody>\n</table>\n<p>1 rows × 23 columns</p>\n</div>"
     },
     "execution_count": 209,
     "metadata": {},
     "output_type": "execute_result"
    }
   ],
   "source": [
    "cars[cars['seat_num'] == 1]"
   ],
   "metadata": {
    "collapsed": false,
    "ExecuteTime": {
     "end_time": "2024-02-07T12:03:54.970397Z",
     "start_time": "2024-02-07T12:03:54.908422Z"
    }
   },
   "id": "cf1dc7ff48957f62",
   "execution_count": 209
  },
  {
   "cell_type": "code",
   "outputs": [],
   "source": [
    "cars[cars['seat_num'] == 1] = np.NaN"
   ],
   "metadata": {
    "collapsed": false,
    "ExecuteTime": {
     "end_time": "2024-02-07T12:03:55.012481Z",
     "start_time": "2024-02-07T12:03:54.964066Z"
    }
   },
   "id": "b957bdf623c2de59",
   "execution_count": 210
  },
  {
   "cell_type": "markdown",
   "source": [
    "### door_num column"
   ],
   "metadata": {
    "collapsed": false
   },
   "id": "3762e2e28e9c64d6"
  },
  {
   "cell_type": "code",
   "outputs": [
    {
     "name": "stdout",
     "output_type": "stream",
     "text": [
      "<class 'pandas.core.series.Series'>\n",
      "Index: 266236 entries, 10_1$$1 to 99_1$$3\n",
      "Series name: door_num\n",
      "Non-Null Count   Dtype  \n",
      "--------------   -----  \n",
      "261768 non-null  float64\n",
      "dtypes: float64(1)\n",
      "memory usage: 4.1+ MB\n"
     ]
    }
   ],
   "source": [
    "cars['door_num'].info()"
   ],
   "metadata": {
    "collapsed": false,
    "ExecuteTime": {
     "end_time": "2024-02-07T12:03:55.060145Z",
     "start_time": "2024-02-07T12:03:55.012569Z"
    }
   },
   "id": "d99f993ceaea21a",
   "execution_count": 211
  },
  {
   "cell_type": "code",
   "outputs": [
    {
     "data": {
      "text/plain": "count    261768.000000\nmean          4.375233\nstd           1.007638\nmin           0.000000\n25%           4.000000\n50%           5.000000\n75%           5.000000\nmax           7.000000\nName: door_num, dtype: float64"
     },
     "execution_count": 212,
     "metadata": {},
     "output_type": "execute_result"
    }
   ],
   "source": [
    "cars['door_num'].describe()"
   ],
   "metadata": {
    "collapsed": false,
    "ExecuteTime": {
     "end_time": "2024-02-07T12:03:55.151521Z",
     "start_time": "2024-02-07T12:03:55.045193Z"
    }
   },
   "id": "1e32b119dfa98889",
   "execution_count": 212
  },
  {
   "cell_type": "code",
   "outputs": [
    {
     "data": {
      "text/plain": "door_num\n0.0         1\n2.0     23070\n3.0     32815\n4.0     28870\n5.0    176842\n6.0       169\n7.0         1\nName: count, dtype: int64"
     },
     "execution_count": 213,
     "metadata": {},
     "output_type": "execute_result"
    }
   ],
   "source": [
    "cars['door_num'].value_counts().sort_index()"
   ],
   "metadata": {
    "collapsed": false,
    "ExecuteTime": {
     "end_time": "2024-02-07T12:03:55.186008Z",
     "start_time": "2024-02-07T12:03:55.131807Z"
    }
   },
   "id": "6418db31f3989188",
   "execution_count": 213
  },
  {
   "cell_type": "code",
   "outputs": [
    {
     "data": {
      "text/plain": "            maker               genmodel genmodel_id  adv_year  adv_month  \\\nAdv_ID                                                                      \n29_21$$2     Ford  Grand Tourneo Connect       29_21    2018.0        8.0   \n75_19$$2  Renault                  Twizy       75_19    2021.0        5.0   \n\n           color  reg_year body_type  run_miles  engine_size  ...  \\\nAdv_ID                                                        ...   \n29_21$$2     Red    2015.0       MPV    31000.0          1.6  ...   \n75_19$$2  Orange    2019.0     Coupe      558.0          NaN  ...   \n\n         engine_power annual_tax  wheelbase  height   width  length  \\\nAdv_ID                                                                \n29_21$$2        148.0      250.0        NaN  1845.0  2137.0  4818.0   \n75_19$$2          NaN        NaN        NaN     NaN     NaN     NaN   \n\n          average_mpg  top_speed  seat_num  door_num  \nAdv_ID                                                \n29_21$$2          NaN        NaN       7.0       7.0  \n75_19$$2          NaN        NaN       2.0       0.0  \n\n[2 rows x 23 columns]",
      "text/html": "<div>\n<style scoped>\n    .dataframe tbody tr th:only-of-type {\n        vertical-align: middle;\n    }\n\n    .dataframe tbody tr th {\n        vertical-align: top;\n    }\n\n    .dataframe thead th {\n        text-align: right;\n    }\n</style>\n<table border=\"1\" class=\"dataframe\">\n  <thead>\n    <tr style=\"text-align: right;\">\n      <th></th>\n      <th>maker</th>\n      <th>genmodel</th>\n      <th>genmodel_id</th>\n      <th>adv_year</th>\n      <th>adv_month</th>\n      <th>color</th>\n      <th>reg_year</th>\n      <th>body_type</th>\n      <th>run_miles</th>\n      <th>engine_size</th>\n      <th>...</th>\n      <th>engine_power</th>\n      <th>annual_tax</th>\n      <th>wheelbase</th>\n      <th>height</th>\n      <th>width</th>\n      <th>length</th>\n      <th>average_mpg</th>\n      <th>top_speed</th>\n      <th>seat_num</th>\n      <th>door_num</th>\n    </tr>\n    <tr>\n      <th>Adv_ID</th>\n      <th></th>\n      <th></th>\n      <th></th>\n      <th></th>\n      <th></th>\n      <th></th>\n      <th></th>\n      <th></th>\n      <th></th>\n      <th></th>\n      <th></th>\n      <th></th>\n      <th></th>\n      <th></th>\n      <th></th>\n      <th></th>\n      <th></th>\n      <th></th>\n      <th></th>\n      <th></th>\n      <th></th>\n    </tr>\n  </thead>\n  <tbody>\n    <tr>\n      <th>29_21$$2</th>\n      <td>Ford</td>\n      <td>Grand Tourneo Connect</td>\n      <td>29_21</td>\n      <td>2018.0</td>\n      <td>8.0</td>\n      <td>Red</td>\n      <td>2015.0</td>\n      <td>MPV</td>\n      <td>31000.0</td>\n      <td>1.6</td>\n      <td>...</td>\n      <td>148.0</td>\n      <td>250.0</td>\n      <td>NaN</td>\n      <td>1845.0</td>\n      <td>2137.0</td>\n      <td>4818.0</td>\n      <td>NaN</td>\n      <td>NaN</td>\n      <td>7.0</td>\n      <td>7.0</td>\n    </tr>\n    <tr>\n      <th>75_19$$2</th>\n      <td>Renault</td>\n      <td>Twizy</td>\n      <td>75_19</td>\n      <td>2021.0</td>\n      <td>5.0</td>\n      <td>Orange</td>\n      <td>2019.0</td>\n      <td>Coupe</td>\n      <td>558.0</td>\n      <td>NaN</td>\n      <td>...</td>\n      <td>NaN</td>\n      <td>NaN</td>\n      <td>NaN</td>\n      <td>NaN</td>\n      <td>NaN</td>\n      <td>NaN</td>\n      <td>NaN</td>\n      <td>NaN</td>\n      <td>2.0</td>\n      <td>0.0</td>\n    </tr>\n  </tbody>\n</table>\n<p>2 rows × 23 columns</p>\n</div>"
     },
     "execution_count": 214,
     "metadata": {},
     "output_type": "execute_result"
    }
   ],
   "source": [
    "cars[cars['door_num'].isin([0, 7])]"
   ],
   "metadata": {
    "collapsed": false,
    "ExecuteTime": {
     "end_time": "2024-02-07T12:03:55.241044Z",
     "start_time": "2024-02-07T12:03:55.194380Z"
    }
   },
   "id": "637dcd0e755b6f69",
   "execution_count": 214
  },
  {
   "cell_type": "code",
   "outputs": [],
   "source": [
    "cars[cars['door_num'] == 0] = np.NaN"
   ],
   "metadata": {
    "collapsed": false,
    "ExecuteTime": {
     "end_time": "2024-02-07T12:03:55.267816Z",
     "start_time": "2024-02-07T12:03:55.228404Z"
    }
   },
   "id": "312923ad907c7aa",
   "execution_count": 215
  },
  {
   "cell_type": "markdown",
   "source": [
    "## Missing data"
   ],
   "metadata": {
    "collapsed": false
   },
   "id": "a761dbbba3f2055d"
  },
  {
   "cell_type": "code",
   "outputs": [],
   "source": [
    "def fill_with_mode(x):\n",
    "    mode_values = x.mode()\n",
    "    if len(mode_values) > 0:\n",
    "        return x.fillna(mode_values[0])\n",
    "    else:\n",
    "        return x\n",
    "        "
   ],
   "metadata": {
    "collapsed": false,
    "ExecuteTime": {
     "end_time": "2024-02-07T12:03:55.324557Z",
     "start_time": "2024-02-07T12:03:55.260278Z"
    }
   },
   "id": "fc02c45da164d6c9",
   "execution_count": 216
  },
  {
   "cell_type": "code",
   "outputs": [
    {
     "name": "stdout",
     "output_type": "stream",
     "text": [
      "<class 'pandas.core.frame.DataFrame'>\n",
      "Index: 266236 entries, 10_1$$1 to 99_1$$3\n",
      "Data columns (total 23 columns):\n",
      " #   Column        Non-Null Count   Dtype   \n",
      "---  ------        --------------   -----   \n",
      " 0   maker         266230 non-null  object  \n",
      " 1   genmodel      266230 non-null  object  \n",
      " 2   genmodel_id   266230 non-null  object  \n",
      " 3   adv_year      266230 non-null  float64 \n",
      " 4   adv_month     266230 non-null  float64 \n",
      " 5   color         244493 non-null  category\n",
      " 6   reg_year      266230 non-null  float64 \n",
      " 7   body_type     265298 non-null  category\n",
      " 8   run_miles     265196 non-null  float64 \n",
      " 9   engine_size   264195 non-null  float64 \n",
      " 10  gearbox       266080 non-null  category\n",
      " 11  fuel_type     265831 non-null  object  \n",
      " 12  price         266230 non-null  float64 \n",
      " 13  engine_power  235660 non-null  float64 \n",
      " 14  annual_tax    219937 non-null  float64 \n",
      " 15  wheelbase     230976 non-null  float64 \n",
      " 16  height        237515 non-null  float64 \n",
      " 17  width         238300 non-null  float64 \n",
      " 18  length        238491 non-null  float64 \n",
      " 19  average_mpg   225546 non-null  float64 \n",
      " 20  top_speed     223877 non-null  float64 \n",
      " 21  seat_num      259821 non-null  float64 \n",
      " 22  door_num      261767 non-null  float64 \n",
      "dtypes: category(3), float64(16), object(4)\n",
      "memory usage: 43.4+ MB\n"
     ]
    }
   ],
   "source": [
    "cars.info()"
   ],
   "metadata": {
    "collapsed": false,
    "ExecuteTime": {
     "end_time": "2024-02-07T12:03:55.475987Z",
     "start_time": "2024-02-07T12:03:55.301846Z"
    }
   },
   "id": "64cd5a23c1adb1a4",
   "execution_count": 217
  },
  {
   "cell_type": "code",
   "outputs": [],
   "source": [
    "columns_to_fill = [\n",
    "    'body_type',\n",
    "    'engine_size',\n",
    "    'fuel_type',\n",
    "    'engine_power',\n",
    "    'wheelbase',\n",
    "    'height',\n",
    "    'width',\n",
    "    'length',\n",
    "    'seat_num',\n",
    "    'door_num',\n",
    "]\n",
    "\n",
    "for col in columns_to_fill:\n",
    "    cars[col] = cars.groupby('genmodel_id')[col].transform(fill_with_mode)"
   ],
   "metadata": {
    "collapsed": false,
    "ExecuteTime": {
     "end_time": "2024-02-07T12:03:56.480249Z",
     "start_time": "2024-02-07T12:03:55.448020Z"
    }
   },
   "id": "e06e523a7571e6d7",
   "execution_count": 218
  },
  {
   "cell_type": "code",
   "outputs": [
    {
     "name": "stdout",
     "output_type": "stream",
     "text": [
      "<class 'pandas.core.frame.DataFrame'>\n",
      "Index: 266236 entries, 10_1$$1 to 99_1$$3\n",
      "Data columns (total 23 columns):\n",
      " #   Column        Non-Null Count   Dtype   \n",
      "---  ------        --------------   -----   \n",
      " 0   maker         266230 non-null  object  \n",
      " 1   genmodel      266230 non-null  object  \n",
      " 2   genmodel_id   266230 non-null  object  \n",
      " 3   adv_year      266230 non-null  float64 \n",
      " 4   adv_month     266230 non-null  float64 \n",
      " 5   color         244493 non-null  category\n",
      " 6   reg_year      266230 non-null  float64 \n",
      " 7   body_type     266211 non-null  category\n",
      " 8   run_miles     265196 non-null  float64 \n",
      " 9   engine_size   265909 non-null  float64 \n",
      " 10  gearbox       266080 non-null  category\n",
      " 11  fuel_type     266228 non-null  object  \n",
      " 12  price         266230 non-null  float64 \n",
      " 13  engine_power  264275 non-null  float64 \n",
      " 14  annual_tax    219937 non-null  float64 \n",
      " 15  wheelbase     257403 non-null  float64 \n",
      " 16  height        265076 non-null  float64 \n",
      " 17  width         265398 non-null  float64 \n",
      " 18  length        265413 non-null  float64 \n",
      " 19  average_mpg   225546 non-null  float64 \n",
      " 20  top_speed     223877 non-null  float64 \n",
      " 21  seat_num      266167 non-null  float64 \n",
      " 22  door_num      265953 non-null  float64 \n",
      "dtypes: category(3), float64(16), object(4)\n",
      "memory usage: 43.4+ MB\n"
     ]
    }
   ],
   "source": [
    "cars.info()"
   ],
   "metadata": {
    "collapsed": false,
    "ExecuteTime": {
     "end_time": "2024-02-07T12:03:56.523780Z",
     "start_time": "2024-02-07T12:03:56.480852Z"
    }
   },
   "id": "f17bfaa905a5381",
   "execution_count": 219
  },
  {
   "cell_type": "code",
   "outputs": [],
   "source": [
    "cars.to_csv('../data/processed_capstone_data.csv')"
   ],
   "metadata": {
    "collapsed": false,
    "ExecuteTime": {
     "end_time": "2024-02-07T12:03:57.831009Z",
     "start_time": "2024-02-07T12:03:56.510615Z"
    }
   },
   "id": "7b62c5c12881ca9",
   "execution_count": 220
  }
 ],
 "metadata": {
  "kernelspec": {
   "display_name": "Python 3",
   "language": "python",
   "name": "python3"
  },
  "language_info": {
   "codemirror_mode": {
    "name": "ipython",
    "version": 2
   },
   "file_extension": ".py",
   "mimetype": "text/x-python",
   "name": "python",
   "nbconvert_exporter": "python",
   "pygments_lexer": "ipython2",
   "version": "2.7.6"
  }
 },
 "nbformat": 4,
 "nbformat_minor": 5
}
