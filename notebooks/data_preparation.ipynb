{
 "cells": [
  {
   "cell_type": "markdown",
   "source": [
    "# Import libraries"
   ],
   "metadata": {
    "collapsed": false
   },
   "id": "a74ae9b6071d6e95"
  },
  {
   "cell_type": "code",
   "execution_count": 1,
   "id": "initial_id",
   "metadata": {
    "collapsed": true,
    "ExecuteTime": {
     "end_time": "2024-02-12T12:41:11.921469Z",
     "start_time": "2024-02-12T12:41:11.908105Z"
    }
   },
   "outputs": [],
   "source": [
    "import numpy as np\n",
    "import pandas as pd"
   ]
  },
  {
   "cell_type": "markdown",
   "source": [
    "# Load data"
   ],
   "metadata": {
    "collapsed": false
   },
   "id": "ccc5fcac9e9dc3a8"
  },
  {
   "cell_type": "code",
   "outputs": [
    {
     "data": {
      "text/plain": "                     Maker   Genmodel  Genmodel_ID  Adv_year  Adv_month  \\\nAdv_ID                                                                    \n7_9$$390              Audi         A5          7_9      2018          8   \n18_13$$449         Citroen  C4 Cactus        18_13      2021          5   \n71_4$$1271         Porsche        911         71_4      2018          6   \n29_13$$2780           Ford     Fiesta        29_13      2018          8   \n59_27$$378   Mercedes-Benz    M Class        59_27      2018          2   \n62_1$$489       Mitsubishi        ASX         62_1      2020          2   \n39_2$$6             Jaguar     F-PACE         39_2      2018          7   \n29_1$$382             Ford      B-Max         29_1      2018          5   \n16_14$$129       Chevrolet      Spark        16_14      2018          4   \n4_11$$203       Alfa Romeo  Giulietta         4_11      2018          6   \n\n              Color  Reg_year   Bodytype Runned_Miles Engin_size  ...  \\\nAdv_ID                                                            ...   \n7_9$$390        Red    2009.0      Coupe        93000       2.0L  ...   \n18_13$$449   Purple    2019.0  Hatchback        24538       1.5L  ...   \n71_4$$1271    Black    2012.0      Coupe        33800       3.4L  ...   \n29_13$$2780   Brown    2017.0  Hatchback         6801       1.6L  ...   \n59_27$$378    Black    2015.0        SUV        17155       2.1L  ...   \n62_1$$489     White    2019.0        SUV         9320       1.6L  ...   \n39_2$$6       Black    2017.0        SUV         6499       2.0L  ...   \n29_1$$382    Silver    2014.0        MPV        70689       1.4L  ...   \n16_14$$129   Silver    2012.0  Hatchback       107000       1.0L  ...   \n4_11$$203     White    2015.0  Hatchback        22544       1.4L  ...   \n\n            Engine_power Annual_Tax  Wheelbase  Height   Width  Length  \\\nAdv_ID                                                                   \n7_9$$390           168.0        140     2751.0  1372.0  2020.0  4626.0   \n18_13$$449           NaN        NaN        NaN     NaN     NaN     NaN   \n71_4$$1271         350.0        290     2450.0  1303.0  1808.0  4491.0   \n29_13$$2780        104.0       140*     2489.0  1495.0  1978.0  3969.0   \n59_27$$378         201.0        195     2915.0  1796.0  1926.0  4819.0   \n62_1$$489            NaN        NaN        NaN     NaN     NaN     NaN   \n39_2$$6            237.0       140*     2874.0  1667.0  2175.0  4731.0   \n29_1$$382           89.0        140     2489.0  1604.0  2067.0  4077.0   \n16_14$$129          67.0         30     2375.0  1522.0  1597.0  3640.0   \n4_11$$203          150.0        140     2634.0  1465.0  1798.0  4350.0   \n\n             Average_mpg  Top_speed  Seat_num Door_num  \nAdv_ID                                                  \n7_9$$390        53.3 mpg    140 mph       4.0      2.0  \n18_13$$449           NaN        NaN       5.0      5.0  \n71_4$$1271      34.4 mpg    178 mph       4.0      2.0  \n29_13$$2780     47.9 mpg    114 mph       5.0      3.0  \n59_27$$378      45.6 mpg    130 mph       5.0      5.0  \n62_1$$489            NaN        NaN       5.0      5.0  \n39_2$$6         48.7 mpg    135 mph       5.0      5.0  \n29_1$$382       47.1 mpg    106 mph       5.0      5.0  \n16_14$$129      55.4 mpg     96 mph       5.0      5.0  \n4_11$$203       51.4 mpg    130 mph       5.0      5.0  \n\n[10 rows x 23 columns]",
      "text/html": "<div>\n<style scoped>\n    .dataframe tbody tr th:only-of-type {\n        vertical-align: middle;\n    }\n\n    .dataframe tbody tr th {\n        vertical-align: top;\n    }\n\n    .dataframe thead th {\n        text-align: right;\n    }\n</style>\n<table border=\"1\" class=\"dataframe\">\n  <thead>\n    <tr style=\"text-align: right;\">\n      <th></th>\n      <th>Maker</th>\n      <th>Genmodel</th>\n      <th>Genmodel_ID</th>\n      <th>Adv_year</th>\n      <th>Adv_month</th>\n      <th>Color</th>\n      <th>Reg_year</th>\n      <th>Bodytype</th>\n      <th>Runned_Miles</th>\n      <th>Engin_size</th>\n      <th>...</th>\n      <th>Engine_power</th>\n      <th>Annual_Tax</th>\n      <th>Wheelbase</th>\n      <th>Height</th>\n      <th>Width</th>\n      <th>Length</th>\n      <th>Average_mpg</th>\n      <th>Top_speed</th>\n      <th>Seat_num</th>\n      <th>Door_num</th>\n    </tr>\n    <tr>\n      <th>Adv_ID</th>\n      <th></th>\n      <th></th>\n      <th></th>\n      <th></th>\n      <th></th>\n      <th></th>\n      <th></th>\n      <th></th>\n      <th></th>\n      <th></th>\n      <th></th>\n      <th></th>\n      <th></th>\n      <th></th>\n      <th></th>\n      <th></th>\n      <th></th>\n      <th></th>\n      <th></th>\n      <th></th>\n      <th></th>\n    </tr>\n  </thead>\n  <tbody>\n    <tr>\n      <th>7_9$$390</th>\n      <td>Audi</td>\n      <td>A5</td>\n      <td>7_9</td>\n      <td>2018</td>\n      <td>8</td>\n      <td>Red</td>\n      <td>2009.0</td>\n      <td>Coupe</td>\n      <td>93000</td>\n      <td>2.0L</td>\n      <td>...</td>\n      <td>168.0</td>\n      <td>140</td>\n      <td>2751.0</td>\n      <td>1372.0</td>\n      <td>2020.0</td>\n      <td>4626.0</td>\n      <td>53.3 mpg</td>\n      <td>140 mph</td>\n      <td>4.0</td>\n      <td>2.0</td>\n    </tr>\n    <tr>\n      <th>18_13$$449</th>\n      <td>Citroen</td>\n      <td>C4 Cactus</td>\n      <td>18_13</td>\n      <td>2021</td>\n      <td>5</td>\n      <td>Purple</td>\n      <td>2019.0</td>\n      <td>Hatchback</td>\n      <td>24538</td>\n      <td>1.5L</td>\n      <td>...</td>\n      <td>NaN</td>\n      <td>NaN</td>\n      <td>NaN</td>\n      <td>NaN</td>\n      <td>NaN</td>\n      <td>NaN</td>\n      <td>NaN</td>\n      <td>NaN</td>\n      <td>5.0</td>\n      <td>5.0</td>\n    </tr>\n    <tr>\n      <th>71_4$$1271</th>\n      <td>Porsche</td>\n      <td>911</td>\n      <td>71_4</td>\n      <td>2018</td>\n      <td>6</td>\n      <td>Black</td>\n      <td>2012.0</td>\n      <td>Coupe</td>\n      <td>33800</td>\n      <td>3.4L</td>\n      <td>...</td>\n      <td>350.0</td>\n      <td>290</td>\n      <td>2450.0</td>\n      <td>1303.0</td>\n      <td>1808.0</td>\n      <td>4491.0</td>\n      <td>34.4 mpg</td>\n      <td>178 mph</td>\n      <td>4.0</td>\n      <td>2.0</td>\n    </tr>\n    <tr>\n      <th>29_13$$2780</th>\n      <td>Ford</td>\n      <td>Fiesta</td>\n      <td>29_13</td>\n      <td>2018</td>\n      <td>8</td>\n      <td>Brown</td>\n      <td>2017.0</td>\n      <td>Hatchback</td>\n      <td>6801</td>\n      <td>1.6L</td>\n      <td>...</td>\n      <td>104.0</td>\n      <td>140*</td>\n      <td>2489.0</td>\n      <td>1495.0</td>\n      <td>1978.0</td>\n      <td>3969.0</td>\n      <td>47.9 mpg</td>\n      <td>114 mph</td>\n      <td>5.0</td>\n      <td>3.0</td>\n    </tr>\n    <tr>\n      <th>59_27$$378</th>\n      <td>Mercedes-Benz</td>\n      <td>M Class</td>\n      <td>59_27</td>\n      <td>2018</td>\n      <td>2</td>\n      <td>Black</td>\n      <td>2015.0</td>\n      <td>SUV</td>\n      <td>17155</td>\n      <td>2.1L</td>\n      <td>...</td>\n      <td>201.0</td>\n      <td>195</td>\n      <td>2915.0</td>\n      <td>1796.0</td>\n      <td>1926.0</td>\n      <td>4819.0</td>\n      <td>45.6 mpg</td>\n      <td>130 mph</td>\n      <td>5.0</td>\n      <td>5.0</td>\n    </tr>\n    <tr>\n      <th>62_1$$489</th>\n      <td>Mitsubishi</td>\n      <td>ASX</td>\n      <td>62_1</td>\n      <td>2020</td>\n      <td>2</td>\n      <td>White</td>\n      <td>2019.0</td>\n      <td>SUV</td>\n      <td>9320</td>\n      <td>1.6L</td>\n      <td>...</td>\n      <td>NaN</td>\n      <td>NaN</td>\n      <td>NaN</td>\n      <td>NaN</td>\n      <td>NaN</td>\n      <td>NaN</td>\n      <td>NaN</td>\n      <td>NaN</td>\n      <td>5.0</td>\n      <td>5.0</td>\n    </tr>\n    <tr>\n      <th>39_2$$6</th>\n      <td>Jaguar</td>\n      <td>F-PACE</td>\n      <td>39_2</td>\n      <td>2018</td>\n      <td>7</td>\n      <td>Black</td>\n      <td>2017.0</td>\n      <td>SUV</td>\n      <td>6499</td>\n      <td>2.0L</td>\n      <td>...</td>\n      <td>237.0</td>\n      <td>140*</td>\n      <td>2874.0</td>\n      <td>1667.0</td>\n      <td>2175.0</td>\n      <td>4731.0</td>\n      <td>48.7 mpg</td>\n      <td>135 mph</td>\n      <td>5.0</td>\n      <td>5.0</td>\n    </tr>\n    <tr>\n      <th>29_1$$382</th>\n      <td>Ford</td>\n      <td>B-Max</td>\n      <td>29_1</td>\n      <td>2018</td>\n      <td>5</td>\n      <td>Silver</td>\n      <td>2014.0</td>\n      <td>MPV</td>\n      <td>70689</td>\n      <td>1.4L</td>\n      <td>...</td>\n      <td>89.0</td>\n      <td>140</td>\n      <td>2489.0</td>\n      <td>1604.0</td>\n      <td>2067.0</td>\n      <td>4077.0</td>\n      <td>47.1 mpg</td>\n      <td>106 mph</td>\n      <td>5.0</td>\n      <td>5.0</td>\n    </tr>\n    <tr>\n      <th>16_14$$129</th>\n      <td>Chevrolet</td>\n      <td>Spark</td>\n      <td>16_14</td>\n      <td>2018</td>\n      <td>4</td>\n      <td>Silver</td>\n      <td>2012.0</td>\n      <td>Hatchback</td>\n      <td>107000</td>\n      <td>1.0L</td>\n      <td>...</td>\n      <td>67.0</td>\n      <td>30</td>\n      <td>2375.0</td>\n      <td>1522.0</td>\n      <td>1597.0</td>\n      <td>3640.0</td>\n      <td>55.4 mpg</td>\n      <td>96 mph</td>\n      <td>5.0</td>\n      <td>5.0</td>\n    </tr>\n    <tr>\n      <th>4_11$$203</th>\n      <td>Alfa Romeo</td>\n      <td>Giulietta</td>\n      <td>4_11</td>\n      <td>2018</td>\n      <td>6</td>\n      <td>White</td>\n      <td>2015.0</td>\n      <td>Hatchback</td>\n      <td>22544</td>\n      <td>1.4L</td>\n      <td>...</td>\n      <td>150.0</td>\n      <td>140</td>\n      <td>2634.0</td>\n      <td>1465.0</td>\n      <td>1798.0</td>\n      <td>4350.0</td>\n      <td>51.4 mpg</td>\n      <td>130 mph</td>\n      <td>5.0</td>\n      <td>5.0</td>\n    </tr>\n  </tbody>\n</table>\n<p>10 rows × 23 columns</p>\n</div>"
     },
     "execution_count": 2,
     "metadata": {},
     "output_type": "execute_result"
    }
   ],
   "source": [
    "cars = pd.read_csv('../data/capstone_data.csv', index_col='Adv_ID').sort_index()\n",
    "cars.sample(10)"
   ],
   "metadata": {
    "collapsed": false,
    "ExecuteTime": {
     "end_time": "2024-02-12T12:41:12.390591Z",
     "start_time": "2024-02-12T12:41:11.909995Z"
    }
   },
   "id": "200f05527b012671",
   "execution_count": 2
  },
  {
   "cell_type": "markdown",
   "source": [
    "# Clean data"
   ],
   "metadata": {
    "collapsed": false
   },
   "id": "8735a03a26b8710a"
  },
  {
   "cell_type": "markdown",
   "source": [
    "## Column names"
   ],
   "metadata": {
    "collapsed": false
   },
   "id": "a20c0344f8bbc761"
  },
  {
   "cell_type": "code",
   "outputs": [
    {
     "data": {
      "text/plain": "Index(['Maker', ' Genmodel', ' Genmodel_ID', 'Adv_year', 'Adv_month', 'Color',\n       'Reg_year', 'Bodytype', 'Runned_Miles', 'Engin_size', 'Gearbox',\n       'Fuel_type', 'Price', 'Engine_power', 'Annual_Tax', 'Wheelbase',\n       'Height', 'Width', 'Length', 'Average_mpg', 'Top_speed', 'Seat_num',\n       'Door_num'],\n      dtype='object')"
     },
     "execution_count": 4,
     "metadata": {},
     "output_type": "execute_result"
    }
   ],
   "source": [
    "cars.columns"
   ],
   "metadata": {
    "collapsed": false,
    "ExecuteTime": {
     "end_time": "2024-02-12T12:41:12.404748Z",
     "start_time": "2024-02-12T12:41:12.383194Z"
    }
   },
   "id": "f9e63cb9da662cee",
   "execution_count": 4
  },
  {
   "cell_type": "code",
   "outputs": [],
   "source": [
    "cars = cars.rename(columns=lambda x: x.strip().lower())\n",
    "cars = cars.rename(columns={'engin_size': 'engine_size', 'bodytype': 'body_type', 'runned_miles': 'run_miles'})"
   ],
   "metadata": {
    "collapsed": false,
    "ExecuteTime": {
     "end_time": "2024-02-12T12:41:12.522165Z",
     "start_time": "2024-02-12T12:41:12.385282Z"
    }
   },
   "id": "e2ddc7720921b9dd",
   "execution_count": 5
  },
  {
   "cell_type": "code",
   "outputs": [],
   "source": [
    "cars.index.name = cars.index.name.lower()"
   ],
   "metadata": {
    "collapsed": false,
    "ExecuteTime": {
     "end_time": "2024-02-12T12:41:12.525215Z",
     "start_time": "2024-02-12T12:41:12.424667Z"
    }
   },
   "id": "25956c5db1f6f2e4",
   "execution_count": 6
  },
  {
   "cell_type": "code",
   "outputs": [
    {
     "data": {
      "text/plain": "Index(['maker', 'genmodel', 'genmodel_id', 'adv_year', 'adv_month', 'color',\n       'reg_year', 'body_type', 'run_miles', 'engine_size', 'gearbox',\n       'fuel_type', 'price', 'engine_power', 'annual_tax', 'wheelbase',\n       'height', 'width', 'length', 'average_mpg', 'top_speed', 'seat_num',\n       'door_num'],\n      dtype='object')"
     },
     "execution_count": 7,
     "metadata": {},
     "output_type": "execute_result"
    }
   ],
   "source": [
    "cars.columns"
   ],
   "metadata": {
    "collapsed": false,
    "ExecuteTime": {
     "end_time": "2024-02-12T12:41:12.531407Z",
     "start_time": "2024-02-12T12:41:12.427005Z"
    }
   },
   "id": "6120f15c2f43a06e",
   "execution_count": 7
  },
  {
   "cell_type": "markdown",
   "source": [
    "## Duplicates"
   ],
   "metadata": {
    "collapsed": false
   },
   "id": "24b426e5b422e1dd"
  },
  {
   "cell_type": "code",
   "outputs": [
    {
     "data": {
      "text/plain": "                maker           genmodel genmodel_id  adv_year  adv_month  \\\nadv_id                                                                      \n10_5$$599     Bentley        Continental        10_5      2018          4   \n16_5$$91    Chevrolet            Captiva        16_5      2018          8   \n18_10$$374    Citroen         C3 Picasso       18_10      2017         12   \n18_12$$892    Citroen                 C4       18_12      2018          8   \n18_13$$209    Citroen          C4 Cactus       18_13      2018          4   \n...               ...                ...         ...       ...        ...   \n96_3$$163       Volvo                S40        96_3      2018          7   \n96_4$$340       Volvo                S60        96_4      2018          6   \n96_6$$82        Volvo                S90        96_6      2018          5   \n96_7$$266       Volvo                V40        96_7      2018          4   \n96_8$$618       Volvo  V40 Cross Country        96_8      2018          5   \n\n             color  reg_year    body_type run_miles engine_size  ...  \\\nadv_id                                                           ...   \n10_5$$599   Purple    2014.0  Convertible      4800        6.0L  ...   \n16_5$$91     Black    2012.0          SUV    115000        2.2L  ...   \n18_10$$374  Silver    2017.0          MPV        10        1.6L  ...   \n18_12$$892    Blue    2007.0    Hatchback    186000        2.0L  ...   \n18_13$$209   White    2018.0    Hatchback        10        1.6L  ...   \n...            ...       ...          ...       ...         ...  ...   \n96_3$$163   Silver    2007.0       Saloon     79500        2.0L  ...   \n96_4$$340     Grey    2018.0       Saloon        18        2.0L  ...   \n96_6$$82     Black    2018.0       Saloon       100        2.0L  ...   \n96_7$$266    White    2016.0    Hatchback     15094        2.0L  ...   \n96_8$$618      NaN    2018.0    Hatchback      3000        2.0L  ...   \n\n           engine_power annual_tax  wheelbase  height   width  length  \\\nadv_id                                                                  \n10_5$$599           NaN        NaN     2746.0  1394.0  2227.0  4806.0   \n16_5$$91         181.00        315     2705.0  1720.0  1850.0  4635.0   \n18_10$$374        98.63       140*     2540.0  1624.0  1766.0  4078.0   \n18_12$$892       138.00        140     2608.0  1458.0  1773.0  4260.0   \n18_13$$209        99.00       140*     2595.0  1540.0  1946.0  4157.0   \n...                 ...        ...        ...     ...     ...     ...   \n96_3$$163        136.00        195     2640.0  1452.0  1770.0  4468.0   \n96_4$$340        190.00       140*     2776.0  1484.0  2097.0  4635.0   \n96_6$$82         190.00       140*     2941.0  1443.0  2019.0  4963.0   \n96_7$$266        120.00          0     2647.0  1439.0  2041.0  4369.0   \n96_8$$618        152.00       140*     2646.0  1470.0  2041.0  4370.0   \n\n            average_mpg  top_speed  seat_num door_num  \nadv_id                                                 \n10_5$$599           NaN        NaN       4.0      2.0  \n16_5$$91       36.6 mpg        NaN       7.0      5.0  \n18_10$$374     72.4 mpg    111 mph       5.0      5.0  \n18_12$$892     51.4 mpg    129 mph       5.0      5.0  \n18_13$$209     83.1 mpg    114 mph       5.0      5.0  \n...                 ...        ...       ...      ...  \n96_3$$163      48.7 mpg    127 mph       5.0      4.0  \n96_4$$340      48.7 mpg    143 mph       5.0      4.0  \n96_6$$82       64.2 mpg    140 mph       5.0      4.0  \n96_7$$266      78.5 mpg    118 mph       5.0      5.0  \n96_8$$618      50.4 mpg    130 mph       5.0      5.0  \n\n[889 rows x 23 columns]",
      "text/html": "<div>\n<style scoped>\n    .dataframe tbody tr th:only-of-type {\n        vertical-align: middle;\n    }\n\n    .dataframe tbody tr th {\n        vertical-align: top;\n    }\n\n    .dataframe thead th {\n        text-align: right;\n    }\n</style>\n<table border=\"1\" class=\"dataframe\">\n  <thead>\n    <tr style=\"text-align: right;\">\n      <th></th>\n      <th>maker</th>\n      <th>genmodel</th>\n      <th>genmodel_id</th>\n      <th>adv_year</th>\n      <th>adv_month</th>\n      <th>color</th>\n      <th>reg_year</th>\n      <th>body_type</th>\n      <th>run_miles</th>\n      <th>engine_size</th>\n      <th>...</th>\n      <th>engine_power</th>\n      <th>annual_tax</th>\n      <th>wheelbase</th>\n      <th>height</th>\n      <th>width</th>\n      <th>length</th>\n      <th>average_mpg</th>\n      <th>top_speed</th>\n      <th>seat_num</th>\n      <th>door_num</th>\n    </tr>\n    <tr>\n      <th>adv_id</th>\n      <th></th>\n      <th></th>\n      <th></th>\n      <th></th>\n      <th></th>\n      <th></th>\n      <th></th>\n      <th></th>\n      <th></th>\n      <th></th>\n      <th></th>\n      <th></th>\n      <th></th>\n      <th></th>\n      <th></th>\n      <th></th>\n      <th></th>\n      <th></th>\n      <th></th>\n      <th></th>\n      <th></th>\n    </tr>\n  </thead>\n  <tbody>\n    <tr>\n      <th>10_5$$599</th>\n      <td>Bentley</td>\n      <td>Continental</td>\n      <td>10_5</td>\n      <td>2018</td>\n      <td>4</td>\n      <td>Purple</td>\n      <td>2014.0</td>\n      <td>Convertible</td>\n      <td>4800</td>\n      <td>6.0L</td>\n      <td>...</td>\n      <td>NaN</td>\n      <td>NaN</td>\n      <td>2746.0</td>\n      <td>1394.0</td>\n      <td>2227.0</td>\n      <td>4806.0</td>\n      <td>NaN</td>\n      <td>NaN</td>\n      <td>4.0</td>\n      <td>2.0</td>\n    </tr>\n    <tr>\n      <th>16_5$$91</th>\n      <td>Chevrolet</td>\n      <td>Captiva</td>\n      <td>16_5</td>\n      <td>2018</td>\n      <td>8</td>\n      <td>Black</td>\n      <td>2012.0</td>\n      <td>SUV</td>\n      <td>115000</td>\n      <td>2.2L</td>\n      <td>...</td>\n      <td>181.00</td>\n      <td>315</td>\n      <td>2705.0</td>\n      <td>1720.0</td>\n      <td>1850.0</td>\n      <td>4635.0</td>\n      <td>36.6 mpg</td>\n      <td>NaN</td>\n      <td>7.0</td>\n      <td>5.0</td>\n    </tr>\n    <tr>\n      <th>18_10$$374</th>\n      <td>Citroen</td>\n      <td>C3 Picasso</td>\n      <td>18_10</td>\n      <td>2017</td>\n      <td>12</td>\n      <td>Silver</td>\n      <td>2017.0</td>\n      <td>MPV</td>\n      <td>10</td>\n      <td>1.6L</td>\n      <td>...</td>\n      <td>98.63</td>\n      <td>140*</td>\n      <td>2540.0</td>\n      <td>1624.0</td>\n      <td>1766.0</td>\n      <td>4078.0</td>\n      <td>72.4 mpg</td>\n      <td>111 mph</td>\n      <td>5.0</td>\n      <td>5.0</td>\n    </tr>\n    <tr>\n      <th>18_12$$892</th>\n      <td>Citroen</td>\n      <td>C4</td>\n      <td>18_12</td>\n      <td>2018</td>\n      <td>8</td>\n      <td>Blue</td>\n      <td>2007.0</td>\n      <td>Hatchback</td>\n      <td>186000</td>\n      <td>2.0L</td>\n      <td>...</td>\n      <td>138.00</td>\n      <td>140</td>\n      <td>2608.0</td>\n      <td>1458.0</td>\n      <td>1773.0</td>\n      <td>4260.0</td>\n      <td>51.4 mpg</td>\n      <td>129 mph</td>\n      <td>5.0</td>\n      <td>5.0</td>\n    </tr>\n    <tr>\n      <th>18_13$$209</th>\n      <td>Citroen</td>\n      <td>C4 Cactus</td>\n      <td>18_13</td>\n      <td>2018</td>\n      <td>4</td>\n      <td>White</td>\n      <td>2018.0</td>\n      <td>Hatchback</td>\n      <td>10</td>\n      <td>1.6L</td>\n      <td>...</td>\n      <td>99.00</td>\n      <td>140*</td>\n      <td>2595.0</td>\n      <td>1540.0</td>\n      <td>1946.0</td>\n      <td>4157.0</td>\n      <td>83.1 mpg</td>\n      <td>114 mph</td>\n      <td>5.0</td>\n      <td>5.0</td>\n    </tr>\n    <tr>\n      <th>...</th>\n      <td>...</td>\n      <td>...</td>\n      <td>...</td>\n      <td>...</td>\n      <td>...</td>\n      <td>...</td>\n      <td>...</td>\n      <td>...</td>\n      <td>...</td>\n      <td>...</td>\n      <td>...</td>\n      <td>...</td>\n      <td>...</td>\n      <td>...</td>\n      <td>...</td>\n      <td>...</td>\n      <td>...</td>\n      <td>...</td>\n      <td>...</td>\n      <td>...</td>\n      <td>...</td>\n    </tr>\n    <tr>\n      <th>96_3$$163</th>\n      <td>Volvo</td>\n      <td>S40</td>\n      <td>96_3</td>\n      <td>2018</td>\n      <td>7</td>\n      <td>Silver</td>\n      <td>2007.0</td>\n      <td>Saloon</td>\n      <td>79500</td>\n      <td>2.0L</td>\n      <td>...</td>\n      <td>136.00</td>\n      <td>195</td>\n      <td>2640.0</td>\n      <td>1452.0</td>\n      <td>1770.0</td>\n      <td>4468.0</td>\n      <td>48.7 mpg</td>\n      <td>127 mph</td>\n      <td>5.0</td>\n      <td>4.0</td>\n    </tr>\n    <tr>\n      <th>96_4$$340</th>\n      <td>Volvo</td>\n      <td>S60</td>\n      <td>96_4</td>\n      <td>2018</td>\n      <td>6</td>\n      <td>Grey</td>\n      <td>2018.0</td>\n      <td>Saloon</td>\n      <td>18</td>\n      <td>2.0L</td>\n      <td>...</td>\n      <td>190.00</td>\n      <td>140*</td>\n      <td>2776.0</td>\n      <td>1484.0</td>\n      <td>2097.0</td>\n      <td>4635.0</td>\n      <td>48.7 mpg</td>\n      <td>143 mph</td>\n      <td>5.0</td>\n      <td>4.0</td>\n    </tr>\n    <tr>\n      <th>96_6$$82</th>\n      <td>Volvo</td>\n      <td>S90</td>\n      <td>96_6</td>\n      <td>2018</td>\n      <td>5</td>\n      <td>Black</td>\n      <td>2018.0</td>\n      <td>Saloon</td>\n      <td>100</td>\n      <td>2.0L</td>\n      <td>...</td>\n      <td>190.00</td>\n      <td>140*</td>\n      <td>2941.0</td>\n      <td>1443.0</td>\n      <td>2019.0</td>\n      <td>4963.0</td>\n      <td>64.2 mpg</td>\n      <td>140 mph</td>\n      <td>5.0</td>\n      <td>4.0</td>\n    </tr>\n    <tr>\n      <th>96_7$$266</th>\n      <td>Volvo</td>\n      <td>V40</td>\n      <td>96_7</td>\n      <td>2018</td>\n      <td>4</td>\n      <td>White</td>\n      <td>2016.0</td>\n      <td>Hatchback</td>\n      <td>15094</td>\n      <td>2.0L</td>\n      <td>...</td>\n      <td>120.00</td>\n      <td>0</td>\n      <td>2647.0</td>\n      <td>1439.0</td>\n      <td>2041.0</td>\n      <td>4369.0</td>\n      <td>78.5 mpg</td>\n      <td>118 mph</td>\n      <td>5.0</td>\n      <td>5.0</td>\n    </tr>\n    <tr>\n      <th>96_8$$618</th>\n      <td>Volvo</td>\n      <td>V40 Cross Country</td>\n      <td>96_8</td>\n      <td>2018</td>\n      <td>5</td>\n      <td>NaN</td>\n      <td>2018.0</td>\n      <td>Hatchback</td>\n      <td>3000</td>\n      <td>2.0L</td>\n      <td>...</td>\n      <td>152.00</td>\n      <td>140*</td>\n      <td>2646.0</td>\n      <td>1470.0</td>\n      <td>2041.0</td>\n      <td>4370.0</td>\n      <td>50.4 mpg</td>\n      <td>130 mph</td>\n      <td>5.0</td>\n      <td>5.0</td>\n    </tr>\n  </tbody>\n</table>\n<p>889 rows × 23 columns</p>\n</div>"
     },
     "execution_count": 8,
     "metadata": {},
     "output_type": "execute_result"
    }
   ],
   "source": [
    "cars[cars.duplicated()]"
   ],
   "metadata": {
    "collapsed": false,
    "ExecuteTime": {
     "end_time": "2024-02-12T12:41:12.769262Z",
     "start_time": "2024-02-12T12:41:12.432517Z"
    }
   },
   "id": "25e194bf5552abc5",
   "execution_count": 8
  },
  {
   "cell_type": "code",
   "outputs": [],
   "source": [
    "cars = cars.drop_duplicates()"
   ],
   "metadata": {
    "collapsed": false,
    "ExecuteTime": {
     "end_time": "2024-02-12T12:41:12.923898Z",
     "start_time": "2024-02-12T12:41:12.618247Z"
    }
   },
   "id": "81e31007c4d1f46c",
   "execution_count": 9
  },
  {
   "cell_type": "code",
   "outputs": [
    {
     "data": {
      "text/plain": "Empty DataFrame\nColumns: [maker, genmodel, genmodel_id, adv_year, adv_month, color, reg_year, body_type, run_miles, engine_size, gearbox, fuel_type, price, engine_power, annual_tax, wheelbase, height, width, length, average_mpg, top_speed, seat_num, door_num]\nIndex: []\n\n[0 rows x 23 columns]",
      "text/html": "<div>\n<style scoped>\n    .dataframe tbody tr th:only-of-type {\n        vertical-align: middle;\n    }\n\n    .dataframe tbody tr th {\n        vertical-align: top;\n    }\n\n    .dataframe thead th {\n        text-align: right;\n    }\n</style>\n<table border=\"1\" class=\"dataframe\">\n  <thead>\n    <tr style=\"text-align: right;\">\n      <th></th>\n      <th>maker</th>\n      <th>genmodel</th>\n      <th>genmodel_id</th>\n      <th>adv_year</th>\n      <th>adv_month</th>\n      <th>color</th>\n      <th>reg_year</th>\n      <th>body_type</th>\n      <th>run_miles</th>\n      <th>engine_size</th>\n      <th>...</th>\n      <th>engine_power</th>\n      <th>annual_tax</th>\n      <th>wheelbase</th>\n      <th>height</th>\n      <th>width</th>\n      <th>length</th>\n      <th>average_mpg</th>\n      <th>top_speed</th>\n      <th>seat_num</th>\n      <th>door_num</th>\n    </tr>\n    <tr>\n      <th>adv_id</th>\n      <th></th>\n      <th></th>\n      <th></th>\n      <th></th>\n      <th></th>\n      <th></th>\n      <th></th>\n      <th></th>\n      <th></th>\n      <th></th>\n      <th></th>\n      <th></th>\n      <th></th>\n      <th></th>\n      <th></th>\n      <th></th>\n      <th></th>\n      <th></th>\n      <th></th>\n      <th></th>\n      <th></th>\n    </tr>\n  </thead>\n  <tbody>\n  </tbody>\n</table>\n<p>0 rows × 23 columns</p>\n</div>"
     },
     "execution_count": 10,
     "metadata": {},
     "output_type": "execute_result"
    }
   ],
   "source": [
    "cars[cars.duplicated()]"
   ],
   "metadata": {
    "collapsed": false,
    "ExecuteTime": {
     "end_time": "2024-02-12T12:41:13.036810Z",
     "start_time": "2024-02-12T12:41:12.827944Z"
    }
   },
   "id": "d07791c37547ff1a",
   "execution_count": 10
  },
  {
   "cell_type": "markdown",
   "source": [
    "## General information"
   ],
   "metadata": {
    "collapsed": false
   },
   "id": "d869e4df55874731"
  },
  {
   "cell_type": "code",
   "outputs": [
    {
     "name": "stdout",
     "output_type": "stream",
     "text": [
      "<class 'pandas.core.frame.DataFrame'>\n",
      "Index: 267366 entries, 10_1$$1 to 99_1$$3\n",
      "Data columns (total 23 columns):\n",
      " #   Column        Non-Null Count   Dtype  \n",
      "---  ------        --------------   -----  \n",
      " 0   maker         267366 non-null  object \n",
      " 1   genmodel      267366 non-null  object \n",
      " 2   genmodel_id   267366 non-null  object \n",
      " 3   adv_year      267366 non-null  int64  \n",
      " 4   adv_month     267366 non-null  int64  \n",
      " 5   color         245621 non-null  object \n",
      " 6   reg_year      267360 non-null  float64\n",
      " 7   body_type     266429 non-null  object \n",
      " 8   run_miles     266323 non-null  object \n",
      " 9   engine_size   265313 non-null  object \n",
      " 10  gearbox       267200 non-null  object \n",
      " 11  fuel_type     266958 non-null  object \n",
      " 12  price         266240 non-null  float64\n",
      " 13  engine_power  235668 non-null  float64\n",
      " 14  annual_tax    220794 non-null  object \n",
      " 15  wheelbase     239452 non-null  float64\n",
      " 16  height        239649 non-null  float64\n",
      " 17  width         239370 non-null  float64\n",
      " 18  length        239649 non-null  float64\n",
      " 19  average_mpg   225554 non-null  object \n",
      " 20  top_speed     223885 non-null  object \n",
      " 21  seat_num      260927 non-null  float64\n",
      " 22  door_num      262839 non-null  float64\n",
      "dtypes: float64(9), int64(2), object(12)\n",
      "memory usage: 49.0+ MB\n"
     ]
    }
   ],
   "source": [
    "cars.info()"
   ],
   "metadata": {
    "collapsed": false,
    "ExecuteTime": {
     "end_time": "2024-02-12T12:41:13.202011Z",
     "start_time": "2024-02-12T12:41:13.006279Z"
    }
   },
   "id": "c03bb4ef28c05471",
   "execution_count": 11
  },
  {
   "cell_type": "code",
   "outputs": [
    {
     "data": {
      "text/plain": "maker              88\ngenmodel          896\ngenmodel_id       881\nadv_year           10\nadv_month          15\ncolor              22\nreg_year           26\nbody_type          18\nrun_miles       72420\nengine_size        74\ngearbox             3\nfuel_type          13\nprice           20456\nengine_power      466\nannual_tax         28\nwheelbase         427\nheight            579\nwidth             475\nlength            984\naverage_mpg       358\ntop_speed         138\nseat_num           10\ndoor_num            7\ndtype: int64"
     },
     "execution_count": 12,
     "metadata": {},
     "output_type": "execute_result"
    }
   ],
   "source": [
    "cars.nunique()"
   ],
   "metadata": {
    "collapsed": false,
    "ExecuteTime": {
     "end_time": "2024-02-12T12:41:13.300752Z",
     "start_time": "2024-02-12T12:41:13.121120Z"
    }
   },
   "id": "381df322cbf7ab9",
   "execution_count": 12
  },
  {
   "cell_type": "code",
   "outputs": [
    {
     "data": {
      "text/plain": "maker               0\ngenmodel            0\ngenmodel_id         0\nadv_year            0\nadv_month           0\ncolor           21745\nreg_year            6\nbody_type         937\nrun_miles        1043\nengine_size      2053\ngearbox           166\nfuel_type         408\nprice            1126\nengine_power    31698\nannual_tax      46572\nwheelbase       27914\nheight          27717\nwidth           27996\nlength          27717\naverage_mpg     41812\ntop_speed       43481\nseat_num         6439\ndoor_num         4527\ndtype: int64"
     },
     "execution_count": 13,
     "metadata": {},
     "output_type": "execute_result"
    }
   ],
   "source": [
    "cars.isna().sum()"
   ],
   "metadata": {
    "collapsed": false,
    "ExecuteTime": {
     "end_time": "2024-02-12T12:41:13.406555Z",
     "start_time": "2024-02-12T12:41:13.226610Z"
    }
   },
   "id": "b8698eefcc39c433",
   "execution_count": 13
  },
  {
   "cell_type": "markdown",
   "source": [
    "## Column by column walkthrough"
   ],
   "metadata": {
    "collapsed": false
   },
   "id": "b9aa0cb9224681a9"
  },
  {
   "cell_type": "markdown",
   "source": [
    "### maker column"
   ],
   "metadata": {
    "collapsed": false
   },
   "id": "eea3d1c40580e3df"
  },
  {
   "cell_type": "code",
   "outputs": [
    {
     "name": "stdout",
     "output_type": "stream",
     "text": [
      "<class 'pandas.core.series.Series'>\n",
      "Index: 267366 entries, 10_1$$1 to 99_1$$3\n",
      "Series name: maker\n",
      "Non-Null Count   Dtype \n",
      "--------------   ----- \n",
      "267366 non-null  object\n",
      "dtypes: object(1)\n",
      "memory usage: 4.1+ MB\n"
     ]
    }
   ],
   "source": [
    "cars['maker'].info()"
   ],
   "metadata": {
    "collapsed": false,
    "ExecuteTime": {
     "end_time": "2024-02-12T12:41:13.410032Z",
     "start_time": "2024-02-12T12:41:13.292814Z"
    }
   },
   "id": "4788802cfa513a63",
   "execution_count": 14
  },
  {
   "cell_type": "code",
   "outputs": [
    {
     "data": {
      "text/plain": "88"
     },
     "execution_count": 15,
     "metadata": {},
     "output_type": "execute_result"
    }
   ],
   "source": [
    "cars['maker'].nunique()"
   ],
   "metadata": {
    "collapsed": false,
    "ExecuteTime": {
     "end_time": "2024-02-12T12:41:13.437838Z",
     "start_time": "2024-02-12T12:41:13.304187Z"
    }
   },
   "id": "91274229d70aad80",
   "execution_count": 15
  },
  {
   "cell_type": "code",
   "outputs": [],
   "source": [
    "cars['maker'] = cars['maker'].astype('category')"
   ],
   "metadata": {
    "collapsed": false,
    "ExecuteTime": {
     "end_time": "2024-02-12T12:41:13.441142Z",
     "start_time": "2024-02-12T12:41:13.308209Z"
    }
   },
   "id": "ac48b44193c403e3",
   "execution_count": 16
  },
  {
   "cell_type": "markdown",
   "source": [
    "### genmodel column"
   ],
   "metadata": {
    "collapsed": false
   },
   "id": "960b5467ca0f5a96"
  },
  {
   "cell_type": "code",
   "outputs": [
    {
     "data": {
      "text/plain": "genmodel\nRoadster    3\nCoupe       3\nGT          3\nInsignia    2\nZafira      2\n           ..\nDoblo       1\nDouble R    1\nDuster      1\nE Class     1\nup!         1\nName: genmodel_id, Length: 896, dtype: int64"
     },
     "execution_count": 17,
     "metadata": {},
     "output_type": "execute_result"
    }
   ],
   "source": [
    "genmodel_counts = cars.groupby('genmodel')['genmodel_id'].aggregate(func='nunique').sort_values(ascending=False)\n",
    "genmodel_counts"
   ],
   "metadata": {
    "collapsed": false,
    "ExecuteTime": {
     "end_time": "2024-02-12T12:41:13.451586Z",
     "start_time": "2024-02-12T12:41:13.320080Z"
    }
   },
   "id": "3ebb213062fdb8bf",
   "execution_count": 17
  },
  {
   "cell_type": "code",
   "outputs": [
    {
     "data": {
      "text/plain": "Index(['Roadster', 'Coupe', 'GT', 'Insignia', 'Zafira', '4', 'Astra', 'C6',\n       'Tacuma', 'Lacetti', '308', '124 Spider', '500', 'Matiz', 'Kalos',\n       'California', 'Spider'],\n      dtype='object', name='genmodel')"
     },
     "execution_count": 18,
     "metadata": {},
     "output_type": "execute_result"
    }
   ],
   "source": [
    "genmodel_names = genmodel_counts[genmodel_counts > 1].index\n",
    "genmodel_names"
   ],
   "metadata": {
    "collapsed": false,
    "ExecuteTime": {
     "end_time": "2024-02-12T12:41:13.454737Z",
     "start_time": "2024-02-12T12:41:13.349934Z"
    }
   },
   "id": "f18abe868f5a917d",
   "execution_count": 18
  },
  {
   "cell_type": "code",
   "outputs": [
    {
     "data": {
      "text/plain": "genmodel    genmodel_id\n124 Spider  28_1            108\n            2_1              29\n308         27_1              3\n            69_18           795\n4           21_3            125\n            63_1              5\n500         28_2           2769\n            59_7              2\nAstra       66_1              1\n            94_5           3169\nC6          18_16            12\n            19_1              1\nCalifornia  27_13            88\n            95_9             56\nCoupe       36_3             20\n            54_5            234\n            55_4              8\nGT          29_22             4\n            41_1              1\n            4_12             17\nInsignia    66_2              2\n            94_13          2070\nKalos       16_10            50\n            23_1              9\nLacetti     16_11            49\n            23_2              1\nMatiz       16_12            90\n            23_3              6\nRoadster    54_8            273\n            63_5              2\n            84_3             18\nSpider      28_25             1\n            4_15             41\nTacuma      16_16            18\n            23_5              2\nZafira      66_3              1\n            94_27          1340\ndtype: int64"
     },
     "execution_count": 19,
     "metadata": {},
     "output_type": "execute_result"
    }
   ],
   "source": [
    "cars[cars['genmodel'].isin(genmodel_names)].groupby(by=['genmodel', 'genmodel_id']).size()"
   ],
   "metadata": {
    "collapsed": false,
    "ExecuteTime": {
     "end_time": "2024-02-12T12:41:13.465343Z",
     "start_time": "2024-02-12T12:41:13.359372Z"
    }
   },
   "id": "4ea0e73b9b76d6f8",
   "execution_count": 19
  },
  {
   "cell_type": "markdown",
   "source": [
    "### genmodel_id column"
   ],
   "metadata": {
    "collapsed": false
   },
   "id": "ac915a132d095443"
  },
  {
   "cell_type": "code",
   "outputs": [
    {
     "data": {
      "text/plain": "genmodel_id\n48_24    7\n48_8     7\n48_2     6\n7_11     5\n48_18    4\n        ..\n47_16    1\n47_17    1\n47_2     1\n47_3     1\n99_1     1\nName: genmodel, Length: 881, dtype: int64"
     },
     "execution_count": 20,
     "metadata": {},
     "output_type": "execute_result"
    }
   ],
   "source": [
    "genmodel_id_counts = cars.groupby('genmodel_id')['genmodel'].aggregate(func='nunique').sort_values(ascending=False)\n",
    "genmodel_id_counts"
   ],
   "metadata": {
    "collapsed": false,
    "ExecuteTime": {
     "end_time": "2024-02-12T12:41:13.544309Z",
     "start_time": "2024-02-12T12:41:13.368106Z"
    }
   },
   "id": "d839f38a44c73da9",
   "execution_count": 20
  },
  {
   "cell_type": "code",
   "outputs": [
    {
     "data": {
      "text/plain": "Index(['48_24', '48_8', '48_2', '7_11', '48_18', '48_21', '48_15', '21_1',\n       '48_1', '48_14', '21_5', '21_3'],\n      dtype='object', name='genmodel_id')"
     },
     "execution_count": 21,
     "metadata": {},
     "output_type": "execute_result"
    }
   ],
   "source": [
    "genmodel_ids = genmodel_id_counts[genmodel_id_counts > 1].index\n",
    "genmodel_ids"
   ],
   "metadata": {
    "collapsed": false,
    "ExecuteTime": {
     "end_time": "2024-02-12T12:41:13.547234Z",
     "start_time": "2024-02-12T12:41:13.397248Z"
    }
   },
   "id": "5681a5e046a6c3b7",
   "execution_count": 21
  },
  {
   "cell_type": "code",
   "outputs": [
    {
     "data": {
      "text/plain": "genmodel_id  genmodel      \n21_1         3                  343\n             DS3               1036\n             DS3 Cabrio         230\n21_3         4                  125\n             DS4                460\n21_5         5                   78\n             DS5                157\n48_1         CT                  41\n             CT 200h             55\n48_14        LC                   1\n             LC 500              23\n48_15        LS 430              17\n             LS 460              16\n             LS 600h             14\n48_18        NX                  70\n             NX 200t              7\n             NX 300h            450\n             NX Unspecified       6\n48_2         GS 250              17\n             GS 300             121\n             GS 430               1\n             GS 450h             51\n             GS F                 6\n             GS Unspecified       1\n48_21        RC                  16\n             RC 200t              3\n             RC 300h             69\n             RC F                 5\n48_24        RX                  45\n             RX 200t              4\n             RX 300              81\n             RX 350              21\n             RX 400h            189\n             RX 450h            633\n             Rx Unspecified       4\n48_8         IS                  44\n             IS 200              70\n             IS 220d            236\n             IS 250             289\n             IS 300             506\n             IS F                 5\n             IS Unspecified       2\n7_11         A6                 278\n             A6 Allroad         205\n             A6 Avant          1022\n             A6 Saloon         1379\n             A6 Unspecified      73\ndtype: int64"
     },
     "execution_count": 22,
     "metadata": {},
     "output_type": "execute_result"
    }
   ],
   "source": [
    "cars[cars['genmodel_id'].isin(genmodel_ids)].groupby(by=['genmodel_id', 'genmodel']).size()"
   ],
   "metadata": {
    "collapsed": false,
    "ExecuteTime": {
     "end_time": "2024-02-12T12:41:13.612618Z",
     "start_time": "2024-02-12T12:41:13.400668Z"
    }
   },
   "id": "f2b8aace84be8d7c",
   "execution_count": 22
  },
  {
   "cell_type": "markdown",
   "source": [
    "### adv_year column"
   ],
   "metadata": {
    "collapsed": false
   },
   "id": "82c105e295ce2480"
  },
  {
   "cell_type": "code",
   "outputs": [
    {
     "name": "stdout",
     "output_type": "stream",
     "text": [
      "<class 'pandas.core.series.Series'>\n",
      "Index: 267366 entries, 10_1$$1 to 99_1$$3\n",
      "Series name: adv_year\n",
      "Non-Null Count   Dtype\n",
      "--------------   -----\n",
      "267366 non-null  int64\n",
      "dtypes: int64(1)\n",
      "memory usage: 4.1+ MB\n"
     ]
    }
   ],
   "source": [
    "cars['adv_year'].info()"
   ],
   "metadata": {
    "collapsed": false,
    "ExecuteTime": {
     "end_time": "2024-02-12T12:41:13.615832Z",
     "start_time": "2024-02-12T12:41:13.416213Z"
    }
   },
   "id": "e18d9de8a5602d3c",
   "execution_count": 23
  },
  {
   "cell_type": "code",
   "outputs": [
    {
     "data": {
      "text/plain": "count    267366.000000\nmean       2018.128090\nstd           0.748296\nmin        2012.000000\n25%        2018.000000\n50%        2018.000000\n75%        2018.000000\nmax        2021.000000\nName: adv_year, dtype: float64"
     },
     "execution_count": 24,
     "metadata": {},
     "output_type": "execute_result"
    }
   ],
   "source": [
    "cars['adv_year'].describe()"
   ],
   "metadata": {
    "collapsed": false,
    "ExecuteTime": {
     "end_time": "2024-02-12T12:41:13.619650Z",
     "start_time": "2024-02-12T12:41:13.420746Z"
    }
   },
   "id": "ede4fb3ca0fe08",
   "execution_count": 24
  },
  {
   "cell_type": "code",
   "outputs": [
    {
     "data": {
      "text/plain": "adv_year\n2012         3\n2013         7\n2014        27\n2015       105\n2016       581\n2017     11302\n2018    239118\n2019       107\n2020      1268\n2021     14848\nName: count, dtype: int64"
     },
     "execution_count": 25,
     "metadata": {},
     "output_type": "execute_result"
    }
   ],
   "source": [
    "cars['adv_year'].value_counts().sort_index()"
   ],
   "metadata": {
    "collapsed": false,
    "ExecuteTime": {
     "end_time": "2024-02-12T12:41:13.622716Z",
     "start_time": "2024-02-12T12:41:13.429482Z"
    }
   },
   "id": "a6aa2ee6301347d6",
   "execution_count": 25
  },
  {
   "cell_type": "markdown",
   "source": [
    "### adv_month column"
   ],
   "metadata": {
    "collapsed": false
   },
   "id": "166cba919e6f8541"
  },
  {
   "cell_type": "code",
   "outputs": [
    {
     "name": "stdout",
     "output_type": "stream",
     "text": [
      "<class 'pandas.core.series.Series'>\n",
      "Index: 267366 entries, 10_1$$1 to 99_1$$3\n",
      "Series name: adv_month\n",
      "Non-Null Count   Dtype\n",
      "--------------   -----\n",
      "267366 non-null  int64\n",
      "dtypes: int64(1)\n",
      "memory usage: 4.1+ MB\n"
     ]
    }
   ],
   "source": [
    "cars['adv_month'].info()"
   ],
   "metadata": {
    "collapsed": false,
    "ExecuteTime": {
     "end_time": "2024-02-12T12:41:13.633751Z",
     "start_time": "2024-02-12T12:41:13.432321Z"
    }
   },
   "id": "7a47705733165ed7",
   "execution_count": 26
  },
  {
   "cell_type": "code",
   "outputs": [
    {
     "data": {
      "text/plain": "count    267366.000000\nmean          5.627391\nstd           2.092337\nmin           1.000000\n25%           4.000000\n50%           5.000000\n75%           7.000000\nmax          33.000000\nName: adv_month, dtype: float64"
     },
     "execution_count": 27,
     "metadata": {},
     "output_type": "execute_result"
    }
   ],
   "source": [
    "cars['adv_month'].describe()"
   ],
   "metadata": {
    "collapsed": false,
    "ExecuteTime": {
     "end_time": "2024-02-12T12:41:13.648006Z",
     "start_time": "2024-02-12T12:41:13.438063Z"
    }
   },
   "id": "8f0baae0e3525399",
   "execution_count": 27
  },
  {
   "cell_type": "code",
   "outputs": [
    {
     "data": {
      "text/plain": "adv_month\n5     66773\n8     50958\n4     41093\n7     35144\n6     25841\n3     21704\n2      9827\n1      6058\n12     2975\n11     2858\n10     2405\n9      1727\n13        1\n17        1\n33        1\nName: count, dtype: int64"
     },
     "execution_count": 28,
     "metadata": {},
     "output_type": "execute_result"
    }
   ],
   "source": [
    "cars['adv_month'].value_counts()"
   ],
   "metadata": {
    "collapsed": false,
    "ExecuteTime": {
     "end_time": "2024-02-12T12:41:13.655843Z",
     "start_time": "2024-02-12T12:41:13.448516Z"
    }
   },
   "id": "ed6ffbf8d22e622c",
   "execution_count": 28
  },
  {
   "cell_type": "code",
   "outputs": [
    {
     "data": {
      "text/plain": "                 maker  genmodel genmodel_id  adv_year  adv_month  color  \\\nadv_id                                                                     \n29_32$$75         Ford  Streetka       29_32      2012         13   Blue   \n69_23$$2       Peugeot       407       69_23      2012         17   Blue   \n77_4$$10   Rolls-Royce   Phantom        77_4      2012         33  Black   \n\n           reg_year    body_type run_miles engine_size  ... engine_power  \\\nadv_id                                                  ...                \n29_32$$75    2005.0  Convertible     22000        1.6L  ...         94.0   \n69_23$$2     2006.0        Coupe     77000        2.7L  ...        205.0   \n77_4$$10     2007.0       Saloon     20000        6.7L  ...          NaN   \n\n          annual_tax  wheelbase  height   width  length  average_mpg  \\\nadv_id                                                                 \n29_32$$75        NaN     2450.0  1332.0  1852.0  3650.0     35.8 mpg   \n69_23$$2         NaN     2725.0  1399.0  1868.0  4815.0     33.2 mpg   \n77_4$$10         555        NaN     NaN     NaN     NaN          NaN   \n\n           top_speed  seat_num door_num  \nadv_id                                   \n29_32$$75    108 mph       2.0      2.0  \n69_23$$2     143 mph       4.0      2.0  \n77_4$$10         NaN       5.0      NaN  \n\n[3 rows x 23 columns]",
      "text/html": "<div>\n<style scoped>\n    .dataframe tbody tr th:only-of-type {\n        vertical-align: middle;\n    }\n\n    .dataframe tbody tr th {\n        vertical-align: top;\n    }\n\n    .dataframe thead th {\n        text-align: right;\n    }\n</style>\n<table border=\"1\" class=\"dataframe\">\n  <thead>\n    <tr style=\"text-align: right;\">\n      <th></th>\n      <th>maker</th>\n      <th>genmodel</th>\n      <th>genmodel_id</th>\n      <th>adv_year</th>\n      <th>adv_month</th>\n      <th>color</th>\n      <th>reg_year</th>\n      <th>body_type</th>\n      <th>run_miles</th>\n      <th>engine_size</th>\n      <th>...</th>\n      <th>engine_power</th>\n      <th>annual_tax</th>\n      <th>wheelbase</th>\n      <th>height</th>\n      <th>width</th>\n      <th>length</th>\n      <th>average_mpg</th>\n      <th>top_speed</th>\n      <th>seat_num</th>\n      <th>door_num</th>\n    </tr>\n    <tr>\n      <th>adv_id</th>\n      <th></th>\n      <th></th>\n      <th></th>\n      <th></th>\n      <th></th>\n      <th></th>\n      <th></th>\n      <th></th>\n      <th></th>\n      <th></th>\n      <th></th>\n      <th></th>\n      <th></th>\n      <th></th>\n      <th></th>\n      <th></th>\n      <th></th>\n      <th></th>\n      <th></th>\n      <th></th>\n      <th></th>\n    </tr>\n  </thead>\n  <tbody>\n    <tr>\n      <th>29_32$$75</th>\n      <td>Ford</td>\n      <td>Streetka</td>\n      <td>29_32</td>\n      <td>2012</td>\n      <td>13</td>\n      <td>Blue</td>\n      <td>2005.0</td>\n      <td>Convertible</td>\n      <td>22000</td>\n      <td>1.6L</td>\n      <td>...</td>\n      <td>94.0</td>\n      <td>NaN</td>\n      <td>2450.0</td>\n      <td>1332.0</td>\n      <td>1852.0</td>\n      <td>3650.0</td>\n      <td>35.8 mpg</td>\n      <td>108 mph</td>\n      <td>2.0</td>\n      <td>2.0</td>\n    </tr>\n    <tr>\n      <th>69_23$$2</th>\n      <td>Peugeot</td>\n      <td>407</td>\n      <td>69_23</td>\n      <td>2012</td>\n      <td>17</td>\n      <td>Blue</td>\n      <td>2006.0</td>\n      <td>Coupe</td>\n      <td>77000</td>\n      <td>2.7L</td>\n      <td>...</td>\n      <td>205.0</td>\n      <td>NaN</td>\n      <td>2725.0</td>\n      <td>1399.0</td>\n      <td>1868.0</td>\n      <td>4815.0</td>\n      <td>33.2 mpg</td>\n      <td>143 mph</td>\n      <td>4.0</td>\n      <td>2.0</td>\n    </tr>\n    <tr>\n      <th>77_4$$10</th>\n      <td>Rolls-Royce</td>\n      <td>Phantom</td>\n      <td>77_4</td>\n      <td>2012</td>\n      <td>33</td>\n      <td>Black</td>\n      <td>2007.0</td>\n      <td>Saloon</td>\n      <td>20000</td>\n      <td>6.7L</td>\n      <td>...</td>\n      <td>NaN</td>\n      <td>555</td>\n      <td>NaN</td>\n      <td>NaN</td>\n      <td>NaN</td>\n      <td>NaN</td>\n      <td>NaN</td>\n      <td>NaN</td>\n      <td>5.0</td>\n      <td>NaN</td>\n    </tr>\n  </tbody>\n</table>\n<p>3 rows × 23 columns</p>\n</div>"
     },
     "execution_count": 29,
     "metadata": {},
     "output_type": "execute_result"
    }
   ],
   "source": [
    "cars[cars['adv_month'] > 12]"
   ],
   "metadata": {
    "collapsed": false,
    "ExecuteTime": {
     "end_time": "2024-02-12T12:41:13.676563Z",
     "start_time": "2024-02-12T12:41:13.451466Z"
    }
   },
   "id": "fb532ef1bec1578a",
   "execution_count": 29
  },
  {
   "cell_type": "code",
   "outputs": [],
   "source": [
    "cars = cars[cars['adv_month'] <= 12]"
   ],
   "metadata": {
    "collapsed": false,
    "ExecuteTime": {
     "end_time": "2024-02-12T12:41:13.692138Z",
     "start_time": "2024-02-12T12:41:13.458252Z"
    }
   },
   "id": "57a7d2c380e5335a",
   "execution_count": 30
  },
  {
   "cell_type": "markdown",
   "source": [
    "### color column"
   ],
   "metadata": {
    "collapsed": false
   },
   "id": "e40177e645e0b1e8"
  },
  {
   "cell_type": "code",
   "outputs": [
    {
     "name": "stdout",
     "output_type": "stream",
     "text": [
      "<class 'pandas.core.series.Series'>\n",
      "Index: 267363 entries, 10_1$$1 to 99_1$$3\n",
      "Series name: color\n",
      "Non-Null Count   Dtype \n",
      "--------------   ----- \n",
      "245618 non-null  object\n",
      "dtypes: object(1)\n",
      "memory usage: 4.1+ MB\n"
     ]
    }
   ],
   "source": [
    "cars['color'].info()"
   ],
   "metadata": {
    "collapsed": false,
    "ExecuteTime": {
     "end_time": "2024-02-12T12:41:13.695785Z",
     "start_time": "2024-02-12T12:41:13.493828Z"
    }
   },
   "id": "427729b6146dbce5",
   "execution_count": 31
  },
  {
   "cell_type": "code",
   "outputs": [
    {
     "data": {
      "text/plain": "color\nBlack          48613\nSilver         40147\nBlue           38267\nGrey           37591\nWhite          34099\nRed            25835\nNaN            21745\nGreen           5020\nYellow          3063\nBrown           2876\nOrange          2821\nBeige           1980\nPurple          1360\nGold            1221\nBronze          1200\nMulticolour      794\nPink             298\nMaroon           179\nTurquoise        176\nBurgundy          48\nMagenta           18\nNavy               8\nIndigo             4\nName: count, dtype: int64"
     },
     "execution_count": 32,
     "metadata": {},
     "output_type": "execute_result"
    }
   ],
   "source": [
    "cars['color'].value_counts(dropna=False)"
   ],
   "metadata": {
    "collapsed": false,
    "ExecuteTime": {
     "end_time": "2024-02-12T12:41:13.699066Z",
     "start_time": "2024-02-12T12:41:13.506130Z"
    }
   },
   "id": "356980a82d8749a5",
   "execution_count": 32
  },
  {
   "cell_type": "code",
   "outputs": [],
   "source": [
    "cars['color'] = cars['color'].astype('category')"
   ],
   "metadata": {
    "collapsed": false,
    "ExecuteTime": {
     "end_time": "2024-02-12T12:41:13.821791Z",
     "start_time": "2024-02-12T12:41:13.519382Z"
    }
   },
   "id": "e7365ad079eda454",
   "execution_count": 33
  },
  {
   "cell_type": "markdown",
   "source": [
    "### reg_year column"
   ],
   "metadata": {
    "collapsed": false
   },
   "id": "cd9858a4f4c62c6d"
  },
  {
   "cell_type": "code",
   "outputs": [
    {
     "name": "stdout",
     "output_type": "stream",
     "text": [
      "<class 'pandas.core.series.Series'>\n",
      "Index: 267363 entries, 10_1$$1 to 99_1$$3\n",
      "Series name: reg_year\n",
      "Non-Null Count   Dtype  \n",
      "--------------   -----  \n",
      "267357 non-null  float64\n",
      "dtypes: float64(1)\n",
      "memory usage: 4.1+ MB\n"
     ]
    }
   ],
   "source": [
    "cars['reg_year'].info()"
   ],
   "metadata": {
    "collapsed": false,
    "ExecuteTime": {
     "end_time": "2024-02-12T12:41:13.825240Z",
     "start_time": "2024-02-12T12:41:13.522636Z"
    }
   },
   "id": "2bee9308366deae5",
   "execution_count": 34
  },
  {
   "cell_type": "code",
   "outputs": [
    {
     "data": {
      "text/plain": "          maker             genmodel genmodel_id  adv_year  adv_month   color  \\\nadv_id                                                                          \n8_11$$225   BMW             6 Series        8_11      2018          3   Black   \n8_11$$227   BMW             6 Series        8_11      2018          1  Silver   \n8_12$$103   BMW  6 Series Gran Coupe        8_12      2018          2   Black   \n8_14$$369   BMW             7 Series        8_14      2018          4    Grey   \n8_14$$405   BMW             7 Series        8_14      2018          2   Black   \n8_29$$160   BMW                   M2        8_29      2018          4   Black   \n\n           reg_year body_type run_miles engine_size  ... engine_power  \\\nadv_id                                               ...                \n8_11$$225       NaN       NaN       NaN         NaN  ...          NaN   \n8_11$$227       NaN       NaN       NaN         NaN  ...          NaN   \n8_12$$103       NaN       NaN       NaN         NaN  ...          NaN   \n8_14$$369       NaN       NaN       NaN         NaN  ...          NaN   \n8_14$$405       NaN       NaN       NaN         NaN  ...          NaN   \n8_29$$160       NaN       NaN       NaN         NaN  ...          NaN   \n\n          annual_tax  wheelbase  height width  length  average_mpg  top_speed  \\\nadv_id                                                                          \n8_11$$225        NaN        NaN     NaN   NaN     NaN          NaN        NaN   \n8_11$$227        NaN        NaN     NaN   NaN     NaN          NaN        NaN   \n8_12$$103        NaN        NaN     NaN   NaN     NaN          NaN        NaN   \n8_14$$369        NaN        NaN     NaN   NaN     NaN          NaN        NaN   \n8_14$$405        NaN        NaN     NaN   NaN     NaN          NaN        NaN   \n8_29$$160        NaN        NaN     NaN   NaN     NaN          NaN        NaN   \n\n           seat_num door_num  \nadv_id                        \n8_11$$225       NaN      NaN  \n8_11$$227       NaN      NaN  \n8_12$$103       NaN      NaN  \n8_14$$369       NaN      NaN  \n8_14$$405       NaN      NaN  \n8_29$$160       NaN      NaN  \n\n[6 rows x 23 columns]",
      "text/html": "<div>\n<style scoped>\n    .dataframe tbody tr th:only-of-type {\n        vertical-align: middle;\n    }\n\n    .dataframe tbody tr th {\n        vertical-align: top;\n    }\n\n    .dataframe thead th {\n        text-align: right;\n    }\n</style>\n<table border=\"1\" class=\"dataframe\">\n  <thead>\n    <tr style=\"text-align: right;\">\n      <th></th>\n      <th>maker</th>\n      <th>genmodel</th>\n      <th>genmodel_id</th>\n      <th>adv_year</th>\n      <th>adv_month</th>\n      <th>color</th>\n      <th>reg_year</th>\n      <th>body_type</th>\n      <th>run_miles</th>\n      <th>engine_size</th>\n      <th>...</th>\n      <th>engine_power</th>\n      <th>annual_tax</th>\n      <th>wheelbase</th>\n      <th>height</th>\n      <th>width</th>\n      <th>length</th>\n      <th>average_mpg</th>\n      <th>top_speed</th>\n      <th>seat_num</th>\n      <th>door_num</th>\n    </tr>\n    <tr>\n      <th>adv_id</th>\n      <th></th>\n      <th></th>\n      <th></th>\n      <th></th>\n      <th></th>\n      <th></th>\n      <th></th>\n      <th></th>\n      <th></th>\n      <th></th>\n      <th></th>\n      <th></th>\n      <th></th>\n      <th></th>\n      <th></th>\n      <th></th>\n      <th></th>\n      <th></th>\n      <th></th>\n      <th></th>\n      <th></th>\n    </tr>\n  </thead>\n  <tbody>\n    <tr>\n      <th>8_11$$225</th>\n      <td>BMW</td>\n      <td>6 Series</td>\n      <td>8_11</td>\n      <td>2018</td>\n      <td>3</td>\n      <td>Black</td>\n      <td>NaN</td>\n      <td>NaN</td>\n      <td>NaN</td>\n      <td>NaN</td>\n      <td>...</td>\n      <td>NaN</td>\n      <td>NaN</td>\n      <td>NaN</td>\n      <td>NaN</td>\n      <td>NaN</td>\n      <td>NaN</td>\n      <td>NaN</td>\n      <td>NaN</td>\n      <td>NaN</td>\n      <td>NaN</td>\n    </tr>\n    <tr>\n      <th>8_11$$227</th>\n      <td>BMW</td>\n      <td>6 Series</td>\n      <td>8_11</td>\n      <td>2018</td>\n      <td>1</td>\n      <td>Silver</td>\n      <td>NaN</td>\n      <td>NaN</td>\n      <td>NaN</td>\n      <td>NaN</td>\n      <td>...</td>\n      <td>NaN</td>\n      <td>NaN</td>\n      <td>NaN</td>\n      <td>NaN</td>\n      <td>NaN</td>\n      <td>NaN</td>\n      <td>NaN</td>\n      <td>NaN</td>\n      <td>NaN</td>\n      <td>NaN</td>\n    </tr>\n    <tr>\n      <th>8_12$$103</th>\n      <td>BMW</td>\n      <td>6 Series Gran Coupe</td>\n      <td>8_12</td>\n      <td>2018</td>\n      <td>2</td>\n      <td>Black</td>\n      <td>NaN</td>\n      <td>NaN</td>\n      <td>NaN</td>\n      <td>NaN</td>\n      <td>...</td>\n      <td>NaN</td>\n      <td>NaN</td>\n      <td>NaN</td>\n      <td>NaN</td>\n      <td>NaN</td>\n      <td>NaN</td>\n      <td>NaN</td>\n      <td>NaN</td>\n      <td>NaN</td>\n      <td>NaN</td>\n    </tr>\n    <tr>\n      <th>8_14$$369</th>\n      <td>BMW</td>\n      <td>7 Series</td>\n      <td>8_14</td>\n      <td>2018</td>\n      <td>4</td>\n      <td>Grey</td>\n      <td>NaN</td>\n      <td>NaN</td>\n      <td>NaN</td>\n      <td>NaN</td>\n      <td>...</td>\n      <td>NaN</td>\n      <td>NaN</td>\n      <td>NaN</td>\n      <td>NaN</td>\n      <td>NaN</td>\n      <td>NaN</td>\n      <td>NaN</td>\n      <td>NaN</td>\n      <td>NaN</td>\n      <td>NaN</td>\n    </tr>\n    <tr>\n      <th>8_14$$405</th>\n      <td>BMW</td>\n      <td>7 Series</td>\n      <td>8_14</td>\n      <td>2018</td>\n      <td>2</td>\n      <td>Black</td>\n      <td>NaN</td>\n      <td>NaN</td>\n      <td>NaN</td>\n      <td>NaN</td>\n      <td>...</td>\n      <td>NaN</td>\n      <td>NaN</td>\n      <td>NaN</td>\n      <td>NaN</td>\n      <td>NaN</td>\n      <td>NaN</td>\n      <td>NaN</td>\n      <td>NaN</td>\n      <td>NaN</td>\n      <td>NaN</td>\n    </tr>\n    <tr>\n      <th>8_29$$160</th>\n      <td>BMW</td>\n      <td>M2</td>\n      <td>8_29</td>\n      <td>2018</td>\n      <td>4</td>\n      <td>Black</td>\n      <td>NaN</td>\n      <td>NaN</td>\n      <td>NaN</td>\n      <td>NaN</td>\n      <td>...</td>\n      <td>NaN</td>\n      <td>NaN</td>\n      <td>NaN</td>\n      <td>NaN</td>\n      <td>NaN</td>\n      <td>NaN</td>\n      <td>NaN</td>\n      <td>NaN</td>\n      <td>NaN</td>\n      <td>NaN</td>\n    </tr>\n  </tbody>\n</table>\n<p>6 rows × 23 columns</p>\n</div>"
     },
     "execution_count": 35,
     "metadata": {},
     "output_type": "execute_result"
    }
   ],
   "source": [
    "cars[cars['reg_year'].isna()]"
   ],
   "metadata": {
    "collapsed": false,
    "ExecuteTime": {
     "end_time": "2024-02-12T12:41:13.838458Z",
     "start_time": "2024-02-12T12:41:13.530576Z"
    }
   },
   "id": "b328e979937f8715",
   "execution_count": 35
  },
  {
   "cell_type": "code",
   "outputs": [],
   "source": [
    "cars = cars.dropna(subset=['reg_year'])\n",
    "cars['reg_year'] = cars['reg_year'].astype('int')"
   ],
   "metadata": {
    "collapsed": false,
    "ExecuteTime": {
     "end_time": "2024-02-12T12:41:13.859734Z",
     "start_time": "2024-02-12T12:41:13.538002Z"
    }
   },
   "id": "c3f72b0469cc5afc",
   "execution_count": 36
  },
  {
   "cell_type": "markdown",
   "source": [
    "### body_type column"
   ],
   "metadata": {
    "collapsed": false
   },
   "id": "de3b6ca57a35fa3c"
  },
  {
   "cell_type": "code",
   "outputs": [
    {
     "name": "stdout",
     "output_type": "stream",
     "text": [
      "<class 'pandas.core.series.Series'>\n",
      "Index: 267357 entries, 10_1$$1 to 99_1$$3\n",
      "Series name: body_type\n",
      "Non-Null Count   Dtype \n",
      "--------------   ----- \n",
      "266426 non-null  object\n",
      "dtypes: object(1)\n",
      "memory usage: 4.1+ MB\n"
     ]
    }
   ],
   "source": [
    "cars['body_type'].info()"
   ],
   "metadata": {
    "collapsed": false,
    "ExecuteTime": {
     "end_time": "2024-02-12T12:41:13.868344Z",
     "start_time": "2024-02-12T12:41:13.571180Z"
    }
   },
   "id": "20c783eeeb4a9f23",
   "execution_count": 37
  },
  {
   "cell_type": "code",
   "outputs": [
    {
     "data": {
      "text/plain": "body_type\nHatchback          103244\nSUV                 64174\nSaloon              22561\nMPV                 22481\nCoupe               17051\nEstate              16784\nConvertible         13195\nPickup               5247\nNaN                   931\nCombi Van             655\nPanel Van             476\nMinibus               228\nCar Derived Van       118\nLimousine              93\nWindow Van             88\nCamper                 24\nManual                  5\nTipper                  1\nChassis Cab             1\nName: count, dtype: int64"
     },
     "execution_count": 38,
     "metadata": {},
     "output_type": "execute_result"
    }
   ],
   "source": [
    "cars['body_type'].value_counts(dropna=False)"
   ],
   "metadata": {
    "collapsed": false,
    "ExecuteTime": {
     "end_time": "2024-02-12T12:41:13.885822Z",
     "start_time": "2024-02-12T12:41:13.583023Z"
    }
   },
   "id": "7a960610508ff00e",
   "execution_count": 38
  },
  {
   "cell_type": "code",
   "outputs": [],
   "source": [
    "cars['body_type'] = cars['body_type'].astype('category')"
   ],
   "metadata": {
    "collapsed": false,
    "ExecuteTime": {
     "end_time": "2024-02-12T12:41:13.888750Z",
     "start_time": "2024-02-12T12:41:13.595549Z"
    }
   },
   "id": "8aac70e98c7be833",
   "execution_count": 39
  },
  {
   "cell_type": "code",
   "outputs": [
    {
     "data": {
      "text/plain": "               maker     genmodel genmodel_id  adv_year  adv_month   color  \\\nadv_id                                                                       \n28_27$$2        Fiat      Talento       28_27      2018          3    Grey   \n94_10$$203  Vauxhall  Crossland X       94_10      2018          8   White   \n94_24$$118  Vauxhall       Vivaro       94_24      2017          5   Green   \n94_24$$182  Vauxhall       Vivaro       94_24      2016          9  Silver   \n94_24$$88   Vauxhall       Vivaro       94_24      2016          7     NaN   \n\n            reg_year body_type run_miles engine_size  ... engine_power  \\\nadv_id                                                ...                \n28_27$$2        2018    Manual       NaN         NaN  ...          NaN   \n94_10$$203      2018    Manual       NaN         NaN  ...          NaN   \n94_24$$118      2018    Manual       NaN         NaN  ...          NaN   \n94_24$$182      2018    Manual       NaN         NaN  ...          NaN   \n94_24$$88       2018    Manual       NaN         NaN  ...          NaN   \n\n           annual_tax  wheelbase  height width  length  average_mpg  \\\nadv_id                                                                \n28_27$$2          NaN        NaN     NaN   NaN     NaN          NaN   \n94_10$$203        NaN        NaN     NaN   NaN     NaN          NaN   \n94_24$$118        NaN        NaN     NaN   NaN     NaN          NaN   \n94_24$$182        NaN        NaN     NaN   NaN     NaN          NaN   \n94_24$$88         NaN        NaN     NaN   NaN     NaN          NaN   \n\n            top_speed  seat_num door_num  \nadv_id                                    \n28_27$$2          NaN       NaN      NaN  \n94_10$$203        NaN       NaN      5.0  \n94_24$$118        NaN       NaN      NaN  \n94_24$$182        NaN       NaN      NaN  \n94_24$$88         NaN       NaN      NaN  \n\n[5 rows x 23 columns]",
      "text/html": "<div>\n<style scoped>\n    .dataframe tbody tr th:only-of-type {\n        vertical-align: middle;\n    }\n\n    .dataframe tbody tr th {\n        vertical-align: top;\n    }\n\n    .dataframe thead th {\n        text-align: right;\n    }\n</style>\n<table border=\"1\" class=\"dataframe\">\n  <thead>\n    <tr style=\"text-align: right;\">\n      <th></th>\n      <th>maker</th>\n      <th>genmodel</th>\n      <th>genmodel_id</th>\n      <th>adv_year</th>\n      <th>adv_month</th>\n      <th>color</th>\n      <th>reg_year</th>\n      <th>body_type</th>\n      <th>run_miles</th>\n      <th>engine_size</th>\n      <th>...</th>\n      <th>engine_power</th>\n      <th>annual_tax</th>\n      <th>wheelbase</th>\n      <th>height</th>\n      <th>width</th>\n      <th>length</th>\n      <th>average_mpg</th>\n      <th>top_speed</th>\n      <th>seat_num</th>\n      <th>door_num</th>\n    </tr>\n    <tr>\n      <th>adv_id</th>\n      <th></th>\n      <th></th>\n      <th></th>\n      <th></th>\n      <th></th>\n      <th></th>\n      <th></th>\n      <th></th>\n      <th></th>\n      <th></th>\n      <th></th>\n      <th></th>\n      <th></th>\n      <th></th>\n      <th></th>\n      <th></th>\n      <th></th>\n      <th></th>\n      <th></th>\n      <th></th>\n      <th></th>\n    </tr>\n  </thead>\n  <tbody>\n    <tr>\n      <th>28_27$$2</th>\n      <td>Fiat</td>\n      <td>Talento</td>\n      <td>28_27</td>\n      <td>2018</td>\n      <td>3</td>\n      <td>Grey</td>\n      <td>2018</td>\n      <td>Manual</td>\n      <td>NaN</td>\n      <td>NaN</td>\n      <td>...</td>\n      <td>NaN</td>\n      <td>NaN</td>\n      <td>NaN</td>\n      <td>NaN</td>\n      <td>NaN</td>\n      <td>NaN</td>\n      <td>NaN</td>\n      <td>NaN</td>\n      <td>NaN</td>\n      <td>NaN</td>\n    </tr>\n    <tr>\n      <th>94_10$$203</th>\n      <td>Vauxhall</td>\n      <td>Crossland X</td>\n      <td>94_10</td>\n      <td>2018</td>\n      <td>8</td>\n      <td>White</td>\n      <td>2018</td>\n      <td>Manual</td>\n      <td>NaN</td>\n      <td>NaN</td>\n      <td>...</td>\n      <td>NaN</td>\n      <td>NaN</td>\n      <td>NaN</td>\n      <td>NaN</td>\n      <td>NaN</td>\n      <td>NaN</td>\n      <td>NaN</td>\n      <td>NaN</td>\n      <td>NaN</td>\n      <td>5.0</td>\n    </tr>\n    <tr>\n      <th>94_24$$118</th>\n      <td>Vauxhall</td>\n      <td>Vivaro</td>\n      <td>94_24</td>\n      <td>2017</td>\n      <td>5</td>\n      <td>Green</td>\n      <td>2018</td>\n      <td>Manual</td>\n      <td>NaN</td>\n      <td>NaN</td>\n      <td>...</td>\n      <td>NaN</td>\n      <td>NaN</td>\n      <td>NaN</td>\n      <td>NaN</td>\n      <td>NaN</td>\n      <td>NaN</td>\n      <td>NaN</td>\n      <td>NaN</td>\n      <td>NaN</td>\n      <td>NaN</td>\n    </tr>\n    <tr>\n      <th>94_24$$182</th>\n      <td>Vauxhall</td>\n      <td>Vivaro</td>\n      <td>94_24</td>\n      <td>2016</td>\n      <td>9</td>\n      <td>Silver</td>\n      <td>2018</td>\n      <td>Manual</td>\n      <td>NaN</td>\n      <td>NaN</td>\n      <td>...</td>\n      <td>NaN</td>\n      <td>NaN</td>\n      <td>NaN</td>\n      <td>NaN</td>\n      <td>NaN</td>\n      <td>NaN</td>\n      <td>NaN</td>\n      <td>NaN</td>\n      <td>NaN</td>\n      <td>NaN</td>\n    </tr>\n    <tr>\n      <th>94_24$$88</th>\n      <td>Vauxhall</td>\n      <td>Vivaro</td>\n      <td>94_24</td>\n      <td>2016</td>\n      <td>7</td>\n      <td>NaN</td>\n      <td>2018</td>\n      <td>Manual</td>\n      <td>NaN</td>\n      <td>NaN</td>\n      <td>...</td>\n      <td>NaN</td>\n      <td>NaN</td>\n      <td>NaN</td>\n      <td>NaN</td>\n      <td>NaN</td>\n      <td>NaN</td>\n      <td>NaN</td>\n      <td>NaN</td>\n      <td>NaN</td>\n      <td>NaN</td>\n    </tr>\n  </tbody>\n</table>\n<p>5 rows × 23 columns</p>\n</div>"
     },
     "execution_count": 40,
     "metadata": {},
     "output_type": "execute_result"
    }
   ],
   "source": [
    "cars[cars['body_type'] == 'Manual']"
   ],
   "metadata": {
    "collapsed": false,
    "ExecuteTime": {
     "end_time": "2024-02-12T12:41:13.891764Z",
     "start_time": "2024-02-12T12:41:13.599390Z"
    }
   },
   "id": "36cd4709b70e00b8",
   "execution_count": 40
  },
  {
   "cell_type": "code",
   "outputs": [],
   "source": [
    "filter_condition = cars['body_type'] == 'Manual'\n",
    "\n",
    "cars.loc[filter_condition, ['body_type', 'gearbox']] = cars.loc[filter_condition, ['gearbox', 'body_type']].values"
   ],
   "metadata": {
    "collapsed": false,
    "ExecuteTime": {
     "end_time": "2024-02-12T12:41:13.902461Z",
     "start_time": "2024-02-12T12:41:13.606383Z"
    }
   },
   "id": "f1480f34e35722e2",
   "execution_count": 41
  },
  {
   "cell_type": "markdown",
   "source": [
    "### run_miles column"
   ],
   "metadata": {
    "collapsed": false
   },
   "id": "3275332721ca18f0"
  },
  {
   "cell_type": "code",
   "outputs": [
    {
     "name": "stdout",
     "output_type": "stream",
     "text": [
      "<class 'pandas.core.series.Series'>\n",
      "Index: 267357 entries, 10_1$$1 to 99_1$$3\n",
      "Series name: run_miles\n",
      "Non-Null Count   Dtype \n",
      "--------------   ----- \n",
      "266320 non-null  object\n",
      "dtypes: object(1)\n",
      "memory usage: 4.1+ MB\n"
     ]
    }
   ],
   "source": [
    "cars['run_miles'].info()"
   ],
   "metadata": {
    "collapsed": false,
    "ExecuteTime": {
     "end_time": "2024-02-12T12:41:13.937002Z",
     "start_time": "2024-02-12T12:41:13.615968Z"
    }
   },
   "id": "583f8c0973c79dd5",
   "execution_count": 42
  },
  {
   "cell_type": "code",
   "outputs": [
    {
     "data": {
      "text/plain": "run_miles\nNaN       1037\n1 mile     220\nName: count, dtype: int64"
     },
     "execution_count": 43,
     "metadata": {},
     "output_type": "execute_result"
    }
   ],
   "source": [
    "miles_mask = pd.to_numeric(cars['run_miles'], errors='coerce').notna()\n",
    "cars[~miles_mask]['run_miles'].value_counts(dropna=False)"
   ],
   "metadata": {
    "collapsed": false,
    "ExecuteTime": {
     "end_time": "2024-02-12T12:41:14.008389Z",
     "start_time": "2024-02-12T12:41:13.675496Z"
    }
   },
   "id": "bae6abfb53d4b071",
   "execution_count": 43
  },
  {
   "cell_type": "code",
   "outputs": [],
   "source": [
    "cars['run_miles'] = cars['run_miles'].replace('1 mile', '1')\n",
    "cars['run_miles'] = cars['run_miles'].astype('float')"
   ],
   "metadata": {
    "collapsed": false,
    "ExecuteTime": {
     "end_time": "2024-02-12T12:41:14.035646Z",
     "start_time": "2024-02-12T12:41:13.685189Z"
    }
   },
   "id": "d72786e373fa1b86",
   "execution_count": 44
  },
  {
   "cell_type": "code",
   "outputs": [
    {
     "data": {
      "text/plain": "count    2.663200e+05\nmean     4.825502e+04\nstd      4.183808e+04\nmin      0.000000e+00\n25%      1.426000e+04\n50%      3.945750e+04\n75%      7.500000e+04\nmax      6.363342e+06\nName: run_miles, dtype: float64"
     },
     "execution_count": 45,
     "metadata": {},
     "output_type": "execute_result"
    }
   ],
   "source": [
    "cars['run_miles'].describe()"
   ],
   "metadata": {
    "collapsed": false,
    "ExecuteTime": {
     "end_time": "2024-02-12T12:41:14.039151Z",
     "start_time": "2024-02-12T12:41:13.709243Z"
    }
   },
   "id": "4ae6c7181d883798",
   "execution_count": 45
  },
  {
   "cell_type": "code",
   "outputs": [
    {
     "data": {
      "text/plain": "adv_id\n95_15$$993     6363342.0\n36_6$$73       1080000.0\n54_3$$164       967515.0\n29_14$$1013     900000.0\n39_7$$823       900000.0\n                 ...    \n96_7$$53             NaN\n96_7$$55             NaN\n96_7$$59             NaN\n96_8$$36             NaN\n96_9$$443            NaN\nName: run_miles, Length: 267357, dtype: float64"
     },
     "execution_count": 46,
     "metadata": {},
     "output_type": "execute_result"
    }
   ],
   "source": [
    "cars['run_miles'].sort_values(ascending=False)"
   ],
   "metadata": {
    "collapsed": false,
    "ExecuteTime": {
     "end_time": "2024-02-12T12:41:14.172925Z",
     "start_time": "2024-02-12T12:41:13.722962Z"
    }
   },
   "id": "b5c82f121e74d86c",
   "execution_count": 46
  },
  {
   "cell_type": "code",
   "outputs": [
    {
     "data": {
      "text/plain": "adv_id\n95_15$$993     1025.518453\n29_14$$1013     176.125245\n39_7$$823       176.125245\n36_6$$73        155.731795\n21_1$$1000      149.259361\n                  ...     \n96_7$$53               NaN\n96_7$$55               NaN\n96_7$$59               NaN\n96_8$$36               NaN\n96_9$$443              NaN\nLength: 267357, dtype: float64"
     },
     "execution_count": 47,
     "metadata": {},
     "output_type": "execute_result"
    }
   ],
   "source": [
    "(cars['run_miles'] / (2024 - cars['reg_year']) / 365).sort_values(ascending=False)"
   ],
   "metadata": {
    "collapsed": false,
    "ExecuteTime": {
     "end_time": "2024-02-12T12:41:14.176998Z",
     "start_time": "2024-02-12T12:41:13.762520Z"
    }
   },
   "id": "c6f539e7a93064b6",
   "execution_count": 47
  },
  {
   "cell_type": "code",
   "outputs": [],
   "source": [
    "cars = cars.drop('95_15$$993')"
   ],
   "metadata": {
    "collapsed": false,
    "ExecuteTime": {
     "end_time": "2024-02-12T12:41:14.226551Z",
     "start_time": "2024-02-12T12:41:13.834626Z"
    }
   },
   "id": "c7dabca58131b8a",
   "execution_count": 48
  },
  {
   "cell_type": "markdown",
   "source": [
    "### engine_size column"
   ],
   "metadata": {
    "collapsed": false
   },
   "id": "ee5baeeb5ff58c6e"
  },
  {
   "cell_type": "code",
   "outputs": [
    {
     "name": "stdout",
     "output_type": "stream",
     "text": [
      "<class 'pandas.core.series.Series'>\n",
      "Index: 267356 entries, 10_1$$1 to 99_1$$3\n",
      "Series name: engine_size\n",
      "Non-Null Count   Dtype \n",
      "--------------   ----- \n",
      "265309 non-null  object\n",
      "dtypes: object(1)\n",
      "memory usage: 4.1+ MB\n"
     ]
    }
   ],
   "source": [
    "cars['engine_size'].info()"
   ],
   "metadata": {
    "collapsed": false,
    "ExecuteTime": {
     "end_time": "2024-02-12T12:41:14.238267Z",
     "start_time": "2024-02-12T12:41:13.860940Z"
    }
   },
   "id": "6934eafe0e55263c",
   "execution_count": 49
  },
  {
   "cell_type": "code",
   "outputs": [
    {
     "data": {
      "text/plain": "engine_size\n2.0L       59200\n1.6L       44208\n3.0L       23445\n1.2L       21942\n1.4L       19219\n           ...  \n8.2L           1\n5.3L           1\n6.9L           1\n10.0L          1\n2998.0L        1\nName: count, Length: 74, dtype: int64"
     },
     "execution_count": 50,
     "metadata": {},
     "output_type": "execute_result"
    }
   ],
   "source": [
    "cars['engine_size'].value_counts()"
   ],
   "metadata": {
    "collapsed": false,
    "ExecuteTime": {
     "end_time": "2024-02-12T12:41:14.255232Z",
     "start_time": "2024-02-12T12:41:13.873948Z"
    }
   },
   "id": "60b6dcef604019a1",
   "execution_count": 50
  },
  {
   "cell_type": "code",
   "outputs": [],
   "source": [
    "cars['engine_size'] = cars['engine_size'].str.slice(stop=-1)\n",
    "cars['engine_size'] = cars['engine_size'].astype('float')"
   ],
   "metadata": {
    "collapsed": false,
    "ExecuteTime": {
     "end_time": "2024-02-12T12:41:14.307541Z",
     "start_time": "2024-02-12T12:41:13.883291Z"
    }
   },
   "id": "6d4867649e914c5b",
   "execution_count": 51
  },
  {
   "cell_type": "code",
   "outputs": [
    {
     "data": {
      "text/plain": "adv_id\n64_8$$77     3500.0\n62_11$$3     2998.0\n64_6$$2      1400.0\n87_3$$349      10.0\n71_8$$487       8.2\n              ...  \n96_3$$66        NaN\n96_4$$146       NaN\n96_5$$10        NaN\n96_7$$357       NaN\n97_1$$2         NaN\nName: engine_size, Length: 267356, dtype: float64"
     },
     "execution_count": 52,
     "metadata": {},
     "output_type": "execute_result"
    }
   ],
   "source": [
    "cars['engine_size'].sort_values(ascending=False)"
   ],
   "metadata": {
    "collapsed": false,
    "ExecuteTime": {
     "end_time": "2024-02-12T12:41:14.325279Z",
     "start_time": "2024-02-12T12:41:13.926286Z"
    }
   },
   "id": "78491da086aab6a8",
   "execution_count": 52
  },
  {
   "cell_type": "code",
   "outputs": [
    {
     "data": {
      "text/plain": "               maker genmodel genmodel_id  adv_year  adv_month  color  \\\nadv_id                                                                  \n64_8$$77      Nissan  Elgrand        64_8      2018          7  Black   \n62_11$$3  Mitsubishi      Gto       62_11      2018          5    Red   \n64_6$$2       Nissan    Cubic        64_6      2018          5    NaN   \n\n          reg_year body_type  run_miles  engine_size  ... engine_power  \\\nadv_id                                                ...                \n64_8$$77      2004       MPV    52000.0          3.5  ...          NaN   \n62_11$$3      2002     Coupe    61000.0          3.0  ...          NaN   \n64_6$$2       2003    Estate    71000.0          1.4  ...          NaN   \n\n         annual_tax  wheelbase  height width  length  average_mpg  top_speed  \\\nadv_id                                                                         \n64_8$$77        NaN        NaN     NaN   NaN     NaN          NaN        NaN   \n62_11$$3        NaN        NaN     NaN   NaN     NaN          NaN        NaN   \n64_6$$2         NaN        NaN     NaN   NaN     NaN          NaN        NaN   \n\n          seat_num door_num  \nadv_id                       \n64_8$$77       8.0      NaN  \n62_11$$3       4.0      NaN  \n64_6$$2        5.0      NaN  \n\n[3 rows x 23 columns]",
      "text/html": "<div>\n<style scoped>\n    .dataframe tbody tr th:only-of-type {\n        vertical-align: middle;\n    }\n\n    .dataframe tbody tr th {\n        vertical-align: top;\n    }\n\n    .dataframe thead th {\n        text-align: right;\n    }\n</style>\n<table border=\"1\" class=\"dataframe\">\n  <thead>\n    <tr style=\"text-align: right;\">\n      <th></th>\n      <th>maker</th>\n      <th>genmodel</th>\n      <th>genmodel_id</th>\n      <th>adv_year</th>\n      <th>adv_month</th>\n      <th>color</th>\n      <th>reg_year</th>\n      <th>body_type</th>\n      <th>run_miles</th>\n      <th>engine_size</th>\n      <th>...</th>\n      <th>engine_power</th>\n      <th>annual_tax</th>\n      <th>wheelbase</th>\n      <th>height</th>\n      <th>width</th>\n      <th>length</th>\n      <th>average_mpg</th>\n      <th>top_speed</th>\n      <th>seat_num</th>\n      <th>door_num</th>\n    </tr>\n    <tr>\n      <th>adv_id</th>\n      <th></th>\n      <th></th>\n      <th></th>\n      <th></th>\n      <th></th>\n      <th></th>\n      <th></th>\n      <th></th>\n      <th></th>\n      <th></th>\n      <th></th>\n      <th></th>\n      <th></th>\n      <th></th>\n      <th></th>\n      <th></th>\n      <th></th>\n      <th></th>\n      <th></th>\n      <th></th>\n      <th></th>\n    </tr>\n  </thead>\n  <tbody>\n    <tr>\n      <th>64_8$$77</th>\n      <td>Nissan</td>\n      <td>Elgrand</td>\n      <td>64_8</td>\n      <td>2018</td>\n      <td>7</td>\n      <td>Black</td>\n      <td>2004</td>\n      <td>MPV</td>\n      <td>52000.0</td>\n      <td>3.5</td>\n      <td>...</td>\n      <td>NaN</td>\n      <td>NaN</td>\n      <td>NaN</td>\n      <td>NaN</td>\n      <td>NaN</td>\n      <td>NaN</td>\n      <td>NaN</td>\n      <td>NaN</td>\n      <td>8.0</td>\n      <td>NaN</td>\n    </tr>\n    <tr>\n      <th>62_11$$3</th>\n      <td>Mitsubishi</td>\n      <td>Gto</td>\n      <td>62_11</td>\n      <td>2018</td>\n      <td>5</td>\n      <td>Red</td>\n      <td>2002</td>\n      <td>Coupe</td>\n      <td>61000.0</td>\n      <td>3.0</td>\n      <td>...</td>\n      <td>NaN</td>\n      <td>NaN</td>\n      <td>NaN</td>\n      <td>NaN</td>\n      <td>NaN</td>\n      <td>NaN</td>\n      <td>NaN</td>\n      <td>NaN</td>\n      <td>4.0</td>\n      <td>NaN</td>\n    </tr>\n    <tr>\n      <th>64_6$$2</th>\n      <td>Nissan</td>\n      <td>Cubic</td>\n      <td>64_6</td>\n      <td>2018</td>\n      <td>5</td>\n      <td>NaN</td>\n      <td>2003</td>\n      <td>Estate</td>\n      <td>71000.0</td>\n      <td>1.4</td>\n      <td>...</td>\n      <td>NaN</td>\n      <td>NaN</td>\n      <td>NaN</td>\n      <td>NaN</td>\n      <td>NaN</td>\n      <td>NaN</td>\n      <td>NaN</td>\n      <td>NaN</td>\n      <td>5.0</td>\n      <td>NaN</td>\n    </tr>\n  </tbody>\n</table>\n<p>3 rows × 23 columns</p>\n</div>"
     },
     "execution_count": 53,
     "metadata": {},
     "output_type": "execute_result"
    }
   ],
   "source": [
    "problematic_indexes = ['64_8$$77', '62_11$$3', '64_6$$2']\n",
    "cars.loc[problematic_indexes, 'engine_size'] = (cars.loc[problematic_indexes, 'engine_size'] / 1000).round(1)\n",
    "cars.loc[problematic_indexes]"
   ],
   "metadata": {
    "collapsed": false,
    "ExecuteTime": {
     "end_time": "2024-02-12T12:41:14.342781Z",
     "start_time": "2024-02-12T12:41:13.964518Z"
    }
   },
   "id": "8624ea1df838fbc8",
   "execution_count": 53
  },
  {
   "cell_type": "markdown",
   "source": [
    "### gearbox column"
   ],
   "metadata": {
    "collapsed": false
   },
   "id": "dd338b3f03659721"
  },
  {
   "cell_type": "code",
   "outputs": [
    {
     "name": "stdout",
     "output_type": "stream",
     "text": [
      "<class 'pandas.core.series.Series'>\n",
      "Index: 267356 entries, 10_1$$1 to 99_1$$3\n",
      "Series name: gearbox\n",
      "Non-Null Count   Dtype \n",
      "--------------   ----- \n",
      "267201 non-null  object\n",
      "dtypes: object(1)\n",
      "memory usage: 12.1+ MB\n"
     ]
    }
   ],
   "source": [
    "cars['gearbox'].info()"
   ],
   "metadata": {
    "collapsed": false,
    "ExecuteTime": {
     "end_time": "2024-02-12T12:41:14.346020Z",
     "start_time": "2024-02-12T12:41:13.976446Z"
    }
   },
   "id": "8b583365d527fb48",
   "execution_count": 54
  },
  {
   "cell_type": "code",
   "outputs": [
    {
     "data": {
      "text/plain": "gearbox\nManual            170128\nAutomatic          96936\nNaN                  155\nSemi-Automatic       137\nName: count, dtype: int64"
     },
     "execution_count": 55,
     "metadata": {},
     "output_type": "execute_result"
    }
   ],
   "source": [
    "cars['gearbox'].value_counts(dropna=False)"
   ],
   "metadata": {
    "collapsed": false,
    "ExecuteTime": {
     "end_time": "2024-02-12T12:41:14.349428Z",
     "start_time": "2024-02-12T12:41:13.988650Z"
    }
   },
   "id": "7313dbbf7a8e4890",
   "execution_count": 55
  },
  {
   "cell_type": "code",
   "outputs": [],
   "source": [
    "cars['gearbox'] = cars['gearbox'].astype('category')"
   ],
   "metadata": {
    "collapsed": false,
    "ExecuteTime": {
     "end_time": "2024-02-12T12:41:14.353050Z",
     "start_time": "2024-02-12T12:41:13.990714Z"
    }
   },
   "id": "66acdeb1a2c36e56",
   "execution_count": 56
  },
  {
   "cell_type": "markdown",
   "source": [
    "### fuel_type column"
   ],
   "metadata": {
    "collapsed": false
   },
   "id": "7bf166f6147109e9"
  },
  {
   "cell_type": "code",
   "outputs": [
    {
     "name": "stdout",
     "output_type": "stream",
     "text": [
      "<class 'pandas.core.series.Series'>\n",
      "Index: 267356 entries, 10_1$$1 to 99_1$$3\n",
      "Series name: fuel_type\n",
      "Non-Null Count   Dtype \n",
      "--------------   ----- \n",
      "266954 non-null  object\n",
      "dtypes: object(1)\n",
      "memory usage: 12.1+ MB\n"
     ]
    }
   ],
   "source": [
    "cars['fuel_type'].info()"
   ],
   "metadata": {
    "collapsed": false,
    "ExecuteTime": {
     "end_time": "2024-02-12T12:41:14.369965Z",
     "start_time": "2024-02-12T12:41:14.007938Z"
    }
   },
   "id": "21565d01a3358e4",
   "execution_count": 57
  },
  {
   "cell_type": "code",
   "outputs": [
    {
     "data": {
      "text/plain": "fuel_type\nDiesel                             132522\nPetrol                             126761\nHybrid  Petrol/Electric              4491\nElectric                             1301\nHybrid  Petrol/Electric Plug-in      1007\nNaN                                   402\nPetrol Hybrid                         385\nPetrol Plug-in Hybrid                 258\nHybrid  Diesel/Electric               108\nDiesel Hybrid                          47\nHybrid  Diesel/Electric Plug-in        37\nBi Fuel                                27\nPetrol Ethanol                          8\nDiesel Plug-in Hybrid                   2\nName: count, dtype: int64"
     },
     "execution_count": 58,
     "metadata": {},
     "output_type": "execute_result"
    }
   ],
   "source": [
    "cars['fuel_type'].value_counts(dropna=False)"
   ],
   "metadata": {
    "collapsed": false,
    "ExecuteTime": {
     "end_time": "2024-02-12T12:41:14.373618Z",
     "start_time": "2024-02-12T12:41:14.019272Z"
    }
   },
   "id": "4d6d9a03d6f8b922",
   "execution_count": 58
  },
  {
   "cell_type": "code",
   "outputs": [],
   "source": [
    "fuel_dict = {\n",
    "    'Hybrid  Petrol/Electric': 'Petrol Hybrid',\n",
    "    'Hybrid  Petrol/Electric Plug-in': 'Petrol Plug-in Hybrid',\n",
    "    'Hybrid  Diesel/Electric': 'Diesel Hybrid',\n",
    "    'Hybrid  Diesel/Electric Plug-in': 'Diesel Plug-in Hybrid',\n",
    "    'Petrol Ethanol': 'Petrol'\n",
    "}\n",
    "\n",
    "cars['fuel_type'] = cars['fuel_type'].replace(fuel_dict)\n",
    "cars['fuel_type'] = cars['fuel_type'].astype('category')"
   ],
   "metadata": {
    "collapsed": false,
    "ExecuteTime": {
     "end_time": "2024-02-12T12:41:14.409717Z",
     "start_time": "2024-02-12T12:41:14.025923Z"
    }
   },
   "id": "4765e276f7b8559b",
   "execution_count": 59
  },
  {
   "cell_type": "code",
   "outputs": [
    {
     "data": {
      "text/plain": "fuel_type\nDiesel                   132522\nPetrol                   126769\nPetrol Hybrid              4876\nElectric                   1301\nPetrol Plug-in Hybrid      1265\nNaN                         402\nDiesel Hybrid               155\nDiesel Plug-in Hybrid        39\nBi Fuel                      27\nName: count, dtype: int64"
     },
     "execution_count": 60,
     "metadata": {},
     "output_type": "execute_result"
    }
   ],
   "source": [
    "cars['fuel_type'].value_counts(dropna=False)"
   ],
   "metadata": {
    "collapsed": false,
    "ExecuteTime": {
     "end_time": "2024-02-12T12:41:14.422979Z",
     "start_time": "2024-02-12T12:41:14.068418Z"
    }
   },
   "id": "19444a25533bcd07",
   "execution_count": 60
  },
  {
   "cell_type": "markdown",
   "source": [
    "### price column"
   ],
   "metadata": {
    "collapsed": false
   },
   "id": "2034da8372987a73"
  },
  {
   "cell_type": "code",
   "outputs": [
    {
     "name": "stdout",
     "output_type": "stream",
     "text": [
      "<class 'pandas.core.series.Series'>\n",
      "Index: 267356 entries, 10_1$$1 to 99_1$$3\n",
      "Series name: price\n",
      "Non-Null Count   Dtype  \n",
      "--------------   -----  \n",
      "266236 non-null  float64\n",
      "dtypes: float64(1)\n",
      "memory usage: 12.1+ MB\n"
     ]
    }
   ],
   "source": [
    "cars['price'].info()"
   ],
   "metadata": {
    "collapsed": false,
    "ExecuteTime": {
     "end_time": "2024-02-12T12:41:14.426100Z",
     "start_time": "2024-02-12T12:41:14.073507Z"
    }
   },
   "id": "f2beea631b802b4",
   "execution_count": 61
  },
  {
   "cell_type": "code",
   "outputs": [
    {
     "data": {
      "text/plain": "count    2.662360e+05\nmean     1.475423e+04\nstd      3.236736e+04\nmin      1.000000e+02\n25%      4.990000e+03\n50%      9.295000e+03\n75%      1.711100e+04\nmax      9.999999e+06\nName: price, dtype: float64"
     },
     "execution_count": 62,
     "metadata": {},
     "output_type": "execute_result"
    }
   ],
   "source": [
    "cars['price'].describe()"
   ],
   "metadata": {
    "collapsed": false,
    "ExecuteTime": {
     "end_time": "2024-02-12T12:41:14.598404Z",
     "start_time": "2024-02-12T12:41:14.077486Z"
    }
   },
   "id": "147186f9368f849d",
   "execution_count": 62
  },
  {
   "cell_type": "code",
   "outputs": [
    {
     "data": {
      "text/plain": "            maker   genmodel genmodel_id  adv_year  adv_month   color  \\\nadv_id                                                                  \n58_6$$13  McLaren      675LT        58_6      2017          6  Silver   \n27_21$$1  Ferrari  Laferrari       27_21      2018          3     Red   \n27_21$$3  Ferrari  Laferrari       27_21      2018          4     Red   \n58_8$$5   McLaren         P1        58_8      2021          4  Yellow   \n27_15$$2  Ferrari       Enzo       27_15      2018          3     Red   \n...           ...        ...         ...       ...        ...     ...   \n8_29$$9       BMW         M2        8_29      2018          4   Black   \n8_29$$91      BMW         M2        8_29      2018          4     NaN   \n8_29$$93      BMW         M2        8_29      2017          6     NaN   \n8_29$$95      BMW         M2        8_29      2018          4   Black   \n8_29$$96      BMW         M2        8_29      2018          2    Blue   \n\n          reg_year body_type  run_miles  engine_size  ... engine_power  \\\nadv_id                                                ...                \n58_6$$13      2016     Coupe      200.0          3.8  ...        666.0   \n27_21$$1      2014     Coupe     1824.0          6.3  ...          NaN   \n27_21$$3      2014     Coupe     1502.0          NaN  ...          NaN   \n58_8$$5       2019     Coupe      600.0          3.8  ...          NaN   \n27_15$$2      2004     Coupe     7620.0          6.0  ...          NaN   \n...            ...       ...        ...          ...  ...          ...   \n8_29$$9       2017     Coupe     2800.0          3.0  ...          NaN   \n8_29$$91      2016     Coupe     4650.0          3.0  ...          NaN   \n8_29$$93      2017     Coupe      500.0          3.0  ...          NaN   \n8_29$$95      2018     Coupe      100.0          3.0  ...          NaN   \n8_29$$96      2016     Coupe     9321.0          3.0  ...          NaN   \n\n         annual_tax  wheelbase  height   width  length  average_mpg  \\\nadv_id                                                                \n58_6$$13        555     2670.0  1188.0  2095.0  4546.0          NaN   \n27_21$$1        NaN        NaN     NaN     NaN     NaN          NaN   \n27_21$$3        555        NaN     NaN     NaN     NaN          NaN   \n58_8$$5         NaN        NaN     NaN     NaN     NaN          NaN   \n27_15$$2        NaN        NaN     NaN     NaN     NaN          NaN   \n...             ...        ...     ...     ...     ...          ...   \n8_29$$9         NaN     2693.0  1410.0  1854.0  4468.0          NaN   \n8_29$$91        NaN     2693.0  1410.0  1854.0  4468.0          NaN   \n8_29$$93        NaN     2693.0  1410.0  1854.0  4468.0          NaN   \n8_29$$95        NaN     2693.0  1410.0  1854.0  4468.0          NaN   \n8_29$$96        NaN     2693.0  1410.0  1854.0  4468.0          NaN   \n\n          top_speed  seat_num door_num  \nadv_id                                  \n58_6$$13    205 mph       2.0      2.0  \n27_21$$1        NaN       2.0      NaN  \n27_21$$3        NaN       2.0      NaN  \n58_8$$5         NaN       2.0      2.0  \n27_15$$2        NaN       2.0      NaN  \n...             ...       ...      ...  \n8_29$$9         NaN       4.0      2.0  \n8_29$$91        NaN       4.0      2.0  \n8_29$$93        NaN       4.0      2.0  \n8_29$$95        NaN       4.0      2.0  \n8_29$$96        NaN       4.0      2.0  \n\n[267356 rows x 23 columns]",
      "text/html": "<div>\n<style scoped>\n    .dataframe tbody tr th:only-of-type {\n        vertical-align: middle;\n    }\n\n    .dataframe tbody tr th {\n        vertical-align: top;\n    }\n\n    .dataframe thead th {\n        text-align: right;\n    }\n</style>\n<table border=\"1\" class=\"dataframe\">\n  <thead>\n    <tr style=\"text-align: right;\">\n      <th></th>\n      <th>maker</th>\n      <th>genmodel</th>\n      <th>genmodel_id</th>\n      <th>adv_year</th>\n      <th>adv_month</th>\n      <th>color</th>\n      <th>reg_year</th>\n      <th>body_type</th>\n      <th>run_miles</th>\n      <th>engine_size</th>\n      <th>...</th>\n      <th>engine_power</th>\n      <th>annual_tax</th>\n      <th>wheelbase</th>\n      <th>height</th>\n      <th>width</th>\n      <th>length</th>\n      <th>average_mpg</th>\n      <th>top_speed</th>\n      <th>seat_num</th>\n      <th>door_num</th>\n    </tr>\n    <tr>\n      <th>adv_id</th>\n      <th></th>\n      <th></th>\n      <th></th>\n      <th></th>\n      <th></th>\n      <th></th>\n      <th></th>\n      <th></th>\n      <th></th>\n      <th></th>\n      <th></th>\n      <th></th>\n      <th></th>\n      <th></th>\n      <th></th>\n      <th></th>\n      <th></th>\n      <th></th>\n      <th></th>\n      <th></th>\n      <th></th>\n    </tr>\n  </thead>\n  <tbody>\n    <tr>\n      <th>58_6$$13</th>\n      <td>McLaren</td>\n      <td>675LT</td>\n      <td>58_6</td>\n      <td>2017</td>\n      <td>6</td>\n      <td>Silver</td>\n      <td>2016</td>\n      <td>Coupe</td>\n      <td>200.0</td>\n      <td>3.8</td>\n      <td>...</td>\n      <td>666.0</td>\n      <td>555</td>\n      <td>2670.0</td>\n      <td>1188.0</td>\n      <td>2095.0</td>\n      <td>4546.0</td>\n      <td>NaN</td>\n      <td>205 mph</td>\n      <td>2.0</td>\n      <td>2.0</td>\n    </tr>\n    <tr>\n      <th>27_21$$1</th>\n      <td>Ferrari</td>\n      <td>Laferrari</td>\n      <td>27_21</td>\n      <td>2018</td>\n      <td>3</td>\n      <td>Red</td>\n      <td>2014</td>\n      <td>Coupe</td>\n      <td>1824.0</td>\n      <td>6.3</td>\n      <td>...</td>\n      <td>NaN</td>\n      <td>NaN</td>\n      <td>NaN</td>\n      <td>NaN</td>\n      <td>NaN</td>\n      <td>NaN</td>\n      <td>NaN</td>\n      <td>NaN</td>\n      <td>2.0</td>\n      <td>NaN</td>\n    </tr>\n    <tr>\n      <th>27_21$$3</th>\n      <td>Ferrari</td>\n      <td>Laferrari</td>\n      <td>27_21</td>\n      <td>2018</td>\n      <td>4</td>\n      <td>Red</td>\n      <td>2014</td>\n      <td>Coupe</td>\n      <td>1502.0</td>\n      <td>NaN</td>\n      <td>...</td>\n      <td>NaN</td>\n      <td>555</td>\n      <td>NaN</td>\n      <td>NaN</td>\n      <td>NaN</td>\n      <td>NaN</td>\n      <td>NaN</td>\n      <td>NaN</td>\n      <td>2.0</td>\n      <td>NaN</td>\n    </tr>\n    <tr>\n      <th>58_8$$5</th>\n      <td>McLaren</td>\n      <td>P1</td>\n      <td>58_8</td>\n      <td>2021</td>\n      <td>4</td>\n      <td>Yellow</td>\n      <td>2019</td>\n      <td>Coupe</td>\n      <td>600.0</td>\n      <td>3.8</td>\n      <td>...</td>\n      <td>NaN</td>\n      <td>NaN</td>\n      <td>NaN</td>\n      <td>NaN</td>\n      <td>NaN</td>\n      <td>NaN</td>\n      <td>NaN</td>\n      <td>NaN</td>\n      <td>2.0</td>\n      <td>2.0</td>\n    </tr>\n    <tr>\n      <th>27_15$$2</th>\n      <td>Ferrari</td>\n      <td>Enzo</td>\n      <td>27_15</td>\n      <td>2018</td>\n      <td>3</td>\n      <td>Red</td>\n      <td>2004</td>\n      <td>Coupe</td>\n      <td>7620.0</td>\n      <td>6.0</td>\n      <td>...</td>\n      <td>NaN</td>\n      <td>NaN</td>\n      <td>NaN</td>\n      <td>NaN</td>\n      <td>NaN</td>\n      <td>NaN</td>\n      <td>NaN</td>\n      <td>NaN</td>\n      <td>2.0</td>\n      <td>NaN</td>\n    </tr>\n    <tr>\n      <th>...</th>\n      <td>...</td>\n      <td>...</td>\n      <td>...</td>\n      <td>...</td>\n      <td>...</td>\n      <td>...</td>\n      <td>...</td>\n      <td>...</td>\n      <td>...</td>\n      <td>...</td>\n      <td>...</td>\n      <td>...</td>\n      <td>...</td>\n      <td>...</td>\n      <td>...</td>\n      <td>...</td>\n      <td>...</td>\n      <td>...</td>\n      <td>...</td>\n      <td>...</td>\n      <td>...</td>\n    </tr>\n    <tr>\n      <th>8_29$$9</th>\n      <td>BMW</td>\n      <td>M2</td>\n      <td>8_29</td>\n      <td>2018</td>\n      <td>4</td>\n      <td>Black</td>\n      <td>2017</td>\n      <td>Coupe</td>\n      <td>2800.0</td>\n      <td>3.0</td>\n      <td>...</td>\n      <td>NaN</td>\n      <td>NaN</td>\n      <td>2693.0</td>\n      <td>1410.0</td>\n      <td>1854.0</td>\n      <td>4468.0</td>\n      <td>NaN</td>\n      <td>NaN</td>\n      <td>4.0</td>\n      <td>2.0</td>\n    </tr>\n    <tr>\n      <th>8_29$$91</th>\n      <td>BMW</td>\n      <td>M2</td>\n      <td>8_29</td>\n      <td>2018</td>\n      <td>4</td>\n      <td>NaN</td>\n      <td>2016</td>\n      <td>Coupe</td>\n      <td>4650.0</td>\n      <td>3.0</td>\n      <td>...</td>\n      <td>NaN</td>\n      <td>NaN</td>\n      <td>2693.0</td>\n      <td>1410.0</td>\n      <td>1854.0</td>\n      <td>4468.0</td>\n      <td>NaN</td>\n      <td>NaN</td>\n      <td>4.0</td>\n      <td>2.0</td>\n    </tr>\n    <tr>\n      <th>8_29$$93</th>\n      <td>BMW</td>\n      <td>M2</td>\n      <td>8_29</td>\n      <td>2017</td>\n      <td>6</td>\n      <td>NaN</td>\n      <td>2017</td>\n      <td>Coupe</td>\n      <td>500.0</td>\n      <td>3.0</td>\n      <td>...</td>\n      <td>NaN</td>\n      <td>NaN</td>\n      <td>2693.0</td>\n      <td>1410.0</td>\n      <td>1854.0</td>\n      <td>4468.0</td>\n      <td>NaN</td>\n      <td>NaN</td>\n      <td>4.0</td>\n      <td>2.0</td>\n    </tr>\n    <tr>\n      <th>8_29$$95</th>\n      <td>BMW</td>\n      <td>M2</td>\n      <td>8_29</td>\n      <td>2018</td>\n      <td>4</td>\n      <td>Black</td>\n      <td>2018</td>\n      <td>Coupe</td>\n      <td>100.0</td>\n      <td>3.0</td>\n      <td>...</td>\n      <td>NaN</td>\n      <td>NaN</td>\n      <td>2693.0</td>\n      <td>1410.0</td>\n      <td>1854.0</td>\n      <td>4468.0</td>\n      <td>NaN</td>\n      <td>NaN</td>\n      <td>4.0</td>\n      <td>2.0</td>\n    </tr>\n    <tr>\n      <th>8_29$$96</th>\n      <td>BMW</td>\n      <td>M2</td>\n      <td>8_29</td>\n      <td>2018</td>\n      <td>2</td>\n      <td>Blue</td>\n      <td>2016</td>\n      <td>Coupe</td>\n      <td>9321.0</td>\n      <td>3.0</td>\n      <td>...</td>\n      <td>NaN</td>\n      <td>NaN</td>\n      <td>2693.0</td>\n      <td>1410.0</td>\n      <td>1854.0</td>\n      <td>4468.0</td>\n      <td>NaN</td>\n      <td>NaN</td>\n      <td>4.0</td>\n      <td>2.0</td>\n    </tr>\n  </tbody>\n</table>\n<p>267356 rows × 23 columns</p>\n</div>"
     },
     "execution_count": 63,
     "metadata": {},
     "output_type": "execute_result"
    }
   ],
   "source": [
    "cars.sort_values(by='price', ascending=False)"
   ],
   "metadata": {
    "collapsed": false,
    "ExecuteTime": {
     "end_time": "2024-02-12T12:41:14.723985Z",
     "start_time": "2024-02-12T12:41:14.089657Z"
    }
   },
   "id": "ec658ec2df685a3a",
   "execution_count": 63
  },
  {
   "cell_type": "code",
   "outputs": [
    {
     "data": {
      "text/plain": "          maker  genmodel genmodel_id  adv_year  adv_month   color  reg_year  \\\nadv_id                                                                         \n8_11$$1     BMW  6 Series        8_11      2018          2   Black      2009   \n8_11$$10    BMW  6 Series        8_11      2017         11    Blue      2012   \n8_11$$100   BMW  6 Series        8_11      2018          4    Grey      2005   \n8_11$$101   BMW  6 Series        8_11      2018          2   Black      2013   \n8_11$$102   BMW  6 Series        8_11      2018          3  Silver      2013   \n...         ...       ...         ...       ...        ...     ...       ...   \n8_29$$9     BMW        M2        8_29      2018          4   Black      2017   \n8_29$$91    BMW        M2        8_29      2018          4     NaN      2016   \n8_29$$93    BMW        M2        8_29      2017          6     NaN      2017   \n8_29$$95    BMW        M2        8_29      2018          4   Black      2018   \n8_29$$96    BMW        M2        8_29      2018          2    Blue      2016   \n\n             body_type  run_miles  engine_size  ... engine_power annual_tax  \\\nadv_id                                          ...                           \n8_11$$1    Convertible    39000.0          4.8  ...          NaN        NaN   \n8_11$$10         Coupe    86000.0          3.0  ...          NaN        NaN   \n8_11$$100        Coupe    56000.0          4.4  ...          NaN        NaN   \n8_11$$101        Coupe    49000.0          3.0  ...          NaN        NaN   \n8_11$$102        Coupe    76581.0          3.0  ...          NaN        NaN   \n...                ...        ...          ...  ...          ...        ...   \n8_29$$9          Coupe     2800.0          3.0  ...          NaN        NaN   \n8_29$$91         Coupe     4650.0          3.0  ...          NaN        NaN   \n8_29$$93         Coupe      500.0          3.0  ...          NaN        NaN   \n8_29$$95         Coupe      100.0          3.0  ...          NaN        NaN   \n8_29$$96         Coupe     9321.0          3.0  ...          NaN        NaN   \n\n           wheelbase  height   width  length  average_mpg  top_speed  \\\nadv_id                                                                 \n8_11$$1       2780.0  1373.0  1855.0  4820.0          NaN        NaN   \n8_11$$10      2855.0  1369.0  2090.0  4894.0          NaN        NaN   \n8_11$$100     2780.0  1373.0  1855.0  4820.0          NaN        NaN   \n8_11$$101     2855.0  1369.0  2090.0  4894.0          NaN        NaN   \n8_11$$102     2855.0  1369.0  2090.0  4894.0          NaN        NaN   \n...              ...     ...     ...     ...          ...        ...   \n8_29$$9       2693.0  1410.0  1854.0  4468.0          NaN        NaN   \n8_29$$91      2693.0  1410.0  1854.0  4468.0          NaN        NaN   \n8_29$$93      2693.0  1410.0  1854.0  4468.0          NaN        NaN   \n8_29$$95      2693.0  1410.0  1854.0  4468.0          NaN        NaN   \n8_29$$96      2693.0  1410.0  1854.0  4468.0          NaN        NaN   \n\n           seat_num door_num  \nadv_id                        \n8_11$$1         4.0      2.0  \n8_11$$10        4.0      2.0  \n8_11$$100       5.0      2.0  \n8_11$$101       5.0      2.0  \n8_11$$102       4.0      2.0  \n...             ...      ...  \n8_29$$9         4.0      2.0  \n8_29$$91        4.0      2.0  \n8_29$$93        4.0      2.0  \n8_29$$95        4.0      2.0  \n8_29$$96        4.0      2.0  \n\n[1120 rows x 23 columns]",
      "text/html": "<div>\n<style scoped>\n    .dataframe tbody tr th:only-of-type {\n        vertical-align: middle;\n    }\n\n    .dataframe tbody tr th {\n        vertical-align: top;\n    }\n\n    .dataframe thead th {\n        text-align: right;\n    }\n</style>\n<table border=\"1\" class=\"dataframe\">\n  <thead>\n    <tr style=\"text-align: right;\">\n      <th></th>\n      <th>maker</th>\n      <th>genmodel</th>\n      <th>genmodel_id</th>\n      <th>adv_year</th>\n      <th>adv_month</th>\n      <th>color</th>\n      <th>reg_year</th>\n      <th>body_type</th>\n      <th>run_miles</th>\n      <th>engine_size</th>\n      <th>...</th>\n      <th>engine_power</th>\n      <th>annual_tax</th>\n      <th>wheelbase</th>\n      <th>height</th>\n      <th>width</th>\n      <th>length</th>\n      <th>average_mpg</th>\n      <th>top_speed</th>\n      <th>seat_num</th>\n      <th>door_num</th>\n    </tr>\n    <tr>\n      <th>adv_id</th>\n      <th></th>\n      <th></th>\n      <th></th>\n      <th></th>\n      <th></th>\n      <th></th>\n      <th></th>\n      <th></th>\n      <th></th>\n      <th></th>\n      <th></th>\n      <th></th>\n      <th></th>\n      <th></th>\n      <th></th>\n      <th></th>\n      <th></th>\n      <th></th>\n      <th></th>\n      <th></th>\n      <th></th>\n    </tr>\n  </thead>\n  <tbody>\n    <tr>\n      <th>8_11$$1</th>\n      <td>BMW</td>\n      <td>6 Series</td>\n      <td>8_11</td>\n      <td>2018</td>\n      <td>2</td>\n      <td>Black</td>\n      <td>2009</td>\n      <td>Convertible</td>\n      <td>39000.0</td>\n      <td>4.8</td>\n      <td>...</td>\n      <td>NaN</td>\n      <td>NaN</td>\n      <td>2780.0</td>\n      <td>1373.0</td>\n      <td>1855.0</td>\n      <td>4820.0</td>\n      <td>NaN</td>\n      <td>NaN</td>\n      <td>4.0</td>\n      <td>2.0</td>\n    </tr>\n    <tr>\n      <th>8_11$$10</th>\n      <td>BMW</td>\n      <td>6 Series</td>\n      <td>8_11</td>\n      <td>2017</td>\n      <td>11</td>\n      <td>Blue</td>\n      <td>2012</td>\n      <td>Coupe</td>\n      <td>86000.0</td>\n      <td>3.0</td>\n      <td>...</td>\n      <td>NaN</td>\n      <td>NaN</td>\n      <td>2855.0</td>\n      <td>1369.0</td>\n      <td>2090.0</td>\n      <td>4894.0</td>\n      <td>NaN</td>\n      <td>NaN</td>\n      <td>4.0</td>\n      <td>2.0</td>\n    </tr>\n    <tr>\n      <th>8_11$$100</th>\n      <td>BMW</td>\n      <td>6 Series</td>\n      <td>8_11</td>\n      <td>2018</td>\n      <td>4</td>\n      <td>Grey</td>\n      <td>2005</td>\n      <td>Coupe</td>\n      <td>56000.0</td>\n      <td>4.4</td>\n      <td>...</td>\n      <td>NaN</td>\n      <td>NaN</td>\n      <td>2780.0</td>\n      <td>1373.0</td>\n      <td>1855.0</td>\n      <td>4820.0</td>\n      <td>NaN</td>\n      <td>NaN</td>\n      <td>5.0</td>\n      <td>2.0</td>\n    </tr>\n    <tr>\n      <th>8_11$$101</th>\n      <td>BMW</td>\n      <td>6 Series</td>\n      <td>8_11</td>\n      <td>2018</td>\n      <td>2</td>\n      <td>Black</td>\n      <td>2013</td>\n      <td>Coupe</td>\n      <td>49000.0</td>\n      <td>3.0</td>\n      <td>...</td>\n      <td>NaN</td>\n      <td>NaN</td>\n      <td>2855.0</td>\n      <td>1369.0</td>\n      <td>2090.0</td>\n      <td>4894.0</td>\n      <td>NaN</td>\n      <td>NaN</td>\n      <td>5.0</td>\n      <td>2.0</td>\n    </tr>\n    <tr>\n      <th>8_11$$102</th>\n      <td>BMW</td>\n      <td>6 Series</td>\n      <td>8_11</td>\n      <td>2018</td>\n      <td>3</td>\n      <td>Silver</td>\n      <td>2013</td>\n      <td>Coupe</td>\n      <td>76581.0</td>\n      <td>3.0</td>\n      <td>...</td>\n      <td>NaN</td>\n      <td>NaN</td>\n      <td>2855.0</td>\n      <td>1369.0</td>\n      <td>2090.0</td>\n      <td>4894.0</td>\n      <td>NaN</td>\n      <td>NaN</td>\n      <td>4.0</td>\n      <td>2.0</td>\n    </tr>\n    <tr>\n      <th>...</th>\n      <td>...</td>\n      <td>...</td>\n      <td>...</td>\n      <td>...</td>\n      <td>...</td>\n      <td>...</td>\n      <td>...</td>\n      <td>...</td>\n      <td>...</td>\n      <td>...</td>\n      <td>...</td>\n      <td>...</td>\n      <td>...</td>\n      <td>...</td>\n      <td>...</td>\n      <td>...</td>\n      <td>...</td>\n      <td>...</td>\n      <td>...</td>\n      <td>...</td>\n      <td>...</td>\n    </tr>\n    <tr>\n      <th>8_29$$9</th>\n      <td>BMW</td>\n      <td>M2</td>\n      <td>8_29</td>\n      <td>2018</td>\n      <td>4</td>\n      <td>Black</td>\n      <td>2017</td>\n      <td>Coupe</td>\n      <td>2800.0</td>\n      <td>3.0</td>\n      <td>...</td>\n      <td>NaN</td>\n      <td>NaN</td>\n      <td>2693.0</td>\n      <td>1410.0</td>\n      <td>1854.0</td>\n      <td>4468.0</td>\n      <td>NaN</td>\n      <td>NaN</td>\n      <td>4.0</td>\n      <td>2.0</td>\n    </tr>\n    <tr>\n      <th>8_29$$91</th>\n      <td>BMW</td>\n      <td>M2</td>\n      <td>8_29</td>\n      <td>2018</td>\n      <td>4</td>\n      <td>NaN</td>\n      <td>2016</td>\n      <td>Coupe</td>\n      <td>4650.0</td>\n      <td>3.0</td>\n      <td>...</td>\n      <td>NaN</td>\n      <td>NaN</td>\n      <td>2693.0</td>\n      <td>1410.0</td>\n      <td>1854.0</td>\n      <td>4468.0</td>\n      <td>NaN</td>\n      <td>NaN</td>\n      <td>4.0</td>\n      <td>2.0</td>\n    </tr>\n    <tr>\n      <th>8_29$$93</th>\n      <td>BMW</td>\n      <td>M2</td>\n      <td>8_29</td>\n      <td>2017</td>\n      <td>6</td>\n      <td>NaN</td>\n      <td>2017</td>\n      <td>Coupe</td>\n      <td>500.0</td>\n      <td>3.0</td>\n      <td>...</td>\n      <td>NaN</td>\n      <td>NaN</td>\n      <td>2693.0</td>\n      <td>1410.0</td>\n      <td>1854.0</td>\n      <td>4468.0</td>\n      <td>NaN</td>\n      <td>NaN</td>\n      <td>4.0</td>\n      <td>2.0</td>\n    </tr>\n    <tr>\n      <th>8_29$$95</th>\n      <td>BMW</td>\n      <td>M2</td>\n      <td>8_29</td>\n      <td>2018</td>\n      <td>4</td>\n      <td>Black</td>\n      <td>2018</td>\n      <td>Coupe</td>\n      <td>100.0</td>\n      <td>3.0</td>\n      <td>...</td>\n      <td>NaN</td>\n      <td>NaN</td>\n      <td>2693.0</td>\n      <td>1410.0</td>\n      <td>1854.0</td>\n      <td>4468.0</td>\n      <td>NaN</td>\n      <td>NaN</td>\n      <td>4.0</td>\n      <td>2.0</td>\n    </tr>\n    <tr>\n      <th>8_29$$96</th>\n      <td>BMW</td>\n      <td>M2</td>\n      <td>8_29</td>\n      <td>2018</td>\n      <td>2</td>\n      <td>Blue</td>\n      <td>2016</td>\n      <td>Coupe</td>\n      <td>9321.0</td>\n      <td>3.0</td>\n      <td>...</td>\n      <td>NaN</td>\n      <td>NaN</td>\n      <td>2693.0</td>\n      <td>1410.0</td>\n      <td>1854.0</td>\n      <td>4468.0</td>\n      <td>NaN</td>\n      <td>NaN</td>\n      <td>4.0</td>\n      <td>2.0</td>\n    </tr>\n  </tbody>\n</table>\n<p>1120 rows × 23 columns</p>\n</div>"
     },
     "execution_count": 64,
     "metadata": {},
     "output_type": "execute_result"
    }
   ],
   "source": [
    "cars[cars['price'].isna()]"
   ],
   "metadata": {
    "collapsed": false,
    "ExecuteTime": {
     "end_time": "2024-02-12T12:41:14.739089Z",
     "start_time": "2024-02-12T12:41:14.216132Z"
    }
   },
   "id": "e07d4ea1fc329d59",
   "execution_count": 64
  },
  {
   "cell_type": "code",
   "outputs": [],
   "source": [
    "cars = cars.dropna(subset=['price'])"
   ],
   "metadata": {
    "collapsed": false,
    "ExecuteTime": {
     "end_time": "2024-02-12T12:41:14.747777Z",
     "start_time": "2024-02-12T12:41:14.227843Z"
    }
   },
   "id": "41a4e5ae640c091d",
   "execution_count": 65
  },
  {
   "cell_type": "code",
   "outputs": [],
   "source": [
    "cars = cars[cars['price'] != 9999999]"
   ],
   "metadata": {
    "collapsed": false,
    "ExecuteTime": {
     "end_time": "2024-02-12T12:41:14.776743Z",
     "start_time": "2024-02-12T12:41:14.250413Z"
    }
   },
   "id": "fd29117ef9ca9d7c",
   "execution_count": 66
  },
  {
   "cell_type": "markdown",
   "source": [
    "### engine_power column"
   ],
   "metadata": {
    "collapsed": false
   },
   "id": "74b044d22c215745"
  },
  {
   "cell_type": "code",
   "outputs": [
    {
     "name": "stdout",
     "output_type": "stream",
     "text": [
      "<class 'pandas.core.series.Series'>\n",
      "Index: 266235 entries, 10_1$$1 to 99_1$$3\n",
      "Series name: engine_power\n",
      "Non-Null Count   Dtype  \n",
      "--------------   -----  \n",
      "235664 non-null  float64\n",
      "dtypes: float64(1)\n",
      "memory usage: 4.1+ MB\n"
     ]
    }
   ],
   "source": [
    "cars['engine_power'].info()"
   ],
   "metadata": {
    "collapsed": false,
    "ExecuteTime": {
     "end_time": "2024-02-12T12:41:14.779805Z",
     "start_time": "2024-02-12T12:41:14.274139Z"
    }
   },
   "id": "70c7efe2c0e178eb",
   "execution_count": 67
  },
  {
   "cell_type": "code",
   "outputs": [
    {
     "data": {
      "text/plain": "count    235664.00000\nmean        150.68207\nstd          84.52781\nmin          17.00000\n25%          99.00000\n50%         128.00000\n75%         175.00000\nmax         740.00000\nName: engine_power, dtype: float64"
     },
     "execution_count": 68,
     "metadata": {},
     "output_type": "execute_result"
    }
   ],
   "source": [
    "cars['engine_power'].describe()"
   ],
   "metadata": {
    "collapsed": false,
    "ExecuteTime": {
     "end_time": "2024-02-12T12:41:14.791431Z",
     "start_time": "2024-02-12T12:41:14.277884Z"
    }
   },
   "id": "7b6ad88e871a5253",
   "execution_count": 68
  },
  {
   "cell_type": "code",
   "outputs": [
    {
     "data": {
      "text/plain": "              maker genmodel genmodel_id  adv_year  adv_month   color  \\\nadv_id                                                                  \n10_1$$1     Bentley   Arnage        10_1      2018          4  Silver   \n10_1$$10    Bentley   Arnage        10_1      2017         11  Silver   \n10_1$$11    Bentley   Arnage        10_1      2018          3   Green   \n10_1$$13    Bentley   Arnage        10_1      2018          4  Silver   \n10_1$$15    Bentley   Arnage        10_1      2018          4   Black   \n...             ...      ...         ...       ...        ...     ...   \n97_1$$1   Westfield    Sport        97_1      2018          5  Yellow   \n97_1$$2   Westfield    Sport        97_1      2018          5  Yellow   \n99_1$$1       Zenos      E10        99_1      2018          3     Red   \n99_1$$2       Zenos      E10        99_1      2018          3   Green   \n99_1$$3       Zenos      E10        99_1      2018          5    Grey   \n\n          reg_year    body_type  run_miles  engine_size  ... engine_power  \\\nadv_id                                                   ...                \n10_1$$1       2000       Saloon    60000.0          6.8  ...          NaN   \n10_1$$10      2003       Saloon    38000.0          6.8  ...          NaN   \n10_1$$11      2003       Saloon    69491.0          6.8  ...          NaN   \n10_1$$13      2000       Saloon    53444.0          6.8  ...          NaN   \n10_1$$15      2000       Saloon    61500.0          6.7  ...          NaN   \n...            ...          ...        ...          ...  ...          ...   \n97_1$$1       2006  Convertible     1800.0          2.2  ...          NaN   \n97_1$$2       2006  Convertible     2009.0          NaN  ...          NaN   \n99_1$$1       2016  Convertible        6.0          2.0  ...          NaN   \n99_1$$2       2016  Convertible     1538.0          2.0  ...          NaN   \n99_1$$3       2016  Convertible      500.0          2.3  ...          NaN   \n\n         annual_tax  wheelbase  height   width  length  average_mpg  \\\nadv_id                                                                \n10_1$$1         NaN     3116.0  1515.0  2125.0  5390.0          NaN   \n10_1$$10        NaN     3116.0  1515.0  2125.0  5390.0          NaN   \n10_1$$11        NaN     3116.0  1515.0  2125.0  5390.0          NaN   \n10_1$$13        NaN     3116.0  1515.0  2125.0  5390.0          NaN   \n10_1$$15        NaN        NaN     NaN     NaN     NaN          NaN   \n...             ...        ...     ...     ...     ...          ...   \n97_1$$1         NaN        NaN     NaN     NaN     NaN          NaN   \n97_1$$2         NaN        NaN     NaN     NaN     NaN          NaN   \n99_1$$1         NaN        NaN     NaN     NaN     NaN          NaN   \n99_1$$2         NaN        NaN     NaN     NaN     NaN          NaN   \n99_1$$3         NaN        NaN     NaN     NaN     NaN          NaN   \n\n          top_speed  seat_num door_num  \nadv_id                                  \n10_1$$1         NaN       5.0      4.0  \n10_1$$10        NaN       5.0      4.0  \n10_1$$11        NaN       5.0      4.0  \n10_1$$13        NaN       5.0      4.0  \n10_1$$15        NaN       NaN      NaN  \n...             ...       ...      ...  \n97_1$$1         NaN       2.0      NaN  \n97_1$$2         NaN       NaN      NaN  \n99_1$$1         NaN       2.0      NaN  \n99_1$$2         NaN       2.0      NaN  \n99_1$$3         NaN       2.0      NaN  \n\n[30571 rows x 23 columns]",
      "text/html": "<div>\n<style scoped>\n    .dataframe tbody tr th:only-of-type {\n        vertical-align: middle;\n    }\n\n    .dataframe tbody tr th {\n        vertical-align: top;\n    }\n\n    .dataframe thead th {\n        text-align: right;\n    }\n</style>\n<table border=\"1\" class=\"dataframe\">\n  <thead>\n    <tr style=\"text-align: right;\">\n      <th></th>\n      <th>maker</th>\n      <th>genmodel</th>\n      <th>genmodel_id</th>\n      <th>adv_year</th>\n      <th>adv_month</th>\n      <th>color</th>\n      <th>reg_year</th>\n      <th>body_type</th>\n      <th>run_miles</th>\n      <th>engine_size</th>\n      <th>...</th>\n      <th>engine_power</th>\n      <th>annual_tax</th>\n      <th>wheelbase</th>\n      <th>height</th>\n      <th>width</th>\n      <th>length</th>\n      <th>average_mpg</th>\n      <th>top_speed</th>\n      <th>seat_num</th>\n      <th>door_num</th>\n    </tr>\n    <tr>\n      <th>adv_id</th>\n      <th></th>\n      <th></th>\n      <th></th>\n      <th></th>\n      <th></th>\n      <th></th>\n      <th></th>\n      <th></th>\n      <th></th>\n      <th></th>\n      <th></th>\n      <th></th>\n      <th></th>\n      <th></th>\n      <th></th>\n      <th></th>\n      <th></th>\n      <th></th>\n      <th></th>\n      <th></th>\n      <th></th>\n    </tr>\n  </thead>\n  <tbody>\n    <tr>\n      <th>10_1$$1</th>\n      <td>Bentley</td>\n      <td>Arnage</td>\n      <td>10_1</td>\n      <td>2018</td>\n      <td>4</td>\n      <td>Silver</td>\n      <td>2000</td>\n      <td>Saloon</td>\n      <td>60000.0</td>\n      <td>6.8</td>\n      <td>...</td>\n      <td>NaN</td>\n      <td>NaN</td>\n      <td>3116.0</td>\n      <td>1515.0</td>\n      <td>2125.0</td>\n      <td>5390.0</td>\n      <td>NaN</td>\n      <td>NaN</td>\n      <td>5.0</td>\n      <td>4.0</td>\n    </tr>\n    <tr>\n      <th>10_1$$10</th>\n      <td>Bentley</td>\n      <td>Arnage</td>\n      <td>10_1</td>\n      <td>2017</td>\n      <td>11</td>\n      <td>Silver</td>\n      <td>2003</td>\n      <td>Saloon</td>\n      <td>38000.0</td>\n      <td>6.8</td>\n      <td>...</td>\n      <td>NaN</td>\n      <td>NaN</td>\n      <td>3116.0</td>\n      <td>1515.0</td>\n      <td>2125.0</td>\n      <td>5390.0</td>\n      <td>NaN</td>\n      <td>NaN</td>\n      <td>5.0</td>\n      <td>4.0</td>\n    </tr>\n    <tr>\n      <th>10_1$$11</th>\n      <td>Bentley</td>\n      <td>Arnage</td>\n      <td>10_1</td>\n      <td>2018</td>\n      <td>3</td>\n      <td>Green</td>\n      <td>2003</td>\n      <td>Saloon</td>\n      <td>69491.0</td>\n      <td>6.8</td>\n      <td>...</td>\n      <td>NaN</td>\n      <td>NaN</td>\n      <td>3116.0</td>\n      <td>1515.0</td>\n      <td>2125.0</td>\n      <td>5390.0</td>\n      <td>NaN</td>\n      <td>NaN</td>\n      <td>5.0</td>\n      <td>4.0</td>\n    </tr>\n    <tr>\n      <th>10_1$$13</th>\n      <td>Bentley</td>\n      <td>Arnage</td>\n      <td>10_1</td>\n      <td>2018</td>\n      <td>4</td>\n      <td>Silver</td>\n      <td>2000</td>\n      <td>Saloon</td>\n      <td>53444.0</td>\n      <td>6.8</td>\n      <td>...</td>\n      <td>NaN</td>\n      <td>NaN</td>\n      <td>3116.0</td>\n      <td>1515.0</td>\n      <td>2125.0</td>\n      <td>5390.0</td>\n      <td>NaN</td>\n      <td>NaN</td>\n      <td>5.0</td>\n      <td>4.0</td>\n    </tr>\n    <tr>\n      <th>10_1$$15</th>\n      <td>Bentley</td>\n      <td>Arnage</td>\n      <td>10_1</td>\n      <td>2018</td>\n      <td>4</td>\n      <td>Black</td>\n      <td>2000</td>\n      <td>Saloon</td>\n      <td>61500.0</td>\n      <td>6.7</td>\n      <td>...</td>\n      <td>NaN</td>\n      <td>NaN</td>\n      <td>NaN</td>\n      <td>NaN</td>\n      <td>NaN</td>\n      <td>NaN</td>\n      <td>NaN</td>\n      <td>NaN</td>\n      <td>NaN</td>\n      <td>NaN</td>\n    </tr>\n    <tr>\n      <th>...</th>\n      <td>...</td>\n      <td>...</td>\n      <td>...</td>\n      <td>...</td>\n      <td>...</td>\n      <td>...</td>\n      <td>...</td>\n      <td>...</td>\n      <td>...</td>\n      <td>...</td>\n      <td>...</td>\n      <td>...</td>\n      <td>...</td>\n      <td>...</td>\n      <td>...</td>\n      <td>...</td>\n      <td>...</td>\n      <td>...</td>\n      <td>...</td>\n      <td>...</td>\n      <td>...</td>\n    </tr>\n    <tr>\n      <th>97_1$$1</th>\n      <td>Westfield</td>\n      <td>Sport</td>\n      <td>97_1</td>\n      <td>2018</td>\n      <td>5</td>\n      <td>Yellow</td>\n      <td>2006</td>\n      <td>Convertible</td>\n      <td>1800.0</td>\n      <td>2.2</td>\n      <td>...</td>\n      <td>NaN</td>\n      <td>NaN</td>\n      <td>NaN</td>\n      <td>NaN</td>\n      <td>NaN</td>\n      <td>NaN</td>\n      <td>NaN</td>\n      <td>NaN</td>\n      <td>2.0</td>\n      <td>NaN</td>\n    </tr>\n    <tr>\n      <th>97_1$$2</th>\n      <td>Westfield</td>\n      <td>Sport</td>\n      <td>97_1</td>\n      <td>2018</td>\n      <td>5</td>\n      <td>Yellow</td>\n      <td>2006</td>\n      <td>Convertible</td>\n      <td>2009.0</td>\n      <td>NaN</td>\n      <td>...</td>\n      <td>NaN</td>\n      <td>NaN</td>\n      <td>NaN</td>\n      <td>NaN</td>\n      <td>NaN</td>\n      <td>NaN</td>\n      <td>NaN</td>\n      <td>NaN</td>\n      <td>NaN</td>\n      <td>NaN</td>\n    </tr>\n    <tr>\n      <th>99_1$$1</th>\n      <td>Zenos</td>\n      <td>E10</td>\n      <td>99_1</td>\n      <td>2018</td>\n      <td>3</td>\n      <td>Red</td>\n      <td>2016</td>\n      <td>Convertible</td>\n      <td>6.0</td>\n      <td>2.0</td>\n      <td>...</td>\n      <td>NaN</td>\n      <td>NaN</td>\n      <td>NaN</td>\n      <td>NaN</td>\n      <td>NaN</td>\n      <td>NaN</td>\n      <td>NaN</td>\n      <td>NaN</td>\n      <td>2.0</td>\n      <td>NaN</td>\n    </tr>\n    <tr>\n      <th>99_1$$2</th>\n      <td>Zenos</td>\n      <td>E10</td>\n      <td>99_1</td>\n      <td>2018</td>\n      <td>3</td>\n      <td>Green</td>\n      <td>2016</td>\n      <td>Convertible</td>\n      <td>1538.0</td>\n      <td>2.0</td>\n      <td>...</td>\n      <td>NaN</td>\n      <td>NaN</td>\n      <td>NaN</td>\n      <td>NaN</td>\n      <td>NaN</td>\n      <td>NaN</td>\n      <td>NaN</td>\n      <td>NaN</td>\n      <td>2.0</td>\n      <td>NaN</td>\n    </tr>\n    <tr>\n      <th>99_1$$3</th>\n      <td>Zenos</td>\n      <td>E10</td>\n      <td>99_1</td>\n      <td>2018</td>\n      <td>5</td>\n      <td>Grey</td>\n      <td>2016</td>\n      <td>Convertible</td>\n      <td>500.0</td>\n      <td>2.3</td>\n      <td>...</td>\n      <td>NaN</td>\n      <td>NaN</td>\n      <td>NaN</td>\n      <td>NaN</td>\n      <td>NaN</td>\n      <td>NaN</td>\n      <td>NaN</td>\n      <td>NaN</td>\n      <td>2.0</td>\n      <td>NaN</td>\n    </tr>\n  </tbody>\n</table>\n<p>30571 rows × 23 columns</p>\n</div>"
     },
     "execution_count": 69,
     "metadata": {},
     "output_type": "execute_result"
    }
   ],
   "source": [
    "cars[cars['engine_power'].isna()]"
   ],
   "metadata": {
    "collapsed": false,
    "ExecuteTime": {
     "end_time": "2024-02-12T12:41:14.798759Z",
     "start_time": "2024-02-12T12:41:14.289189Z"
    }
   },
   "id": "5ee084969ab210d8",
   "execution_count": 69
  },
  {
   "cell_type": "markdown",
   "source": [
    "### annual_tax column"
   ],
   "metadata": {
    "collapsed": false
   },
   "id": "481e3901b67e7e3"
  },
  {
   "cell_type": "code",
   "outputs": [
    {
     "name": "stdout",
     "output_type": "stream",
     "text": [
      "<class 'pandas.core.series.Series'>\n",
      "Index: 266235 entries, 10_1$$1 to 99_1$$3\n",
      "Series name: annual_tax\n",
      "Non-Null Count   Dtype \n",
      "--------------   ----- \n",
      "220791 non-null  object\n",
      "dtypes: object(1)\n",
      "memory usage: 4.1+ MB\n"
     ]
    }
   ],
   "source": [
    "cars['annual_tax'].info()"
   ],
   "metadata": {
    "collapsed": false,
    "ExecuteTime": {
     "end_time": "2024-02-12T12:41:14.801840Z",
     "start_time": "2024-02-12T12:41:14.315205Z"
    }
   },
   "id": "71e5802d77e31f6f",
   "execution_count": 70
  },
  {
   "cell_type": "code",
   "outputs": [
    {
     "data": {
      "text/plain": "annual_tax\nNaN      45444\n 140*    31697\n 30      23856\n 140     23705\n 195     23148\n 120     18347\n 20      17738\n 155     16101\n 0       13902\n 315     12732\n 230      9171\n 290      8849\n 250      7805\n 555      5022\n 540      4534\n 130*     1446\n*          851\n 10        704\n 145       431\n 110       297\n 280       196\n 0*        167\n 240        30\n 185        28\n 305        13\n 530        11\n 220         7\n 130         2\n 545         1\nName: count, dtype: int64"
     },
     "execution_count": 71,
     "metadata": {},
     "output_type": "execute_result"
    }
   ],
   "source": [
    "cars['annual_tax'].value_counts(dropna=False)"
   ],
   "metadata": {
    "collapsed": false,
    "ExecuteTime": {
     "end_time": "2024-02-12T12:41:14.828814Z",
     "start_time": "2024-02-12T12:41:14.326722Z"
    }
   },
   "id": "4971058a179a71f3",
   "execution_count": 71
  },
  {
   "cell_type": "code",
   "outputs": [],
   "source": [
    "cars['annual_tax'] = cars['annual_tax'].replace('*', np.NaN)\n",
    "cars['annual_tax'] = cars['annual_tax'].str.replace('*', '')\n",
    "\n",
    "cars['annual_tax'] = cars['annual_tax'].astype('float')"
   ],
   "metadata": {
    "collapsed": false,
    "ExecuteTime": {
     "end_time": "2024-02-12T12:41:14.922888Z",
     "start_time": "2024-02-12T12:41:14.328939Z"
    }
   },
   "id": "96529a13768ae4e3",
   "execution_count": 72
  },
  {
   "cell_type": "code",
   "outputs": [
    {
     "data": {
      "text/plain": "annual_tax\n140.0    55402\nNaN      46295\n30.0     23856\n195.0    23148\n120.0    18347\n20.0     17738\n155.0    16101\n0.0      14069\n315.0    12732\n230.0     9171\n290.0     8849\n250.0     7805\n555.0     5022\n540.0     4534\n130.0     1448\n10.0       704\n145.0      431\n110.0      297\n280.0      196\n240.0       30\n185.0       28\n305.0       13\n530.0       11\n220.0        7\n545.0        1\nName: count, dtype: int64"
     },
     "execution_count": 73,
     "metadata": {},
     "output_type": "execute_result"
    }
   ],
   "source": [
    "cars['annual_tax'].value_counts(dropna=False)"
   ],
   "metadata": {
    "collapsed": false,
    "ExecuteTime": {
     "end_time": "2024-02-12T12:41:14.926682Z",
     "start_time": "2024-02-12T12:41:14.382442Z"
    }
   },
   "id": "bd46286f49169f31",
   "execution_count": 73
  },
  {
   "cell_type": "markdown",
   "source": [
    "### wheelbase column"
   ],
   "metadata": {
    "collapsed": false
   },
   "id": "da9615ebaad1bd04"
  },
  {
   "cell_type": "code",
   "outputs": [
    {
     "name": "stdout",
     "output_type": "stream",
     "text": [
      "<class 'pandas.core.series.Series'>\n",
      "Index: 266235 entries, 10_1$$1 to 99_1$$3\n",
      "Series name: wheelbase\n",
      "Non-Null Count   Dtype  \n",
      "--------------   -----  \n",
      "238386 non-null  float64\n",
      "dtypes: float64(1)\n",
      "memory usage: 4.1+ MB\n"
     ]
    }
   ],
   "source": [
    "cars['wheelbase'].info()"
   ],
   "metadata": {
    "collapsed": false,
    "ExecuteTime": {
     "end_time": "2024-02-12T12:41:14.930256Z",
     "start_time": "2024-02-12T12:41:14.385208Z"
    }
   },
   "id": "e87de0efcea192ac",
   "execution_count": 74
  },
  {
   "cell_type": "code",
   "outputs": [
    {
     "data": {
      "text/plain": "count    238386.000000\nmean       2563.036915\nstd         490.548504\nmin           0.000000\n25%        2511.000000\n50%        2638.000000\n75%        2751.000000\nmax        5246.000000\nName: wheelbase, dtype: float64"
     },
     "execution_count": 75,
     "metadata": {},
     "output_type": "execute_result"
    }
   ],
   "source": [
    "cars['wheelbase'].describe()"
   ],
   "metadata": {
    "collapsed": false,
    "ExecuteTime": {
     "end_time": "2024-02-12T12:41:14.944692Z",
     "start_time": "2024-02-12T12:41:14.389943Z"
    }
   },
   "id": "636174e240d5699",
   "execution_count": 75
  },
  {
   "cell_type": "code",
   "outputs": [
    {
     "data": {
      "text/plain": "wheelbase\n0.0       7406\n1420.0      28\n1445.0       1\n1505.0       6\n1541.0       1\n          ... \n3570.0      24\n3820.0       3\n3827.0       3\n4065.0      33\n5246.0       8\nName: count, Length: 427, dtype: int64"
     },
     "execution_count": 76,
     "metadata": {},
     "output_type": "execute_result"
    }
   ],
   "source": [
    "cars['wheelbase'].value_counts().sort_index()"
   ],
   "metadata": {
    "collapsed": false,
    "ExecuteTime": {
     "end_time": "2024-02-12T12:41:14.961517Z",
     "start_time": "2024-02-12T12:41:14.403427Z"
    }
   },
   "id": "3549e7ddf3dc2fef",
   "execution_count": 76
  },
  {
   "cell_type": "code",
   "outputs": [],
   "source": [
    "cars['wheelbase'] = cars['wheelbase'].replace(0, np.NaN)"
   ],
   "metadata": {
    "collapsed": false,
    "ExecuteTime": {
     "end_time": "2024-02-12T12:41:14.964886Z",
     "start_time": "2024-02-12T12:41:14.406165Z"
    }
   },
   "id": "981ad1dc875e0b62",
   "execution_count": 77
  },
  {
   "cell_type": "markdown",
   "source": [
    "### height column"
   ],
   "metadata": {
    "collapsed": false
   },
   "id": "31d4833d409869de"
  },
  {
   "cell_type": "code",
   "outputs": [
    {
     "name": "stdout",
     "output_type": "stream",
     "text": [
      "<class 'pandas.core.series.Series'>\n",
      "Index: 266235 entries, 10_1$$1 to 99_1$$3\n",
      "Series name: height\n",
      "Non-Null Count   Dtype  \n",
      "--------------   -----  \n",
      "238583 non-null  float64\n",
      "dtypes: float64(1)\n",
      "memory usage: 4.1+ MB\n"
     ]
    }
   ],
   "source": [
    "cars['height'].info()"
   ],
   "metadata": {
    "collapsed": false,
    "ExecuteTime": {
     "end_time": "2024-02-12T12:41:15.031377Z",
     "start_time": "2024-02-12T12:41:14.409428Z"
    }
   },
   "id": "222979c6ba8d890b",
   "execution_count": 78
  },
  {
   "cell_type": "code",
   "outputs": [
    {
     "data": {
      "text/plain": "count    238583.000000\nmean       1531.167447\nstd         164.201233\nmin           0.000000\n25%        1456.000000\n50%        1494.000000\n75%        1624.000000\nmax        2660.000000\nName: height, dtype: float64"
     },
     "execution_count": 79,
     "metadata": {},
     "output_type": "execute_result"
    }
   ],
   "source": [
    "cars['height'].describe()"
   ],
   "metadata": {
    "collapsed": false,
    "ExecuteTime": {
     "end_time": "2024-02-12T12:41:15.088774Z",
     "start_time": "2024-02-12T12:41:14.414180Z"
    }
   },
   "id": "4cb364e74401a471",
   "execution_count": 79
  },
  {
   "cell_type": "code",
   "outputs": [
    {
     "data": {
      "text/plain": "height\n0.0       941\n200.0      82\n669.0       2\n797.0       4\n803.0      10\n         ... \n2168.0     44\n2176.0      1\n2381.0      1\n2389.0      1\n2660.0     28\nName: count, Length: 579, dtype: int64"
     },
     "execution_count": 80,
     "metadata": {},
     "output_type": "execute_result"
    }
   ],
   "source": [
    "cars['height'].value_counts().sort_index()"
   ],
   "metadata": {
    "collapsed": false,
    "ExecuteTime": {
     "end_time": "2024-02-12T12:41:15.132439Z",
     "start_time": "2024-02-12T12:41:14.427399Z"
    }
   },
   "id": "a14479953140236f",
   "execution_count": 80
  },
  {
   "cell_type": "code",
   "outputs": [
    {
     "data": {
      "text/plain": "                 maker genmodel  height\nadv_id                                 \n29_30$$11         Ford   Ranger   803.0\n29_30$$129        Ford   Ranger   803.0\n29_30$$147        Ford   Ranger   805.0\n29_30$$15         Ford   Ranger   805.0\n29_30$$159        Ford   Ranger   805.0\n...                ...      ...     ...\n62_13$$921  Mitsubishi     L200   200.0\n62_13$$926  Mitsubishi     L200   200.0\n62_13$$934  Mitsubishi     L200   200.0\n62_13$$943  Mitsubishi     L200   200.0\n62_13$$954  Mitsubishi     L200   200.0\n\n[123 rows x 3 columns]",
      "text/html": "<div>\n<style scoped>\n    .dataframe tbody tr th:only-of-type {\n        vertical-align: middle;\n    }\n\n    .dataframe tbody tr th {\n        vertical-align: top;\n    }\n\n    .dataframe thead th {\n        text-align: right;\n    }\n</style>\n<table border=\"1\" class=\"dataframe\">\n  <thead>\n    <tr style=\"text-align: right;\">\n      <th></th>\n      <th>maker</th>\n      <th>genmodel</th>\n      <th>height</th>\n    </tr>\n    <tr>\n      <th>adv_id</th>\n      <th></th>\n      <th></th>\n      <th></th>\n    </tr>\n  </thead>\n  <tbody>\n    <tr>\n      <th>29_30$$11</th>\n      <td>Ford</td>\n      <td>Ranger</td>\n      <td>803.0</td>\n    </tr>\n    <tr>\n      <th>29_30$$129</th>\n      <td>Ford</td>\n      <td>Ranger</td>\n      <td>803.0</td>\n    </tr>\n    <tr>\n      <th>29_30$$147</th>\n      <td>Ford</td>\n      <td>Ranger</td>\n      <td>805.0</td>\n    </tr>\n    <tr>\n      <th>29_30$$15</th>\n      <td>Ford</td>\n      <td>Ranger</td>\n      <td>805.0</td>\n    </tr>\n    <tr>\n      <th>29_30$$159</th>\n      <td>Ford</td>\n      <td>Ranger</td>\n      <td>805.0</td>\n    </tr>\n    <tr>\n      <th>...</th>\n      <td>...</td>\n      <td>...</td>\n      <td>...</td>\n    </tr>\n    <tr>\n      <th>62_13$$921</th>\n      <td>Mitsubishi</td>\n      <td>L200</td>\n      <td>200.0</td>\n    </tr>\n    <tr>\n      <th>62_13$$926</th>\n      <td>Mitsubishi</td>\n      <td>L200</td>\n      <td>200.0</td>\n    </tr>\n    <tr>\n      <th>62_13$$934</th>\n      <td>Mitsubishi</td>\n      <td>L200</td>\n      <td>200.0</td>\n    </tr>\n    <tr>\n      <th>62_13$$943</th>\n      <td>Mitsubishi</td>\n      <td>L200</td>\n      <td>200.0</td>\n    </tr>\n    <tr>\n      <th>62_13$$954</th>\n      <td>Mitsubishi</td>\n      <td>L200</td>\n      <td>200.0</td>\n    </tr>\n  </tbody>\n</table>\n<p>123 rows × 3 columns</p>\n</div>"
     },
     "execution_count": 81,
     "metadata": {},
     "output_type": "execute_result"
    }
   ],
   "source": [
    "cars.loc[cars['height'].between(0, 1000, inclusive='neither'), ['maker', 'genmodel', 'height']]"
   ],
   "metadata": {
    "collapsed": false,
    "ExecuteTime": {
     "end_time": "2024-02-12T12:41:15.135738Z",
     "start_time": "2024-02-12T12:41:14.431150Z"
    }
   },
   "id": "fec450f69a91ac59",
   "execution_count": 81
  },
  {
   "cell_type": "code",
   "outputs": [],
   "source": [
    "cars.loc[cars['height'] < 1000, 'height'] = np.NaN"
   ],
   "metadata": {
    "collapsed": false,
    "ExecuteTime": {
     "end_time": "2024-02-12T12:41:15.141896Z",
     "start_time": "2024-02-12T12:41:14.436467Z"
    }
   },
   "id": "bd84b8423e16c80f",
   "execution_count": 82
  },
  {
   "cell_type": "markdown",
   "source": [
    "### width column"
   ],
   "metadata": {
    "collapsed": false
   },
   "id": "dbce8a255d8d2b50"
  },
  {
   "cell_type": "code",
   "outputs": [
    {
     "name": "stdout",
     "output_type": "stream",
     "text": [
      "<class 'pandas.core.series.Series'>\n",
      "Index: 266235 entries, 10_1$$1 to 99_1$$3\n",
      "Series name: width\n",
      "Non-Null Count   Dtype  \n",
      "--------------   -----  \n",
      "238304 non-null  float64\n",
      "dtypes: float64(1)\n",
      "memory usage: 4.1+ MB\n"
     ]
    }
   ],
   "source": [
    "cars['width'].info()"
   ],
   "metadata": {
    "collapsed": false,
    "ExecuteTime": {
     "end_time": "2024-02-12T12:41:15.145377Z",
     "start_time": "2024-02-12T12:41:14.439232Z"
    }
   },
   "id": "7bec824ff1f29c2d",
   "execution_count": 83
  },
  {
   "cell_type": "code",
   "outputs": [
    {
     "data": {
      "text/plain": "count    238304.000000\nmean       1895.478116\nstd         151.046323\nmin        1191.000000\n25%        1780.000000\n50%        1884.000000\n75%        2020.000000\nmax        2690.000000\nName: width, dtype: float64"
     },
     "execution_count": 84,
     "metadata": {},
     "output_type": "execute_result"
    }
   ],
   "source": [
    "cars['width'].describe()"
   ],
   "metadata": {
    "collapsed": false,
    "ExecuteTime": {
     "end_time": "2024-02-12T12:41:15.149221Z",
     "start_time": "2024-02-12T12:41:14.443693Z"
    }
   },
   "id": "dc2696b6a1f1e706",
   "execution_count": 84
  },
  {
   "cell_type": "markdown",
   "source": [
    "### length column"
   ],
   "metadata": {
    "collapsed": false
   },
   "id": "f6f2984120ab1262"
  },
  {
   "cell_type": "code",
   "outputs": [
    {
     "name": "stdout",
     "output_type": "stream",
     "text": [
      "<class 'pandas.core.series.Series'>\n",
      "Index: 266235 entries, 10_1$$1 to 99_1$$3\n",
      "Series name: length\n",
      "Non-Null Count   Dtype  \n",
      "--------------   -----  \n",
      "238583 non-null  float64\n",
      "dtypes: float64(1)\n",
      "memory usage: 4.1+ MB\n"
     ]
    }
   ],
   "source": [
    "cars['length'].info()"
   ],
   "metadata": {
    "collapsed": false,
    "ExecuteTime": {
     "end_time": "2024-02-12T12:41:15.157986Z",
     "start_time": "2024-02-12T12:41:14.455114Z"
    }
   },
   "id": "d5db0cfa3a982365",
   "execution_count": 85
  },
  {
   "cell_type": "code",
   "outputs": [
    {
     "data": {
      "text/plain": "count    238583.000000\nmean       4369.194624\nstd         422.219194\nmin           0.000000\n25%        4081.000000\n50%        4384.000000\n75%        4672.000000\nmax        6165.000000\nName: length, dtype: float64"
     },
     "execution_count": 86,
     "metadata": {},
     "output_type": "execute_result"
    }
   ],
   "source": [
    "cars['length'].describe()"
   ],
   "metadata": {
    "collapsed": false,
    "ExecuteTime": {
     "end_time": "2024-02-12T12:41:15.161197Z",
     "start_time": "2024-02-12T12:41:14.458999Z"
    }
   },
   "id": "23a6d92f42b6fecf",
   "execution_count": 86
  },
  {
   "cell_type": "code",
   "outputs": [
    {
     "data": {
      "text/plain": "length\n0.0        88\n1971.0      1\n2337.0      1\n2500.0     77\n2622.0      3\n         ... \n5842.0      1\n5970.0    228\n6084.0      1\n6092.0      2\n6165.0      3\nName: count, Length: 984, dtype: int64"
     },
     "execution_count": 87,
     "metadata": {},
     "output_type": "execute_result"
    }
   ],
   "source": [
    "cars['length'].value_counts().sort_index()"
   ],
   "metadata": {
    "collapsed": false,
    "ExecuteTime": {
     "end_time": "2024-02-12T12:41:15.168600Z",
     "start_time": "2024-02-12T12:41:14.471348Z"
    }
   },
   "id": "92ca2f047062c613",
   "execution_count": 87
  },
  {
   "cell_type": "code",
   "outputs": [],
   "source": [
    "cars['length'] = cars['length'].replace(0, np.NaN)"
   ],
   "metadata": {
    "collapsed": false,
    "ExecuteTime": {
     "end_time": "2024-02-12T12:41:15.293325Z",
     "start_time": "2024-02-12T12:41:14.482289Z"
    }
   },
   "id": "b0b777b5a7eb5462",
   "execution_count": 88
  },
  {
   "cell_type": "markdown",
   "source": [
    "### average_mpg column"
   ],
   "metadata": {
    "collapsed": false
   },
   "id": "69162da7286e029a"
  },
  {
   "cell_type": "code",
   "outputs": [
    {
     "name": "stdout",
     "output_type": "stream",
     "text": [
      "<class 'pandas.core.series.Series'>\n",
      "Index: 266235 entries, 10_1$$1 to 99_1$$3\n",
      "Series name: average_mpg\n",
      "Non-Null Count   Dtype \n",
      "--------------   ----- \n",
      "225551 non-null  object\n",
      "dtypes: object(1)\n",
      "memory usage: 4.1+ MB\n"
     ]
    }
   ],
   "source": [
    "cars['average_mpg'].info()"
   ],
   "metadata": {
    "collapsed": false,
    "ExecuteTime": {
     "end_time": "2024-02-12T12:41:15.328357Z",
     "start_time": "2024-02-12T12:41:14.484786Z"
    }
   },
   "id": "a29e59c416be3f90",
   "execution_count": 89
  },
  {
   "cell_type": "code",
   "outputs": [
    {
     "data": {
      "text/plain": "average_mpg\n62.8 mpg    8734\n55.4 mpg    8065\n47.9 mpg    7961\n47.1 mpg    7941\n54.3 mpg    6907\n            ... \n42.4 mpg       1\n44.0 mpg       1\n61.0 mpg       1\n18.7 mpg       1\n46.2 mpg       1\nName: count, Length: 358, dtype: int64"
     },
     "execution_count": 90,
     "metadata": {},
     "output_type": "execute_result"
    }
   ],
   "source": [
    "cars['average_mpg'].value_counts()"
   ],
   "metadata": {
    "collapsed": false,
    "ExecuteTime": {
     "end_time": "2024-02-12T12:41:15.331977Z",
     "start_time": "2024-02-12T12:41:14.502227Z"
    }
   },
   "id": "7507d0d6a9873c39",
   "execution_count": 90
  },
  {
   "cell_type": "code",
   "outputs": [],
   "source": [
    "cars['average_mpg'] = cars['average_mpg'].str.replace('mpg', '').str.strip()\n",
    "\n",
    "cars['average_mpg'] = cars['average_mpg'].astype('float')"
   ],
   "metadata": {
    "collapsed": false,
    "ExecuteTime": {
     "end_time": "2024-02-12T12:41:15.442315Z",
     "start_time": "2024-02-12T12:41:14.784936Z"
    }
   },
   "id": "77bb04f883382554",
   "execution_count": 91
  },
  {
   "cell_type": "code",
   "outputs": [
    {
     "data": {
      "text/plain": "count    225551.000000\nmean         50.902906\nstd          15.807081\nmin           9.400000\n25%          41.500000\n50%          50.400000\n75%          60.100000\nmax         471.000000\nName: average_mpg, dtype: float64"
     },
     "execution_count": 92,
     "metadata": {},
     "output_type": "execute_result"
    }
   ],
   "source": [
    "cars['average_mpg'].describe()"
   ],
   "metadata": {
    "collapsed": false,
    "ExecuteTime": {
     "end_time": "2024-02-12T12:41:15.791742Z",
     "start_time": "2024-02-12T12:41:15.402640Z"
    }
   },
   "id": "79f04c8d5dc32001",
   "execution_count": 92
  },
  {
   "cell_type": "code",
   "outputs": [
    {
     "data": {
      "text/plain": "average_mpg\n471.0    80\n200.0     6\n176.6    22\n166.1    26\n156.9    88\n         ..\n11.4     13\n11.3      1\n11.2      2\n9.8       2\n9.4       2\nName: count, Length: 358, dtype: int64"
     },
     "execution_count": 93,
     "metadata": {},
     "output_type": "execute_result"
    }
   ],
   "source": [
    "cars['average_mpg'].value_counts().sort_index(ascending=False)"
   ],
   "metadata": {
    "collapsed": false,
    "ExecuteTime": {
     "end_time": "2024-02-12T12:41:16.078842Z",
     "start_time": "2024-02-12T12:41:15.793346Z"
    }
   },
   "id": "7a45c39d3680b464",
   "execution_count": 93
  },
  {
   "cell_type": "code",
   "outputs": [
    {
     "data": {
      "text/plain": "          maker genmodel genmodel_id  adv_year  adv_month   color  reg_year  \\\nadv_id                                                                        \n43_6$$180   Kia   Optima        43_6      2018          2  Silver      2018   \n43_6$$190   Kia   Optima        43_6      2018          4     Red      2018   \n43_6$$203   Kia   Optima        43_6      2018          7     Red      2018   \n43_6$$218   Kia   Optima        43_6      2018          5  Silver      2017   \n43_6$$401   Kia   Optima        43_6      2018          4    Blue      2018   \n43_6$$416   Kia   Optima        43_6      2018          8  Silver      2018   \n\n          body_type  run_miles  engine_size  ... engine_power annual_tax  \\\nadv_id                                       ...                           \n43_6$$180    Estate     3545.0          2.0  ...        154.0      130.0   \n43_6$$190    Estate     7000.0          2.0  ...        154.0      130.0   \n43_6$$203    Estate     9664.0          2.0  ...        154.0      130.0   \n43_6$$218    Estate     7000.0          2.0  ...        154.0      130.0   \n43_6$$401    Estate     4500.0          2.0  ...        154.0      130.0   \n43_6$$416    Estate     6000.0          2.0  ...        154.0      130.0   \n\n           wheelbase  height   width  length  average_mpg  top_speed  \\\nadv_id                                                                 \n43_6$$180     2805.0  1470.0  1860.0  4855.0        200.0    119 mph   \n43_6$$190     2805.0  1470.0  1860.0  4855.0        200.0    119 mph   \n43_6$$203     2805.0  1470.0  1860.0  4855.0        200.0    119 mph   \n43_6$$218     2805.0  1470.0  1860.0  4855.0        200.0    119 mph   \n43_6$$401     2805.0  1470.0  1860.0  4855.0        200.0    119 mph   \n43_6$$416     2805.0  1470.0  1860.0  4855.0        200.0    119 mph   \n\n           seat_num  door_num  \nadv_id                         \n43_6$$180       5.0       5.0  \n43_6$$190       5.0       5.0  \n43_6$$203       5.0       5.0  \n43_6$$218       5.0       5.0  \n43_6$$401       5.0       5.0  \n43_6$$416       5.0       5.0  \n\n[6 rows x 23 columns]",
      "text/html": "<div>\n<style scoped>\n    .dataframe tbody tr th:only-of-type {\n        vertical-align: middle;\n    }\n\n    .dataframe tbody tr th {\n        vertical-align: top;\n    }\n\n    .dataframe thead th {\n        text-align: right;\n    }\n</style>\n<table border=\"1\" class=\"dataframe\">\n  <thead>\n    <tr style=\"text-align: right;\">\n      <th></th>\n      <th>maker</th>\n      <th>genmodel</th>\n      <th>genmodel_id</th>\n      <th>adv_year</th>\n      <th>adv_month</th>\n      <th>color</th>\n      <th>reg_year</th>\n      <th>body_type</th>\n      <th>run_miles</th>\n      <th>engine_size</th>\n      <th>...</th>\n      <th>engine_power</th>\n      <th>annual_tax</th>\n      <th>wheelbase</th>\n      <th>height</th>\n      <th>width</th>\n      <th>length</th>\n      <th>average_mpg</th>\n      <th>top_speed</th>\n      <th>seat_num</th>\n      <th>door_num</th>\n    </tr>\n    <tr>\n      <th>adv_id</th>\n      <th></th>\n      <th></th>\n      <th></th>\n      <th></th>\n      <th></th>\n      <th></th>\n      <th></th>\n      <th></th>\n      <th></th>\n      <th></th>\n      <th></th>\n      <th></th>\n      <th></th>\n      <th></th>\n      <th></th>\n      <th></th>\n      <th></th>\n      <th></th>\n      <th></th>\n      <th></th>\n      <th></th>\n    </tr>\n  </thead>\n  <tbody>\n    <tr>\n      <th>43_6$$180</th>\n      <td>Kia</td>\n      <td>Optima</td>\n      <td>43_6</td>\n      <td>2018</td>\n      <td>2</td>\n      <td>Silver</td>\n      <td>2018</td>\n      <td>Estate</td>\n      <td>3545.0</td>\n      <td>2.0</td>\n      <td>...</td>\n      <td>154.0</td>\n      <td>130.0</td>\n      <td>2805.0</td>\n      <td>1470.0</td>\n      <td>1860.0</td>\n      <td>4855.0</td>\n      <td>200.0</td>\n      <td>119 mph</td>\n      <td>5.0</td>\n      <td>5.0</td>\n    </tr>\n    <tr>\n      <th>43_6$$190</th>\n      <td>Kia</td>\n      <td>Optima</td>\n      <td>43_6</td>\n      <td>2018</td>\n      <td>4</td>\n      <td>Red</td>\n      <td>2018</td>\n      <td>Estate</td>\n      <td>7000.0</td>\n      <td>2.0</td>\n      <td>...</td>\n      <td>154.0</td>\n      <td>130.0</td>\n      <td>2805.0</td>\n      <td>1470.0</td>\n      <td>1860.0</td>\n      <td>4855.0</td>\n      <td>200.0</td>\n      <td>119 mph</td>\n      <td>5.0</td>\n      <td>5.0</td>\n    </tr>\n    <tr>\n      <th>43_6$$203</th>\n      <td>Kia</td>\n      <td>Optima</td>\n      <td>43_6</td>\n      <td>2018</td>\n      <td>7</td>\n      <td>Red</td>\n      <td>2018</td>\n      <td>Estate</td>\n      <td>9664.0</td>\n      <td>2.0</td>\n      <td>...</td>\n      <td>154.0</td>\n      <td>130.0</td>\n      <td>2805.0</td>\n      <td>1470.0</td>\n      <td>1860.0</td>\n      <td>4855.0</td>\n      <td>200.0</td>\n      <td>119 mph</td>\n      <td>5.0</td>\n      <td>5.0</td>\n    </tr>\n    <tr>\n      <th>43_6$$218</th>\n      <td>Kia</td>\n      <td>Optima</td>\n      <td>43_6</td>\n      <td>2018</td>\n      <td>5</td>\n      <td>Silver</td>\n      <td>2017</td>\n      <td>Estate</td>\n      <td>7000.0</td>\n      <td>2.0</td>\n      <td>...</td>\n      <td>154.0</td>\n      <td>130.0</td>\n      <td>2805.0</td>\n      <td>1470.0</td>\n      <td>1860.0</td>\n      <td>4855.0</td>\n      <td>200.0</td>\n      <td>119 mph</td>\n      <td>5.0</td>\n      <td>5.0</td>\n    </tr>\n    <tr>\n      <th>43_6$$401</th>\n      <td>Kia</td>\n      <td>Optima</td>\n      <td>43_6</td>\n      <td>2018</td>\n      <td>4</td>\n      <td>Blue</td>\n      <td>2018</td>\n      <td>Estate</td>\n      <td>4500.0</td>\n      <td>2.0</td>\n      <td>...</td>\n      <td>154.0</td>\n      <td>130.0</td>\n      <td>2805.0</td>\n      <td>1470.0</td>\n      <td>1860.0</td>\n      <td>4855.0</td>\n      <td>200.0</td>\n      <td>119 mph</td>\n      <td>5.0</td>\n      <td>5.0</td>\n    </tr>\n    <tr>\n      <th>43_6$$416</th>\n      <td>Kia</td>\n      <td>Optima</td>\n      <td>43_6</td>\n      <td>2018</td>\n      <td>8</td>\n      <td>Silver</td>\n      <td>2018</td>\n      <td>Estate</td>\n      <td>6000.0</td>\n      <td>2.0</td>\n      <td>...</td>\n      <td>154.0</td>\n      <td>130.0</td>\n      <td>2805.0</td>\n      <td>1470.0</td>\n      <td>1860.0</td>\n      <td>4855.0</td>\n      <td>200.0</td>\n      <td>119 mph</td>\n      <td>5.0</td>\n      <td>5.0</td>\n    </tr>\n  </tbody>\n</table>\n<p>6 rows × 23 columns</p>\n</div>"
     },
     "execution_count": 94,
     "metadata": {},
     "output_type": "execute_result"
    }
   ],
   "source": [
    "cars[cars['average_mpg'] == 200]"
   ],
   "metadata": {
    "collapsed": false,
    "ExecuteTime": {
     "end_time": "2024-02-12T12:41:16.137351Z",
     "start_time": "2024-02-12T12:41:16.023715Z"
    }
   },
   "id": "6393c4ccb92eba78",
   "execution_count": 94
  },
  {
   "cell_type": "markdown",
   "source": [
    "### top_speed column"
   ],
   "metadata": {
    "collapsed": false
   },
   "id": "4f76d766627060c"
  },
  {
   "cell_type": "code",
   "outputs": [
    {
     "name": "stdout",
     "output_type": "stream",
     "text": [
      "<class 'pandas.core.series.Series'>\n",
      "Index: 266235 entries, 10_1$$1 to 99_1$$3\n",
      "Series name: top_speed\n",
      "Non-Null Count   Dtype \n",
      "--------------   ----- \n",
      "223881 non-null  object\n",
      "dtypes: object(1)\n",
      "memory usage: 4.1+ MB\n"
     ]
    }
   ],
   "source": [
    "cars['top_speed'].info()"
   ],
   "metadata": {
    "collapsed": false,
    "ExecuteTime": {
     "end_time": "2024-02-12T12:41:16.195340Z",
     "start_time": "2024-02-12T12:41:16.120268Z"
    }
   },
   "id": "3692c9155e09d36f",
   "execution_count": 95
  },
  {
   "cell_type": "code",
   "outputs": [
    {
     "data": {
      "text/plain": "top_speed\n112 mph    15667\n155 mph    10831\n118 mph    10067\n130 mph     8996\n99 mph      7621\n           ...  \n209 mph        3\n50 mph         1\n218 mph        1\n76 mph         1\n78 mph         1\nName: count, Length: 138, dtype: int64"
     },
     "execution_count": 96,
     "metadata": {},
     "output_type": "execute_result"
    }
   ],
   "source": [
    "cars['top_speed'].value_counts()"
   ],
   "metadata": {
    "collapsed": false,
    "ExecuteTime": {
     "end_time": "2024-02-12T12:41:16.279231Z",
     "start_time": "2024-02-12T12:41:16.194714Z"
    }
   },
   "id": "2afeede8fd02e0b7",
   "execution_count": 96
  },
  {
   "cell_type": "code",
   "outputs": [],
   "source": [
    "cars['top_speed'] = cars['top_speed'].str.replace('mph', '').str.strip()\n",
    "cars['top_speed'] = cars['top_speed'].astype('float')"
   ],
   "metadata": {
    "collapsed": false,
    "ExecuteTime": {
     "end_time": "2024-02-12T12:41:16.446422Z",
     "start_time": "2024-02-12T12:41:16.294372Z"
    }
   },
   "id": "9abcda4088bda9a4",
   "execution_count": 97
  },
  {
   "cell_type": "code",
   "outputs": [
    {
     "data": {
      "text/plain": "count    223881.000000\nmean        122.052398\nstd          18.544824\nmin          11.000000\n25%         109.000000\n50%         118.000000\n75%         131.000000\nmax         226.000000\nName: top_speed, dtype: float64"
     },
     "execution_count": 98,
     "metadata": {},
     "output_type": "execute_result"
    }
   ],
   "source": [
    "cars['top_speed'].describe()"
   ],
   "metadata": {
    "collapsed": false,
    "ExecuteTime": {
     "end_time": "2024-02-12T12:41:16.449573Z",
     "start_time": "2024-02-12T12:41:16.327530Z"
    }
   },
   "id": "bcf78155c209d0f3",
   "execution_count": 98
  },
  {
   "cell_type": "code",
   "outputs": [
    {
     "data": {
      "text/plain": "top_speed\n11.0      4\n50.0      1\n76.0      1\n78.0      1\n80.0      3\n         ..\n211.0    38\n212.0    19\n217.0    75\n218.0     1\n226.0    13\nName: count, Length: 138, dtype: int64"
     },
     "execution_count": 99,
     "metadata": {},
     "output_type": "execute_result"
    }
   ],
   "source": [
    "cars['top_speed'].value_counts().sort_index()"
   ],
   "metadata": {
    "collapsed": false,
    "ExecuteTime": {
     "end_time": "2024-02-12T12:41:16.516303Z",
     "start_time": "2024-02-12T12:41:16.451185Z"
    }
   },
   "id": "2638013a2d25e541",
   "execution_count": 99
  },
  {
   "cell_type": "code",
   "outputs": [
    {
     "data": {
      "text/plain": "            maker genmodel genmodel_id  adv_year  adv_month   color  reg_year  \\\nadv_id                                                                          \n29_13$$1250  Ford   Fiesta       29_13      2018          8  Silver      2016   \n29_13$$1489  Ford   Fiesta       29_13      2018          8     Red      2016   \n29_13$$2994  Ford   Fiesta       29_13      2018          8   Brown      2016   \n29_13$$771   Ford   Fiesta       29_13      2018          3    Blue      2016   \n\n             body_type  run_miles  engine_size  ... engine_power annual_tax  \\\nadv_id                                          ...                           \n29_13$$1250  Hatchback    26267.0          1.0  ...         99.0        0.0   \n29_13$$1489  Hatchback    41491.0          1.0  ...         99.0        0.0   \n29_13$$2994  Hatchback    17335.0          1.0  ...         99.0        0.0   \n29_13$$771   Hatchback    43402.0          1.0  ...         99.0        0.0   \n\n             wheelbase  height   width  length  average_mpg  top_speed  \\\nadv_id                                                                   \n29_13$$1250     2489.0  1495.0  1978.0  3969.0         65.7       11.0   \n29_13$$1489     2489.0  1495.0  1978.0  3969.0         65.7       11.0   \n29_13$$2994     2489.0  1495.0  1978.0  3969.0         65.7       11.0   \n29_13$$771      2489.0  1495.0  1978.0  3969.0         65.7       11.0   \n\n             seat_num  door_num  \nadv_id                           \n29_13$$1250       5.0       5.0  \n29_13$$1489       5.0       5.0  \n29_13$$2994       5.0       5.0  \n29_13$$771        5.0       5.0  \n\n[4 rows x 23 columns]",
      "text/html": "<div>\n<style scoped>\n    .dataframe tbody tr th:only-of-type {\n        vertical-align: middle;\n    }\n\n    .dataframe tbody tr th {\n        vertical-align: top;\n    }\n\n    .dataframe thead th {\n        text-align: right;\n    }\n</style>\n<table border=\"1\" class=\"dataframe\">\n  <thead>\n    <tr style=\"text-align: right;\">\n      <th></th>\n      <th>maker</th>\n      <th>genmodel</th>\n      <th>genmodel_id</th>\n      <th>adv_year</th>\n      <th>adv_month</th>\n      <th>color</th>\n      <th>reg_year</th>\n      <th>body_type</th>\n      <th>run_miles</th>\n      <th>engine_size</th>\n      <th>...</th>\n      <th>engine_power</th>\n      <th>annual_tax</th>\n      <th>wheelbase</th>\n      <th>height</th>\n      <th>width</th>\n      <th>length</th>\n      <th>average_mpg</th>\n      <th>top_speed</th>\n      <th>seat_num</th>\n      <th>door_num</th>\n    </tr>\n    <tr>\n      <th>adv_id</th>\n      <th></th>\n      <th></th>\n      <th></th>\n      <th></th>\n      <th></th>\n      <th></th>\n      <th></th>\n      <th></th>\n      <th></th>\n      <th></th>\n      <th></th>\n      <th></th>\n      <th></th>\n      <th></th>\n      <th></th>\n      <th></th>\n      <th></th>\n      <th></th>\n      <th></th>\n      <th></th>\n      <th></th>\n    </tr>\n  </thead>\n  <tbody>\n    <tr>\n      <th>29_13$$1250</th>\n      <td>Ford</td>\n      <td>Fiesta</td>\n      <td>29_13</td>\n      <td>2018</td>\n      <td>8</td>\n      <td>Silver</td>\n      <td>2016</td>\n      <td>Hatchback</td>\n      <td>26267.0</td>\n      <td>1.0</td>\n      <td>...</td>\n      <td>99.0</td>\n      <td>0.0</td>\n      <td>2489.0</td>\n      <td>1495.0</td>\n      <td>1978.0</td>\n      <td>3969.0</td>\n      <td>65.7</td>\n      <td>11.0</td>\n      <td>5.0</td>\n      <td>5.0</td>\n    </tr>\n    <tr>\n      <th>29_13$$1489</th>\n      <td>Ford</td>\n      <td>Fiesta</td>\n      <td>29_13</td>\n      <td>2018</td>\n      <td>8</td>\n      <td>Red</td>\n      <td>2016</td>\n      <td>Hatchback</td>\n      <td>41491.0</td>\n      <td>1.0</td>\n      <td>...</td>\n      <td>99.0</td>\n      <td>0.0</td>\n      <td>2489.0</td>\n      <td>1495.0</td>\n      <td>1978.0</td>\n      <td>3969.0</td>\n      <td>65.7</td>\n      <td>11.0</td>\n      <td>5.0</td>\n      <td>5.0</td>\n    </tr>\n    <tr>\n      <th>29_13$$2994</th>\n      <td>Ford</td>\n      <td>Fiesta</td>\n      <td>29_13</td>\n      <td>2018</td>\n      <td>8</td>\n      <td>Brown</td>\n      <td>2016</td>\n      <td>Hatchback</td>\n      <td>17335.0</td>\n      <td>1.0</td>\n      <td>...</td>\n      <td>99.0</td>\n      <td>0.0</td>\n      <td>2489.0</td>\n      <td>1495.0</td>\n      <td>1978.0</td>\n      <td>3969.0</td>\n      <td>65.7</td>\n      <td>11.0</td>\n      <td>5.0</td>\n      <td>5.0</td>\n    </tr>\n    <tr>\n      <th>29_13$$771</th>\n      <td>Ford</td>\n      <td>Fiesta</td>\n      <td>29_13</td>\n      <td>2018</td>\n      <td>3</td>\n      <td>Blue</td>\n      <td>2016</td>\n      <td>Hatchback</td>\n      <td>43402.0</td>\n      <td>1.0</td>\n      <td>...</td>\n      <td>99.0</td>\n      <td>0.0</td>\n      <td>2489.0</td>\n      <td>1495.0</td>\n      <td>1978.0</td>\n      <td>3969.0</td>\n      <td>65.7</td>\n      <td>11.0</td>\n      <td>5.0</td>\n      <td>5.0</td>\n    </tr>\n  </tbody>\n</table>\n<p>4 rows × 23 columns</p>\n</div>"
     },
     "execution_count": 100,
     "metadata": {},
     "output_type": "execute_result"
    }
   ],
   "source": [
    "cars[cars['top_speed'] == 11]"
   ],
   "metadata": {
    "collapsed": false,
    "ExecuteTime": {
     "end_time": "2024-02-12T12:41:16.543087Z",
     "start_time": "2024-02-12T12:41:16.510288Z"
    }
   },
   "id": "3f5c371dd83fec1",
   "execution_count": 100
  },
  {
   "cell_type": "code",
   "outputs": [],
   "source": [
    "cars['top_speed'] = cars['top_speed'].replace(11, np.NaN)"
   ],
   "metadata": {
    "collapsed": false,
    "ExecuteTime": {
     "end_time": "2024-02-12T12:41:16.582731Z",
     "start_time": "2024-02-12T12:41:16.542121Z"
    }
   },
   "id": "da25a35de54a066a",
   "execution_count": 101
  },
  {
   "cell_type": "markdown",
   "source": [
    "### seat_num column"
   ],
   "metadata": {
    "collapsed": false
   },
   "id": "ef0e6a31f6d9382c"
  },
  {
   "cell_type": "code",
   "outputs": [
    {
     "name": "stdout",
     "output_type": "stream",
     "text": [
      "<class 'pandas.core.series.Series'>\n",
      "Index: 266235 entries, 10_1$$1 to 99_1$$3\n",
      "Series name: seat_num\n",
      "Non-Null Count   Dtype  \n",
      "--------------   -----  \n",
      "259826 non-null  float64\n",
      "dtypes: float64(1)\n",
      "memory usage: 4.1+ MB\n"
     ]
    }
   ],
   "source": [
    "cars['seat_num'].info()"
   ],
   "metadata": {
    "collapsed": false,
    "ExecuteTime": {
     "end_time": "2024-02-12T12:41:16.632265Z",
     "start_time": "2024-02-12T12:41:16.569990Z"
    }
   },
   "id": "ded6e288dc234fa0",
   "execution_count": 102
  },
  {
   "cell_type": "code",
   "outputs": [
    {
     "data": {
      "text/plain": "count    259826.000000\nmean          4.905102\nstd           0.879931\nmin           1.000000\n25%           5.000000\n50%           5.000000\n75%           5.000000\nmax          17.000000\nName: seat_num, dtype: float64"
     },
     "execution_count": 103,
     "metadata": {},
     "output_type": "execute_result"
    }
   ],
   "source": [
    "cars['seat_num'].describe()"
   ],
   "metadata": {
    "collapsed": false,
    "ExecuteTime": {
     "end_time": "2024-02-12T12:41:16.702946Z",
     "start_time": "2024-02-12T12:41:16.631794Z"
    }
   },
   "id": "152d3fd4d13e3231",
   "execution_count": 103
  },
  {
   "cell_type": "code",
   "outputs": [
    {
     "data": {
      "text/plain": "seat_num\n1.0          1\n2.0       8521\n3.0        125\n4.0      40145\n5.0     190694\n6.0        469\n7.0      19041\n8.0        590\n9.0        237\n17.0         3\nName: count, dtype: int64"
     },
     "execution_count": 104,
     "metadata": {},
     "output_type": "execute_result"
    }
   ],
   "source": [
    "cars['seat_num'].value_counts().sort_index()"
   ],
   "metadata": {
    "collapsed": false,
    "ExecuteTime": {
     "end_time": "2024-02-12T12:41:16.831021Z",
     "start_time": "2024-02-12T12:41:16.673387Z"
    }
   },
   "id": "e779ed8e94353f09",
   "execution_count": 104
  },
  {
   "cell_type": "code",
   "outputs": [
    {
     "data": {
      "text/plain": "             maker genmodel genmodel_id  adv_year  adv_month color  reg_year  \\\nadv_id                                                                         \n75_2$$986  Renault     Clio        75_2      2018          2   Red      2011   \n\n           body_type  run_miles  engine_size  ... engine_power annual_tax  \\\nadv_id                                        ...                           \n75_2$$986  Hatchback     1000.0          2.0  ...        197.0        NaN   \n\n           wheelbase  height   width  length  average_mpg  top_speed  \\\nadv_id                                                                 \n75_2$$986     2585.0  1484.0  2025.0  4017.0         34.4      140.0   \n\n           seat_num  door_num  \nadv_id                         \n75_2$$986       1.0       3.0  \n\n[1 rows x 23 columns]",
      "text/html": "<div>\n<style scoped>\n    .dataframe tbody tr th:only-of-type {\n        vertical-align: middle;\n    }\n\n    .dataframe tbody tr th {\n        vertical-align: top;\n    }\n\n    .dataframe thead th {\n        text-align: right;\n    }\n</style>\n<table border=\"1\" class=\"dataframe\">\n  <thead>\n    <tr style=\"text-align: right;\">\n      <th></th>\n      <th>maker</th>\n      <th>genmodel</th>\n      <th>genmodel_id</th>\n      <th>adv_year</th>\n      <th>adv_month</th>\n      <th>color</th>\n      <th>reg_year</th>\n      <th>body_type</th>\n      <th>run_miles</th>\n      <th>engine_size</th>\n      <th>...</th>\n      <th>engine_power</th>\n      <th>annual_tax</th>\n      <th>wheelbase</th>\n      <th>height</th>\n      <th>width</th>\n      <th>length</th>\n      <th>average_mpg</th>\n      <th>top_speed</th>\n      <th>seat_num</th>\n      <th>door_num</th>\n    </tr>\n    <tr>\n      <th>adv_id</th>\n      <th></th>\n      <th></th>\n      <th></th>\n      <th></th>\n      <th></th>\n      <th></th>\n      <th></th>\n      <th></th>\n      <th></th>\n      <th></th>\n      <th></th>\n      <th></th>\n      <th></th>\n      <th></th>\n      <th></th>\n      <th></th>\n      <th></th>\n      <th></th>\n      <th></th>\n      <th></th>\n      <th></th>\n    </tr>\n  </thead>\n  <tbody>\n    <tr>\n      <th>75_2$$986</th>\n      <td>Renault</td>\n      <td>Clio</td>\n      <td>75_2</td>\n      <td>2018</td>\n      <td>2</td>\n      <td>Red</td>\n      <td>2011</td>\n      <td>Hatchback</td>\n      <td>1000.0</td>\n      <td>2.0</td>\n      <td>...</td>\n      <td>197.0</td>\n      <td>NaN</td>\n      <td>2585.0</td>\n      <td>1484.0</td>\n      <td>2025.0</td>\n      <td>4017.0</td>\n      <td>34.4</td>\n      <td>140.0</td>\n      <td>1.0</td>\n      <td>3.0</td>\n    </tr>\n  </tbody>\n</table>\n<p>1 rows × 23 columns</p>\n</div>"
     },
     "execution_count": 105,
     "metadata": {},
     "output_type": "execute_result"
    }
   ],
   "source": [
    "cars[cars['seat_num'] == 1]"
   ],
   "metadata": {
    "collapsed": false,
    "ExecuteTime": {
     "end_time": "2024-02-12T12:41:16.881419Z",
     "start_time": "2024-02-12T12:41:16.829980Z"
    }
   },
   "id": "cf1dc7ff48957f62",
   "execution_count": 105
  },
  {
   "cell_type": "code",
   "outputs": [],
   "source": [
    "cars['seat_num'] = cars['seat_num'].replace(1, np.NaN)"
   ],
   "metadata": {
    "collapsed": false,
    "ExecuteTime": {
     "end_time": "2024-02-12T12:41:16.917760Z",
     "start_time": "2024-02-12T12:41:16.874089Z"
    }
   },
   "id": "b957bdf623c2de59",
   "execution_count": 106
  },
  {
   "cell_type": "markdown",
   "source": [
    "### door_num column"
   ],
   "metadata": {
    "collapsed": false
   },
   "id": "3762e2e28e9c64d6"
  },
  {
   "cell_type": "code",
   "outputs": [
    {
     "name": "stdout",
     "output_type": "stream",
     "text": [
      "<class 'pandas.core.series.Series'>\n",
      "Index: 266235 entries, 10_1$$1 to 99_1$$3\n",
      "Series name: door_num\n",
      "Non-Null Count   Dtype  \n",
      "--------------   -----  \n",
      "261772 non-null  float64\n",
      "dtypes: float64(1)\n",
      "memory usage: 4.1+ MB\n"
     ]
    }
   ],
   "source": [
    "cars['door_num'].info()"
   ],
   "metadata": {
    "collapsed": false,
    "ExecuteTime": {
     "end_time": "2024-02-12T12:41:16.969831Z",
     "start_time": "2024-02-12T12:41:16.917183Z"
    }
   },
   "id": "d99f993ceaea21a",
   "execution_count": 107
  },
  {
   "cell_type": "code",
   "outputs": [
    {
     "data": {
      "text/plain": "count    261772.000000\nmean          4.375246\nstd           1.007626\nmin           0.000000\n25%           4.000000\n50%           5.000000\n75%           5.000000\nmax           7.000000\nName: door_num, dtype: float64"
     },
     "execution_count": 108,
     "metadata": {},
     "output_type": "execute_result"
    }
   ],
   "source": [
    "cars['door_num'].describe()"
   ],
   "metadata": {
    "collapsed": false,
    "ExecuteTime": {
     "end_time": "2024-02-12T12:41:17.062280Z",
     "start_time": "2024-02-12T12:41:16.949878Z"
    }
   },
   "id": "1e32b119dfa98889",
   "execution_count": 108
  },
  {
   "cell_type": "code",
   "outputs": [
    {
     "data": {
      "text/plain": "door_num\n0.0         1\n2.0     23069\n3.0     32816\n4.0     28870\n5.0    176846\n6.0       169\n7.0         1\nName: count, dtype: int64"
     },
     "execution_count": 109,
     "metadata": {},
     "output_type": "execute_result"
    }
   ],
   "source": [
    "cars['door_num'].value_counts().sort_index()"
   ],
   "metadata": {
    "collapsed": false,
    "ExecuteTime": {
     "end_time": "2024-02-12T12:41:17.191748Z",
     "start_time": "2024-02-12T12:41:17.062454Z"
    }
   },
   "id": "6418db31f3989188",
   "execution_count": 109
  },
  {
   "cell_type": "code",
   "outputs": [
    {
     "data": {
      "text/plain": "            maker               genmodel genmodel_id  adv_year  adv_month  \\\nadv_id                                                                      \n29_21$$2     Ford  Grand Tourneo Connect       29_21      2018          8   \n75_19$$2  Renault                  Twizy       75_19      2021          5   \n\n           color  reg_year body_type  run_miles  engine_size  ...  \\\nadv_id                                                        ...   \n29_21$$2     Red      2015       MPV    31000.0          1.6  ...   \n75_19$$2  Orange      2019     Coupe      558.0          NaN  ...   \n\n         engine_power annual_tax  wheelbase  height   width  length  \\\nadv_id                                                                \n29_21$$2        148.0      250.0        NaN  1845.0  2137.0  4818.0   \n75_19$$2          NaN        NaN        NaN     NaN     NaN     NaN   \n\n          average_mpg  top_speed  seat_num  door_num  \nadv_id                                                \n29_21$$2          NaN        NaN       7.0       7.0  \n75_19$$2          NaN        NaN       2.0       0.0  \n\n[2 rows x 23 columns]",
      "text/html": "<div>\n<style scoped>\n    .dataframe tbody tr th:only-of-type {\n        vertical-align: middle;\n    }\n\n    .dataframe tbody tr th {\n        vertical-align: top;\n    }\n\n    .dataframe thead th {\n        text-align: right;\n    }\n</style>\n<table border=\"1\" class=\"dataframe\">\n  <thead>\n    <tr style=\"text-align: right;\">\n      <th></th>\n      <th>maker</th>\n      <th>genmodel</th>\n      <th>genmodel_id</th>\n      <th>adv_year</th>\n      <th>adv_month</th>\n      <th>color</th>\n      <th>reg_year</th>\n      <th>body_type</th>\n      <th>run_miles</th>\n      <th>engine_size</th>\n      <th>...</th>\n      <th>engine_power</th>\n      <th>annual_tax</th>\n      <th>wheelbase</th>\n      <th>height</th>\n      <th>width</th>\n      <th>length</th>\n      <th>average_mpg</th>\n      <th>top_speed</th>\n      <th>seat_num</th>\n      <th>door_num</th>\n    </tr>\n    <tr>\n      <th>adv_id</th>\n      <th></th>\n      <th></th>\n      <th></th>\n      <th></th>\n      <th></th>\n      <th></th>\n      <th></th>\n      <th></th>\n      <th></th>\n      <th></th>\n      <th></th>\n      <th></th>\n      <th></th>\n      <th></th>\n      <th></th>\n      <th></th>\n      <th></th>\n      <th></th>\n      <th></th>\n      <th></th>\n      <th></th>\n    </tr>\n  </thead>\n  <tbody>\n    <tr>\n      <th>29_21$$2</th>\n      <td>Ford</td>\n      <td>Grand Tourneo Connect</td>\n      <td>29_21</td>\n      <td>2018</td>\n      <td>8</td>\n      <td>Red</td>\n      <td>2015</td>\n      <td>MPV</td>\n      <td>31000.0</td>\n      <td>1.6</td>\n      <td>...</td>\n      <td>148.0</td>\n      <td>250.0</td>\n      <td>NaN</td>\n      <td>1845.0</td>\n      <td>2137.0</td>\n      <td>4818.0</td>\n      <td>NaN</td>\n      <td>NaN</td>\n      <td>7.0</td>\n      <td>7.0</td>\n    </tr>\n    <tr>\n      <th>75_19$$2</th>\n      <td>Renault</td>\n      <td>Twizy</td>\n      <td>75_19</td>\n      <td>2021</td>\n      <td>5</td>\n      <td>Orange</td>\n      <td>2019</td>\n      <td>Coupe</td>\n      <td>558.0</td>\n      <td>NaN</td>\n      <td>...</td>\n      <td>NaN</td>\n      <td>NaN</td>\n      <td>NaN</td>\n      <td>NaN</td>\n      <td>NaN</td>\n      <td>NaN</td>\n      <td>NaN</td>\n      <td>NaN</td>\n      <td>2.0</td>\n      <td>0.0</td>\n    </tr>\n  </tbody>\n</table>\n<p>2 rows × 23 columns</p>\n</div>"
     },
     "execution_count": 110,
     "metadata": {},
     "output_type": "execute_result"
    }
   ],
   "source": [
    "cars[cars['door_num'].isin([0, 7])]"
   ],
   "metadata": {
    "collapsed": false,
    "ExecuteTime": {
     "end_time": "2024-02-12T12:41:17.231713Z",
     "start_time": "2024-02-12T12:41:17.140120Z"
    }
   },
   "id": "637dcd0e755b6f69",
   "execution_count": 110
  },
  {
   "cell_type": "code",
   "outputs": [],
   "source": [
    "cars['door_num'] = cars['door_num'].replace(0, np.NaN)"
   ],
   "metadata": {
    "collapsed": false,
    "ExecuteTime": {
     "end_time": "2024-02-12T12:41:17.297765Z",
     "start_time": "2024-02-12T12:41:17.229754Z"
    }
   },
   "id": "312923ad907c7aa",
   "execution_count": 111
  },
  {
   "cell_type": "markdown",
   "source": [
    "## Missing data"
   ],
   "metadata": {
    "collapsed": false
   },
   "id": "a761dbbba3f2055d"
  },
  {
   "cell_type": "code",
   "outputs": [],
   "source": [
    "def fill_with_mode(x):\n",
    "    mode_values = x.mode()\n",
    "    if len(mode_values) > 0:\n",
    "        return x.fillna(mode_values[0])\n",
    "    else:\n",
    "        return x\n",
    "        "
   ],
   "metadata": {
    "collapsed": false,
    "ExecuteTime": {
     "end_time": "2024-02-12T12:41:17.334170Z",
     "start_time": "2024-02-12T12:41:17.277213Z"
    }
   },
   "id": "fc02c45da164d6c9",
   "execution_count": 112
  },
  {
   "cell_type": "code",
   "outputs": [
    {
     "name": "stdout",
     "output_type": "stream",
     "text": [
      "<class 'pandas.core.frame.DataFrame'>\n",
      "Index: 266235 entries, 10_1$$1 to 99_1$$3\n",
      "Data columns (total 23 columns):\n",
      " #   Column        Non-Null Count   Dtype   \n",
      "---  ------        --------------   -----   \n",
      " 0   maker         266235 non-null  category\n",
      " 1   genmodel      266235 non-null  object  \n",
      " 2   genmodel_id   266235 non-null  object  \n",
      " 3   adv_year      266235 non-null  int64   \n",
      " 4   adv_month     266235 non-null  int64   \n",
      " 5   color         244498 non-null  category\n",
      " 6   reg_year      266235 non-null  int64   \n",
      " 7   body_type     265303 non-null  category\n",
      " 8   run_miles     265201 non-null  float64 \n",
      " 9   engine_size   264199 non-null  float64 \n",
      " 10  gearbox       266085 non-null  category\n",
      " 11  fuel_type     265836 non-null  category\n",
      " 12  price         266235 non-null  float64 \n",
      " 13  engine_power  235664 non-null  float64 \n",
      " 14  annual_tax    219940 non-null  float64 \n",
      " 15  wheelbase     230980 non-null  float64 \n",
      " 16  height        237519 non-null  float64 \n",
      " 17  width         238304 non-null  float64 \n",
      " 18  length        238495 non-null  float64 \n",
      " 19  average_mpg   225551 non-null  float64 \n",
      " 20  top_speed     223877 non-null  float64 \n",
      " 21  seat_num      259825 non-null  float64 \n",
      " 22  door_num      261771 non-null  float64 \n",
      "dtypes: category(5), float64(13), int64(3), object(2)\n",
      "memory usage: 39.9+ MB\n"
     ]
    }
   ],
   "source": [
    "cars.info()"
   ],
   "metadata": {
    "collapsed": false,
    "ExecuteTime": {
     "end_time": "2024-02-12T12:41:17.428544Z",
     "start_time": "2024-02-12T12:41:17.342266Z"
    }
   },
   "id": "64cd5a23c1adb1a4",
   "execution_count": 113
  },
  {
   "cell_type": "code",
   "outputs": [],
   "source": [
    "columns_to_fill = [\n",
    "    'body_type',\n",
    "    'engine_size',\n",
    "    'fuel_type',\n",
    "    'engine_power',\n",
    "    'wheelbase',\n",
    "    'height',\n",
    "    'width',\n",
    "    'length',\n",
    "    'seat_num',\n",
    "    'door_num',\n",
    "]\n",
    "\n",
    "for col in columns_to_fill:\n",
    "    cars[col] = cars.groupby('genmodel_id')[col].transform(fill_with_mode)"
   ],
   "metadata": {
    "collapsed": false,
    "ExecuteTime": {
     "end_time": "2024-02-12T12:41:18.238116Z",
     "start_time": "2024-02-12T12:41:17.404016Z"
    }
   },
   "id": "e06e523a7571e6d7",
   "execution_count": 114
  },
  {
   "cell_type": "code",
   "outputs": [
    {
     "name": "stdout",
     "output_type": "stream",
     "text": [
      "<class 'pandas.core.frame.DataFrame'>\n",
      "Index: 266235 entries, 10_1$$1 to 99_1$$3\n",
      "Data columns (total 23 columns):\n",
      " #   Column        Non-Null Count   Dtype   \n",
      "---  ------        --------------   -----   \n",
      " 0   maker         266235 non-null  category\n",
      " 1   genmodel      266235 non-null  object  \n",
      " 2   genmodel_id   266235 non-null  object  \n",
      " 3   adv_year      266235 non-null  int64   \n",
      " 4   adv_month     266235 non-null  int64   \n",
      " 5   color         244498 non-null  category\n",
      " 6   reg_year      266235 non-null  int64   \n",
      " 7   body_type     266216 non-null  category\n",
      " 8   run_miles     265201 non-null  float64 \n",
      " 9   engine_size   265913 non-null  float64 \n",
      " 10  gearbox       266085 non-null  category\n",
      " 11  fuel_type     266233 non-null  category\n",
      " 12  price         266235 non-null  float64 \n",
      " 13  engine_power  264280 non-null  float64 \n",
      " 14  annual_tax    219940 non-null  float64 \n",
      " 15  wheelbase     257408 non-null  float64 \n",
      " 16  height        265081 non-null  float64 \n",
      " 17  width         265403 non-null  float64 \n",
      " 18  length        265418 non-null  float64 \n",
      " 19  average_mpg   225551 non-null  float64 \n",
      " 20  top_speed     223877 non-null  float64 \n",
      " 21  seat_num      266172 non-null  float64 \n",
      " 22  door_num      265958 non-null  float64 \n",
      "dtypes: category(5), float64(13), int64(3), object(2)\n",
      "memory usage: 39.9+ MB\n"
     ]
    }
   ],
   "source": [
    "cars.info()"
   ],
   "metadata": {
    "collapsed": false,
    "ExecuteTime": {
     "end_time": "2024-02-12T12:41:18.273137Z",
     "start_time": "2024-02-12T12:41:18.220063Z"
    }
   },
   "id": "f17bfaa905a5381",
   "execution_count": 115
  },
  {
   "cell_type": "code",
   "outputs": [],
   "source": [
    "cars.to_csv('../data/processed_capstone_data.csv')"
   ],
   "metadata": {
    "collapsed": false,
    "ExecuteTime": {
     "end_time": "2024-02-12T12:41:19.456810Z",
     "start_time": "2024-02-12T12:41:18.241181Z"
    }
   },
   "id": "7b62c5c12881ca9",
   "execution_count": 116
  }
 ],
 "metadata": {
  "kernelspec": {
   "display_name": "Python 3",
   "language": "python",
   "name": "python3"
  },
  "language_info": {
   "codemirror_mode": {
    "name": "ipython",
    "version": 2
   },
   "file_extension": ".py",
   "mimetype": "text/x-python",
   "name": "python",
   "nbconvert_exporter": "python",
   "pygments_lexer": "ipython2",
   "version": "2.7.6"
  }
 },
 "nbformat": 4,
 "nbformat_minor": 5
}
